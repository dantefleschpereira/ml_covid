{
 "cells": [
  {
   "cell_type": "markdown",
   "id": "f260c1c7",
   "metadata": {
    "colab_type": "text",
    "id": "view-in-github"
   },
   "source": [
    "<a href=\"https://colab.research.google.com/github/dantefleschpereira/ml_covid/blob/main/ml11.ipynb\" target=\"_parent\"><img src=\"https://colab.research.google.com/assets/colab-badge.svg\" alt=\"Open In Colab\"/></a>"
   ]
  },
  {
   "cell_type": "code",
   "execution_count": 41,
   "id": "0a3204d1",
   "metadata": {
    "id": "0a3204d1"
   },
   "outputs": [],
   "source": [
    "import numpy as np\n",
    "import pandas as pd\n",
    "import matplotlib.pyplot as plt\n",
    "from sklearn.preprocessing import OrdinalEncoder\n",
    "pd.set_option('display.max_columns', None)\n",
    "\n",
    "import seaborn as sns\n",
    "from sklearn.metrics import classification_report\n",
    "from sklearn.model_selection import train_test_split\n",
    "from sklearn.metrics import roc_auc_score, roc_curve, accuracy_score\n",
    "from imblearn.under_sampling import RandomUnderSampler"
   ]
  },
  {
   "cell_type": "markdown",
   "id": "cb29bc7e",
   "metadata": {
    "id": "cb29bc7e"
   },
   "source": [
    "#### Análise Exploratória de Dados"
   ]
  },
  {
   "cell_type": "code",
   "execution_count": 42,
   "id": "a167525e",
   "metadata": {
    "id": "a167525e"
   },
   "outputs": [],
   "source": [
    "df = pd.read_excel('D:\\ml_covid\\dataset_obito.xlsx')"
   ]
  },
  {
   "cell_type": "code",
   "execution_count": 43,
   "id": "ff87e261",
   "metadata": {
    "colab": {
     "base_uri": "https://localhost:8080/",
     "height": 757
    },
    "id": "ff87e261",
    "outputId": "bd22fd11-d1fb-4692-d9c3-837412c91ac8"
   },
   "outputs": [
    {
     "data": {
      "text/html": [
       "<div>\n",
       "<style scoped>\n",
       "    .dataframe tbody tr th:only-of-type {\n",
       "        vertical-align: middle;\n",
       "    }\n",
       "\n",
       "    .dataframe tbody tr th {\n",
       "        vertical-align: top;\n",
       "    }\n",
       "\n",
       "    .dataframe thead th {\n",
       "        text-align: right;\n",
       "    }\n",
       "</style>\n",
       "<table border=\"1\" class=\"dataframe\">\n",
       "  <thead>\n",
       "    <tr style=\"text-align: right;\">\n",
       "      <th></th>\n",
       "      <th>idade</th>\n",
       "      <th>sexo</th>\n",
       "      <th>raca</th>\n",
       "      <th>tagabismo</th>\n",
       "      <th>comorbidade1</th>\n",
       "      <th>comorbidade2</th>\n",
       "      <th>comorbidade3</th>\n",
       "      <th>comorbidade4</th>\n",
       "      <th>trombo_na_internacao</th>\n",
       "      <th>desfecho</th>\n",
       "      <th>anti-inflamatorio1</th>\n",
       "      <th>anti-inflamatorio2</th>\n",
       "      <th>anti-inflamatorio3</th>\n",
       "      <th>anti-inflamatorio_previo</th>\n",
       "      <th>profilaxia_de_trombo1</th>\n",
       "      <th>profilaxia_de_trombo2</th>\n",
       "      <th>anticoagulante_previo</th>\n",
       "      <th>antibiotico1</th>\n",
       "      <th>antibiotico2</th>\n",
       "      <th>proteina c (mg/dl)</th>\n",
       "      <th>ferritina (ng/ml)</th>\n",
       "      <th>leucócitos ( /ul)</th>\n",
       "      <th>creatinina (mg/dl)</th>\n",
       "      <th>ureia(mg/dl)</th>\n",
       "      <th>d-dimeros (ng/ml)</th>\n",
       "      <th>reinfeccao</th>\n",
       "      <th>sintomas</th>\n",
       "    </tr>\n",
       "  </thead>\n",
       "  <tbody>\n",
       "    <tr>\n",
       "      <th>0</th>\n",
       "      <td>41</td>\n",
       "      <td>M</td>\n",
       "      <td>branca</td>\n",
       "      <td>nao</td>\n",
       "      <td>nenhuma</td>\n",
       "      <td>nenhuma</td>\n",
       "      <td>nenhum</td>\n",
       "      <td>nenhum</td>\n",
       "      <td>nenhum</td>\n",
       "      <td>0</td>\n",
       "      <td>nenhum</td>\n",
       "      <td>nenhum</td>\n",
       "      <td>nenhum</td>\n",
       "      <td>Nao</td>\n",
       "      <td>heparina 5000UI/0,25mL</td>\n",
       "      <td>nenhum</td>\n",
       "      <td>Sim</td>\n",
       "      <td>NaN</td>\n",
       "      <td>NaN</td>\n",
       "      <td>8.0</td>\n",
       "      <td>0</td>\n",
       "      <td>4830</td>\n",
       "      <td>0.76</td>\n",
       "      <td>36.0</td>\n",
       "      <td>0</td>\n",
       "      <td>nao</td>\n",
       "      <td>leve</td>\n",
       "    </tr>\n",
       "    <tr>\n",
       "      <th>1</th>\n",
       "      <td>77</td>\n",
       "      <td>F</td>\n",
       "      <td>branca</td>\n",
       "      <td>sim</td>\n",
       "      <td>HAS</td>\n",
       "      <td>nenhuma</td>\n",
       "      <td>nenhum</td>\n",
       "      <td>nenhum</td>\n",
       "      <td>nenhum</td>\n",
       "      <td>0</td>\n",
       "      <td>hidrocortisona 100mg</td>\n",
       "      <td>prednisona 20mg</td>\n",
       "      <td>nenhum</td>\n",
       "      <td>Nao</td>\n",
       "      <td>enonenhumaparina 40mg/0,4mL</td>\n",
       "      <td>nenhum</td>\n",
       "      <td>Sim</td>\n",
       "      <td>NaN</td>\n",
       "      <td>NaN</td>\n",
       "      <td>14.7</td>\n",
       "      <td>0</td>\n",
       "      <td>5280</td>\n",
       "      <td>0.82</td>\n",
       "      <td>31.0</td>\n",
       "      <td>0</td>\n",
       "      <td>nao</td>\n",
       "      <td>assintom</td>\n",
       "    </tr>\n",
       "    <tr>\n",
       "      <th>2</th>\n",
       "      <td>67</td>\n",
       "      <td>M</td>\n",
       "      <td>branca</td>\n",
       "      <td>previo</td>\n",
       "      <td>HAS</td>\n",
       "      <td>DM</td>\n",
       "      <td>nenhum</td>\n",
       "      <td>nenhum</td>\n",
       "      <td>nenhum</td>\n",
       "      <td>0</td>\n",
       "      <td>nenhum</td>\n",
       "      <td>nenhum</td>\n",
       "      <td>nenhum</td>\n",
       "      <td>Nao</td>\n",
       "      <td>heparina 5000UI/0,25mL</td>\n",
       "      <td>nenhum</td>\n",
       "      <td>Sim</td>\n",
       "      <td>NaN</td>\n",
       "      <td>NaN</td>\n",
       "      <td>0.0</td>\n",
       "      <td>0</td>\n",
       "      <td>8650</td>\n",
       "      <td>0.72</td>\n",
       "      <td>0.0</td>\n",
       "      <td>0</td>\n",
       "      <td>nao</td>\n",
       "      <td>leve</td>\n",
       "    </tr>\n",
       "    <tr>\n",
       "      <th>3</th>\n",
       "      <td>51</td>\n",
       "      <td>M</td>\n",
       "      <td>branca</td>\n",
       "      <td>nao</td>\n",
       "      <td>HAS</td>\n",
       "      <td>renal-hd</td>\n",
       "      <td>nenhum</td>\n",
       "      <td>nenhum</td>\n",
       "      <td>nenhum</td>\n",
       "      <td>0</td>\n",
       "      <td>prednisona 20mg</td>\n",
       "      <td>nenhum</td>\n",
       "      <td>nenhum</td>\n",
       "      <td>Sim</td>\n",
       "      <td>nenhum</td>\n",
       "      <td>nenhum</td>\n",
       "      <td>Nao</td>\n",
       "      <td>NaN</td>\n",
       "      <td>NaN</td>\n",
       "      <td>6.2</td>\n",
       "      <td>0</td>\n",
       "      <td>9590</td>\n",
       "      <td>0.00</td>\n",
       "      <td>142.0</td>\n",
       "      <td>0</td>\n",
       "      <td>nao</td>\n",
       "      <td>leve</td>\n",
       "    </tr>\n",
       "    <tr>\n",
       "      <th>4</th>\n",
       "      <td>51</td>\n",
       "      <td>M</td>\n",
       "      <td>branca</td>\n",
       "      <td>nao</td>\n",
       "      <td>HAS</td>\n",
       "      <td>renal-hd</td>\n",
       "      <td>nenhum</td>\n",
       "      <td>nenhum</td>\n",
       "      <td>nenhum</td>\n",
       "      <td>0</td>\n",
       "      <td>denenhumametasona 4mg/mL 2,5mL</td>\n",
       "      <td>hidrocortisona 100mg</td>\n",
       "      <td>prednisona 20mg</td>\n",
       "      <td>Nao</td>\n",
       "      <td>nenhum</td>\n",
       "      <td>nenhum</td>\n",
       "      <td>Nao</td>\n",
       "      <td>NaN</td>\n",
       "      <td>NaN</td>\n",
       "      <td>32.0</td>\n",
       "      <td>0</td>\n",
       "      <td>4230</td>\n",
       "      <td>15.40</td>\n",
       "      <td>158.0</td>\n",
       "      <td>1535</td>\n",
       "      <td>sim</td>\n",
       "      <td>assintom</td>\n",
       "    </tr>\n",
       "    <tr>\n",
       "      <th>5</th>\n",
       "      <td>64</td>\n",
       "      <td>F</td>\n",
       "      <td>branca</td>\n",
       "      <td>nao</td>\n",
       "      <td>HAS</td>\n",
       "      <td>nenhuma</td>\n",
       "      <td>nenhum</td>\n",
       "      <td>nenhum</td>\n",
       "      <td>nenhum</td>\n",
       "      <td>0</td>\n",
       "      <td>nenhum</td>\n",
       "      <td>nenhum</td>\n",
       "      <td>nenhum</td>\n",
       "      <td>Nao</td>\n",
       "      <td>heparina 5000UI/0,25mL</td>\n",
       "      <td>nenhum</td>\n",
       "      <td>Sim</td>\n",
       "      <td>NaN</td>\n",
       "      <td>NaN</td>\n",
       "      <td>4.1</td>\n",
       "      <td>1530</td>\n",
       "      <td>6430</td>\n",
       "      <td>1.00</td>\n",
       "      <td>52.0</td>\n",
       "      <td>0</td>\n",
       "      <td>nao</td>\n",
       "      <td>leve</td>\n",
       "    </tr>\n",
       "    <tr>\n",
       "      <th>6</th>\n",
       "      <td>38</td>\n",
       "      <td>M</td>\n",
       "      <td>preta</td>\n",
       "      <td>nao</td>\n",
       "      <td>renal-hd</td>\n",
       "      <td>nenhuma</td>\n",
       "      <td>nenhum</td>\n",
       "      <td>nenhum</td>\n",
       "      <td>nenhum</td>\n",
       "      <td>0</td>\n",
       "      <td>hidrocortisona 100mg</td>\n",
       "      <td>prednisona 20mg</td>\n",
       "      <td>nenhum</td>\n",
       "      <td>Sim</td>\n",
       "      <td>heparina 5000UI/0,25mL</td>\n",
       "      <td>nenhum</td>\n",
       "      <td>Nao</td>\n",
       "      <td>NaN</td>\n",
       "      <td>NaN</td>\n",
       "      <td>19.3</td>\n",
       "      <td>2380</td>\n",
       "      <td>1260</td>\n",
       "      <td>7.35</td>\n",
       "      <td>191.0</td>\n",
       "      <td>1021</td>\n",
       "      <td>nao</td>\n",
       "      <td>leve</td>\n",
       "    </tr>\n",
       "    <tr>\n",
       "      <th>7</th>\n",
       "      <td>37</td>\n",
       "      <td>M</td>\n",
       "      <td>branca</td>\n",
       "      <td>sim</td>\n",
       "      <td>HIV</td>\n",
       "      <td>oncologico</td>\n",
       "      <td>nenhum</td>\n",
       "      <td>nenhum</td>\n",
       "      <td>TVP</td>\n",
       "      <td>0</td>\n",
       "      <td>tiamina 300mg</td>\n",
       "      <td>piridonenhumina 40mg</td>\n",
       "      <td>nenhum</td>\n",
       "      <td>Nao</td>\n",
       "      <td>enonenhumaparina 40mg/0,4mL</td>\n",
       "      <td>nenhum</td>\n",
       "      <td>Sim</td>\n",
       "      <td>NaN</td>\n",
       "      <td>NaN</td>\n",
       "      <td>4.8</td>\n",
       "      <td>0</td>\n",
       "      <td>4410</td>\n",
       "      <td>0.68</td>\n",
       "      <td>31.0</td>\n",
       "      <td>437</td>\n",
       "      <td>nao</td>\n",
       "      <td>leve</td>\n",
       "    </tr>\n",
       "    <tr>\n",
       "      <th>8</th>\n",
       "      <td>82</td>\n",
       "      <td>F</td>\n",
       "      <td>branca</td>\n",
       "      <td>nao</td>\n",
       "      <td>HAS</td>\n",
       "      <td>oncologico</td>\n",
       "      <td>nenhum</td>\n",
       "      <td>nenhum</td>\n",
       "      <td>nenhum</td>\n",
       "      <td>1</td>\n",
       "      <td>nenhum</td>\n",
       "      <td>nenhum</td>\n",
       "      <td>nenhum</td>\n",
       "      <td>Nao</td>\n",
       "      <td>enonenhumaparina 40mg/0,4mL</td>\n",
       "      <td>nenhum</td>\n",
       "      <td>Sim</td>\n",
       "      <td>NaN</td>\n",
       "      <td>NaN</td>\n",
       "      <td>0.0</td>\n",
       "      <td>0</td>\n",
       "      <td>0</td>\n",
       "      <td>0.00</td>\n",
       "      <td>0.0</td>\n",
       "      <td>0</td>\n",
       "      <td>nao</td>\n",
       "      <td>assintom</td>\n",
       "    </tr>\n",
       "    <tr>\n",
       "      <th>9</th>\n",
       "      <td>45</td>\n",
       "      <td>M</td>\n",
       "      <td>branca</td>\n",
       "      <td>nao</td>\n",
       "      <td>nenhuma</td>\n",
       "      <td>nenhuma</td>\n",
       "      <td>nenhum</td>\n",
       "      <td>nenhum</td>\n",
       "      <td>ambos</td>\n",
       "      <td>0</td>\n",
       "      <td>nenhum</td>\n",
       "      <td>nenhum</td>\n",
       "      <td>nenhum</td>\n",
       "      <td>Nao</td>\n",
       "      <td>enonenhumaparina 40mg/0,4mL</td>\n",
       "      <td>enonenhumaparina 60mg/0,6mL</td>\n",
       "      <td>Sim</td>\n",
       "      <td>NaN</td>\n",
       "      <td>NaN</td>\n",
       "      <td>17.2</td>\n",
       "      <td>366</td>\n",
       "      <td>2790</td>\n",
       "      <td>1.08</td>\n",
       "      <td>22.0</td>\n",
       "      <td>0</td>\n",
       "      <td>nao</td>\n",
       "      <td>leve</td>\n",
       "    </tr>\n",
       "    <tr>\n",
       "      <th>10</th>\n",
       "      <td>63</td>\n",
       "      <td>M</td>\n",
       "      <td>branca</td>\n",
       "      <td>previo</td>\n",
       "      <td>HAS</td>\n",
       "      <td>DM</td>\n",
       "      <td>oncologica</td>\n",
       "      <td>nenhum</td>\n",
       "      <td>nenhum</td>\n",
       "      <td>0</td>\n",
       "      <td>prednisona 20mg</td>\n",
       "      <td>nenhum</td>\n",
       "      <td>nenhum</td>\n",
       "      <td>Sim</td>\n",
       "      <td>heparina 5000UI/0,25mL</td>\n",
       "      <td>nenhum</td>\n",
       "      <td>Sim</td>\n",
       "      <td>NaN</td>\n",
       "      <td>NaN</td>\n",
       "      <td>8.8</td>\n",
       "      <td>0</td>\n",
       "      <td>4480</td>\n",
       "      <td>1.33</td>\n",
       "      <td>61.0</td>\n",
       "      <td>3760</td>\n",
       "      <td>nao</td>\n",
       "      <td>grave</td>\n",
       "    </tr>\n",
       "    <tr>\n",
       "      <th>11</th>\n",
       "      <td>79</td>\n",
       "      <td>M</td>\n",
       "      <td>preta</td>\n",
       "      <td>nao</td>\n",
       "      <td>HAS</td>\n",
       "      <td>nenhuma</td>\n",
       "      <td>nenhum</td>\n",
       "      <td>nenhum</td>\n",
       "      <td>nenhum</td>\n",
       "      <td>0</td>\n",
       "      <td>nenhum</td>\n",
       "      <td>nenhum</td>\n",
       "      <td>nenhum</td>\n",
       "      <td>Nao</td>\n",
       "      <td>heparina 5000UI/0,25mL</td>\n",
       "      <td>nenhum</td>\n",
       "      <td>Sim</td>\n",
       "      <td>NaN</td>\n",
       "      <td>NaN</td>\n",
       "      <td>0.0</td>\n",
       "      <td>0</td>\n",
       "      <td>11150</td>\n",
       "      <td>0.89</td>\n",
       "      <td>53.0</td>\n",
       "      <td>0</td>\n",
       "      <td>nao</td>\n",
       "      <td>assintom</td>\n",
       "    </tr>\n",
       "    <tr>\n",
       "      <th>12</th>\n",
       "      <td>79</td>\n",
       "      <td>M</td>\n",
       "      <td>branca</td>\n",
       "      <td>nao</td>\n",
       "      <td>HAS</td>\n",
       "      <td>nenhuma</td>\n",
       "      <td>nenhum</td>\n",
       "      <td>nenhum</td>\n",
       "      <td>nenhum</td>\n",
       "      <td>1</td>\n",
       "      <td>denenhumametasona 4mg/mL 2,5mL</td>\n",
       "      <td>nenhum</td>\n",
       "      <td>nenhum</td>\n",
       "      <td>Nao</td>\n",
       "      <td>heparina 5000UI/0,25mL</td>\n",
       "      <td>nenhum</td>\n",
       "      <td>Nao</td>\n",
       "      <td>NaN</td>\n",
       "      <td>NaN</td>\n",
       "      <td>21.1</td>\n",
       "      <td>0</td>\n",
       "      <td>10260</td>\n",
       "      <td>1.09</td>\n",
       "      <td>62.0</td>\n",
       "      <td>1657</td>\n",
       "      <td>sim</td>\n",
       "      <td>moderado</td>\n",
       "    </tr>\n",
       "    <tr>\n",
       "      <th>13</th>\n",
       "      <td>52</td>\n",
       "      <td>F</td>\n",
       "      <td>preta</td>\n",
       "      <td>nao</td>\n",
       "      <td>DM</td>\n",
       "      <td>nenhuma</td>\n",
       "      <td>nenhum</td>\n",
       "      <td>nenhum</td>\n",
       "      <td>TEP</td>\n",
       "      <td>0</td>\n",
       "      <td>nenhum</td>\n",
       "      <td>nenhum</td>\n",
       "      <td>nenhum</td>\n",
       "      <td>Nao</td>\n",
       "      <td>heparina 5000UI/0,25mL</td>\n",
       "      <td>nenhum</td>\n",
       "      <td>Sim</td>\n",
       "      <td>NaN</td>\n",
       "      <td>NaN</td>\n",
       "      <td>2.1</td>\n",
       "      <td>0</td>\n",
       "      <td>4510</td>\n",
       "      <td>1.12</td>\n",
       "      <td>22.0</td>\n",
       "      <td>2466</td>\n",
       "      <td>nao</td>\n",
       "      <td>leve</td>\n",
       "    </tr>\n",
       "    <tr>\n",
       "      <th>14</th>\n",
       "      <td>30</td>\n",
       "      <td>M</td>\n",
       "      <td>preta</td>\n",
       "      <td>sim</td>\n",
       "      <td>HIV</td>\n",
       "      <td>nenhuma</td>\n",
       "      <td>nenhum</td>\n",
       "      <td>nenhum</td>\n",
       "      <td>nenhum</td>\n",
       "      <td>0</td>\n",
       "      <td>piridonenhumina 40mg</td>\n",
       "      <td>nenhum</td>\n",
       "      <td>nenhum</td>\n",
       "      <td>Sim</td>\n",
       "      <td>nenhum</td>\n",
       "      <td>nenhum</td>\n",
       "      <td>Nao</td>\n",
       "      <td>NaN</td>\n",
       "      <td>NaN</td>\n",
       "      <td>5.1</td>\n",
       "      <td>0</td>\n",
       "      <td>2560</td>\n",
       "      <td>1.09</td>\n",
       "      <td>22.0</td>\n",
       "      <td>0</td>\n",
       "      <td>sim</td>\n",
       "      <td>leve</td>\n",
       "    </tr>\n",
       "  </tbody>\n",
       "</table>\n",
       "</div>"
      ],
      "text/plain": [
       "    idade sexo    raca tagabismo comorbidade1 comorbidade2 comorbidade3  \\\n",
       "0      41    M  branca       nao      nenhuma      nenhuma       nenhum   \n",
       "1      77    F  branca       sim          HAS      nenhuma       nenhum   \n",
       "2      67    M  branca    previo          HAS           DM       nenhum   \n",
       "3      51    M  branca       nao          HAS     renal-hd       nenhum   \n",
       "4      51    M  branca       nao          HAS     renal-hd       nenhum   \n",
       "5      64    F  branca       nao          HAS      nenhuma       nenhum   \n",
       "6      38    M   preta       nao     renal-hd      nenhuma       nenhum   \n",
       "7      37    M  branca       sim          HIV   oncologico       nenhum   \n",
       "8      82    F  branca       nao          HAS   oncologico       nenhum   \n",
       "9      45    M  branca       nao      nenhuma      nenhuma       nenhum   \n",
       "10     63    M  branca    previo          HAS           DM   oncologica   \n",
       "11     79    M   preta       nao          HAS      nenhuma       nenhum   \n",
       "12     79    M  branca       nao          HAS      nenhuma       nenhum   \n",
       "13     52    F   preta       nao           DM      nenhuma       nenhum   \n",
       "14     30    M   preta       sim          HIV      nenhuma       nenhum   \n",
       "\n",
       "   comorbidade4 trombo_na_internacao  desfecho  \\\n",
       "0        nenhum               nenhum         0   \n",
       "1        nenhum               nenhum         0   \n",
       "2        nenhum               nenhum         0   \n",
       "3        nenhum               nenhum         0   \n",
       "4        nenhum               nenhum         0   \n",
       "5        nenhum               nenhum         0   \n",
       "6        nenhum               nenhum         0   \n",
       "7        nenhum                  TVP         0   \n",
       "8        nenhum               nenhum         1   \n",
       "9        nenhum                ambos         0   \n",
       "10       nenhum               nenhum         0   \n",
       "11       nenhum               nenhum         0   \n",
       "12       nenhum               nenhum         1   \n",
       "13       nenhum                  TEP         0   \n",
       "14       nenhum               nenhum         0   \n",
       "\n",
       "                anti-inflamatorio1    anti-inflamatorio2 anti-inflamatorio3  \\\n",
       "0                           nenhum                nenhum             nenhum   \n",
       "1             hidrocortisona 100mg       prednisona 20mg             nenhum   \n",
       "2                           nenhum                nenhum             nenhum   \n",
       "3                  prednisona 20mg                nenhum             nenhum   \n",
       "4   denenhumametasona 4mg/mL 2,5mL  hidrocortisona 100mg    prednisona 20mg   \n",
       "5                           nenhum                nenhum             nenhum   \n",
       "6             hidrocortisona 100mg       prednisona 20mg             nenhum   \n",
       "7                    tiamina 300mg  piridonenhumina 40mg             nenhum   \n",
       "8                           nenhum                nenhum             nenhum   \n",
       "9                           nenhum                nenhum             nenhum   \n",
       "10                 prednisona 20mg                nenhum             nenhum   \n",
       "11                          nenhum                nenhum             nenhum   \n",
       "12  denenhumametasona 4mg/mL 2,5mL                nenhum             nenhum   \n",
       "13                          nenhum                nenhum             nenhum   \n",
       "14            piridonenhumina 40mg                nenhum             nenhum   \n",
       "\n",
       "   anti-inflamatorio_previo        profilaxia_de_trombo1  \\\n",
       "0                       Nao       heparina 5000UI/0,25mL   \n",
       "1                       Nao  enonenhumaparina 40mg/0,4mL   \n",
       "2                       Nao       heparina 5000UI/0,25mL   \n",
       "3                       Sim                       nenhum   \n",
       "4                       Nao                       nenhum   \n",
       "5                       Nao       heparina 5000UI/0,25mL   \n",
       "6                       Sim       heparina 5000UI/0,25mL   \n",
       "7                       Nao  enonenhumaparina 40mg/0,4mL   \n",
       "8                       Nao  enonenhumaparina 40mg/0,4mL   \n",
       "9                       Nao  enonenhumaparina 40mg/0,4mL   \n",
       "10                      Sim       heparina 5000UI/0,25mL   \n",
       "11                      Nao       heparina 5000UI/0,25mL   \n",
       "12                      Nao       heparina 5000UI/0,25mL   \n",
       "13                      Nao       heparina 5000UI/0,25mL   \n",
       "14                      Sim                       nenhum   \n",
       "\n",
       "          profilaxia_de_trombo2 anticoagulante_previo antibiotico1  \\\n",
       "0                        nenhum                   Sim          NaN   \n",
       "1                        nenhum                   Sim          NaN   \n",
       "2                        nenhum                   Sim          NaN   \n",
       "3                        nenhum                   Nao          NaN   \n",
       "4                        nenhum                   Nao          NaN   \n",
       "5                        nenhum                   Sim          NaN   \n",
       "6                        nenhum                   Nao          NaN   \n",
       "7                        nenhum                   Sim          NaN   \n",
       "8                        nenhum                   Sim          NaN   \n",
       "9   enonenhumaparina 60mg/0,6mL                   Sim          NaN   \n",
       "10                       nenhum                   Sim          NaN   \n",
       "11                       nenhum                   Sim          NaN   \n",
       "12                       nenhum                   Nao          NaN   \n",
       "13                       nenhum                   Sim          NaN   \n",
       "14                       nenhum                   Nao          NaN   \n",
       "\n",
       "   antibiotico2  proteina c (mg/dl)  ferritina (ng/ml)  leucócitos ( /ul)  \\\n",
       "0           NaN                 8.0                  0               4830   \n",
       "1           NaN                14.7                  0               5280   \n",
       "2           NaN                 0.0                  0               8650   \n",
       "3           NaN                 6.2                  0               9590   \n",
       "4           NaN                32.0                  0               4230   \n",
       "5           NaN                 4.1               1530               6430   \n",
       "6           NaN                19.3               2380               1260   \n",
       "7           NaN                 4.8                  0               4410   \n",
       "8           NaN                 0.0                  0                  0   \n",
       "9           NaN                17.2                366               2790   \n",
       "10          NaN                 8.8                  0               4480   \n",
       "11          NaN                 0.0                  0              11150   \n",
       "12          NaN                21.1                  0              10260   \n",
       "13          NaN                 2.1                  0               4510   \n",
       "14          NaN                 5.1                  0               2560   \n",
       "\n",
       "    creatinina (mg/dl)  ureia(mg/dl)  d-dimeros (ng/ml) reinfeccao  sintomas  \n",
       "0                 0.76          36.0                  0        nao      leve  \n",
       "1                 0.82          31.0                  0        nao  assintom  \n",
       "2                 0.72           0.0                  0        nao      leve  \n",
       "3                 0.00         142.0                  0        nao      leve  \n",
       "4                15.40         158.0               1535        sim  assintom  \n",
       "5                 1.00          52.0                  0        nao      leve  \n",
       "6                 7.35         191.0               1021        nao      leve  \n",
       "7                 0.68          31.0                437        nao      leve  \n",
       "8                 0.00           0.0                  0        nao  assintom  \n",
       "9                 1.08          22.0                  0        nao      leve  \n",
       "10                1.33          61.0               3760        nao     grave  \n",
       "11                0.89          53.0                  0        nao  assintom  \n",
       "12                1.09          62.0               1657        sim  moderado  \n",
       "13                1.12          22.0               2466        nao      leve  \n",
       "14                1.09          22.0                  0        sim      leve  "
      ]
     },
     "execution_count": 43,
     "metadata": {},
     "output_type": "execute_result"
    }
   ],
   "source": [
    "df.head(15)"
   ]
  },
  {
   "cell_type": "markdown",
   "id": "c0a4f8a3",
   "metadata": {
    "id": "c0a4f8a3"
   },
   "source": [
    "Valores Vazios\n",
    "- Deletar linhas/colunas vazias\n",
    "- Deletar linhas que possuem valores vazios\n",
    "- Preencher valores vazios (último valor)"
   ]
  },
  {
   "cell_type": "code",
   "execution_count": 44,
   "id": "90b1d202",
   "metadata": {
    "id": "90b1d202"
   },
   "outputs": [],
   "source": [
    "# deletar linhas e colunas completamente vazias\n",
    "# df = df.dropna(how='all', axis=1)\n",
    "\n",
    "# deletar linhas que possuem pelo menos 1 valor vazio\n",
    "# df = df.dropna()"
   ]
  },
  {
   "cell_type": "code",
   "execution_count": 45,
   "id": "11fdb482",
   "metadata": {
    "id": "11fdb482"
   },
   "outputs": [],
   "source": [
    "# preencher com o último valor\n",
    "df = df.ffill()"
   ]
  },
  {
   "cell_type": "code",
   "execution_count": 46,
   "id": "0dd4f36c",
   "metadata": {
    "id": "0dd4f36c"
   },
   "outputs": [],
   "source": [
    "# deletar colunas incompletas\n",
    "df = df.drop(columns='antibiotico1')\n",
    "df = df.drop(columns='antibiotico2')\n"
   ]
  },
  {
   "cell_type": "code",
   "execution_count": 47,
   "id": "2e6df69e",
   "metadata": {
    "colab": {
     "base_uri": "https://localhost:8080/"
    },
    "id": "2e6df69e",
    "outputId": "614ccc59-10f8-4419-e624-42eb827a09f6"
   },
   "outputs": [
    {
     "name": "stdout",
     "output_type": "stream",
     "text": [
      "<class 'pandas.core.frame.DataFrame'>\n",
      "RangeIndex: 429 entries, 0 to 428\n",
      "Data columns (total 25 columns):\n",
      " #   Column                    Non-Null Count  Dtype  \n",
      "---  ------                    --------------  -----  \n",
      " 0   idade                     429 non-null    int64  \n",
      " 1   sexo                      429 non-null    object \n",
      " 2   raca                      429 non-null    object \n",
      " 3   tagabismo                 429 non-null    object \n",
      " 4   comorbidade1              429 non-null    object \n",
      " 5   comorbidade2              429 non-null    object \n",
      " 6   comorbidade3              429 non-null    object \n",
      " 7   comorbidade4              429 non-null    object \n",
      " 8   trombo_na_internacao      429 non-null    object \n",
      " 9   desfecho                  429 non-null    int64  \n",
      " 10  anti-inflamatorio1        429 non-null    object \n",
      " 11  anti-inflamatorio2        429 non-null    object \n",
      " 12  anti-inflamatorio3        429 non-null    object \n",
      " 13  anti-inflamatorio_previo  429 non-null    object \n",
      " 14  profilaxia_de_trombo1     429 non-null    object \n",
      " 15  profilaxia_de_trombo2     429 non-null    object \n",
      " 16  anticoagulante_previo     429 non-null    object \n",
      " 17  proteina c (mg/dl)        429 non-null    float64\n",
      " 18  ferritina (ng/ml)         429 non-null    int64  \n",
      " 19  leucócitos ( /ul)         429 non-null    int64  \n",
      " 20  creatinina (mg/dl)        429 non-null    float64\n",
      " 21  ureia(mg/dl)              429 non-null    float64\n",
      " 22  d-dimeros (ng/ml)         429 non-null    int64  \n",
      " 23  reinfeccao                429 non-null    object \n",
      " 24  sintomas                  429 non-null    object \n",
      "dtypes: float64(3), int64(5), object(17)\n",
      "memory usage: 83.9+ KB\n"
     ]
    }
   ],
   "source": [
    "df.info()"
   ]
  },
  {
   "cell_type": "code",
   "execution_count": 48,
   "id": "f48b1e87",
   "metadata": {
    "colab": {
     "base_uri": "https://localhost:8080/",
     "height": 424
    },
    "id": "f48b1e87",
    "outputId": "9cd251a5-59b7-4cd5-9fdc-a36acc68c260"
   },
   "outputs": [
    {
     "data": {
      "text/html": [
       "<div>\n",
       "<style scoped>\n",
       "    .dataframe tbody tr th:only-of-type {\n",
       "        vertical-align: middle;\n",
       "    }\n",
       "\n",
       "    .dataframe tbody tr th {\n",
       "        vertical-align: top;\n",
       "    }\n",
       "\n",
       "    .dataframe thead th {\n",
       "        text-align: right;\n",
       "    }\n",
       "</style>\n",
       "<table border=\"1\" class=\"dataframe\">\n",
       "  <thead>\n",
       "    <tr style=\"text-align: right;\">\n",
       "      <th></th>\n",
       "      <th>comorbidade1</th>\n",
       "      <th>comorbidade2</th>\n",
       "      <th>comorbidade3</th>\n",
       "      <th>comorbidade4</th>\n",
       "      <th>desfecho</th>\n",
       "    </tr>\n",
       "  </thead>\n",
       "  <tbody>\n",
       "    <tr>\n",
       "      <th>0</th>\n",
       "      <td>nenhuma</td>\n",
       "      <td>nenhuma</td>\n",
       "      <td>nenhum</td>\n",
       "      <td>nenhum</td>\n",
       "      <td>0</td>\n",
       "    </tr>\n",
       "    <tr>\n",
       "      <th>1</th>\n",
       "      <td>HAS</td>\n",
       "      <td>nenhuma</td>\n",
       "      <td>nenhum</td>\n",
       "      <td>nenhum</td>\n",
       "      <td>0</td>\n",
       "    </tr>\n",
       "    <tr>\n",
       "      <th>2</th>\n",
       "      <td>HAS</td>\n",
       "      <td>DM</td>\n",
       "      <td>nenhum</td>\n",
       "      <td>nenhum</td>\n",
       "      <td>0</td>\n",
       "    </tr>\n",
       "    <tr>\n",
       "      <th>3</th>\n",
       "      <td>HAS</td>\n",
       "      <td>renal-hd</td>\n",
       "      <td>nenhum</td>\n",
       "      <td>nenhum</td>\n",
       "      <td>0</td>\n",
       "    </tr>\n",
       "    <tr>\n",
       "      <th>4</th>\n",
       "      <td>HAS</td>\n",
       "      <td>renal-hd</td>\n",
       "      <td>nenhum</td>\n",
       "      <td>nenhum</td>\n",
       "      <td>0</td>\n",
       "    </tr>\n",
       "    <tr>\n",
       "      <th>...</th>\n",
       "      <td>...</td>\n",
       "      <td>...</td>\n",
       "      <td>...</td>\n",
       "      <td>...</td>\n",
       "      <td>...</td>\n",
       "    </tr>\n",
       "    <tr>\n",
       "      <th>424</th>\n",
       "      <td>HAS</td>\n",
       "      <td>nenhuma</td>\n",
       "      <td>nenhum</td>\n",
       "      <td>nenhum</td>\n",
       "      <td>0</td>\n",
       "    </tr>\n",
       "    <tr>\n",
       "      <th>425</th>\n",
       "      <td>nenhuma</td>\n",
       "      <td>nenhuma</td>\n",
       "      <td>nenhum</td>\n",
       "      <td>nenhum</td>\n",
       "      <td>0</td>\n",
       "    </tr>\n",
       "    <tr>\n",
       "      <th>426</th>\n",
       "      <td>DM</td>\n",
       "      <td>HAS</td>\n",
       "      <td>nenhum</td>\n",
       "      <td>nenhum</td>\n",
       "      <td>0</td>\n",
       "    </tr>\n",
       "    <tr>\n",
       "      <th>427</th>\n",
       "      <td>HAS</td>\n",
       "      <td>ICC</td>\n",
       "      <td>nenhum</td>\n",
       "      <td>nenhum</td>\n",
       "      <td>0</td>\n",
       "    </tr>\n",
       "    <tr>\n",
       "      <th>428</th>\n",
       "      <td>DM</td>\n",
       "      <td>HAS</td>\n",
       "      <td>nenhum</td>\n",
       "      <td>nenhum</td>\n",
       "      <td>0</td>\n",
       "    </tr>\n",
       "  </tbody>\n",
       "</table>\n",
       "<p>429 rows × 5 columns</p>\n",
       "</div>"
      ],
      "text/plain": [
       "    comorbidade1 comorbidade2 comorbidade3 comorbidade4  desfecho\n",
       "0        nenhuma      nenhuma       nenhum       nenhum         0\n",
       "1            HAS      nenhuma       nenhum       nenhum         0\n",
       "2            HAS           DM       nenhum       nenhum         0\n",
       "3            HAS     renal-hd       nenhum       nenhum         0\n",
       "4            HAS     renal-hd       nenhum       nenhum         0\n",
       "..           ...          ...          ...          ...       ...\n",
       "424          HAS      nenhuma       nenhum       nenhum         0\n",
       "425      nenhuma      nenhuma       nenhum       nenhum         0\n",
       "426           DM          HAS       nenhum       nenhum         0\n",
       "427          HAS          ICC       nenhum       nenhum         0\n",
       "428           DM          HAS       nenhum       nenhum         0\n",
       "\n",
       "[429 rows x 5 columns]"
      ]
     },
     "metadata": {},
     "output_type": "display_data"
    }
   ],
   "source": [
    "view_comorbidade_desfecho = df[['comorbidade1','comorbidade2','comorbidade3','comorbidade4', 'desfecho']]\n",
    "display(view_comorbidade_desfecho)"
   ]
  },
  {
   "cell_type": "code",
   "execution_count": 49,
   "id": "f93d9b8a",
   "metadata": {
    "id": "f93d9b8a"
   },
   "outputs": [],
   "source": [
    "# DESFECHO (1-alta/ 2-UTI/ 3-óbito/4-fim isolamento/5-transf.)"
   ]
  },
  {
   "cell_type": "markdown",
   "id": "09c756e8",
   "metadata": {
    "id": "09c756e8"
   },
   "source": [
    "#### Atributos escolhidos: "
   ]
  },
  {
   "cell_type": "code",
   "execution_count": 50,
   "id": "a6aad5ab",
   "metadata": {
    "id": "a6aad5ab"
   },
   "outputs": [],
   "source": [
    "nomes_atributos_numericos = ['idade','proteina c (mg/dl)','ferritina (ng/ml)','leucócitos ( /ul)','creatinina (mg/dl)','ureia(mg/dl)','d-dimeros (ng/ml)']"
   ]
  },
  {
   "cell_type": "code",
   "execution_count": 51,
   "id": "116cd9c9",
   "metadata": {
    "colab": {
     "base_uri": "https://localhost:8080/"
    },
    "id": "116cd9c9",
    "outputId": "bf1c98b1-402e-4dd9-9318-3cb02c6d49e3"
   },
   "outputs": [
    {
     "data": {
      "text/plain": [
       "['idade',\n",
       " 'proteina c (mg/dl)',\n",
       " 'ferritina (ng/ml)',\n",
       " 'leucócitos ( /ul)',\n",
       " 'creatinina (mg/dl)',\n",
       " 'ureia(mg/dl)',\n",
       " 'd-dimeros (ng/ml)']"
      ]
     },
     "execution_count": 51,
     "metadata": {},
     "output_type": "execute_result"
    }
   ],
   "source": [
    "nomes_atributos_numericos"
   ]
  },
  {
   "cell_type": "code",
   "execution_count": 52,
   "id": "5a1cefb6",
   "metadata": {
    "id": "5a1cefb6"
   },
   "outputs": [],
   "source": [
    "nomes_atributos_categoricos = ['sexo','sintomas','raca','tagabismo','comorbidade1','comorbidade2','comorbidade3','comorbidade4','trombo_na_internacao','sintomas','anti-inflamatorio_previo','anticoagulante_previo','reinfeccao']"
   ]
  },
  {
   "cell_type": "code",
   "execution_count": 53,
   "id": "755cf5f9",
   "metadata": {
    "colab": {
     "base_uri": "https://localhost:8080/"
    },
    "id": "755cf5f9",
    "outputId": "9b4d3028-63a8-4f0b-ae5e-cf1a8cd726e2"
   },
   "outputs": [
    {
     "data": {
      "text/plain": [
       "['sexo',\n",
       " 'sintomas',\n",
       " 'raca',\n",
       " 'tagabismo',\n",
       " 'comorbidade1',\n",
       " 'comorbidade2',\n",
       " 'comorbidade3',\n",
       " 'comorbidade4',\n",
       " 'trombo_na_internacao',\n",
       " 'sintomas',\n",
       " 'anti-inflamatorio_previo',\n",
       " 'anticoagulante_previo',\n",
       " 'reinfeccao']"
      ]
     },
     "execution_count": 53,
     "metadata": {},
     "output_type": "execute_result"
    }
   ],
   "source": [
    "nomes_atributos_categoricos"
   ]
  },
  {
   "cell_type": "code",
   "execution_count": 54,
   "id": "6f8fe8d6",
   "metadata": {
    "colab": {
     "base_uri": "https://localhost:8080/"
    },
    "id": "6f8fe8d6",
    "outputId": "04de026c-9706-4344-ea56-729d869fcc0d"
   },
   "outputs": [
    {
     "data": {
      "text/plain": [
       "0    382\n",
       "1     47\n",
       "Name: desfecho, dtype: int64"
      ]
     },
     "execution_count": 54,
     "metadata": {},
     "output_type": "execute_result"
    }
   ],
   "source": [
    "df['desfecho'].value_counts()"
   ]
  },
  {
   "cell_type": "markdown",
   "id": "63ffe010",
   "metadata": {
    "id": "63ffe010"
   },
   "source": [
    "#### Pré-Processamento"
   ]
  },
  {
   "cell_type": "markdown",
   "id": "7fc9e204",
   "metadata": {
    "id": "7fc9e204"
   },
   "source": [
    "#### Separando os conjuntos de treino e teste"
   ]
  },
  {
   "cell_type": "code",
   "execution_count": 55,
   "id": "9abfa34e",
   "metadata": {
    "id": "9abfa34e"
   },
   "outputs": [],
   "source": [
    "from sklearn.model_selection import train_test_split\n",
    "\n",
    "# separando os conjuntos de dados de treino e teste\n",
    "df_treino, df_teste = train_test_split(df, test_size=0.2, random_state=42)\n",
    "\n",
    "# separando a coluna alvo do conjunto de treino\n",
    "df_treino_labels = df_treino['desfecho'].copy()\n",
    "df_treino        = df_treino.drop(columns='desfecho')\n",
    "\n",
    "# separando a coluna alvo do conjunto de teste\n",
    "df_teste_labels = df_teste['desfecho'].copy()\n",
    "df_teste        = df_teste.drop(columns='desfecho')"
   ]
  },
  {
   "cell_type": "code",
   "execution_count": 56,
   "id": "a5500015",
   "metadata": {
    "id": "a5500015"
   },
   "outputs": [],
   "source": [
    "from sklearn.impute import SimpleImputer\n",
    "from sklearn.preprocessing import StandardScaler\n",
    "from sklearn.preprocessing import OneHotEncoder\n",
    "\n",
    "from sklearn.pipeline import Pipeline\n",
    "from sklearn.compose import ColumnTransformer\n",
    "\n",
    "pipeline_atr_numericos = Pipeline([\n",
    "    ('imputer',SimpleImputer(strategy='mean')),\n",
    "    ('scaler', StandardScaler()),\n",
    "])\n",
    "\n",
    "preproc_completo = ColumnTransformer([\n",
    "    ('numericos',   pipeline_atr_numericos, nomes_atributos_numericos),\n",
    "    ('categoricos', OneHotEncoder(),        nomes_atributos_categoricos),\n",
    "    ], \n",
    "    sparse_threshold=0)\n",
    "\n",
    "# pre-processamento do conjunto de treino\n",
    "X_treino = preproc_completo.fit_transform(df_treino)\n",
    "\n",
    "# pre-processamento do conjunto de teste\n",
    "X_teste = preproc_completo.transform(df_teste)\n",
    "\n",
    "# pre-processamento da coluna alvo para treino\n",
    "y_treino = df_treino_labels.values == 1\n",
    "\n",
    "# pre-processamento da coluna alvo para teste\n",
    "y_teste = df_teste_labels.values == 1"
   ]
  },
  {
   "cell_type": "code",
   "execution_count": 57,
   "id": "xb8KkmirAdpn",
   "metadata": {
    "id": "xb8KkmirAdpn"
   },
   "outputs": [],
   "source": [
    "# configurar o estilo dos gráficos com o Seaborn\n",
    "sns.set_style('dark')"
   ]
  },
  {
   "cell_type": "code",
   "execution_count": 58,
   "id": "V19aOYyu_isQ",
   "metadata": {
    "id": "V19aOYyu_isQ"
   },
   "outputs": [],
   "source": [
    "# usar técnica under-sampling\n",
    "# Under-sampling: reduz o desbalanceamento do dataset focando na classe majoritária. Ou seja, elimina aleatoriamente entradas da classe com maior número de ocorrências\n",
    "rus = RandomUnderSampler()\n",
    "X_treino, y_treino = rus.fit_resample(X_treino, y_treino)\n"
   ]
  },
  {
   "cell_type": "code",
   "execution_count": 59,
   "id": "Ffz0qPCh_jJ3",
   "metadata": {
    "colab": {
     "base_uri": "https://localhost:8080/"
    },
    "id": "Ffz0qPCh_jJ3",
    "outputId": "229a1d86-9e98-460b-cea5-ce1f7ef7e8d4"
   },
   "outputs": [
    {
     "name": "stdout",
     "output_type": "stream",
     "text": [
      "False    39\n",
      "True     39\n",
      "dtype: int64\n"
     ]
    }
   ],
   "source": [
    "# ver o balanceamento das classes\n",
    "print(pd.Series(y_treino).value_counts())\n"
   ]
  },
  {
   "cell_type": "code",
   "execution_count": 60,
   "id": "GmOw9hezAJ_Q",
   "metadata": {
    "colab": {
     "base_uri": "https://localhost:8080/",
     "height": 320
    },
    "id": "GmOw9hezAJ_Q",
    "outputId": "a2d4b97b-25a0-4812-fa9d-ed505251613a"
   },
   "outputs": [
    {
     "name": "stderr",
     "output_type": "stream",
     "text": [
      "C:\\Users\\Dante\\anaconda3\\lib\\site-packages\\seaborn\\_decorators.py:36: FutureWarning: Pass the following variable as a keyword arg: x. From version 0.12, the only valid positional argument will be `data`, and passing other arguments without an explicit keyword will result in an error or misinterpretation.\n",
      "  warnings.warn(\n"
     ]
    },
    {
     "data": {
      "image/png": "[encoded data removed]",
      "text/plain": [
       "<Figure size 432x288 with 1 Axes>"
      ]
     },
     "metadata": {},
     "output_type": "display_data"
    }
   ],
   "source": [
    "# plotar a nova distribuição de classes\n",
    "sns.countplot(y_treino);"
   ]
  },
  {
   "cell_type": "code",
   "execution_count": 61,
   "id": "37ed527c",
   "metadata": {
    "id": "37ed527c"
   },
   "outputs": [],
   "source": [
    "import tensorflow as tf\n",
    "from tensorflow import keras"
   ]
  },
  {
   "cell_type": "code",
   "execution_count": 62,
   "id": "6bd51fc6",
   "metadata": {
    "colab": {
     "base_uri": "https://localhost:8080/"
    },
    "id": "6bd51fc6",
    "outputId": "556a0116-4b7b-40d2-8a9e-cdbd0a88e07d"
   },
   "outputs": [
    {
     "data": {
      "text/plain": [
       "array([[-0.61348675,  0.89520915, -0.27504492, ...,  0.        ,\n",
       "         1.        ,  0.        ],\n",
       "       [ 0.38295928, -0.73914584, -0.27504492, ...,  0.        ,\n",
       "         1.        ,  0.        ],\n",
       "       [ 0.08988692, -0.49123806, -0.27504492, ...,  1.        ,\n",
       "         1.        ,  0.        ],\n",
       "       ...,\n",
       "       [ 0.85187505, -0.96869008, -0.27504492, ...,  0.        ,\n",
       "         0.        ,  1.        ],\n",
       "       [ 1.7897066 ,  0.31675767, -0.27504492, ...,  0.        ,\n",
       "         1.        ,  0.        ],\n",
       "       [ 0.08988692, -0.96869008, -0.27504492, ...,  0.        ,\n",
       "         1.        ,  0.        ]])"
      ]
     },
     "execution_count": 62,
     "metadata": {},
     "output_type": "execute_result"
    }
   ],
   "source": [
    "X_treino"
   ]
  },
  {
   "cell_type": "code",
   "execution_count": 63,
   "id": "1d48e54e",
   "metadata": {
    "colab": {
     "base_uri": "https://localhost:8080/"
    },
    "id": "1d48e54e",
    "outputId": "99bd8ba6-bfd3-439e-e9de-4245946136b0"
   },
   "outputs": [
    {
     "data": {
      "text/plain": [
       "(78, 60)"
      ]
     },
     "execution_count": 63,
     "metadata": {},
     "output_type": "execute_result"
    }
   ],
   "source": [
    "X_treino.shape"
   ]
  },
  {
   "cell_type": "code",
   "execution_count": 64,
   "id": "0f3e0842",
   "metadata": {
    "colab": {
     "base_uri": "https://localhost:8080/"
    },
    "id": "0f3e0842",
    "outputId": "c2ff0640-3aab-447f-b8a5-aee1df1a1c61"
   },
   "outputs": [
    {
     "data": {
      "text/plain": [
       "(78,)"
      ]
     },
     "execution_count": 64,
     "metadata": {},
     "output_type": "execute_result"
    }
   ],
   "source": [
    "y_treino.shape"
   ]
  },
  {
   "cell_type": "code",
   "execution_count": 65,
   "id": "54bbf379",
   "metadata": {
    "colab": {
     "base_uri": "https://localhost:8080/"
    },
    "id": "54bbf379",
    "outputId": "3eedc35e-71d1-4f67-ac79-23bec7fe1dfe"
   },
   "outputs": [
    {
     "data": {
      "text/plain": [
       "(86, 60)"
      ]
     },
     "execution_count": 65,
     "metadata": {},
     "output_type": "execute_result"
    }
   ],
   "source": [
    "X_teste.shape"
   ]
  },
  {
   "cell_type": "code",
   "execution_count": 66,
   "id": "37c0294b",
   "metadata": {
    "colab": {
     "base_uri": "https://localhost:8080/"
    },
    "id": "37c0294b",
    "outputId": "731f473c-c944-4b68-febf-05ad55471d7a"
   },
   "outputs": [
    {
     "data": {
      "text/plain": [
       "(86,)"
      ]
     },
     "execution_count": 66,
     "metadata": {},
     "output_type": "execute_result"
    }
   ],
   "source": [
    "y_teste.shape"
   ]
  },
  {
   "cell_type": "markdown",
   "id": "2bc8300e",
   "metadata": {
    "id": "2bc8300e"
   },
   "source": [
    "- RNA TensorFlow + Keras"
   ]
  },
  {
   "cell_type": "code",
   "execution_count": 67,
   "id": "56eb7a3e",
   "metadata": {
    "id": "56eb7a3e"
   },
   "outputs": [],
   "source": [
    "import tensorflow as tf\n",
    "from tensorflow import keras"
   ]
  },
  {
   "cell_type": "code",
   "execution_count": 68,
   "id": "2af9641b",
   "metadata": {
    "colab": {
     "base_uri": "https://localhost:8080/"
    },
    "id": "2af9641b",
    "outputId": "adce7ca4-4453-42d0-8209-abd94ca73dac"
   },
   "outputs": [
    {
     "data": {
      "text/plain": [
       "(60,)"
      ]
     },
     "execution_count": 68,
     "metadata": {},
     "output_type": "execute_result"
    }
   ],
   "source": [
    "# Qual o tamanho da entrada?\n",
    "X_treino.shape[1:]"
   ]
  },
  {
   "cell_type": "code",
   "execution_count": 69,
   "id": "f6d90f7c",
   "metadata": {
    "id": "f6d90f7c"
   },
   "outputs": [],
   "source": [
    "model = keras.models.Sequential()\n",
    "model.add(keras.layers.Dense(32, activation=\"relu\",input_shape=X_treino.shape[1:]))\n",
    "model.add(keras.layers.Dense(16, activation=\"relu\"))\n",
    "model.add(keras.layers.Dense(2, activation=\"softmax\"))"
   ]
  },
  {
   "cell_type": "code",
   "execution_count": 70,
   "id": "121c9d6b",
   "metadata": {
    "colab": {
     "base_uri": "https://localhost:8080/"
    },
    "id": "121c9d6b",
    "outputId": "269a7e06-f151-464d-cacd-6931593be7a4"
   },
   "outputs": [
    {
     "name": "stdout",
     "output_type": "stream",
     "text": [
      "Model: \"sequential_1\"\n",
      "_________________________________________________________________\n",
      " Layer (type)                Output Shape              Param #   \n",
      "=================================================================\n",
      " dense_3 (Dense)             (None, 32)                1952      \n",
      "                                                                 \n",
      " dense_4 (Dense)             (None, 16)                528       \n",
      "                                                                 \n",
      " dense_5 (Dense)             (None, 2)                 34        \n",
      "                                                                 \n",
      "=================================================================\n",
      "Total params: 2,514\n",
      "Trainable params: 2,514\n",
      "Non-trainable params: 0\n",
      "_________________________________________________________________\n"
     ]
    }
   ],
   "source": [
    "model.summary()"
   ]
  },
  {
   "cell_type": "code",
   "execution_count": 71,
   "id": "09d7b90a",
   "metadata": {
    "id": "09d7b90a"
   },
   "outputs": [],
   "source": [
    "# Para modelos de classificação com saída esparsa:    # para classificação com saída densa  # para classificação binária:     \n",
    "model.compile(loss=\"sparse_categorical_crossentropy\", # usar categorical_crossentropy       # usar binary_crossentropy e mudar\n",
    "              optimizer=\"sgd\",                        #                                     # a ativação da camada de saída\n",
    "              metrics=[\"accuracy\"])                   #                                     # para sigmoid\n"
   ]
  },
  {
   "cell_type": "code",
   "execution_count": 72,
   "id": "cOsErwTtiuNQ",
   "metadata": {
    "id": "cOsErwTtiuNQ"
   },
   "outputs": [],
   "source": [
    "# Early Stopping (optimization technique used to reduce overfitting)\n",
    "# early_stopping_cb = keras.callbacks.EarlyStopping(patience=5,restore_best_weights=True)"
   ]
  },
  {
   "cell_type": "markdown",
   "id": "80d7f281",
   "metadata": {
    "id": "80d7f281"
   },
   "source": [
    "#### Treinamento do modelo"
   ]
  },
  {
   "cell_type": "code",
   "execution_count": 73,
   "id": "91b89601",
   "metadata": {
    "colab": {
     "base_uri": "https://localhost:8080/"
    },
    "id": "91b89601",
    "outputId": "935006b5-5017-4663-b960-710fb83142e1"
   },
   "outputs": [
    {
     "name": "stdout",
     "output_type": "stream",
     "text": [
      "Epoch 1/150\n",
      "2/2 [==============================] - 1s 259ms/step - loss: 0.7288 - accuracy: 0.6290 - val_loss: 1.4107 - val_accuracy: 0.0000e+00\n",
      "Epoch 2/150\n",
      "2/2 [==============================] - 0s 38ms/step - loss: 0.7175 - accuracy: 0.6290 - val_loss: 1.3771 - val_accuracy: 0.0000e+00\n",
      "Epoch 3/150\n",
      "2/2 [==============================] - 0s 45ms/step - loss: 0.7081 - accuracy: 0.6290 - val_loss: 1.3457 - val_accuracy: 0.0000e+00\n",
      "Epoch 4/150\n",
      "2/2 [==============================] - 0s 39ms/step - loss: 0.6978 - accuracy: 0.6129 - val_loss: 1.3185 - val_accuracy: 0.0000e+00\n",
      "Epoch 5/150\n",
      "2/2 [==============================] - 0s 42ms/step - loss: 0.6894 - accuracy: 0.6129 - val_loss: 1.2935 - val_accuracy: 0.0000e+00\n",
      "Epoch 6/150\n",
      "2/2 [==============================] - 0s 51ms/step - loss: 0.6824 - accuracy: 0.6290 - val_loss: 1.2733 - val_accuracy: 0.0000e+00\n",
      "Epoch 7/150\n",
      "2/2 [==============================] - 0s 46ms/step - loss: 0.6743 - accuracy: 0.6290 - val_loss: 1.2551 - val_accuracy: 0.0625\n",
      "Epoch 8/150\n",
      "2/2 [==============================] - 0s 41ms/step - loss: 0.6672 - accuracy: 0.6290 - val_loss: 1.2378 - val_accuracy: 0.0625\n",
      "Epoch 9/150\n",
      "2/2 [==============================] - 0s 45ms/step - loss: 0.6613 - accuracy: 0.6452 - val_loss: 1.2230 - val_accuracy: 0.0625\n",
      "Epoch 10/150\n",
      "2/2 [==============================] - 0s 42ms/step - loss: 0.6554 - accuracy: 0.6452 - val_loss: 1.2069 - val_accuracy: 0.0625\n",
      "Epoch 11/150\n",
      "2/2 [==============================] - 0s 56ms/step - loss: 0.6489 - accuracy: 0.6452 - val_loss: 1.1944 - val_accuracy: 0.0625\n",
      "Epoch 12/150\n",
      "2/2 [==============================] - 0s 44ms/step - loss: 0.6436 - accuracy: 0.6452 - val_loss: 1.1818 - val_accuracy: 0.0625\n",
      "Epoch 13/150\n",
      "2/2 [==============================] - 0s 39ms/step - loss: 0.6385 - accuracy: 0.6452 - val_loss: 1.1698 - val_accuracy: 0.0625\n",
      "Epoch 14/150\n",
      "2/2 [==============================] - 0s 39ms/step - loss: 0.6335 - accuracy: 0.6452 - val_loss: 1.1599 - val_accuracy: 0.0625\n",
      "Epoch 15/150\n",
      "2/2 [==============================] - 0s 38ms/step - loss: 0.6282 - accuracy: 0.6452 - val_loss: 1.1496 - val_accuracy: 0.0625\n",
      "Epoch 16/150\n",
      "2/2 [==============================] - 0s 40ms/step - loss: 0.6236 - accuracy: 0.6452 - val_loss: 1.1396 - val_accuracy: 0.0625\n",
      "Epoch 17/150\n",
      "2/2 [==============================] - 0s 48ms/step - loss: 0.6200 - accuracy: 0.6452 - val_loss: 1.1298 - val_accuracy: 0.0625\n",
      "Epoch 18/150\n",
      "2/2 [==============================] - 0s 37ms/step - loss: 0.6150 - accuracy: 0.6452 - val_loss: 1.1203 - val_accuracy: 0.1250\n",
      "Epoch 19/150\n",
      "2/2 [==============================] - 0s 40ms/step - loss: 0.6104 - accuracy: 0.6613 - val_loss: 1.1115 - val_accuracy: 0.1250\n",
      "Epoch 20/150\n",
      "2/2 [==============================] - 0s 39ms/step - loss: 0.6062 - accuracy: 0.6613 - val_loss: 1.1027 - val_accuracy: 0.1875\n",
      "Epoch 21/150\n",
      "2/2 [==============================] - 0s 51ms/step - loss: 0.6021 - accuracy: 0.6613 - val_loss: 1.0963 - val_accuracy: 0.1875\n",
      "Epoch 22/150\n",
      "2/2 [==============================] - 0s 43ms/step - loss: 0.5980 - accuracy: 0.6613 - val_loss: 1.0899 - val_accuracy: 0.1875\n",
      "Epoch 23/150\n",
      "2/2 [==============================] - 0s 46ms/step - loss: 0.5946 - accuracy: 0.6613 - val_loss: 1.0836 - val_accuracy: 0.1875\n",
      "Epoch 24/150\n",
      "2/2 [==============================] - 0s 46ms/step - loss: 0.5908 - accuracy: 0.6613 - val_loss: 1.0783 - val_accuracy: 0.1875\n",
      "Epoch 25/150\n",
      "2/2 [==============================] - 0s 48ms/step - loss: 0.5872 - accuracy: 0.6613 - val_loss: 1.0733 - val_accuracy: 0.1875\n",
      "Epoch 26/150\n",
      "2/2 [==============================] - 0s 44ms/step - loss: 0.5853 - accuracy: 0.6613 - val_loss: 1.0666 - val_accuracy: 0.1875\n",
      "Epoch 27/150\n",
      "2/2 [==============================] - 0s 39ms/step - loss: 0.5804 - accuracy: 0.6774 - val_loss: 1.0622 - val_accuracy: 0.1875\n",
      "Epoch 28/150\n",
      "2/2 [==============================] - 0s 47ms/step - loss: 0.5774 - accuracy: 0.6774 - val_loss: 1.0584 - val_accuracy: 0.1875\n",
      "Epoch 29/150\n",
      "2/2 [==============================] - 0s 40ms/step - loss: 0.5740 - accuracy: 0.6774 - val_loss: 1.0544 - val_accuracy: 0.1875\n",
      "Epoch 30/150\n",
      "2/2 [==============================] - 0s 38ms/step - loss: 0.5707 - accuracy: 0.6935 - val_loss: 1.0509 - val_accuracy: 0.1875\n",
      "Epoch 31/150\n",
      "2/2 [==============================] - 0s 41ms/step - loss: 0.5678 - accuracy: 0.6935 - val_loss: 1.0468 - val_accuracy: 0.1875\n",
      "Epoch 32/150\n",
      "2/2 [==============================] - 0s 45ms/step - loss: 0.5652 - accuracy: 0.6935 - val_loss: 1.0424 - val_accuracy: 0.1875\n",
      "Epoch 33/150\n",
      "2/2 [==============================] - 0s 47ms/step - loss: 0.5620 - accuracy: 0.7097 - val_loss: 1.0389 - val_accuracy: 0.1875\n",
      "Epoch 34/150\n",
      "2/2 [==============================] - 0s 37ms/step - loss: 0.5591 - accuracy: 0.7097 - val_loss: 1.0355 - val_accuracy: 0.1875\n",
      "Epoch 35/150\n",
      "2/2 [==============================] - 0s 42ms/step - loss: 0.5563 - accuracy: 0.7258 - val_loss: 1.0333 - val_accuracy: 0.1875\n",
      "Epoch 36/150\n",
      "2/2 [==============================] - 0s 49ms/step - loss: 0.5536 - accuracy: 0.7258 - val_loss: 1.0309 - val_accuracy: 0.1875\n",
      "Epoch 37/150\n",
      "2/2 [==============================] - 0s 44ms/step - loss: 0.5510 - accuracy: 0.7258 - val_loss: 1.0273 - val_accuracy: 0.1875\n",
      "Epoch 38/150\n",
      "2/2 [==============================] - 0s 47ms/step - loss: 0.5482 - accuracy: 0.7419 - val_loss: 1.0245 - val_accuracy: 0.1875\n",
      "Epoch 39/150\n",
      "2/2 [==============================] - 0s 42ms/step - loss: 0.5455 - accuracy: 0.7419 - val_loss: 1.0216 - val_accuracy: 0.1875\n",
      "Epoch 40/150\n",
      "2/2 [==============================] - 0s 31ms/step - loss: 0.5426 - accuracy: 0.7419 - val_loss: 1.0207 - val_accuracy: 0.1875\n",
      "Epoch 41/150\n",
      "2/2 [==============================] - 0s 45ms/step - loss: 0.5399 - accuracy: 0.7581 - val_loss: 1.0195 - val_accuracy: 0.1875\n",
      "Epoch 42/150\n",
      "2/2 [==============================] - 0s 43ms/step - loss: 0.5371 - accuracy: 0.7581 - val_loss: 1.0173 - val_accuracy: 0.1875\n",
      "Epoch 43/150\n",
      "2/2 [==============================] - 0s 44ms/step - loss: 0.5344 - accuracy: 0.7581 - val_loss: 1.0160 - val_accuracy: 0.1875\n",
      "Epoch 44/150\n",
      "2/2 [==============================] - 0s 36ms/step - loss: 0.5323 - accuracy: 0.7581 - val_loss: 1.0157 - val_accuracy: 0.1875\n",
      "Epoch 45/150\n",
      "2/2 [==============================] - 0s 60ms/step - loss: 0.5296 - accuracy: 0.7581 - val_loss: 1.0147 - val_accuracy: 0.1875\n",
      "Epoch 46/150\n",
      "2/2 [==============================] - 0s 38ms/step - loss: 0.5264 - accuracy: 0.7581 - val_loss: 1.0140 - val_accuracy: 0.1875\n",
      "Epoch 47/150\n",
      "2/2 [==============================] - 0s 38ms/step - loss: 0.5241 - accuracy: 0.7742 - val_loss: 1.0131 - val_accuracy: 0.1875\n",
      "Epoch 48/150\n",
      "2/2 [==============================] - 0s 40ms/step - loss: 0.5218 - accuracy: 0.7742 - val_loss: 1.0109 - val_accuracy: 0.1875\n",
      "Epoch 49/150\n",
      "2/2 [==============================] - 0s 40ms/step - loss: 0.5187 - accuracy: 0.7903 - val_loss: 1.0100 - val_accuracy: 0.1875\n",
      "Epoch 50/150\n",
      "2/2 [==============================] - 0s 36ms/step - loss: 0.5162 - accuracy: 0.7903 - val_loss: 1.0091 - val_accuracy: 0.1875\n",
      "Epoch 51/150\n",
      "2/2 [==============================] - 0s 39ms/step - loss: 0.5134 - accuracy: 0.7903 - val_loss: 1.0073 - val_accuracy: 0.1875\n",
      "Epoch 52/150\n",
      "2/2 [==============================] - 0s 36ms/step - loss: 0.5107 - accuracy: 0.7903 - val_loss: 1.0055 - val_accuracy: 0.1875\n",
      "Epoch 53/150\n",
      "2/2 [==============================] - 0s 33ms/step - loss: 0.5102 - accuracy: 0.8065 - val_loss: 1.0060 - val_accuracy: 0.1875\n",
      "Epoch 54/150\n",
      "2/2 [==============================] - 0s 36ms/step - loss: 0.5057 - accuracy: 0.8065 - val_loss: 1.0052 - val_accuracy: 0.1875\n",
      "Epoch 55/150\n",
      "2/2 [==============================] - 0s 33ms/step - loss: 0.5028 - accuracy: 0.8065 - val_loss: 1.0044 - val_accuracy: 0.1875\n",
      "Epoch 56/150\n",
      "2/2 [==============================] - 0s 31ms/step - loss: 0.5002 - accuracy: 0.8065 - val_loss: 1.0021 - val_accuracy: 0.1875\n",
      "Epoch 57/150\n",
      "2/2 [==============================] - 0s 29ms/step - loss: 0.4976 - accuracy: 0.8226 - val_loss: 1.0006 - val_accuracy: 0.1875\n",
      "Epoch 58/150\n",
      "2/2 [==============================] - 0s 31ms/step - loss: 0.4950 - accuracy: 0.8387 - val_loss: 0.9996 - val_accuracy: 0.2500\n"
     ]
    },
    {
     "name": "stdout",
     "output_type": "stream",
     "text": [
      "Epoch 59/150\n",
      "2/2 [==============================] - 0s 31ms/step - loss: 0.4924 - accuracy: 0.8387 - val_loss: 0.9970 - val_accuracy: 0.2500\n",
      "Epoch 60/150\n",
      "2/2 [==============================] - 0s 29ms/step - loss: 0.4914 - accuracy: 0.8387 - val_loss: 0.9937 - val_accuracy: 0.2500\n",
      "Epoch 61/150\n",
      "2/2 [==============================] - 0s 29ms/step - loss: 0.4871 - accuracy: 0.8387 - val_loss: 0.9924 - val_accuracy: 0.2500\n",
      "Epoch 62/150\n",
      "2/2 [==============================] - 0s 32ms/step - loss: 0.4851 - accuracy: 0.8548 - val_loss: 0.9932 - val_accuracy: 0.2500\n",
      "Epoch 63/150\n",
      "2/2 [==============================] - 0s 30ms/step - loss: 0.4820 - accuracy: 0.8548 - val_loss: 0.9925 - val_accuracy: 0.2500\n",
      "Epoch 64/150\n",
      "2/2 [==============================] - 0s 31ms/step - loss: 0.4794 - accuracy: 0.8548 - val_loss: 0.9922 - val_accuracy: 0.2500\n",
      "Epoch 65/150\n",
      "2/2 [==============================] - 0s 31ms/step - loss: 0.4788 - accuracy: 0.8548 - val_loss: 0.9887 - val_accuracy: 0.2500\n",
      "Epoch 66/150\n",
      "2/2 [==============================] - 0s 34ms/step - loss: 0.4745 - accuracy: 0.8548 - val_loss: 0.9885 - val_accuracy: 0.2500\n",
      "Epoch 67/150\n",
      "2/2 [==============================] - 0s 31ms/step - loss: 0.4732 - accuracy: 0.8548 - val_loss: 0.9865 - val_accuracy: 0.2500\n",
      "Epoch 68/150\n",
      "2/2 [==============================] - 0s 31ms/step - loss: 0.4703 - accuracy: 0.8710 - val_loss: 0.9880 - val_accuracy: 0.2500\n",
      "Epoch 69/150\n",
      "2/2 [==============================] - 0s 33ms/step - loss: 0.4678 - accuracy: 0.8548 - val_loss: 0.9875 - val_accuracy: 0.2500\n",
      "Epoch 70/150\n",
      "2/2 [==============================] - 0s 31ms/step - loss: 0.4651 - accuracy: 0.8548 - val_loss: 0.9870 - val_accuracy: 0.3125\n",
      "Epoch 71/150\n",
      "2/2 [==============================] - 0s 30ms/step - loss: 0.4626 - accuracy: 0.8548 - val_loss: 0.9871 - val_accuracy: 0.3750\n",
      "Epoch 72/150\n",
      "2/2 [==============================] - 0s 29ms/step - loss: 0.4608 - accuracy: 0.8548 - val_loss: 0.9876 - val_accuracy: 0.3750\n",
      "Epoch 73/150\n",
      "2/2 [==============================] - 0s 31ms/step - loss: 0.4580 - accuracy: 0.8548 - val_loss: 0.9874 - val_accuracy: 0.3750\n",
      "Epoch 74/150\n",
      "2/2 [==============================] - 0s 29ms/step - loss: 0.4557 - accuracy: 0.8710 - val_loss: 0.9862 - val_accuracy: 0.3750\n",
      "Epoch 75/150\n",
      "2/2 [==============================] - 0s 33ms/step - loss: 0.4533 - accuracy: 0.8710 - val_loss: 0.9846 - val_accuracy: 0.3750\n",
      "Epoch 76/150\n",
      "2/2 [==============================] - 0s 33ms/step - loss: 0.4509 - accuracy: 0.8710 - val_loss: 0.9844 - val_accuracy: 0.3750\n",
      "Epoch 77/150\n",
      "2/2 [==============================] - 0s 32ms/step - loss: 0.4487 - accuracy: 0.8710 - val_loss: 0.9834 - val_accuracy: 0.4375\n",
      "Epoch 78/150\n",
      "2/2 [==============================] - 0s 32ms/step - loss: 0.4464 - accuracy: 0.8710 - val_loss: 0.9836 - val_accuracy: 0.4375\n",
      "Epoch 79/150\n",
      "2/2 [==============================] - 0s 32ms/step - loss: 0.4441 - accuracy: 0.8710 - val_loss: 0.9832 - val_accuracy: 0.4375\n",
      "Epoch 80/150\n",
      "2/2 [==============================] - 0s 30ms/step - loss: 0.4416 - accuracy: 0.8710 - val_loss: 0.9827 - val_accuracy: 0.4375\n",
      "Epoch 81/150\n",
      "2/2 [==============================] - 0s 30ms/step - loss: 0.4392 - accuracy: 0.8710 - val_loss: 0.9827 - val_accuracy: 0.4375\n",
      "Epoch 82/150\n",
      "2/2 [==============================] - 0s 33ms/step - loss: 0.4377 - accuracy: 0.8710 - val_loss: 0.9810 - val_accuracy: 0.4375\n",
      "Epoch 83/150\n",
      "2/2 [==============================] - 0s 33ms/step - loss: 0.4346 - accuracy: 0.8871 - val_loss: 0.9812 - val_accuracy: 0.4375\n",
      "Epoch 84/150\n",
      "2/2 [==============================] - 0s 31ms/step - loss: 0.4326 - accuracy: 0.8871 - val_loss: 0.9808 - val_accuracy: 0.4375\n",
      "Epoch 85/150\n",
      "2/2 [==============================] - 0s 30ms/step - loss: 0.4303 - accuracy: 0.8871 - val_loss: 0.9797 - val_accuracy: 0.4375\n",
      "Epoch 86/150\n",
      "2/2 [==============================] - 0s 31ms/step - loss: 0.4279 - accuracy: 0.8871 - val_loss: 0.9795 - val_accuracy: 0.4375\n",
      "Epoch 87/150\n",
      "2/2 [==============================] - 0s 36ms/step - loss: 0.4256 - accuracy: 0.8871 - val_loss: 0.9800 - val_accuracy: 0.4375\n",
      "Epoch 88/150\n",
      "2/2 [==============================] - 0s 31ms/step - loss: 0.4238 - accuracy: 0.8871 - val_loss: 0.9784 - val_accuracy: 0.4375\n",
      "Epoch 89/150\n",
      "2/2 [==============================] - 0s 30ms/step - loss: 0.4213 - accuracy: 0.8871 - val_loss: 0.9793 - val_accuracy: 0.4375\n",
      "Epoch 90/150\n",
      "2/2 [==============================] - 0s 30ms/step - loss: 0.4196 - accuracy: 0.8710 - val_loss: 0.9780 - val_accuracy: 0.4375\n",
      "Epoch 91/150\n",
      "2/2 [==============================] - 0s 33ms/step - loss: 0.4171 - accuracy: 0.8710 - val_loss: 0.9775 - val_accuracy: 0.4375\n",
      "Epoch 92/150\n",
      "2/2 [==============================] - 0s 38ms/step - loss: 0.4145 - accuracy: 0.8871 - val_loss: 0.9791 - val_accuracy: 0.4375\n",
      "Epoch 93/150\n",
      "2/2 [==============================] - 0s 31ms/step - loss: 0.4122 - accuracy: 0.8871 - val_loss: 0.9797 - val_accuracy: 0.4375\n",
      "Epoch 94/150\n",
      "2/2 [==============================] - 0s 31ms/step - loss: 0.4100 - accuracy: 0.8871 - val_loss: 0.9797 - val_accuracy: 0.4375\n",
      "Epoch 95/150\n",
      "2/2 [==============================] - 0s 32ms/step - loss: 0.4077 - accuracy: 0.8871 - val_loss: 0.9790 - val_accuracy: 0.4375\n",
      "Epoch 96/150\n",
      "2/2 [==============================] - 0s 30ms/step - loss: 0.4057 - accuracy: 0.8871 - val_loss: 0.9800 - val_accuracy: 0.4375\n",
      "Epoch 97/150\n",
      "2/2 [==============================] - 0s 32ms/step - loss: 0.4053 - accuracy: 0.8710 - val_loss: 0.9770 - val_accuracy: 0.4375\n",
      "Epoch 98/150\n",
      "2/2 [==============================] - 0s 31ms/step - loss: 0.4012 - accuracy: 0.8871 - val_loss: 0.9774 - val_accuracy: 0.4375\n",
      "Epoch 99/150\n",
      "2/2 [==============================] - 0s 31ms/step - loss: 0.3996 - accuracy: 0.8871 - val_loss: 0.9768 - val_accuracy: 0.4375\n",
      "Epoch 100/150\n",
      "2/2 [==============================] - 0s 31ms/step - loss: 0.3979 - accuracy: 0.8871 - val_loss: 0.9757 - val_accuracy: 0.4375\n",
      "Epoch 101/150\n",
      "2/2 [==============================] - 0s 34ms/step - loss: 0.3950 - accuracy: 0.8871 - val_loss: 0.9770 - val_accuracy: 0.4375\n",
      "Epoch 102/150\n",
      "2/2 [==============================] - 0s 33ms/step - loss: 0.3934 - accuracy: 0.8871 - val_loss: 0.9788 - val_accuracy: 0.4375\n",
      "Epoch 103/150\n",
      "2/2 [==============================] - 0s 32ms/step - loss: 0.3907 - accuracy: 0.8871 - val_loss: 0.9803 - val_accuracy: 0.4375\n",
      "Epoch 104/150\n",
      "2/2 [==============================] - 0s 32ms/step - loss: 0.3886 - accuracy: 0.8871 - val_loss: 0.9798 - val_accuracy: 0.4375\n",
      "Epoch 105/150\n",
      "2/2 [==============================] - 0s 30ms/step - loss: 0.3865 - accuracy: 0.8871 - val_loss: 0.9808 - val_accuracy: 0.4375\n",
      "Epoch 106/150\n",
      "2/2 [==============================] - 0s 36ms/step - loss: 0.3847 - accuracy: 0.8710 - val_loss: 0.9797 - val_accuracy: 0.4375\n",
      "Epoch 107/150\n",
      "2/2 [==============================] - 0s 34ms/step - loss: 0.3825 - accuracy: 0.8871 - val_loss: 0.9796 - val_accuracy: 0.4375\n",
      "Epoch 108/150\n",
      "2/2 [==============================] - 0s 32ms/step - loss: 0.3803 - accuracy: 0.8871 - val_loss: 0.9795 - val_accuracy: 0.4375\n",
      "Epoch 109/150\n",
      "2/2 [==============================] - 0s 40ms/step - loss: 0.3782 - accuracy: 0.8871 - val_loss: 0.9806 - val_accuracy: 0.4375\n",
      "Epoch 110/150\n",
      "2/2 [==============================] - 0s 31ms/step - loss: 0.3766 - accuracy: 0.8871 - val_loss: 0.9792 - val_accuracy: 0.4375\n",
      "Epoch 111/150\n",
      "2/2 [==============================] - 0s 31ms/step - loss: 0.3741 - accuracy: 0.8871 - val_loss: 0.9793 - val_accuracy: 0.4375\n",
      "Epoch 112/150\n",
      "2/2 [==============================] - 0s 32ms/step - loss: 0.3717 - accuracy: 0.8871 - val_loss: 0.9796 - val_accuracy: 0.4375\n",
      "Epoch 113/150\n",
      "2/2 [==============================] - 0s 31ms/step - loss: 0.3698 - accuracy: 0.8871 - val_loss: 0.9810 - val_accuracy: 0.4375\n",
      "Epoch 114/150\n",
      "2/2 [==============================] - 0s 53ms/step - loss: 0.3679 - accuracy: 0.8871 - val_loss: 0.9826 - val_accuracy: 0.4375\n",
      "Epoch 115/150\n",
      "2/2 [==============================] - 0s 30ms/step - loss: 0.3656 - accuracy: 0.8871 - val_loss: 0.9830 - val_accuracy: 0.4375\n",
      "Epoch 116/150\n",
      "2/2 [==============================] - 0s 31ms/step - loss: 0.3647 - accuracy: 0.8710 - val_loss: 0.9808 - val_accuracy: 0.4375\n"
     ]
    },
    {
     "name": "stdout",
     "output_type": "stream",
     "text": [
      "Epoch 117/150\n",
      "2/2 [==============================] - 0s 29ms/step - loss: 0.3625 - accuracy: 0.8871 - val_loss: 0.9798 - val_accuracy: 0.4375\n",
      "Epoch 118/150\n",
      "2/2 [==============================] - 0s 31ms/step - loss: 0.3597 - accuracy: 0.8871 - val_loss: 0.9809 - val_accuracy: 0.4375\n",
      "Epoch 119/150\n",
      "2/2 [==============================] - 0s 33ms/step - loss: 0.3580 - accuracy: 0.8710 - val_loss: 0.9834 - val_accuracy: 0.4375\n",
      "Epoch 120/150\n",
      "2/2 [==============================] - 0s 30ms/step - loss: 0.3553 - accuracy: 0.8871 - val_loss: 0.9833 - val_accuracy: 0.4375\n",
      "Epoch 121/150\n",
      "2/2 [==============================] - 0s 31ms/step - loss: 0.3534 - accuracy: 0.8871 - val_loss: 0.9825 - val_accuracy: 0.4375\n",
      "Epoch 122/150\n",
      "2/2 [==============================] - 0s 33ms/step - loss: 0.3512 - accuracy: 0.9032 - val_loss: 0.9831 - val_accuracy: 0.5000\n",
      "Epoch 123/150\n",
      "2/2 [==============================] - 0s 30ms/step - loss: 0.3491 - accuracy: 0.9032 - val_loss: 0.9829 - val_accuracy: 0.5000\n",
      "Epoch 124/150\n",
      "2/2 [==============================] - 0s 32ms/step - loss: 0.3473 - accuracy: 0.9032 - val_loss: 0.9838 - val_accuracy: 0.5000\n",
      "Epoch 125/150\n",
      "2/2 [==============================] - 0s 31ms/step - loss: 0.3451 - accuracy: 0.9032 - val_loss: 0.9830 - val_accuracy: 0.5000\n",
      "Epoch 126/150\n",
      "2/2 [==============================] - 0s 33ms/step - loss: 0.3435 - accuracy: 0.9032 - val_loss: 0.9829 - val_accuracy: 0.5000\n",
      "Epoch 127/150\n",
      "2/2 [==============================] - 0s 30ms/step - loss: 0.3415 - accuracy: 0.9194 - val_loss: 0.9834 - val_accuracy: 0.5000\n",
      "Epoch 128/150\n",
      "2/2 [==============================] - 0s 35ms/step - loss: 0.3391 - accuracy: 0.9032 - val_loss: 0.9840 - val_accuracy: 0.5000\n",
      "Epoch 129/150\n",
      "2/2 [==============================] - 0s 34ms/step - loss: 0.3381 - accuracy: 0.9194 - val_loss: 0.9858 - val_accuracy: 0.5000\n",
      "Epoch 130/150\n",
      "2/2 [==============================] - 0s 35ms/step - loss: 0.3352 - accuracy: 0.9194 - val_loss: 0.9864 - val_accuracy: 0.5000\n",
      "Epoch 131/150\n",
      "2/2 [==============================] - 0s 33ms/step - loss: 0.3335 - accuracy: 0.9194 - val_loss: 0.9853 - val_accuracy: 0.5000\n",
      "Epoch 132/150\n",
      "2/2 [==============================] - 0s 32ms/step - loss: 0.3316 - accuracy: 0.9194 - val_loss: 0.9848 - val_accuracy: 0.5000\n",
      "Epoch 133/150\n",
      "2/2 [==============================] - 0s 32ms/step - loss: 0.3294 - accuracy: 0.9194 - val_loss: 0.9862 - val_accuracy: 0.5000\n",
      "Epoch 134/150\n",
      "2/2 [==============================] - 0s 31ms/step - loss: 0.3276 - accuracy: 0.9194 - val_loss: 0.9871 - val_accuracy: 0.5000\n",
      "Epoch 135/150\n",
      "2/2 [==============================] - 0s 32ms/step - loss: 0.3259 - accuracy: 0.9355 - val_loss: 0.9883 - val_accuracy: 0.5000\n",
      "Epoch 136/150\n",
      "2/2 [==============================] - 0s 30ms/step - loss: 0.3244 - accuracy: 0.9194 - val_loss: 0.9899 - val_accuracy: 0.5000\n",
      "Epoch 137/150\n",
      "2/2 [==============================] - 0s 32ms/step - loss: 0.3222 - accuracy: 0.9194 - val_loss: 0.9897 - val_accuracy: 0.5000\n",
      "Epoch 138/150\n",
      "2/2 [==============================] - 0s 35ms/step - loss: 0.3199 - accuracy: 0.9355 - val_loss: 0.9901 - val_accuracy: 0.5000\n",
      "Epoch 139/150\n",
      "2/2 [==============================] - 0s 33ms/step - loss: 0.3180 - accuracy: 0.9355 - val_loss: 0.9894 - val_accuracy: 0.5000\n",
      "Epoch 140/150\n",
      "2/2 [==============================] - 0s 31ms/step - loss: 0.3160 - accuracy: 0.9355 - val_loss: 0.9899 - val_accuracy: 0.5000\n",
      "Epoch 141/150\n",
      "2/2 [==============================] - 0s 33ms/step - loss: 0.3162 - accuracy: 0.9194 - val_loss: 0.9868 - val_accuracy: 0.5000\n",
      "Epoch 142/150\n",
      "2/2 [==============================] - 0s 31ms/step - loss: 0.3128 - accuracy: 0.9355 - val_loss: 0.9866 - val_accuracy: 0.5000\n",
      "Epoch 143/150\n",
      "2/2 [==============================] - 0s 31ms/step - loss: 0.3107 - accuracy: 0.9516 - val_loss: 0.9881 - val_accuracy: 0.5000\n",
      "Epoch 144/150\n",
      "2/2 [==============================] - 0s 31ms/step - loss: 0.3089 - accuracy: 0.9516 - val_loss: 0.9886 - val_accuracy: 0.5000\n",
      "Epoch 145/150\n",
      "2/2 [==============================] - 0s 31ms/step - loss: 0.3072 - accuracy: 0.9355 - val_loss: 0.9912 - val_accuracy: 0.5000\n",
      "Epoch 146/150\n",
      "2/2 [==============================] - 0s 35ms/step - loss: 0.3056 - accuracy: 0.9355 - val_loss: 0.9895 - val_accuracy: 0.5000\n",
      "Epoch 147/150\n",
      "2/2 [==============================] - 0s 30ms/step - loss: 0.3035 - accuracy: 0.9516 - val_loss: 0.9894 - val_accuracy: 0.5000\n",
      "Epoch 148/150\n",
      "2/2 [==============================] - 0s 30ms/step - loss: 0.3022 - accuracy: 0.9516 - val_loss: 0.9924 - val_accuracy: 0.5000\n",
      "Epoch 149/150\n",
      "2/2 [==============================] - 0s 29ms/step - loss: 0.3002 - accuracy: 0.9355 - val_loss: 0.9932 - val_accuracy: 0.4375\n",
      "Epoch 150/150\n",
      "2/2 [==============================] - 0s 30ms/step - loss: 0.2990 - accuracy: 0.9516 - val_loss: 0.9913 - val_accuracy: 0.4375\n"
     ]
    }
   ],
   "source": [
    "# history = model.fit(X_treino, y_treino, epochs=150, validation_split=0.2, callbacks=[early_stopping_cb])\n",
    "history = model.fit(X_treino, y_treino, epochs=150, validation_split=0.2)"
   ]
  },
  {
   "cell_type": "markdown",
   "id": "9efbb3db",
   "metadata": {
    "id": "9efbb3db"
   },
   "source": [
    "#### Avaliação da evolução do treinamento"
   ]
  },
  {
   "cell_type": "code",
   "execution_count": 74,
   "id": "1369c7b4",
   "metadata": {
    "colab": {
     "base_uri": "https://localhost:8080/",
     "height": 378
    },
    "id": "1369c7b4",
    "outputId": "c2e7f875-4ebf-421e-e5d1-baecb8f66c66"
   },
   "outputs": [
    {
     "data": {
      "image/png": "[encoded data removed]",
      "text/plain": [
       "<Figure size 720x432 with 1 Axes>"
      ]
     },
     "metadata": {},
     "output_type": "display_data"
    }
   ],
   "source": [
    "pd.DataFrame(history.history).plot(figsize=(10,6))\n",
    "plt.grid(True)\n",
    "plt.gca().set_ylim(0,1)\n",
    "plt.show()"
   ]
  },
  {
   "cell_type": "markdown",
   "id": "7b88d149",
   "metadata": {
    "id": "7b88d149"
   },
   "source": [
    "#### Avaliação do desempenho do modelo treinado"
   ]
  },
  {
   "cell_type": "code",
   "execution_count": 75,
   "id": "ed960dfb",
   "metadata": {
    "id": "ed960dfb"
   },
   "outputs": [
    {
     "name": "stdout",
     "output_type": "stream",
     "text": [
      "3/3 [==============================] - 0s 3ms/step\n"
     ]
    }
   ],
   "source": [
    "y_previsto_rna_proba = model.predict(X_teste)"
   ]
  },
  {
   "cell_type": "code",
   "execution_count": 76,
   "id": "050417d0",
   "metadata": {
    "colab": {
     "base_uri": "https://localhost:8080/"
    },
    "id": "050417d0",
    "outputId": "44ef44ca-2863-4b7c-8bc2-6f331a2fccd2"
   },
   "outputs": [
    {
     "data": {
      "text/plain": [
       "array([[0.91, 0.09],\n",
       "       [0.6 , 0.4 ],\n",
       "       [0.88, 0.12],\n",
       "       [0.6 , 0.4 ],\n",
       "       [0.43, 0.57],\n",
       "       [0.54, 0.46],\n",
       "       [0.76, 0.24],\n",
       "       [0.72, 0.28],\n",
       "       [0.25, 0.75],\n",
       "       [0.82, 0.18],\n",
       "       [0.98, 0.02],\n",
       "       [0.39, 0.61],\n",
       "       [0.97, 0.03],\n",
       "       [0.93, 0.07],\n",
       "       [0.96, 0.04],\n",
       "       [0.61, 0.39],\n",
       "       [0.91, 0.09],\n",
       "       [0.57, 0.43],\n",
       "       [0.94, 0.06],\n",
       "       [0.37, 0.63],\n",
       "       [0.7 , 0.3 ],\n",
       "       [0.73, 0.27],\n",
       "       [0.51, 0.49],\n",
       "       [0.98, 0.02],\n",
       "       [0.98, 0.02],\n",
       "       [0.8 , 0.2 ],\n",
       "       [0.77, 0.23],\n",
       "       [0.8 , 0.2 ],\n",
       "       [0.71, 0.29],\n",
       "       [0.42, 0.58],\n",
       "       [0.71, 0.29],\n",
       "       [0.94, 0.06],\n",
       "       [0.58, 0.42],\n",
       "       [0.81, 0.19],\n",
       "       [0.96, 0.04],\n",
       "       [0.4 , 0.6 ],\n",
       "       [0.8 , 0.2 ],\n",
       "       [0.64, 0.36],\n",
       "       [0.88, 0.12],\n",
       "       [0.82, 0.18],\n",
       "       [0.52, 0.48],\n",
       "       [0.71, 0.29],\n",
       "       [0.48, 0.52],\n",
       "       [0.6 , 0.4 ],\n",
       "       [0.68, 0.32],\n",
       "       [0.78, 0.22],\n",
       "       [0.94, 0.06],\n",
       "       [0.91, 0.09],\n",
       "       [0.92, 0.08],\n",
       "       [0.53, 0.47],\n",
       "       [0.85, 0.15],\n",
       "       [0.96, 0.04],\n",
       "       [0.35, 0.65],\n",
       "       [0.96, 0.04],\n",
       "       [0.7 , 0.3 ],\n",
       "       [0.84, 0.16],\n",
       "       [0.73, 0.27],\n",
       "       [0.75, 0.25],\n",
       "       [0.95, 0.05],\n",
       "       [0.98, 0.02],\n",
       "       [0.5 , 0.5 ],\n",
       "       [0.93, 0.07],\n",
       "       [0.74, 0.26],\n",
       "       [0.88, 0.12],\n",
       "       [0.94, 0.06],\n",
       "       [0.94, 0.06],\n",
       "       [0.88, 0.12],\n",
       "       [0.94, 0.06],\n",
       "       [0.85, 0.15],\n",
       "       [0.23, 0.77],\n",
       "       [0.42, 0.58],\n",
       "       [0.98, 0.02],\n",
       "       [0.4 , 0.6 ],\n",
       "       [0.81, 0.19],\n",
       "       [0.91, 0.09],\n",
       "       [0.72, 0.28],\n",
       "       [0.95, 0.05],\n",
       "       [0.38, 0.62],\n",
       "       [0.48, 0.52],\n",
       "       [0.85, 0.15],\n",
       "       [0.82, 0.18],\n",
       "       [0.93, 0.07],\n",
       "       [0.83, 0.17],\n",
       "       [0.88, 0.12],\n",
       "       [0.11, 0.89],\n",
       "       [0.43, 0.57]], dtype=float32)"
      ]
     },
     "execution_count": 76,
     "metadata": {},
     "output_type": "execute_result"
    }
   ],
   "source": [
    "np.round(y_previsto_rna_proba,decimals=2)"
   ]
  },
  {
   "cell_type": "code",
   "execution_count": 77,
   "id": "mozICcYboLCj",
   "metadata": {
    "colab": {
     "base_uri": "https://localhost:8080/"
    },
    "id": "mozICcYboLCj",
    "outputId": "fcf03378-a01e-45e4-c520-5f430e604ba1"
   },
   "outputs": [
    {
     "name": "stdout",
     "output_type": "stream",
     "text": [
      "Acurácia:  0.7325581395348837\n",
      "Precisão:  0.17391304347826086\n",
      "Recall:    0.5\n",
      "F1 Score:  0.25806451612903225\n"
     ]
    }
   ],
   "source": [
    "# Treinamento de uma árvore de decisão com sua indução restrita a dois níveis\n",
    "\n",
    "from sklearn.tree import DecisionTreeClassifier\n",
    "from sklearn.metrics import accuracy_score, precision_score, recall_score, f1_score\n",
    "\n",
    "tree_clf = DecisionTreeClassifier(max_depth=2)\n",
    "tree_clf.fit(X_treino, y_treino)\n",
    "\n",
    "y_pred = tree_clf.predict(X_teste)\n",
    "\n",
    "print(\"Acurácia: \", accuracy_score(y_teste,y_pred))\n",
    "print(\"Precisão: \", precision_score(y_teste,y_pred))\n",
    "print(\"Recall:   \", recall_score(y_teste,y_pred))\n",
    "print(\"F1 Score: \", f1_score(y_teste,y_pred))"
   ]
  }
 ],
 "metadata": {
  "colab": {
   "collapsed_sections": [
    "63ffe010"
   ],
   "include_colab_link": true,
   "provenance": []
  },
  "kernelspec": {
   "display_name": "Python 3 (ipykernel)",
   "language": "python",
   "name": "python3"
  },
  "language_info": {
   "codemirror_mode": {
    "name": "ipython",
    "version": 3
   },
   "file_extension": ".py",
   "mimetype": "text/x-python",
   "name": "python",
   "nbconvert_exporter": "python",
   "pygments_lexer": "ipython3",
   "version": "3.9.12"
  }
 },
 "nbformat": 4,
 "nbformat_minor": 5
}
