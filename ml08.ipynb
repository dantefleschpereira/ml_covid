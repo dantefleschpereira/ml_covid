{
 "cells": [
  {
   "cell_type": "code",
   "execution_count": 1,
   "id": "0a3204d1",
   "metadata": {},
   "outputs": [],
   "source": [
    "import numpy as np\n",
    "import pandas as pd\n",
    "import matplotlib.pyplot as plt\n",
    "from sklearn.preprocessing import OrdinalEncoder\n",
    "pd.set_option('display.max_columns', None)"
   ]
  },
  {
   "cell_type": "markdown",
   "id": "cb29bc7e",
   "metadata": {},
   "source": [
    "#### Análise Exploratória de Dados"
   ]
  },
  {
   "cell_type": "code",
   "execution_count": 2,
   "id": "a167525e",
   "metadata": {},
   "outputs": [],
   "source": [
    "df = pd.read_excel(r'dataset02.xlsx')"
   ]
  },
  {
   "cell_type": "code",
   "execution_count": 3,
   "id": "ff87e261",
   "metadata": {},
   "outputs": [
    {
     "data": {
      "text/html": [
       "<div>\n",
       "<style scoped>\n",
       "    .dataframe tbody tr th:only-of-type {\n",
       "        vertical-align: middle;\n",
       "    }\n",
       "\n",
       "    .dataframe tbody tr th {\n",
       "        vertical-align: top;\n",
       "    }\n",
       "\n",
       "    .dataframe thead th {\n",
       "        text-align: right;\n",
       "    }\n",
       "</style>\n",
       "<table border=\"1\" class=\"dataframe\">\n",
       "  <thead>\n",
       "    <tr style=\"text-align: right;\">\n",
       "      <th></th>\n",
       "      <th>idade</th>\n",
       "      <th>sexo</th>\n",
       "      <th>raca</th>\n",
       "      <th>tagabismo</th>\n",
       "      <th>comorbidade1</th>\n",
       "      <th>comorbidade2</th>\n",
       "      <th>comorbidade3</th>\n",
       "      <th>comorbidade4</th>\n",
       "      <th>trombo_na_internacao</th>\n",
       "      <th>desfecho</th>\n",
       "      <th>anti-inflamatorio1</th>\n",
       "      <th>anti-inflamatorio2</th>\n",
       "      <th>anti-inflamatorio3</th>\n",
       "      <th>anti-inflamatorio_previo</th>\n",
       "      <th>profilaxia_de_trombo1</th>\n",
       "      <th>profilaxia_de_trombo2</th>\n",
       "      <th>anticoagulante_previo</th>\n",
       "      <th>antibiotico1</th>\n",
       "      <th>antibiotico2</th>\n",
       "      <th>proteina c (mg/dl)</th>\n",
       "      <th>ferritina (ng/ml)</th>\n",
       "      <th>leucócitos ( /ul)</th>\n",
       "      <th>creatinina (mg/dl)</th>\n",
       "      <th>ureia(mg/dl)</th>\n",
       "      <th>d-dimeros (ng/ml)</th>\n",
       "      <th>reinfeccao</th>\n",
       "      <th>sintomas</th>\n",
       "    </tr>\n",
       "  </thead>\n",
       "  <tbody>\n",
       "    <tr>\n",
       "      <th>0</th>\n",
       "      <td>41</td>\n",
       "      <td>M</td>\n",
       "      <td>branca</td>\n",
       "      <td>nao</td>\n",
       "      <td>nenhuma</td>\n",
       "      <td>nenhuma</td>\n",
       "      <td>nenhum</td>\n",
       "      <td>nenhum</td>\n",
       "      <td>nenhum</td>\n",
       "      <td>fim_isolamento</td>\n",
       "      <td>nenhum</td>\n",
       "      <td>nenhum</td>\n",
       "      <td>nenhum</td>\n",
       "      <td>Nao</td>\n",
       "      <td>heparina 5000UI/0,25mL</td>\n",
       "      <td>nenhum</td>\n",
       "      <td>Sim</td>\n",
       "      <td>NaN</td>\n",
       "      <td>NaN</td>\n",
       "      <td>8.0</td>\n",
       "      <td>0</td>\n",
       "      <td>4830</td>\n",
       "      <td>0.76</td>\n",
       "      <td>36.0</td>\n",
       "      <td>0</td>\n",
       "      <td>nao</td>\n",
       "      <td>leve</td>\n",
       "    </tr>\n",
       "    <tr>\n",
       "      <th>1</th>\n",
       "      <td>77</td>\n",
       "      <td>F</td>\n",
       "      <td>branca</td>\n",
       "      <td>sim</td>\n",
       "      <td>HAS</td>\n",
       "      <td>nenhuma</td>\n",
       "      <td>nenhum</td>\n",
       "      <td>nenhum</td>\n",
       "      <td>nenhum</td>\n",
       "      <td>fim_isolamento</td>\n",
       "      <td>hidrocortisona 100mg</td>\n",
       "      <td>prednisona 20mg</td>\n",
       "      <td>nenhum</td>\n",
       "      <td>Nao</td>\n",
       "      <td>enonenhumaparina 40mg/0,4mL</td>\n",
       "      <td>nenhum</td>\n",
       "      <td>Sim</td>\n",
       "      <td>NaN</td>\n",
       "      <td>NaN</td>\n",
       "      <td>14.7</td>\n",
       "      <td>0</td>\n",
       "      <td>5280</td>\n",
       "      <td>0.82</td>\n",
       "      <td>31.0</td>\n",
       "      <td>0</td>\n",
       "      <td>nao</td>\n",
       "      <td>assintom</td>\n",
       "    </tr>\n",
       "    <tr>\n",
       "      <th>2</th>\n",
       "      <td>67</td>\n",
       "      <td>M</td>\n",
       "      <td>branca</td>\n",
       "      <td>previo</td>\n",
       "      <td>HAS</td>\n",
       "      <td>DM</td>\n",
       "      <td>nenhum</td>\n",
       "      <td>nenhum</td>\n",
       "      <td>nenhum</td>\n",
       "      <td>fim_isolamento</td>\n",
       "      <td>nenhum</td>\n",
       "      <td>nenhum</td>\n",
       "      <td>nenhum</td>\n",
       "      <td>Nao</td>\n",
       "      <td>heparina 5000UI/0,25mL</td>\n",
       "      <td>nenhum</td>\n",
       "      <td>Sim</td>\n",
       "      <td>NaN</td>\n",
       "      <td>NaN</td>\n",
       "      <td>0.0</td>\n",
       "      <td>0</td>\n",
       "      <td>8650</td>\n",
       "      <td>0.72</td>\n",
       "      <td>0.0</td>\n",
       "      <td>0</td>\n",
       "      <td>nao</td>\n",
       "      <td>leve</td>\n",
       "    </tr>\n",
       "    <tr>\n",
       "      <th>3</th>\n",
       "      <td>51</td>\n",
       "      <td>M</td>\n",
       "      <td>branca</td>\n",
       "      <td>nao</td>\n",
       "      <td>HAS</td>\n",
       "      <td>renal-hd</td>\n",
       "      <td>nenhum</td>\n",
       "      <td>nenhum</td>\n",
       "      <td>nenhum</td>\n",
       "      <td>alta</td>\n",
       "      <td>prednisona 20mg</td>\n",
       "      <td>nenhum</td>\n",
       "      <td>nenhum</td>\n",
       "      <td>Sim</td>\n",
       "      <td>nenhum</td>\n",
       "      <td>nenhum</td>\n",
       "      <td>Nao</td>\n",
       "      <td>NaN</td>\n",
       "      <td>NaN</td>\n",
       "      <td>6.2</td>\n",
       "      <td>0</td>\n",
       "      <td>9590</td>\n",
       "      <td>0.00</td>\n",
       "      <td>142.0</td>\n",
       "      <td>0</td>\n",
       "      <td>nao</td>\n",
       "      <td>leve</td>\n",
       "    </tr>\n",
       "    <tr>\n",
       "      <th>4</th>\n",
       "      <td>51</td>\n",
       "      <td>M</td>\n",
       "      <td>branca</td>\n",
       "      <td>nao</td>\n",
       "      <td>HAS</td>\n",
       "      <td>renal-hd</td>\n",
       "      <td>nenhum</td>\n",
       "      <td>nenhum</td>\n",
       "      <td>nenhum</td>\n",
       "      <td>alta</td>\n",
       "      <td>denenhumametasona 4mg/mL 2,5mL</td>\n",
       "      <td>hidrocortisona 100mg</td>\n",
       "      <td>prednisona 20mg</td>\n",
       "      <td>Nao</td>\n",
       "      <td>nenhum</td>\n",
       "      <td>nenhum</td>\n",
       "      <td>Nao</td>\n",
       "      <td>NaN</td>\n",
       "      <td>NaN</td>\n",
       "      <td>32.0</td>\n",
       "      <td>0</td>\n",
       "      <td>4230</td>\n",
       "      <td>15.40</td>\n",
       "      <td>158.0</td>\n",
       "      <td>1535</td>\n",
       "      <td>sim</td>\n",
       "      <td>assintom</td>\n",
       "    </tr>\n",
       "    <tr>\n",
       "      <th>5</th>\n",
       "      <td>64</td>\n",
       "      <td>F</td>\n",
       "      <td>branca</td>\n",
       "      <td>nao</td>\n",
       "      <td>HAS</td>\n",
       "      <td>nenhuma</td>\n",
       "      <td>nenhum</td>\n",
       "      <td>nenhum</td>\n",
       "      <td>nenhum</td>\n",
       "      <td>alta</td>\n",
       "      <td>nenhum</td>\n",
       "      <td>nenhum</td>\n",
       "      <td>nenhum</td>\n",
       "      <td>Nao</td>\n",
       "      <td>heparina 5000UI/0,25mL</td>\n",
       "      <td>nenhum</td>\n",
       "      <td>Sim</td>\n",
       "      <td>NaN</td>\n",
       "      <td>NaN</td>\n",
       "      <td>4.1</td>\n",
       "      <td>1530</td>\n",
       "      <td>6430</td>\n",
       "      <td>1.00</td>\n",
       "      <td>52.0</td>\n",
       "      <td>0</td>\n",
       "      <td>nao</td>\n",
       "      <td>leve</td>\n",
       "    </tr>\n",
       "    <tr>\n",
       "      <th>6</th>\n",
       "      <td>38</td>\n",
       "      <td>M</td>\n",
       "      <td>preta</td>\n",
       "      <td>nao</td>\n",
       "      <td>renal-hd</td>\n",
       "      <td>nenhuma</td>\n",
       "      <td>nenhum</td>\n",
       "      <td>nenhum</td>\n",
       "      <td>nenhum</td>\n",
       "      <td>alta</td>\n",
       "      <td>hidrocortisona 100mg</td>\n",
       "      <td>prednisona 20mg</td>\n",
       "      <td>nenhum</td>\n",
       "      <td>Sim</td>\n",
       "      <td>heparina 5000UI/0,25mL</td>\n",
       "      <td>nenhum</td>\n",
       "      <td>Nao</td>\n",
       "      <td>NaN</td>\n",
       "      <td>NaN</td>\n",
       "      <td>19.3</td>\n",
       "      <td>2380</td>\n",
       "      <td>1260</td>\n",
       "      <td>7.35</td>\n",
       "      <td>191.0</td>\n",
       "      <td>1021</td>\n",
       "      <td>nao</td>\n",
       "      <td>leve</td>\n",
       "    </tr>\n",
       "    <tr>\n",
       "      <th>7</th>\n",
       "      <td>37</td>\n",
       "      <td>M</td>\n",
       "      <td>branca</td>\n",
       "      <td>sim</td>\n",
       "      <td>HIV</td>\n",
       "      <td>oncologico</td>\n",
       "      <td>nenhum</td>\n",
       "      <td>nenhum</td>\n",
       "      <td>TVP</td>\n",
       "      <td>fim_isolamento</td>\n",
       "      <td>tiamina 300mg</td>\n",
       "      <td>piridonenhumina 40mg</td>\n",
       "      <td>nenhum</td>\n",
       "      <td>Nao</td>\n",
       "      <td>enonenhumaparina 40mg/0,4mL</td>\n",
       "      <td>nenhum</td>\n",
       "      <td>Sim</td>\n",
       "      <td>NaN</td>\n",
       "      <td>NaN</td>\n",
       "      <td>4.8</td>\n",
       "      <td>0</td>\n",
       "      <td>4410</td>\n",
       "      <td>0.68</td>\n",
       "      <td>31.0</td>\n",
       "      <td>437</td>\n",
       "      <td>nao</td>\n",
       "      <td>leve</td>\n",
       "    </tr>\n",
       "    <tr>\n",
       "      <th>8</th>\n",
       "      <td>82</td>\n",
       "      <td>F</td>\n",
       "      <td>branca</td>\n",
       "      <td>nao</td>\n",
       "      <td>HAS</td>\n",
       "      <td>oncologico</td>\n",
       "      <td>nenhum</td>\n",
       "      <td>nenhum</td>\n",
       "      <td>nenhum</td>\n",
       "      <td>obito</td>\n",
       "      <td>nenhum</td>\n",
       "      <td>nenhum</td>\n",
       "      <td>nenhum</td>\n",
       "      <td>Nao</td>\n",
       "      <td>enonenhumaparina 40mg/0,4mL</td>\n",
       "      <td>nenhum</td>\n",
       "      <td>Sim</td>\n",
       "      <td>NaN</td>\n",
       "      <td>NaN</td>\n",
       "      <td>0.0</td>\n",
       "      <td>0</td>\n",
       "      <td>0</td>\n",
       "      <td>0.00</td>\n",
       "      <td>0.0</td>\n",
       "      <td>0</td>\n",
       "      <td>nao</td>\n",
       "      <td>assintom</td>\n",
       "    </tr>\n",
       "    <tr>\n",
       "      <th>9</th>\n",
       "      <td>45</td>\n",
       "      <td>M</td>\n",
       "      <td>branca</td>\n",
       "      <td>nao</td>\n",
       "      <td>nenhuma</td>\n",
       "      <td>nenhuma</td>\n",
       "      <td>nenhum</td>\n",
       "      <td>nenhum</td>\n",
       "      <td>ambos</td>\n",
       "      <td>fim_isolamento</td>\n",
       "      <td>nenhum</td>\n",
       "      <td>nenhum</td>\n",
       "      <td>nenhum</td>\n",
       "      <td>Nao</td>\n",
       "      <td>enonenhumaparina 40mg/0,4mL</td>\n",
       "      <td>enonenhumaparina 60mg/0,6mL</td>\n",
       "      <td>Sim</td>\n",
       "      <td>NaN</td>\n",
       "      <td>NaN</td>\n",
       "      <td>17.2</td>\n",
       "      <td>366</td>\n",
       "      <td>2790</td>\n",
       "      <td>1.08</td>\n",
       "      <td>22.0</td>\n",
       "      <td>0</td>\n",
       "      <td>nao</td>\n",
       "      <td>leve</td>\n",
       "    </tr>\n",
       "    <tr>\n",
       "      <th>10</th>\n",
       "      <td>63</td>\n",
       "      <td>M</td>\n",
       "      <td>branca</td>\n",
       "      <td>previo</td>\n",
       "      <td>HAS</td>\n",
       "      <td>DM</td>\n",
       "      <td>oncologica</td>\n",
       "      <td>nenhum</td>\n",
       "      <td>nenhum</td>\n",
       "      <td>UTI</td>\n",
       "      <td>prednisona 20mg</td>\n",
       "      <td>nenhum</td>\n",
       "      <td>nenhum</td>\n",
       "      <td>Sim</td>\n",
       "      <td>heparina 5000UI/0,25mL</td>\n",
       "      <td>nenhum</td>\n",
       "      <td>Sim</td>\n",
       "      <td>NaN</td>\n",
       "      <td>NaN</td>\n",
       "      <td>8.8</td>\n",
       "      <td>0</td>\n",
       "      <td>4480</td>\n",
       "      <td>1.33</td>\n",
       "      <td>61.0</td>\n",
       "      <td>3760</td>\n",
       "      <td>nao</td>\n",
       "      <td>grave</td>\n",
       "    </tr>\n",
       "    <tr>\n",
       "      <th>11</th>\n",
       "      <td>79</td>\n",
       "      <td>M</td>\n",
       "      <td>preta</td>\n",
       "      <td>nao</td>\n",
       "      <td>HAS</td>\n",
       "      <td>nenhuma</td>\n",
       "      <td>nenhum</td>\n",
       "      <td>nenhum</td>\n",
       "      <td>nenhum</td>\n",
       "      <td>alta</td>\n",
       "      <td>nenhum</td>\n",
       "      <td>nenhum</td>\n",
       "      <td>nenhum</td>\n",
       "      <td>Nao</td>\n",
       "      <td>heparina 5000UI/0,25mL</td>\n",
       "      <td>nenhum</td>\n",
       "      <td>Sim</td>\n",
       "      <td>NaN</td>\n",
       "      <td>NaN</td>\n",
       "      <td>0.0</td>\n",
       "      <td>0</td>\n",
       "      <td>11150</td>\n",
       "      <td>0.89</td>\n",
       "      <td>53.0</td>\n",
       "      <td>0</td>\n",
       "      <td>nao</td>\n",
       "      <td>assintom</td>\n",
       "    </tr>\n",
       "    <tr>\n",
       "      <th>12</th>\n",
       "      <td>79</td>\n",
       "      <td>M</td>\n",
       "      <td>branca</td>\n",
       "      <td>nao</td>\n",
       "      <td>HAS</td>\n",
       "      <td>nenhuma</td>\n",
       "      <td>nenhum</td>\n",
       "      <td>nenhum</td>\n",
       "      <td>nenhum</td>\n",
       "      <td>obito</td>\n",
       "      <td>denenhumametasona 4mg/mL 2,5mL</td>\n",
       "      <td>nenhum</td>\n",
       "      <td>nenhum</td>\n",
       "      <td>Nao</td>\n",
       "      <td>heparina 5000UI/0,25mL</td>\n",
       "      <td>nenhum</td>\n",
       "      <td>Nao</td>\n",
       "      <td>NaN</td>\n",
       "      <td>NaN</td>\n",
       "      <td>21.1</td>\n",
       "      <td>0</td>\n",
       "      <td>10260</td>\n",
       "      <td>1.09</td>\n",
       "      <td>62.0</td>\n",
       "      <td>1657</td>\n",
       "      <td>sim</td>\n",
       "      <td>moderado</td>\n",
       "    </tr>\n",
       "    <tr>\n",
       "      <th>13</th>\n",
       "      <td>52</td>\n",
       "      <td>F</td>\n",
       "      <td>preta</td>\n",
       "      <td>nao</td>\n",
       "      <td>DM</td>\n",
       "      <td>nenhuma</td>\n",
       "      <td>nenhum</td>\n",
       "      <td>nenhum</td>\n",
       "      <td>TEP</td>\n",
       "      <td>alta</td>\n",
       "      <td>nenhum</td>\n",
       "      <td>nenhum</td>\n",
       "      <td>nenhum</td>\n",
       "      <td>Nao</td>\n",
       "      <td>heparina 5000UI/0,25mL</td>\n",
       "      <td>nenhum</td>\n",
       "      <td>Sim</td>\n",
       "      <td>NaN</td>\n",
       "      <td>NaN</td>\n",
       "      <td>2.1</td>\n",
       "      <td>0</td>\n",
       "      <td>4510</td>\n",
       "      <td>1.12</td>\n",
       "      <td>22.0</td>\n",
       "      <td>2466</td>\n",
       "      <td>nao</td>\n",
       "      <td>leve</td>\n",
       "    </tr>\n",
       "    <tr>\n",
       "      <th>14</th>\n",
       "      <td>30</td>\n",
       "      <td>M</td>\n",
       "      <td>preta</td>\n",
       "      <td>sim</td>\n",
       "      <td>HIV</td>\n",
       "      <td>nenhuma</td>\n",
       "      <td>nenhum</td>\n",
       "      <td>nenhum</td>\n",
       "      <td>nenhum</td>\n",
       "      <td>alta</td>\n",
       "      <td>piridonenhumina 40mg</td>\n",
       "      <td>nenhum</td>\n",
       "      <td>nenhum</td>\n",
       "      <td>Sim</td>\n",
       "      <td>nenhum</td>\n",
       "      <td>nenhum</td>\n",
       "      <td>Nao</td>\n",
       "      <td>NaN</td>\n",
       "      <td>NaN</td>\n",
       "      <td>5.1</td>\n",
       "      <td>0</td>\n",
       "      <td>2560</td>\n",
       "      <td>1.09</td>\n",
       "      <td>22.0</td>\n",
       "      <td>0</td>\n",
       "      <td>sim</td>\n",
       "      <td>leve</td>\n",
       "    </tr>\n",
       "  </tbody>\n",
       "</table>\n",
       "</div>"
      ],
      "text/plain": [
       "    idade sexo    raca tagabismo comorbidade1 comorbidade2 comorbidade3  \\\n",
       "0      41    M  branca       nao      nenhuma      nenhuma       nenhum   \n",
       "1      77    F  branca       sim          HAS      nenhuma       nenhum   \n",
       "2      67    M  branca    previo          HAS           DM       nenhum   \n",
       "3      51    M  branca       nao          HAS     renal-hd       nenhum   \n",
       "4      51    M  branca       nao          HAS     renal-hd       nenhum   \n",
       "5      64    F  branca       nao          HAS      nenhuma       nenhum   \n",
       "6      38    M   preta       nao     renal-hd      nenhuma       nenhum   \n",
       "7      37    M  branca       sim          HIV   oncologico       nenhum   \n",
       "8      82    F  branca       nao          HAS   oncologico       nenhum   \n",
       "9      45    M  branca       nao      nenhuma      nenhuma       nenhum   \n",
       "10     63    M  branca    previo          HAS           DM   oncologica   \n",
       "11     79    M   preta       nao          HAS      nenhuma       nenhum   \n",
       "12     79    M  branca       nao          HAS      nenhuma       nenhum   \n",
       "13     52    F   preta       nao           DM      nenhuma       nenhum   \n",
       "14     30    M   preta       sim          HIV      nenhuma       nenhum   \n",
       "\n",
       "   comorbidade4 trombo_na_internacao        desfecho  \\\n",
       "0        nenhum               nenhum  fim_isolamento   \n",
       "1        nenhum               nenhum  fim_isolamento   \n",
       "2        nenhum               nenhum  fim_isolamento   \n",
       "3        nenhum               nenhum            alta   \n",
       "4        nenhum               nenhum            alta   \n",
       "5        nenhum               nenhum            alta   \n",
       "6        nenhum               nenhum            alta   \n",
       "7        nenhum                  TVP  fim_isolamento   \n",
       "8        nenhum               nenhum           obito   \n",
       "9        nenhum                ambos  fim_isolamento   \n",
       "10       nenhum               nenhum             UTI   \n",
       "11       nenhum               nenhum            alta   \n",
       "12       nenhum               nenhum           obito   \n",
       "13       nenhum                  TEP            alta   \n",
       "14       nenhum               nenhum            alta   \n",
       "\n",
       "                anti-inflamatorio1    anti-inflamatorio2 anti-inflamatorio3  \\\n",
       "0                           nenhum                nenhum             nenhum   \n",
       "1             hidrocortisona 100mg       prednisona 20mg             nenhum   \n",
       "2                           nenhum                nenhum             nenhum   \n",
       "3                  prednisona 20mg                nenhum             nenhum   \n",
       "4   denenhumametasona 4mg/mL 2,5mL  hidrocortisona 100mg    prednisona 20mg   \n",
       "5                           nenhum                nenhum             nenhum   \n",
       "6             hidrocortisona 100mg       prednisona 20mg             nenhum   \n",
       "7                    tiamina 300mg  piridonenhumina 40mg             nenhum   \n",
       "8                           nenhum                nenhum             nenhum   \n",
       "9                           nenhum                nenhum             nenhum   \n",
       "10                 prednisona 20mg                nenhum             nenhum   \n",
       "11                          nenhum                nenhum             nenhum   \n",
       "12  denenhumametasona 4mg/mL 2,5mL                nenhum             nenhum   \n",
       "13                          nenhum                nenhum             nenhum   \n",
       "14            piridonenhumina 40mg                nenhum             nenhum   \n",
       "\n",
       "   anti-inflamatorio_previo        profilaxia_de_trombo1  \\\n",
       "0                       Nao       heparina 5000UI/0,25mL   \n",
       "1                       Nao  enonenhumaparina 40mg/0,4mL   \n",
       "2                       Nao       heparina 5000UI/0,25mL   \n",
       "3                       Sim                       nenhum   \n",
       "4                       Nao                       nenhum   \n",
       "5                       Nao       heparina 5000UI/0,25mL   \n",
       "6                       Sim       heparina 5000UI/0,25mL   \n",
       "7                       Nao  enonenhumaparina 40mg/0,4mL   \n",
       "8                       Nao  enonenhumaparina 40mg/0,4mL   \n",
       "9                       Nao  enonenhumaparina 40mg/0,4mL   \n",
       "10                      Sim       heparina 5000UI/0,25mL   \n",
       "11                      Nao       heparina 5000UI/0,25mL   \n",
       "12                      Nao       heparina 5000UI/0,25mL   \n",
       "13                      Nao       heparina 5000UI/0,25mL   \n",
       "14                      Sim                       nenhum   \n",
       "\n",
       "          profilaxia_de_trombo2 anticoagulante_previo antibiotico1  \\\n",
       "0                        nenhum                   Sim          NaN   \n",
       "1                        nenhum                   Sim          NaN   \n",
       "2                        nenhum                   Sim          NaN   \n",
       "3                        nenhum                   Nao          NaN   \n",
       "4                        nenhum                   Nao          NaN   \n",
       "5                        nenhum                   Sim          NaN   \n",
       "6                        nenhum                   Nao          NaN   \n",
       "7                        nenhum                   Sim          NaN   \n",
       "8                        nenhum                   Sim          NaN   \n",
       "9   enonenhumaparina 60mg/0,6mL                   Sim          NaN   \n",
       "10                       nenhum                   Sim          NaN   \n",
       "11                       nenhum                   Sim          NaN   \n",
       "12                       nenhum                   Nao          NaN   \n",
       "13                       nenhum                   Sim          NaN   \n",
       "14                       nenhum                   Nao          NaN   \n",
       "\n",
       "   antibiotico2  proteina c (mg/dl)  ferritina (ng/ml)  leucócitos ( /ul)  \\\n",
       "0           NaN                 8.0                  0               4830   \n",
       "1           NaN                14.7                  0               5280   \n",
       "2           NaN                 0.0                  0               8650   \n",
       "3           NaN                 6.2                  0               9590   \n",
       "4           NaN                32.0                  0               4230   \n",
       "5           NaN                 4.1               1530               6430   \n",
       "6           NaN                19.3               2380               1260   \n",
       "7           NaN                 4.8                  0               4410   \n",
       "8           NaN                 0.0                  0                  0   \n",
       "9           NaN                17.2                366               2790   \n",
       "10          NaN                 8.8                  0               4480   \n",
       "11          NaN                 0.0                  0              11150   \n",
       "12          NaN                21.1                  0              10260   \n",
       "13          NaN                 2.1                  0               4510   \n",
       "14          NaN                 5.1                  0               2560   \n",
       "\n",
       "    creatinina (mg/dl)  ureia(mg/dl)  d-dimeros (ng/ml) reinfeccao  sintomas  \n",
       "0                 0.76          36.0                  0        nao      leve  \n",
       "1                 0.82          31.0                  0        nao  assintom  \n",
       "2                 0.72           0.0                  0        nao      leve  \n",
       "3                 0.00         142.0                  0        nao      leve  \n",
       "4                15.40         158.0               1535        sim  assintom  \n",
       "5                 1.00          52.0                  0        nao      leve  \n",
       "6                 7.35         191.0               1021        nao      leve  \n",
       "7                 0.68          31.0                437        nao      leve  \n",
       "8                 0.00           0.0                  0        nao  assintom  \n",
       "9                 1.08          22.0                  0        nao      leve  \n",
       "10                1.33          61.0               3760        nao     grave  \n",
       "11                0.89          53.0                  0        nao  assintom  \n",
       "12                1.09          62.0               1657        sim  moderado  \n",
       "13                1.12          22.0               2466        nao      leve  \n",
       "14                1.09          22.0                  0        sim      leve  "
      ]
     },
     "execution_count": 3,
     "metadata": {},
     "output_type": "execute_result"
    }
   ],
   "source": [
    "df.head(15)"
   ]
  },
  {
   "cell_type": "markdown",
   "id": "c0a4f8a3",
   "metadata": {},
   "source": [
    "Valores Vazios\n",
    "- Deletar linhas/colunas vazias\n",
    "- Deletar linhas que possuem valores vazios\n",
    "- Preencher valores vazios (último valor)"
   ]
  },
  {
   "cell_type": "code",
   "execution_count": 4,
   "id": "90b1d202",
   "metadata": {},
   "outputs": [],
   "source": [
    "# deletar linhas e colunas completamente vazias\n",
    "# df = df.dropna(how='all', axis=1)\n",
    "\n",
    "# deletar linhas que possuem pelo menos 1 valor vazio\n",
    "# df = df.dropna()"
   ]
  },
  {
   "cell_type": "code",
   "execution_count": 5,
   "id": "11fdb482",
   "metadata": {},
   "outputs": [],
   "source": [
    "# preencher com o último valor\n",
    "df = df.ffill()"
   ]
  },
  {
   "cell_type": "code",
   "execution_count": 6,
   "id": "0dd4f36c",
   "metadata": {},
   "outputs": [],
   "source": [
    "# deletar colunas incompletas\n",
    "df = df.drop(columns='antibiotico1')\n",
    "df = df.drop(columns='antibiotico2')\n"
   ]
  },
  {
   "cell_type": "code",
   "execution_count": 7,
   "id": "2e6df69e",
   "metadata": {},
   "outputs": [
    {
     "name": "stdout",
     "output_type": "stream",
     "text": [
      "<class 'pandas.core.frame.DataFrame'>\n",
      "RangeIndex: 429 entries, 0 to 428\n",
      "Data columns (total 25 columns):\n",
      " #   Column                    Non-Null Count  Dtype  \n",
      "---  ------                    --------------  -----  \n",
      " 0   idade                     429 non-null    int64  \n",
      " 1   sexo                      429 non-null    object \n",
      " 2   raca                      429 non-null    object \n",
      " 3   tagabismo                 429 non-null    object \n",
      " 4   comorbidade1              429 non-null    object \n",
      " 5   comorbidade2              429 non-null    object \n",
      " 6   comorbidade3              429 non-null    object \n",
      " 7   comorbidade4              429 non-null    object \n",
      " 8   trombo_na_internacao      429 non-null    object \n",
      " 9   desfecho                  429 non-null    object \n",
      " 10  anti-inflamatorio1        429 non-null    object \n",
      " 11  anti-inflamatorio2        429 non-null    object \n",
      " 12  anti-inflamatorio3        429 non-null    object \n",
      " 13  anti-inflamatorio_previo  429 non-null    object \n",
      " 14  profilaxia_de_trombo1     429 non-null    object \n",
      " 15  profilaxia_de_trombo2     429 non-null    object \n",
      " 16  anticoagulante_previo     429 non-null    object \n",
      " 17  proteina c (mg/dl)        429 non-null    float64\n",
      " 18  ferritina (ng/ml)         429 non-null    int64  \n",
      " 19  leucócitos ( /ul)         429 non-null    int64  \n",
      " 20  creatinina (mg/dl)        429 non-null    float64\n",
      " 21  ureia(mg/dl)              429 non-null    float64\n",
      " 22  d-dimeros (ng/ml)         429 non-null    int64  \n",
      " 23  reinfeccao                429 non-null    object \n",
      " 24  sintomas                  429 non-null    object \n",
      "dtypes: float64(3), int64(4), object(18)\n",
      "memory usage: 83.9+ KB\n"
     ]
    }
   ],
   "source": [
    "df.info()"
   ]
  },
  {
   "cell_type": "code",
   "execution_count": 8,
   "id": "f48b1e87",
   "metadata": {},
   "outputs": [
    {
     "data": {
      "text/html": [
       "<div>\n",
       "<style scoped>\n",
       "    .dataframe tbody tr th:only-of-type {\n",
       "        vertical-align: middle;\n",
       "    }\n",
       "\n",
       "    .dataframe tbody tr th {\n",
       "        vertical-align: top;\n",
       "    }\n",
       "\n",
       "    .dataframe thead th {\n",
       "        text-align: right;\n",
       "    }\n",
       "</style>\n",
       "<table border=\"1\" class=\"dataframe\">\n",
       "  <thead>\n",
       "    <tr style=\"text-align: right;\">\n",
       "      <th></th>\n",
       "      <th>comorbidade1</th>\n",
       "      <th>comorbidade2</th>\n",
       "      <th>comorbidade3</th>\n",
       "      <th>comorbidade4</th>\n",
       "      <th>desfecho</th>\n",
       "    </tr>\n",
       "  </thead>\n",
       "  <tbody>\n",
       "    <tr>\n",
       "      <th>0</th>\n",
       "      <td>nenhuma</td>\n",
       "      <td>nenhuma</td>\n",
       "      <td>nenhum</td>\n",
       "      <td>nenhum</td>\n",
       "      <td>fim_isolamento</td>\n",
       "    </tr>\n",
       "    <tr>\n",
       "      <th>1</th>\n",
       "      <td>HAS</td>\n",
       "      <td>nenhuma</td>\n",
       "      <td>nenhum</td>\n",
       "      <td>nenhum</td>\n",
       "      <td>fim_isolamento</td>\n",
       "    </tr>\n",
       "    <tr>\n",
       "      <th>2</th>\n",
       "      <td>HAS</td>\n",
       "      <td>DM</td>\n",
       "      <td>nenhum</td>\n",
       "      <td>nenhum</td>\n",
       "      <td>fim_isolamento</td>\n",
       "    </tr>\n",
       "    <tr>\n",
       "      <th>3</th>\n",
       "      <td>HAS</td>\n",
       "      <td>renal-hd</td>\n",
       "      <td>nenhum</td>\n",
       "      <td>nenhum</td>\n",
       "      <td>alta</td>\n",
       "    </tr>\n",
       "    <tr>\n",
       "      <th>4</th>\n",
       "      <td>HAS</td>\n",
       "      <td>renal-hd</td>\n",
       "      <td>nenhum</td>\n",
       "      <td>nenhum</td>\n",
       "      <td>alta</td>\n",
       "    </tr>\n",
       "    <tr>\n",
       "      <th>...</th>\n",
       "      <td>...</td>\n",
       "      <td>...</td>\n",
       "      <td>...</td>\n",
       "      <td>...</td>\n",
       "      <td>...</td>\n",
       "    </tr>\n",
       "    <tr>\n",
       "      <th>424</th>\n",
       "      <td>HAS</td>\n",
       "      <td>nenhuma</td>\n",
       "      <td>nenhum</td>\n",
       "      <td>nenhum</td>\n",
       "      <td>alta</td>\n",
       "    </tr>\n",
       "    <tr>\n",
       "      <th>425</th>\n",
       "      <td>nenhuma</td>\n",
       "      <td>nenhuma</td>\n",
       "      <td>nenhum</td>\n",
       "      <td>nenhum</td>\n",
       "      <td>fim_isolamento</td>\n",
       "    </tr>\n",
       "    <tr>\n",
       "      <th>426</th>\n",
       "      <td>DM</td>\n",
       "      <td>HAS</td>\n",
       "      <td>nenhum</td>\n",
       "      <td>nenhum</td>\n",
       "      <td>alta</td>\n",
       "    </tr>\n",
       "    <tr>\n",
       "      <th>427</th>\n",
       "      <td>HAS</td>\n",
       "      <td>ICC</td>\n",
       "      <td>nenhum</td>\n",
       "      <td>nenhum</td>\n",
       "      <td>UTI</td>\n",
       "    </tr>\n",
       "    <tr>\n",
       "      <th>428</th>\n",
       "      <td>DM</td>\n",
       "      <td>HAS</td>\n",
       "      <td>nenhum</td>\n",
       "      <td>nenhum</td>\n",
       "      <td>alta</td>\n",
       "    </tr>\n",
       "  </tbody>\n",
       "</table>\n",
       "<p>429 rows × 5 columns</p>\n",
       "</div>"
      ],
      "text/plain": [
       "    comorbidade1 comorbidade2 comorbidade3 comorbidade4        desfecho\n",
       "0        nenhuma      nenhuma       nenhum       nenhum  fim_isolamento\n",
       "1            HAS      nenhuma       nenhum       nenhum  fim_isolamento\n",
       "2            HAS           DM       nenhum       nenhum  fim_isolamento\n",
       "3            HAS     renal-hd       nenhum       nenhum            alta\n",
       "4            HAS     renal-hd       nenhum       nenhum            alta\n",
       "..           ...          ...          ...          ...             ...\n",
       "424          HAS      nenhuma       nenhum       nenhum            alta\n",
       "425      nenhuma      nenhuma       nenhum       nenhum  fim_isolamento\n",
       "426           DM          HAS       nenhum       nenhum            alta\n",
       "427          HAS          ICC       nenhum       nenhum             UTI\n",
       "428           DM          HAS       nenhum       nenhum            alta\n",
       "\n",
       "[429 rows x 5 columns]"
      ]
     },
     "metadata": {},
     "output_type": "display_data"
    }
   ],
   "source": [
    "view_comorbidade_desfecho = df[['comorbidade1','comorbidade2','comorbidade3','comorbidade4', 'desfecho']]\n",
    "display(view_comorbidade_desfecho)"
   ]
  },
  {
   "cell_type": "code",
   "execution_count": 9,
   "id": "f93d9b8a",
   "metadata": {},
   "outputs": [
    {
     "data": {
      "text/plain": [
       "0      False\n",
       "1      False\n",
       "2      False\n",
       "3      False\n",
       "4      False\n",
       "       ...  \n",
       "424    False\n",
       "425    False\n",
       "426    False\n",
       "427    False\n",
       "428    False\n",
       "Name: desfecho, Length: 429, dtype: bool"
      ]
     },
     "execution_count": 9,
     "metadata": {},
     "output_type": "execute_result"
    }
   ],
   "source": [
    "df['desfecho']==1  # DESFECHO (1-alta/ 2-UTI/ 3-óbito/4-fim isolamento/5-transf.)"
   ]
  },
  {
   "cell_type": "markdown",
   "id": "09c756e8",
   "metadata": {},
   "source": [
    "#### Atributos escolhidos: "
   ]
  },
  {
   "cell_type": "code",
   "execution_count": 10,
   "id": "a6aad5ab",
   "metadata": {},
   "outputs": [],
   "source": [
    "nomes_atributos_numericos = ['idade','proteina c (mg/dl)','ferritina (ng/ml)','leucócitos ( /ul)','creatinina (mg/dl)','ureia(mg/dl)','d-dimeros (ng/ml)']"
   ]
  },
  {
   "cell_type": "code",
   "execution_count": 11,
   "id": "116cd9c9",
   "metadata": {},
   "outputs": [
    {
     "data": {
      "text/plain": [
       "['idade',\n",
       " 'proteina c (mg/dl)',\n",
       " 'ferritina (ng/ml)',\n",
       " 'leucócitos ( /ul)',\n",
       " 'creatinina (mg/dl)',\n",
       " 'ureia(mg/dl)',\n",
       " 'd-dimeros (ng/ml)']"
      ]
     },
     "execution_count": 11,
     "metadata": {},
     "output_type": "execute_result"
    }
   ],
   "source": [
    "nomes_atributos_numericos"
   ]
  },
  {
   "cell_type": "code",
   "execution_count": 12,
   "id": "5a1cefb6",
   "metadata": {},
   "outputs": [],
   "source": [
    "nomes_atributos_categoricos = ['sexo','sintomas','raca','tagabismo','comorbidade1','comorbidade2','comorbidade3','comorbidade4','trombo_na_internacao','sintomas','anti-inflamatorio_previo','anticoagulante_previo','reinfeccao']"
   ]
  },
  {
   "cell_type": "code",
   "execution_count": 13,
   "id": "755cf5f9",
   "metadata": {},
   "outputs": [
    {
     "data": {
      "text/plain": [
       "['sexo',\n",
       " 'sintomas',\n",
       " 'raca',\n",
       " 'tagabismo',\n",
       " 'comorbidade1',\n",
       " 'comorbidade2',\n",
       " 'comorbidade3',\n",
       " 'comorbidade4',\n",
       " 'trombo_na_internacao',\n",
       " 'sintomas',\n",
       " 'anti-inflamatorio_previo',\n",
       " 'anticoagulante_previo',\n",
       " 'reinfeccao']"
      ]
     },
     "execution_count": 13,
     "metadata": {},
     "output_type": "execute_result"
    }
   ],
   "source": [
    "nomes_atributos_categoricos"
   ]
  },
  {
   "cell_type": "code",
   "execution_count": 14,
   "id": "6f8fe8d6",
   "metadata": {},
   "outputs": [
    {
     "data": {
      "text/plain": [
       "alta              243\n",
       "UTI                89\n",
       "fim_isolamento     47\n",
       "obito              47\n",
       "transf              3\n",
       "Name: desfecho, dtype: int64"
      ]
     },
     "execution_count": 14,
     "metadata": {},
     "output_type": "execute_result"
    }
   ],
   "source": [
    "df['desfecho'].value_counts()"
   ]
  },
  {
   "cell_type": "code",
   "execution_count": 15,
   "id": "b4fdbab9",
   "metadata": {},
   "outputs": [],
   "source": [
    "df = df.drop(df[df['desfecho'] == 'transf'].index)"
   ]
  },
  {
   "cell_type": "code",
   "execution_count": 16,
   "id": "127dd369",
   "metadata": {},
   "outputs": [
    {
     "name": "stdout",
     "output_type": "stream",
     "text": [
      "47\n",
      "              idade sexo    raca tagabismo comorbidade1 comorbidade2  \\\n",
      "desfecho                                                               \n",
      "UTI      395     34    F  branca       nao          ICC     renal-hd   \n",
      "         92      52    M  branca       nao          ICC      nenhuma   \n",
      "         285     44    M  branca       nao      nenhuma      nenhuma   \n",
      "         287     43    M  branca       nao    obesidade      nenhuma   \n",
      "         152     61    M  branca       sim           DM          HAS   \n",
      "...             ...  ...     ...       ...          ...          ...   \n",
      "obito    48      63    F  branca    previo           DM          HAS   \n",
      "         49      61    F  branca       nao          HAS   oncologico   \n",
      "         121     92    F  branca    previo           DM      nenhuma   \n",
      "         305     64    M  branca       sim   oncologica      nenhuma   \n",
      "         133     91    M  branca       nao           DM          HAS   \n",
      "\n",
      "             comorbidade3 comorbidade4 trombo_na_internacao desfecho  \\\n",
      "desfecho                                                               \n",
      "UTI      395       nenhum       nenhum               nenhum      UTI   \n",
      "         92        nenhum       nenhum               nenhum      UTI   \n",
      "         285       nenhum       nenhum               nenhum      UTI   \n",
      "         287       nenhum       nenhum               nenhum      UTI   \n",
      "         152     renal-hd       nenhum               nenhum      UTI   \n",
      "...                   ...          ...                  ...      ...   \n",
      "obito    48    oncologica       nenhum               nenhum    obito   \n",
      "         49        nenhum       nenhum               nenhum    obito   \n",
      "         121       nenhum       nenhum               nenhum    obito   \n",
      "         305       nenhum       nenhum               nenhum    obito   \n",
      "         133     renal-hd       nenhum               nenhum    obito   \n",
      "\n",
      "                          anti-inflamatorio1               anti-inflamatorio2  \\\n",
      "desfecho                                                                        \n",
      "UTI      395  denenhumametasona 4mg/mL 2,5mL                   prednisona 5mg   \n",
      "         92   denenhumametasona 4mg/mL 2,5mL                           nenhum   \n",
      "         285                 prednisona 20mg  metilprednisolona 500mg sol.inj   \n",
      "         287           formoterol/budesonida   denenhumametasona 4mg/mL 2,5mL   \n",
      "         152            hidrocortisona 100mg                           nenhum   \n",
      "...                                      ...                              ...   \n",
      "obito    48         Denenhumametasona 4mg cp                           nenhum   \n",
      "         49   denenhumametasona 4mg/mL 2,5mL                           nenhum   \n",
      "         121  denenhumametasona 4mg/mL 2,5mL                           nenhum   \n",
      "         305        Denenhumametasona 4mg cp            formoterol/budesonida   \n",
      "         133                          nenhum                           nenhum   \n",
      "\n",
      "             anti-inflamatorio3 anti-inflamatorio_previo  \\\n",
      "desfecho                                                   \n",
      "UTI      395             nenhum                      Sim   \n",
      "         92              nenhum                      Nao   \n",
      "         285             nenhum                      Nao   \n",
      "         287             nenhum                      Nao   \n",
      "         152             nenhum                      Sim   \n",
      "...                         ...                      ...   \n",
      "obito    48              nenhum                      Sim   \n",
      "         49              nenhum                      Sim   \n",
      "         121             nenhum                      Nao   \n",
      "         305             nenhum                      Sim   \n",
      "         133             nenhum                      Nao   \n",
      "\n",
      "                    profilaxia_de_trombo1 profilaxia_de_trombo2  \\\n",
      "desfecho                                                          \n",
      "UTI      395  enonenhumaparina 40mg/0,4mL                nenhum   \n",
      "         92        heparina 5000UI/0,25mL                nenhum   \n",
      "         285  enonenhumaparina 40mg/0,4mL                nenhum   \n",
      "         287  enonenhumaparina 60mg/0,6mL                nenhum   \n",
      "         152       heparina 5000UI/0,25mL                nenhum   \n",
      "...                                   ...                   ...   \n",
      "obito    48        heparina 5000UI/0,25mL                nenhum   \n",
      "         49                        nenhum                nenhum   \n",
      "         121       heparina 5000UI/0,25mL                nenhum   \n",
      "         305  enonenhumaparina 40mg/0,4mL                nenhum   \n",
      "         133       heparina 5000UI/0,25mL                nenhum   \n",
      "\n",
      "             anticoagulante_previo  proteina c (mg/dl)  ferritina (ng/ml)  \\\n",
      "desfecho                                                                    \n",
      "UTI      395                   Nao                 1.0                  0   \n",
      "         92                    Nao                19.8                  0   \n",
      "         285                   Nao                16.4                  0   \n",
      "         287                   Nao                 7.1                  0   \n",
      "         152                   Nao                25.2                  0   \n",
      "...                            ...                 ...                ...   \n",
      "obito    48                    Sim                 8.9                  0   \n",
      "         49                    Nao                 4.3               3080   \n",
      "         121                   Nao                14.0                  0   \n",
      "         305                   Sim                18.3                  0   \n",
      "         133                   Sim                20.8                  0   \n",
      "\n",
      "              leucócitos ( /ul)  creatinina (mg/dl)  ureia(mg/dl)  \\\n",
      "desfecho                                                            \n",
      "UTI      395               3780                0.00         159.0   \n",
      "         92                4720                2.63          53.0   \n",
      "         285               6150                1.88          33.0   \n",
      "         287              15910                0.92          26.0   \n",
      "         152              10560                3.74         253.0   \n",
      "...                         ...                 ...           ...   \n",
      "obito    48                9530                0.83          43.0   \n",
      "         49                8550                1.62          91.0   \n",
      "         121               3520                1.54          86.0   \n",
      "         305               7360                0.71          11.0   \n",
      "         133              16570                3.03         157.0   \n",
      "\n",
      "              d-dimeros (ng/ml) reinfeccao  sintomas  \n",
      "desfecho                                              \n",
      "UTI      395                  0        nao     grave  \n",
      "         92               19317        nao     grave  \n",
      "         285                628        nao     grave  \n",
      "         287               7416        nao     grave  \n",
      "         152               1196        nao     grave  \n",
      "...                         ...        ...       ...  \n",
      "obito    48                   0        nao     grave  \n",
      "         49                   0        nao     grave  \n",
      "         121               1413        nao     grave  \n",
      "         305                  0        nao  moderado  \n",
      "         133                  0        nao  moderado  \n",
      "\n",
      "[188 rows x 25 columns]\n"
     ]
    }
   ],
   "source": [
    "val_cnt = df['desfecho'].value_counts()\n",
    "min_sample = val_cnt.min()\n",
    "print(min_sample) # Outputs 7 in as an example\n",
    "df = df.groupby('desfecho').apply(lambda s: s.sample(min_sample))\n",
    "print(df)"
   ]
  },
  {
   "cell_type": "code",
   "execution_count": 17,
   "id": "44da06d2",
   "metadata": {},
   "outputs": [],
   "source": [
    "df['desfecho'].mask(df['desfecho'] == 'alta', 0, inplace=True)\n",
    "df['desfecho'].mask(df['desfecho'] == 'UTI', 1, inplace=True)\n",
    "df['desfecho'].mask(df['desfecho'] == 'fim_isolamento', 2, inplace=True)\n",
    "df['desfecho'].mask(df['desfecho'] == 'obito', 3, inplace=True)"
   ]
  },
  {
   "cell_type": "markdown",
   "id": "63ffe010",
   "metadata": {},
   "source": [
    "#### Pré-Processamento"
   ]
  },
  {
   "cell_type": "markdown",
   "id": "7fc9e204",
   "metadata": {},
   "source": [
    "#### Separando os conjuntos de treino e teste"
   ]
  },
  {
   "cell_type": "code",
   "execution_count": 18,
   "id": "37ed527c",
   "metadata": {},
   "outputs": [],
   "source": [
    "import tensorflow as tf\n",
    "from tensorflow import keras"
   ]
  },
  {
   "cell_type": "code",
   "execution_count": 19,
   "id": "cca4b83d",
   "metadata": {},
   "outputs": [],
   "source": [
    "from sklearn.impute import SimpleImputer\n",
    "from sklearn.preprocessing import StandardScaler\n",
    "from sklearn.preprocessing import OneHotEncoder\n",
    "\n",
    "from sklearn.pipeline import Pipeline\n",
    "from sklearn.compose import ColumnTransformer\n",
    "\n",
    "pipeline_atr_numericos = Pipeline([\n",
    "    ('imputer',SimpleImputer(strategy='mean')),\n",
    "    ('scaler', StandardScaler()),\n",
    "])\n",
    "\n",
    "preproc_completo = ColumnTransformer([\n",
    "    ('numericos',   pipeline_atr_numericos, nomes_atributos_numericos),\n",
    "    ('categoricos', OneHotEncoder(),        nomes_atributos_categoricos),\n",
    "    ], \n",
    "    sparse_threshold=0)\n",
    "\n",
    "df_labels = df['desfecho'].copy()\n",
    "df_features = df.drop(columns='desfecho')\n",
    "\n",
    "# pre-processamento do conjunto de treino\n",
    "df_features = preproc_completo.fit_transform(df_features)\n",
    "\n",
    "# pre-processamento da coluna alvo para treino\n",
    "\n",
    "df_labels = tf.keras.utils.to_categorical(df_labels, 4)\n",
    "\n"
   ]
  },
  {
   "cell_type": "code",
   "execution_count": 20,
   "id": "9abfa34e",
   "metadata": {},
   "outputs": [
    {
     "name": "stdout",
     "output_type": "stream",
     "text": [
      "TRAIN: [128  24 164  16  85  55 163 145  41 132  15  58  61  97  19 160  27 171\n",
      " 109 130  96 178 143  30  73 141 126 136 169  69  64 168 186 156 120 117\n",
      "  12  63 187  92   1  90  44 165 114 140  40  53  91  99  76  49 101   5\n",
      " 112  98  50 111 151 172  48  20  77  36 108  60 119  45 152  62  32 167\n",
      "  23  86  87  39  11  80   4  54 135  81  31 116 170   8  84 122  94   7\n",
      " 161 183  95  70  18 115  71  38  46 162 149 146  21 174  52  34   9 153\n",
      " 133 124 185 173   3 106 181  88 105  59 157  78 158 154  29  72  14 118\n",
      " 148 139 113  47 137 125 102 155 100 175 177 179  66  43  35  79  83  28\n",
      "   2  25  89 138 110   6] TEST: [127 134 142  13 182  17  37  67 107 129  51  26 184  68  22 131 104 147\n",
      "  56 123  57 150  33  10  82  93  65  74 144  75 159 166 103   0 180 121\n",
      "  42 176]\n"
     ]
    }
   ],
   "source": [
    "from sklearn.model_selection import StratifiedShuffleSplit\n",
    "\n",
    "# separando os conjuntos de dados de treino e teste\n",
    "\n",
    "sss = StratifiedShuffleSplit(n_splits=1, test_size=0.2, random_state=213)\n",
    "\n",
    "sss.get_n_splits(df_features, df_labels)\n",
    "\n",
    "for train_index, test_index in sss.split(df_features, df_labels):\n",
    "    print(\"TRAIN:\", train_index, \"TEST:\", test_index)\n",
    "    X_treino, X_teste = df_features[train_index], df_features[test_index]\n",
    "    y_treino, y_teste = df_labels[train_index], df_labels[test_index]"
   ]
  },
  {
   "cell_type": "code",
   "execution_count": 21,
   "id": "a5500015",
   "metadata": {},
   "outputs": [],
   "source": [
    "BATCH_SIZE = 64\n",
    "SHUFFLE_BUFFER_SIZE = 100\n",
    "train_dataset = tf.data.Dataset.from_tensor_slices((X_treino, y_treino))\n",
    "train_dataset = train_dataset.shuffle(SHUFFLE_BUFFER_SIZE).batch(BATCH_SIZE)\n",
    "test_dataset = tf.data.Dataset.from_tensor_slices((X_teste, y_teste))\n",
    "test_dataset = test_dataset.shuffle(SHUFFLE_BUFFER_SIZE).batch(BATCH_SIZE)"
   ]
  },
  {
   "cell_type": "code",
   "execution_count": 22,
   "id": "38c8ddb2",
   "metadata": {},
   "outputs": [
    {
     "data": {
      "text/plain": [
       "array([-0.05712077,  1.94282987, -0.23562082, -0.14969269, -0.43909398,\n",
       "       -0.2792736 , -0.58648952,  0.        ,  1.        ,  1.        ,\n",
       "        0.        ,  0.        ,  0.        ,  1.        ,  0.        ,\n",
       "        0.        ,  0.        ,  0.        ,  1.        ,  0.        ,\n",
       "        1.        ,  0.        ,  0.        ,  0.        ,  0.        ,\n",
       "        0.        ,  0.        ,  0.        ,  0.        ,  0.        ,\n",
       "        0.        ,  1.        ,  0.        ,  0.        ,  0.        ,\n",
       "        0.        ,  0.        ,  0.        ,  1.        ,  0.        ,\n",
       "        0.        ,  0.        ,  1.        ,  0.        ,  0.        ,\n",
       "        0.        ,  0.        ,  0.        ,  1.        ,  1.        ,\n",
       "        0.        ,  0.        ,  0.        ,  1.        ,  0.        ,\n",
       "        0.        ,  1.        ,  1.        ,  0.        ])"
      ]
     },
     "execution_count": 22,
     "metadata": {},
     "output_type": "execute_result"
    }
   ],
   "source": [
    "X_treino[0]"
   ]
  },
  {
   "cell_type": "code",
   "execution_count": null,
   "id": "2f8b9873",
   "metadata": {},
   "outputs": [],
   "source": []
  },
  {
   "cell_type": "code",
   "execution_count": 23,
   "id": "6bd51fc6",
   "metadata": {},
   "outputs": [
    {
     "data": {
      "text/plain": [
       "array([[-0.05712077,  1.94282987, -0.23562082, ...,  1.        ,\n",
       "         1.        ,  0.        ],\n",
       "       [-0.38585663, -0.21880405, -0.23562082, ...,  1.        ,\n",
       "         1.        ,  0.        ],\n",
       "       [-0.55022456,  1.16427528,  0.20417612, ...,  0.        ,\n",
       "         1.        ,  0.        ],\n",
       "       ...,\n",
       "       [-1.15290698,  2.23593277, -0.23562082, ...,  0.        ,\n",
       "         1.        ,  0.        ],\n",
       "       [-0.49543525, -0.79585039, -0.23562082, ...,  0.        ,\n",
       "         1.        ,  0.        ],\n",
       "       [-0.44064594, -0.20048511, -0.23562082, ...,  0.        ,\n",
       "         1.        ,  0.        ]])"
      ]
     },
     "execution_count": 23,
     "metadata": {},
     "output_type": "execute_result"
    }
   ],
   "source": [
    "X_treino"
   ]
  },
  {
   "cell_type": "code",
   "execution_count": 24,
   "id": "1d48e54e",
   "metadata": {},
   "outputs": [
    {
     "data": {
      "text/plain": [
       "(150, 59)"
      ]
     },
     "execution_count": 24,
     "metadata": {},
     "output_type": "execute_result"
    }
   ],
   "source": [
    "X_treino.shape"
   ]
  },
  {
   "cell_type": "code",
   "execution_count": 25,
   "id": "0f3e0842",
   "metadata": {},
   "outputs": [
    {
     "data": {
      "text/plain": [
       "(150, 4)"
      ]
     },
     "execution_count": 25,
     "metadata": {},
     "output_type": "execute_result"
    }
   ],
   "source": [
    "y_treino.shape"
   ]
  },
  {
   "cell_type": "code",
   "execution_count": 26,
   "id": "54bbf379",
   "metadata": {},
   "outputs": [
    {
     "data": {
      "text/plain": [
       "(38, 59)"
      ]
     },
     "execution_count": 26,
     "metadata": {},
     "output_type": "execute_result"
    }
   ],
   "source": [
    "X_teste.shape"
   ]
  },
  {
   "cell_type": "code",
   "execution_count": 27,
   "id": "37c0294b",
   "metadata": {},
   "outputs": [
    {
     "data": {
      "text/plain": [
       "(38, 4)"
      ]
     },
     "execution_count": 27,
     "metadata": {},
     "output_type": "execute_result"
    }
   ],
   "source": [
    "y_teste.shape"
   ]
  },
  {
   "cell_type": "markdown",
   "id": "2bc8300e",
   "metadata": {},
   "source": [
    "- RNA TensorFlow + Keras"
   ]
  },
  {
   "cell_type": "code",
   "execution_count": 28,
   "id": "56eb7a3e",
   "metadata": {},
   "outputs": [],
   "source": [
    "import tensorflow as tf\n",
    "from tensorflow import keras"
   ]
  },
  {
   "cell_type": "code",
   "execution_count": 29,
   "id": "2af9641b",
   "metadata": {},
   "outputs": [
    {
     "data": {
      "text/plain": [
       "(59,)"
      ]
     },
     "execution_count": 29,
     "metadata": {},
     "output_type": "execute_result"
    }
   ],
   "source": [
    "# Qual o tamanho da entrada?\n",
    "X_treino.shape[1:]"
   ]
  },
  {
   "cell_type": "code",
   "execution_count": 30,
   "id": "f6d90f7c",
   "metadata": {},
   "outputs": [],
   "source": [
    "model = keras.models.Sequential()\n",
    "model.add(keras.layers.Dense(64, activation=\"relu\",input_shape=X_treino.shape[1:]))\n",
    "model.add(keras.layers.Dense(32, activation=\"relu\"))\n",
    "model.add(keras.layers.Dense(4, activation=\"softmax\"))"
   ]
  },
  {
   "cell_type": "code",
   "execution_count": 31,
   "id": "121c9d6b",
   "metadata": {},
   "outputs": [
    {
     "name": "stdout",
     "output_type": "stream",
     "text": [
      "Model: \"sequential\"\n",
      "_________________________________________________________________\n",
      " Layer (type)                Output Shape              Param #   \n",
      "=================================================================\n",
      " dense (Dense)               (None, 64)                3840      \n",
      "                                                                 \n",
      " dense_1 (Dense)             (None, 32)                2080      \n",
      "                                                                 \n",
      " dense_2 (Dense)             (None, 4)                 132       \n",
      "                                                                 \n",
      "=================================================================\n",
      "Total params: 6,052\n",
      "Trainable params: 6,052\n",
      "Non-trainable params: 0\n",
      "_________________________________________________________________\n"
     ]
    }
   ],
   "source": [
    "model.summary()"
   ]
  },
  {
   "cell_type": "code",
   "execution_count": 32,
   "id": "09d7b90a",
   "metadata": {},
   "outputs": [],
   "source": [
    "# Para modelos de classificação com saída esparsa:    # para classificação com saída densa  # para classificação binária:     \n",
    "model.compile(loss='categorical_crossentropy', # usar categorical_crossentropy       # usar binary_crossentropy e mudar\n",
    "              optimizer=\"adam\",                        #                                     # a ativação da camada de saída\n",
    "              metrics=[\"accuracy\",tf.keras.metrics.Precision(), tf.keras.metrics.Recall()])                   #                                     # para sigmoid\n"
   ]
  },
  {
   "cell_type": "markdown",
   "id": "80d7f281",
   "metadata": {},
   "source": [
    "#### Treinamento do modelo"
   ]
  },
  {
   "cell_type": "code",
   "execution_count": 33,
   "id": "91b89601",
   "metadata": {},
   "outputs": [
    {
     "name": "stdout",
     "output_type": "stream",
     "text": [
      "Epoch 1/25\n",
      "4/4 [==============================] - 1s 126ms/step - loss: 1.4713 - accuracy: 0.2000 - precision: 0.0000e+00 - recall: 0.0000e+00 - val_loss: 1.4525 - val_accuracy: 0.3000 - val_precision: 0.0000e+00 - val_recall: 0.0000e+00\n",
      "Epoch 2/25\n",
      "4/4 [==============================] - 0s 5ms/step - loss: 1.4040 - accuracy: 0.2417 - precision: 0.0000e+00 - recall: 0.0000e+00 - val_loss: 1.4183 - val_accuracy: 0.3000 - val_precision: 0.0000e+00 - val_recall: 0.0000e+00\n",
      "Epoch 3/25\n",
      "4/4 [==============================] - 0s 5ms/step - loss: 1.3530 - accuracy: 0.2750 - precision: 0.0000e+00 - recall: 0.0000e+00 - val_loss: 1.3914 - val_accuracy: 0.3667 - val_precision: 0.0000e+00 - val_recall: 0.0000e+00\n",
      "Epoch 4/25\n",
      "4/4 [==============================] - 0s 4ms/step - loss: 1.3048 - accuracy: 0.3917 - precision: 0.0000e+00 - recall: 0.0000e+00 - val_loss: 1.3662 - val_accuracy: 0.3667 - val_precision: 0.0000e+00 - val_recall: 0.0000e+00\n",
      "Epoch 5/25\n",
      "4/4 [==============================] - 0s 5ms/step - loss: 1.2673 - accuracy: 0.4500 - precision: 0.0000e+00 - recall: 0.0000e+00 - val_loss: 1.3417 - val_accuracy: 0.4000 - val_precision: 0.0000e+00 - val_recall: 0.0000e+00\n",
      "Epoch 6/25\n",
      "4/4 [==============================] - 0s 5ms/step - loss: 1.2261 - accuracy: 0.5333 - precision: 0.5000 - recall: 0.0083 - val_loss: 1.3197 - val_accuracy: 0.4000 - val_precision: 0.0000e+00 - val_recall: 0.0000e+00\n",
      "Epoch 7/25\n",
      "4/4 [==============================] - 0s 5ms/step - loss: 1.1893 - accuracy: 0.5750 - precision: 0.5000 - recall: 0.0083 - val_loss: 1.2987 - val_accuracy: 0.4333 - val_precision: 0.0000e+00 - val_recall: 0.0000e+00\n",
      "Epoch 8/25\n",
      "4/4 [==============================] - 0s 5ms/step - loss: 1.1511 - accuracy: 0.6083 - precision: 0.7500 - recall: 0.0250 - val_loss: 1.2780 - val_accuracy: 0.4667 - val_precision: 0.3333 - val_recall: 0.0333\n",
      "Epoch 9/25\n",
      "4/4 [==============================] - 0s 5ms/step - loss: 1.1159 - accuracy: 0.6333 - precision: 0.7500 - recall: 0.0250 - val_loss: 1.2593 - val_accuracy: 0.5000 - val_precision: 0.3333 - val_recall: 0.0333\n",
      "Epoch 10/25\n",
      "4/4 [==============================] - 0s 5ms/step - loss: 1.0805 - accuracy: 0.6333 - precision: 0.8000 - recall: 0.0333 - val_loss: 1.2384 - val_accuracy: 0.5000 - val_precision: 0.3333 - val_recall: 0.0333\n",
      "Epoch 11/25\n",
      "4/4 [==============================] - 0s 4ms/step - loss: 1.0446 - accuracy: 0.6667 - precision: 0.7778 - recall: 0.0583 - val_loss: 1.2193 - val_accuracy: 0.5000 - val_precision: 0.5000 - val_recall: 0.0667\n",
      "Epoch 12/25\n",
      "4/4 [==============================] - 0s 5ms/step - loss: 1.0089 - accuracy: 0.6917 - precision: 0.8125 - recall: 0.1083 - val_loss: 1.2026 - val_accuracy: 0.5000 - val_precision: 0.4000 - val_recall: 0.0667\n",
      "Epoch 13/25\n",
      "4/4 [==============================] - 0s 5ms/step - loss: 0.9748 - accuracy: 0.6917 - precision: 0.8333 - recall: 0.1667 - val_loss: 1.1833 - val_accuracy: 0.4667 - val_precision: 0.5000 - val_recall: 0.1000\n",
      "Epoch 14/25\n",
      "4/4 [==============================] - 0s 4ms/step - loss: 0.9404 - accuracy: 0.7083 - precision: 0.8889 - recall: 0.2000 - val_loss: 1.1633 - val_accuracy: 0.4667 - val_precision: 0.5000 - val_recall: 0.1000\n",
      "Epoch 15/25\n",
      "4/4 [==============================] - 0s 5ms/step - loss: 0.9073 - accuracy: 0.7250 - precision: 0.8857 - recall: 0.2583 - val_loss: 1.1436 - val_accuracy: 0.5000 - val_precision: 0.5000 - val_recall: 0.1000\n",
      "Epoch 16/25\n",
      "4/4 [==============================] - 0s 5ms/step - loss: 0.8758 - accuracy: 0.7333 - precision: 0.8293 - recall: 0.2833 - val_loss: 1.1247 - val_accuracy: 0.5000 - val_precision: 0.6250 - val_recall: 0.1667\n",
      "Epoch 17/25\n",
      "4/4 [==============================] - 0s 5ms/step - loss: 0.8436 - accuracy: 0.7167 - precision: 0.8511 - recall: 0.3333 - val_loss: 1.1036 - val_accuracy: 0.5333 - val_precision: 0.7000 - val_recall: 0.2333\n",
      "Epoch 18/25\n",
      "4/4 [==============================] - 0s 4ms/step - loss: 0.8120 - accuracy: 0.7167 - precision: 0.8727 - recall: 0.4000 - val_loss: 1.0852 - val_accuracy: 0.5333 - val_precision: 0.6923 - val_recall: 0.3000\n",
      "Epoch 19/25\n",
      "4/4 [==============================] - 0s 5ms/step - loss: 0.7816 - accuracy: 0.7333 - precision: 0.8689 - recall: 0.4417 - val_loss: 1.0693 - val_accuracy: 0.5333 - val_precision: 0.6429 - val_recall: 0.3000\n",
      "Epoch 20/25\n",
      "4/4 [==============================] - 0s 5ms/step - loss: 0.7520 - accuracy: 0.7417 - precision: 0.8750 - recall: 0.4667 - val_loss: 1.0529 - val_accuracy: 0.5333 - val_precision: 0.6429 - val_recall: 0.3000\n",
      "Epoch 21/25\n",
      "4/4 [==============================] - 0s 5ms/step - loss: 0.7248 - accuracy: 0.7417 - precision: 0.8769 - recall: 0.4750 - val_loss: 1.0412 - val_accuracy: 0.5333 - val_precision: 0.6429 - val_recall: 0.3000\n",
      "Epoch 22/25\n",
      "4/4 [==============================] - 0s 5ms/step - loss: 0.6974 - accuracy: 0.7583 - precision: 0.8676 - recall: 0.4917 - val_loss: 1.0279 - val_accuracy: 0.5333 - val_precision: 0.6667 - val_recall: 0.3333\n",
      "Epoch 23/25\n",
      "4/4 [==============================] - 0s 5ms/step - loss: 0.6730 - accuracy: 0.7833 - precision: 0.8356 - recall: 0.5083 - val_loss: 1.0150 - val_accuracy: 0.5667 - val_precision: 0.6875 - val_recall: 0.3667\n",
      "Epoch 24/25\n",
      "4/4 [==============================] - 0s 5ms/step - loss: 0.6475 - accuracy: 0.7917 - precision: 0.8312 - recall: 0.5333 - val_loss: 1.0035 - val_accuracy: 0.5667 - val_precision: 0.7059 - val_recall: 0.4000\n",
      "Epoch 25/25\n",
      "4/4 [==============================] - 0s 5ms/step - loss: 0.6260 - accuracy: 0.8000 - precision: 0.8375 - recall: 0.5583 - val_loss: 0.9992 - val_accuracy: 0.5667 - val_precision: 0.6316 - val_recall: 0.4000\n"
     ]
    }
   ],
   "source": [
    "history = model.fit(X_treino, y_treino, epochs=25, validation_split=0.2)"
   ]
  },
  {
   "cell_type": "markdown",
   "id": "9efbb3db",
   "metadata": {},
   "source": [
    "#### Avaliação da evolução do treinamento"
   ]
  },
  {
   "cell_type": "code",
   "execution_count": 34,
   "id": "1369c7b4",
   "metadata": {},
   "outputs": [
    {
     "data": {
      "image/png": "[encoded data removed]",
      "text/plain": [
       "<Figure size 720x432 with 1 Axes>"
      ]
     },
     "metadata": {
      "needs_background": "light"
     },
     "output_type": "display_data"
    }
   ],
   "source": [
    "pd.DataFrame(history.history).plot(figsize=(10,6))\n",
    "plt.grid(True)\n",
    "plt.gca().set_ylim(0,1)\n",
    "plt.show()"
   ]
  },
  {
   "cell_type": "markdown",
   "id": "7b88d149",
   "metadata": {},
   "source": [
    "#### Avaliação do desempenho do modelo treinado"
   ]
  },
  {
   "cell_type": "code",
   "execution_count": 35,
   "id": "ed960dfb",
   "metadata": {},
   "outputs": [
    {
     "name": "stdout",
     "output_type": "stream",
     "text": [
      "1/1 [==============================] - 0s 216ms/step - loss: 1.0319 - accuracy: 0.5263 - precision: 0.6538 - recall: 0.4474\n"
     ]
    }
   ],
   "source": [
    "y_previsto_rna_proba = model.evaluate(test_dataset)"
   ]
  },
  {
   "cell_type": "code",
   "execution_count": 36,
   "id": "050417d0",
   "metadata": {},
   "outputs": [
    {
     "data": {
      "text/plain": [
       "array([1.03, 0.53, 0.65, 0.45])"
      ]
     },
     "execution_count": 36,
     "metadata": {},
     "output_type": "execute_result"
    }
   ],
   "source": [
    "np.round(y_previsto_rna_proba,decimals=2)"
   ]
  },
  {
   "cell_type": "code",
   "execution_count": null,
   "id": "d0932b03",
   "metadata": {},
   "outputs": [],
   "source": []
  },
  {
   "cell_type": "code",
   "execution_count": null,
   "id": "f03f4a90",
   "metadata": {},
   "outputs": [],
   "source": []
  }
 ],
 "metadata": {
  "kernelspec": {
   "display_name": "Python 3 (ipykernel)",
   "language": "python",
   "name": "python3"
  },
  "language_info": {
   "codemirror_mode": {
    "name": "ipython",
    "version": 3
   },
   "file_extension": ".py",
   "mimetype": "text/x-python",
   "name": "python",
   "nbconvert_exporter": "python",
   "pygments_lexer": "ipython3",
   "version": "3.9.12"
  }
 },
 "nbformat": 4,
 "nbformat_minor": 5
}
