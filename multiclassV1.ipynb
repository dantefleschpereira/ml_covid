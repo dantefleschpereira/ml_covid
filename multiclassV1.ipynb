{
 "cells": [
  {
   "cell_type": "code",
   "execution_count": 1,
   "id": "0a3204d1",
   "metadata": {
    "id": "0a3204d1"
   },
   "outputs": [],
   "source": [
    "import numpy as np\n",
    "import pandas as pd\n",
    "import matplotlib.pyplot as plt\n",
    "from sklearn.preprocessing import OrdinalEncoder\n",
    "pd.set_option('display.max_columns', None)"
   ]
  },
  {
   "cell_type": "markdown",
   "id": "cb29bc7e",
   "metadata": {
    "id": "cb29bc7e"
   },
   "source": [
    "#### Análise Exploratória de Dados"
   ]
  },
  {
   "cell_type": "code",
   "execution_count": 2,
   "id": "a167525e",
   "metadata": {
    "id": "a167525e"
   },
   "outputs": [],
   "source": [
    "df = pd.read_excel(r'dataset02.xlsx')"
   ]
  },
  {
   "cell_type": "code",
   "execution_count": 3,
   "id": "ff87e261",
   "metadata": {
    "colab": {
     "base_uri": "https://localhost:8080/",
     "height": 731
    },
    "id": "ff87e261",
    "outputId": "b36d64e3-106c-47db-d910-fee4ebb3aada"
   },
   "outputs": [
    {
     "data": {
      "text/html": [
       "<div>\n",
       "<style scoped>\n",
       "    .dataframe tbody tr th:only-of-type {\n",
       "        vertical-align: middle;\n",
       "    }\n",
       "\n",
       "    .dataframe tbody tr th {\n",
       "        vertical-align: top;\n",
       "    }\n",
       "\n",
       "    .dataframe thead th {\n",
       "        text-align: right;\n",
       "    }\n",
       "</style>\n",
       "<table border=\"1\" class=\"dataframe\">\n",
       "  <thead>\n",
       "    <tr style=\"text-align: right;\">\n",
       "      <th></th>\n",
       "      <th>idade</th>\n",
       "      <th>sexo</th>\n",
       "      <th>raca</th>\n",
       "      <th>tagabismo</th>\n",
       "      <th>comorbidade1</th>\n",
       "      <th>comorbidade2</th>\n",
       "      <th>comorbidade3</th>\n",
       "      <th>comorbidade4</th>\n",
       "      <th>trombo_na_internacao</th>\n",
       "      <th>desfecho</th>\n",
       "      <th>anti-inflamatorio1</th>\n",
       "      <th>anti-inflamatorio2</th>\n",
       "      <th>anti-inflamatorio3</th>\n",
       "      <th>anti-inflamatorio_previo</th>\n",
       "      <th>profilaxia_de_trombo1</th>\n",
       "      <th>profilaxia_de_trombo2</th>\n",
       "      <th>anticoagulante_previo</th>\n",
       "      <th>antibiotico1</th>\n",
       "      <th>antibiotico2</th>\n",
       "      <th>proteina c (mg/dl)</th>\n",
       "      <th>ferritina (ng/ml)</th>\n",
       "      <th>leucócitos ( /ul)</th>\n",
       "      <th>creatinina (mg/dl)</th>\n",
       "      <th>ureia(mg/dl)</th>\n",
       "      <th>d-dimeros (ng/ml)</th>\n",
       "      <th>reinfeccao</th>\n",
       "      <th>sintomas</th>\n",
       "    </tr>\n",
       "  </thead>\n",
       "  <tbody>\n",
       "    <tr>\n",
       "      <th>0</th>\n",
       "      <td>41</td>\n",
       "      <td>M</td>\n",
       "      <td>branca</td>\n",
       "      <td>nao</td>\n",
       "      <td>nenhuma</td>\n",
       "      <td>nenhuma</td>\n",
       "      <td>nenhum</td>\n",
       "      <td>nenhum</td>\n",
       "      <td>nenhum</td>\n",
       "      <td>fim_isolamento</td>\n",
       "      <td>nenhum</td>\n",
       "      <td>nenhum</td>\n",
       "      <td>nenhum</td>\n",
       "      <td>Nao</td>\n",
       "      <td>heparina 5000UI/0,25mL</td>\n",
       "      <td>nenhum</td>\n",
       "      <td>Sim</td>\n",
       "      <td>NaN</td>\n",
       "      <td>NaN</td>\n",
       "      <td>8.0</td>\n",
       "      <td>0</td>\n",
       "      <td>4830</td>\n",
       "      <td>0.76</td>\n",
       "      <td>36.0</td>\n",
       "      <td>0</td>\n",
       "      <td>nao</td>\n",
       "      <td>leve</td>\n",
       "    </tr>\n",
       "    <tr>\n",
       "      <th>1</th>\n",
       "      <td>77</td>\n",
       "      <td>F</td>\n",
       "      <td>branca</td>\n",
       "      <td>sim</td>\n",
       "      <td>HAS</td>\n",
       "      <td>nenhuma</td>\n",
       "      <td>nenhum</td>\n",
       "      <td>nenhum</td>\n",
       "      <td>nenhum</td>\n",
       "      <td>fim_isolamento</td>\n",
       "      <td>hidrocortisona 100mg</td>\n",
       "      <td>prednisona 20mg</td>\n",
       "      <td>nenhum</td>\n",
       "      <td>Nao</td>\n",
       "      <td>enonenhumaparina 40mg/0,4mL</td>\n",
       "      <td>nenhum</td>\n",
       "      <td>Sim</td>\n",
       "      <td>NaN</td>\n",
       "      <td>NaN</td>\n",
       "      <td>14.7</td>\n",
       "      <td>0</td>\n",
       "      <td>5280</td>\n",
       "      <td>0.82</td>\n",
       "      <td>31.0</td>\n",
       "      <td>0</td>\n",
       "      <td>nao</td>\n",
       "      <td>assintom</td>\n",
       "    </tr>\n",
       "    <tr>\n",
       "      <th>2</th>\n",
       "      <td>67</td>\n",
       "      <td>M</td>\n",
       "      <td>branca</td>\n",
       "      <td>previo</td>\n",
       "      <td>HAS</td>\n",
       "      <td>DM</td>\n",
       "      <td>nenhum</td>\n",
       "      <td>nenhum</td>\n",
       "      <td>nenhum</td>\n",
       "      <td>fim_isolamento</td>\n",
       "      <td>nenhum</td>\n",
       "      <td>nenhum</td>\n",
       "      <td>nenhum</td>\n",
       "      <td>Nao</td>\n",
       "      <td>heparina 5000UI/0,25mL</td>\n",
       "      <td>nenhum</td>\n",
       "      <td>Sim</td>\n",
       "      <td>NaN</td>\n",
       "      <td>NaN</td>\n",
       "      <td>0.0</td>\n",
       "      <td>0</td>\n",
       "      <td>8650</td>\n",
       "      <td>0.72</td>\n",
       "      <td>0.0</td>\n",
       "      <td>0</td>\n",
       "      <td>nao</td>\n",
       "      <td>leve</td>\n",
       "    </tr>\n",
       "    <tr>\n",
       "      <th>3</th>\n",
       "      <td>51</td>\n",
       "      <td>M</td>\n",
       "      <td>branca</td>\n",
       "      <td>nao</td>\n",
       "      <td>HAS</td>\n",
       "      <td>renal-hd</td>\n",
       "      <td>nenhum</td>\n",
       "      <td>nenhum</td>\n",
       "      <td>nenhum</td>\n",
       "      <td>alta</td>\n",
       "      <td>prednisona 20mg</td>\n",
       "      <td>nenhum</td>\n",
       "      <td>nenhum</td>\n",
       "      <td>Sim</td>\n",
       "      <td>nenhum</td>\n",
       "      <td>nenhum</td>\n",
       "      <td>Nao</td>\n",
       "      <td>NaN</td>\n",
       "      <td>NaN</td>\n",
       "      <td>6.2</td>\n",
       "      <td>0</td>\n",
       "      <td>9590</td>\n",
       "      <td>0.00</td>\n",
       "      <td>142.0</td>\n",
       "      <td>0</td>\n",
       "      <td>nao</td>\n",
       "      <td>leve</td>\n",
       "    </tr>\n",
       "    <tr>\n",
       "      <th>4</th>\n",
       "      <td>51</td>\n",
       "      <td>M</td>\n",
       "      <td>branca</td>\n",
       "      <td>nao</td>\n",
       "      <td>HAS</td>\n",
       "      <td>renal-hd</td>\n",
       "      <td>nenhum</td>\n",
       "      <td>nenhum</td>\n",
       "      <td>nenhum</td>\n",
       "      <td>alta</td>\n",
       "      <td>denenhumametasona 4mg/mL 2,5mL</td>\n",
       "      <td>hidrocortisona 100mg</td>\n",
       "      <td>prednisona 20mg</td>\n",
       "      <td>Nao</td>\n",
       "      <td>nenhum</td>\n",
       "      <td>nenhum</td>\n",
       "      <td>Nao</td>\n",
       "      <td>NaN</td>\n",
       "      <td>NaN</td>\n",
       "      <td>32.0</td>\n",
       "      <td>0</td>\n",
       "      <td>4230</td>\n",
       "      <td>15.40</td>\n",
       "      <td>158.0</td>\n",
       "      <td>1535</td>\n",
       "      <td>sim</td>\n",
       "      <td>assintom</td>\n",
       "    </tr>\n",
       "    <tr>\n",
       "      <th>5</th>\n",
       "      <td>64</td>\n",
       "      <td>F</td>\n",
       "      <td>branca</td>\n",
       "      <td>nao</td>\n",
       "      <td>HAS</td>\n",
       "      <td>nenhuma</td>\n",
       "      <td>nenhum</td>\n",
       "      <td>nenhum</td>\n",
       "      <td>nenhum</td>\n",
       "      <td>alta</td>\n",
       "      <td>nenhum</td>\n",
       "      <td>nenhum</td>\n",
       "      <td>nenhum</td>\n",
       "      <td>Nao</td>\n",
       "      <td>heparina 5000UI/0,25mL</td>\n",
       "      <td>nenhum</td>\n",
       "      <td>Sim</td>\n",
       "      <td>NaN</td>\n",
       "      <td>NaN</td>\n",
       "      <td>4.1</td>\n",
       "      <td>1530</td>\n",
       "      <td>6430</td>\n",
       "      <td>1.00</td>\n",
       "      <td>52.0</td>\n",
       "      <td>0</td>\n",
       "      <td>nao</td>\n",
       "      <td>leve</td>\n",
       "    </tr>\n",
       "    <tr>\n",
       "      <th>6</th>\n",
       "      <td>38</td>\n",
       "      <td>M</td>\n",
       "      <td>preta</td>\n",
       "      <td>nao</td>\n",
       "      <td>renal-hd</td>\n",
       "      <td>nenhuma</td>\n",
       "      <td>nenhum</td>\n",
       "      <td>nenhum</td>\n",
       "      <td>nenhum</td>\n",
       "      <td>alta</td>\n",
       "      <td>hidrocortisona 100mg</td>\n",
       "      <td>prednisona 20mg</td>\n",
       "      <td>nenhum</td>\n",
       "      <td>Sim</td>\n",
       "      <td>heparina 5000UI/0,25mL</td>\n",
       "      <td>nenhum</td>\n",
       "      <td>Nao</td>\n",
       "      <td>NaN</td>\n",
       "      <td>NaN</td>\n",
       "      <td>19.3</td>\n",
       "      <td>2380</td>\n",
       "      <td>1260</td>\n",
       "      <td>7.35</td>\n",
       "      <td>191.0</td>\n",
       "      <td>1021</td>\n",
       "      <td>nao</td>\n",
       "      <td>leve</td>\n",
       "    </tr>\n",
       "    <tr>\n",
       "      <th>7</th>\n",
       "      <td>37</td>\n",
       "      <td>M</td>\n",
       "      <td>branca</td>\n",
       "      <td>sim</td>\n",
       "      <td>HIV</td>\n",
       "      <td>oncologico</td>\n",
       "      <td>nenhum</td>\n",
       "      <td>nenhum</td>\n",
       "      <td>TVP</td>\n",
       "      <td>fim_isolamento</td>\n",
       "      <td>tiamina 300mg</td>\n",
       "      <td>piridonenhumina 40mg</td>\n",
       "      <td>nenhum</td>\n",
       "      <td>Nao</td>\n",
       "      <td>enonenhumaparina 40mg/0,4mL</td>\n",
       "      <td>nenhum</td>\n",
       "      <td>Sim</td>\n",
       "      <td>NaN</td>\n",
       "      <td>NaN</td>\n",
       "      <td>4.8</td>\n",
       "      <td>0</td>\n",
       "      <td>4410</td>\n",
       "      <td>0.68</td>\n",
       "      <td>31.0</td>\n",
       "      <td>437</td>\n",
       "      <td>nao</td>\n",
       "      <td>leve</td>\n",
       "    </tr>\n",
       "    <tr>\n",
       "      <th>8</th>\n",
       "      <td>82</td>\n",
       "      <td>F</td>\n",
       "      <td>branca</td>\n",
       "      <td>nao</td>\n",
       "      <td>HAS</td>\n",
       "      <td>oncologico</td>\n",
       "      <td>nenhum</td>\n",
       "      <td>nenhum</td>\n",
       "      <td>nenhum</td>\n",
       "      <td>obito</td>\n",
       "      <td>nenhum</td>\n",
       "      <td>nenhum</td>\n",
       "      <td>nenhum</td>\n",
       "      <td>Nao</td>\n",
       "      <td>enonenhumaparina 40mg/0,4mL</td>\n",
       "      <td>nenhum</td>\n",
       "      <td>Sim</td>\n",
       "      <td>NaN</td>\n",
       "      <td>NaN</td>\n",
       "      <td>0.0</td>\n",
       "      <td>0</td>\n",
       "      <td>0</td>\n",
       "      <td>0.00</td>\n",
       "      <td>0.0</td>\n",
       "      <td>0</td>\n",
       "      <td>nao</td>\n",
       "      <td>assintom</td>\n",
       "    </tr>\n",
       "    <tr>\n",
       "      <th>9</th>\n",
       "      <td>45</td>\n",
       "      <td>M</td>\n",
       "      <td>branca</td>\n",
       "      <td>nao</td>\n",
       "      <td>nenhuma</td>\n",
       "      <td>nenhuma</td>\n",
       "      <td>nenhum</td>\n",
       "      <td>nenhum</td>\n",
       "      <td>ambos</td>\n",
       "      <td>fim_isolamento</td>\n",
       "      <td>nenhum</td>\n",
       "      <td>nenhum</td>\n",
       "      <td>nenhum</td>\n",
       "      <td>Nao</td>\n",
       "      <td>enonenhumaparina 40mg/0,4mL</td>\n",
       "      <td>enonenhumaparina 60mg/0,6mL</td>\n",
       "      <td>Sim</td>\n",
       "      <td>NaN</td>\n",
       "      <td>NaN</td>\n",
       "      <td>17.2</td>\n",
       "      <td>366</td>\n",
       "      <td>2790</td>\n",
       "      <td>1.08</td>\n",
       "      <td>22.0</td>\n",
       "      <td>0</td>\n",
       "      <td>nao</td>\n",
       "      <td>leve</td>\n",
       "    </tr>\n",
       "    <tr>\n",
       "      <th>10</th>\n",
       "      <td>63</td>\n",
       "      <td>M</td>\n",
       "      <td>branca</td>\n",
       "      <td>previo</td>\n",
       "      <td>HAS</td>\n",
       "      <td>DM</td>\n",
       "      <td>oncologica</td>\n",
       "      <td>nenhum</td>\n",
       "      <td>nenhum</td>\n",
       "      <td>UTI</td>\n",
       "      <td>prednisona 20mg</td>\n",
       "      <td>nenhum</td>\n",
       "      <td>nenhum</td>\n",
       "      <td>Sim</td>\n",
       "      <td>heparina 5000UI/0,25mL</td>\n",
       "      <td>nenhum</td>\n",
       "      <td>Sim</td>\n",
       "      <td>NaN</td>\n",
       "      <td>NaN</td>\n",
       "      <td>8.8</td>\n",
       "      <td>0</td>\n",
       "      <td>4480</td>\n",
       "      <td>1.33</td>\n",
       "      <td>61.0</td>\n",
       "      <td>3760</td>\n",
       "      <td>nao</td>\n",
       "      <td>grave</td>\n",
       "    </tr>\n",
       "    <tr>\n",
       "      <th>11</th>\n",
       "      <td>79</td>\n",
       "      <td>M</td>\n",
       "      <td>preta</td>\n",
       "      <td>nao</td>\n",
       "      <td>HAS</td>\n",
       "      <td>nenhuma</td>\n",
       "      <td>nenhum</td>\n",
       "      <td>nenhum</td>\n",
       "      <td>nenhum</td>\n",
       "      <td>alta</td>\n",
       "      <td>nenhum</td>\n",
       "      <td>nenhum</td>\n",
       "      <td>nenhum</td>\n",
       "      <td>Nao</td>\n",
       "      <td>heparina 5000UI/0,25mL</td>\n",
       "      <td>nenhum</td>\n",
       "      <td>Sim</td>\n",
       "      <td>NaN</td>\n",
       "      <td>NaN</td>\n",
       "      <td>0.0</td>\n",
       "      <td>0</td>\n",
       "      <td>11150</td>\n",
       "      <td>0.89</td>\n",
       "      <td>53.0</td>\n",
       "      <td>0</td>\n",
       "      <td>nao</td>\n",
       "      <td>assintom</td>\n",
       "    </tr>\n",
       "    <tr>\n",
       "      <th>12</th>\n",
       "      <td>79</td>\n",
       "      <td>M</td>\n",
       "      <td>branca</td>\n",
       "      <td>nao</td>\n",
       "      <td>HAS</td>\n",
       "      <td>nenhuma</td>\n",
       "      <td>nenhum</td>\n",
       "      <td>nenhum</td>\n",
       "      <td>nenhum</td>\n",
       "      <td>obito</td>\n",
       "      <td>denenhumametasona 4mg/mL 2,5mL</td>\n",
       "      <td>nenhum</td>\n",
       "      <td>nenhum</td>\n",
       "      <td>Nao</td>\n",
       "      <td>heparina 5000UI/0,25mL</td>\n",
       "      <td>nenhum</td>\n",
       "      <td>Nao</td>\n",
       "      <td>NaN</td>\n",
       "      <td>NaN</td>\n",
       "      <td>21.1</td>\n",
       "      <td>0</td>\n",
       "      <td>10260</td>\n",
       "      <td>1.09</td>\n",
       "      <td>62.0</td>\n",
       "      <td>1657</td>\n",
       "      <td>sim</td>\n",
       "      <td>moderado</td>\n",
       "    </tr>\n",
       "    <tr>\n",
       "      <th>13</th>\n",
       "      <td>52</td>\n",
       "      <td>F</td>\n",
       "      <td>preta</td>\n",
       "      <td>nao</td>\n",
       "      <td>DM</td>\n",
       "      <td>nenhuma</td>\n",
       "      <td>nenhum</td>\n",
       "      <td>nenhum</td>\n",
       "      <td>TEP</td>\n",
       "      <td>alta</td>\n",
       "      <td>nenhum</td>\n",
       "      <td>nenhum</td>\n",
       "      <td>nenhum</td>\n",
       "      <td>Nao</td>\n",
       "      <td>heparina 5000UI/0,25mL</td>\n",
       "      <td>nenhum</td>\n",
       "      <td>Sim</td>\n",
       "      <td>NaN</td>\n",
       "      <td>NaN</td>\n",
       "      <td>2.1</td>\n",
       "      <td>0</td>\n",
       "      <td>4510</td>\n",
       "      <td>1.12</td>\n",
       "      <td>22.0</td>\n",
       "      <td>2466</td>\n",
       "      <td>nao</td>\n",
       "      <td>leve</td>\n",
       "    </tr>\n",
       "    <tr>\n",
       "      <th>14</th>\n",
       "      <td>30</td>\n",
       "      <td>M</td>\n",
       "      <td>preta</td>\n",
       "      <td>sim</td>\n",
       "      <td>HIV</td>\n",
       "      <td>nenhuma</td>\n",
       "      <td>nenhum</td>\n",
       "      <td>nenhum</td>\n",
       "      <td>nenhum</td>\n",
       "      <td>alta</td>\n",
       "      <td>piridonenhumina 40mg</td>\n",
       "      <td>nenhum</td>\n",
       "      <td>nenhum</td>\n",
       "      <td>Sim</td>\n",
       "      <td>nenhum</td>\n",
       "      <td>nenhum</td>\n",
       "      <td>Nao</td>\n",
       "      <td>NaN</td>\n",
       "      <td>NaN</td>\n",
       "      <td>5.1</td>\n",
       "      <td>0</td>\n",
       "      <td>2560</td>\n",
       "      <td>1.09</td>\n",
       "      <td>22.0</td>\n",
       "      <td>0</td>\n",
       "      <td>sim</td>\n",
       "      <td>leve</td>\n",
       "    </tr>\n",
       "  </tbody>\n",
       "</table>\n",
       "</div>"
      ],
      "text/plain": [
       "    idade sexo    raca tagabismo comorbidade1 comorbidade2 comorbidade3  \\\n",
       "0      41    M  branca       nao      nenhuma      nenhuma       nenhum   \n",
       "1      77    F  branca       sim          HAS      nenhuma       nenhum   \n",
       "2      67    M  branca    previo          HAS           DM       nenhum   \n",
       "3      51    M  branca       nao          HAS     renal-hd       nenhum   \n",
       "4      51    M  branca       nao          HAS     renal-hd       nenhum   \n",
       "5      64    F  branca       nao          HAS      nenhuma       nenhum   \n",
       "6      38    M   preta       nao     renal-hd      nenhuma       nenhum   \n",
       "7      37    M  branca       sim          HIV   oncologico       nenhum   \n",
       "8      82    F  branca       nao          HAS   oncologico       nenhum   \n",
       "9      45    M  branca       nao      nenhuma      nenhuma       nenhum   \n",
       "10     63    M  branca    previo          HAS           DM   oncologica   \n",
       "11     79    M   preta       nao          HAS      nenhuma       nenhum   \n",
       "12     79    M  branca       nao          HAS      nenhuma       nenhum   \n",
       "13     52    F   preta       nao           DM      nenhuma       nenhum   \n",
       "14     30    M   preta       sim          HIV      nenhuma       nenhum   \n",
       "\n",
       "   comorbidade4 trombo_na_internacao        desfecho  \\\n",
       "0        nenhum               nenhum  fim_isolamento   \n",
       "1        nenhum               nenhum  fim_isolamento   \n",
       "2        nenhum               nenhum  fim_isolamento   \n",
       "3        nenhum               nenhum            alta   \n",
       "4        nenhum               nenhum            alta   \n",
       "5        nenhum               nenhum            alta   \n",
       "6        nenhum               nenhum            alta   \n",
       "7        nenhum                  TVP  fim_isolamento   \n",
       "8        nenhum               nenhum           obito   \n",
       "9        nenhum                ambos  fim_isolamento   \n",
       "10       nenhum               nenhum             UTI   \n",
       "11       nenhum               nenhum            alta   \n",
       "12       nenhum               nenhum           obito   \n",
       "13       nenhum                  TEP            alta   \n",
       "14       nenhum               nenhum            alta   \n",
       "\n",
       "                anti-inflamatorio1    anti-inflamatorio2 anti-inflamatorio3  \\\n",
       "0                           nenhum                nenhum             nenhum   \n",
       "1             hidrocortisona 100mg       prednisona 20mg             nenhum   \n",
       "2                           nenhum                nenhum             nenhum   \n",
       "3                  prednisona 20mg                nenhum             nenhum   \n",
       "4   denenhumametasona 4mg/mL 2,5mL  hidrocortisona 100mg    prednisona 20mg   \n",
       "5                           nenhum                nenhum             nenhum   \n",
       "6             hidrocortisona 100mg       prednisona 20mg             nenhum   \n",
       "7                    tiamina 300mg  piridonenhumina 40mg             nenhum   \n",
       "8                           nenhum                nenhum             nenhum   \n",
       "9                           nenhum                nenhum             nenhum   \n",
       "10                 prednisona 20mg                nenhum             nenhum   \n",
       "11                          nenhum                nenhum             nenhum   \n",
       "12  denenhumametasona 4mg/mL 2,5mL                nenhum             nenhum   \n",
       "13                          nenhum                nenhum             nenhum   \n",
       "14            piridonenhumina 40mg                nenhum             nenhum   \n",
       "\n",
       "   anti-inflamatorio_previo        profilaxia_de_trombo1  \\\n",
       "0                       Nao       heparina 5000UI/0,25mL   \n",
       "1                       Nao  enonenhumaparina 40mg/0,4mL   \n",
       "2                       Nao       heparina 5000UI/0,25mL   \n",
       "3                       Sim                       nenhum   \n",
       "4                       Nao                       nenhum   \n",
       "5                       Nao       heparina 5000UI/0,25mL   \n",
       "6                       Sim       heparina 5000UI/0,25mL   \n",
       "7                       Nao  enonenhumaparina 40mg/0,4mL   \n",
       "8                       Nao  enonenhumaparina 40mg/0,4mL   \n",
       "9                       Nao  enonenhumaparina 40mg/0,4mL   \n",
       "10                      Sim       heparina 5000UI/0,25mL   \n",
       "11                      Nao       heparina 5000UI/0,25mL   \n",
       "12                      Nao       heparina 5000UI/0,25mL   \n",
       "13                      Nao       heparina 5000UI/0,25mL   \n",
       "14                      Sim                       nenhum   \n",
       "\n",
       "          profilaxia_de_trombo2 anticoagulante_previo antibiotico1  \\\n",
       "0                        nenhum                   Sim          NaN   \n",
       "1                        nenhum                   Sim          NaN   \n",
       "2                        nenhum                   Sim          NaN   \n",
       "3                        nenhum                   Nao          NaN   \n",
       "4                        nenhum                   Nao          NaN   \n",
       "5                        nenhum                   Sim          NaN   \n",
       "6                        nenhum                   Nao          NaN   \n",
       "7                        nenhum                   Sim          NaN   \n",
       "8                        nenhum                   Sim          NaN   \n",
       "9   enonenhumaparina 60mg/0,6mL                   Sim          NaN   \n",
       "10                       nenhum                   Sim          NaN   \n",
       "11                       nenhum                   Sim          NaN   \n",
       "12                       nenhum                   Nao          NaN   \n",
       "13                       nenhum                   Sim          NaN   \n",
       "14                       nenhum                   Nao          NaN   \n",
       "\n",
       "   antibiotico2  proteina c (mg/dl)  ferritina (ng/ml)  leucócitos ( /ul)  \\\n",
       "0           NaN                 8.0                  0               4830   \n",
       "1           NaN                14.7                  0               5280   \n",
       "2           NaN                 0.0                  0               8650   \n",
       "3           NaN                 6.2                  0               9590   \n",
       "4           NaN                32.0                  0               4230   \n",
       "5           NaN                 4.1               1530               6430   \n",
       "6           NaN                19.3               2380               1260   \n",
       "7           NaN                 4.8                  0               4410   \n",
       "8           NaN                 0.0                  0                  0   \n",
       "9           NaN                17.2                366               2790   \n",
       "10          NaN                 8.8                  0               4480   \n",
       "11          NaN                 0.0                  0              11150   \n",
       "12          NaN                21.1                  0              10260   \n",
       "13          NaN                 2.1                  0               4510   \n",
       "14          NaN                 5.1                  0               2560   \n",
       "\n",
       "    creatinina (mg/dl)  ureia(mg/dl)  d-dimeros (ng/ml) reinfeccao  sintomas  \n",
       "0                 0.76          36.0                  0        nao      leve  \n",
       "1                 0.82          31.0                  0        nao  assintom  \n",
       "2                 0.72           0.0                  0        nao      leve  \n",
       "3                 0.00         142.0                  0        nao      leve  \n",
       "4                15.40         158.0               1535        sim  assintom  \n",
       "5                 1.00          52.0                  0        nao      leve  \n",
       "6                 7.35         191.0               1021        nao      leve  \n",
       "7                 0.68          31.0                437        nao      leve  \n",
       "8                 0.00           0.0                  0        nao  assintom  \n",
       "9                 1.08          22.0                  0        nao      leve  \n",
       "10                1.33          61.0               3760        nao     grave  \n",
       "11                0.89          53.0                  0        nao  assintom  \n",
       "12                1.09          62.0               1657        sim  moderado  \n",
       "13                1.12          22.0               2466        nao      leve  \n",
       "14                1.09          22.0                  0        sim      leve  "
      ]
     },
     "execution_count": 3,
     "metadata": {},
     "output_type": "execute_result"
    }
   ],
   "source": [
    "df.head(15)"
   ]
  },
  {
   "cell_type": "markdown",
   "id": "c0a4f8a3",
   "metadata": {
    "id": "c0a4f8a3"
   },
   "source": [
    "Valores Vazios\n",
    "- Deletar linhas/colunas vazias\n",
    "- Deletar linhas que possuem valores vazios\n",
    "- Preencher valores vazios (último valor)"
   ]
  },
  {
   "cell_type": "code",
   "execution_count": 4,
   "id": "90b1d202",
   "metadata": {
    "id": "90b1d202"
   },
   "outputs": [],
   "source": [
    "# deletar linhas e colunas completamente vazias\n",
    "# df = df.dropna(how='all', axis=1)\n",
    "\n",
    "# deletar linhas que possuem pelo menos 1 valor vazio\n",
    "# df = df.dropna()"
   ]
  },
  {
   "cell_type": "code",
   "execution_count": 5,
   "id": "x3eANe71vMOI",
   "metadata": {
    "colab": {
     "base_uri": "https://localhost:8080/",
     "height": 528
    },
    "id": "x3eANe71vMOI",
    "outputId": "0ccaef89-3db1-4f53-97c0-5e10a650c463"
   },
   "outputs": [
    {
     "name": "stdout",
     "output_type": "stream",
     "text": [
      "['DM' 'HAS' 'HIV' 'ICC' 'nenhuma' 'obesidade' 'oncologica' 'renal-hd']\n",
      "['DM' 'HAS' 'HIV' 'ICC' 'nenhuma' 'obesidade' 'oncologica' 'renal-hd']\n",
      "[[0 0 0 ... 0 0 0]\n",
      " [0 1 0 ... 0 0 0]\n",
      " [1 1 0 ... 0 0 0]\n",
      " ...\n",
      " [1 1 0 ... 0 0 0]\n",
      " [0 1 0 ... 0 0 0]\n",
      " [1 1 0 ... 0 0 0]]\n"
     ]
    }
   ],
   "source": [
    "# primeiro resolve as comorbidades, antes do preprocessamento automatico abaixo\n",
    "from sklearn.preprocessing import LabelBinarizer\n",
    "com1=df.pop('comorbidade1')\n",
    "lb_comorbidade1 = LabelBinarizer()\n",
    "lb_comorbidade1.fit(['DM','HAS','ICC','oncologica','renal-hd','HIV','obesidade','nenhuma'])\n",
    "com1bin = lb_comorbidade1.transform(com1.values)\n",
    "print(lb_comorbidade1.classes_)\n",
    "com2=df.pop('comorbidade2')\n",
    "lb_comorbidade2 = LabelBinarizer()\n",
    "lb_comorbidade2.fit(['DM','HAS','ICC','oncologica','renal-hd','HIV','obesidade','nenhuma'])\n",
    "print(lb_comorbidade2.classes_)\n",
    "com2bin = lb_comorbidade2.transform(com2.values)\n",
    "com3=df.pop('comorbidade3')\n",
    "lb_comorbidade3 = LabelBinarizer()\n",
    "lb_comorbidade3.fit(['DM','HAS','ICC','oncologica','renal-hd','HIV','obesidade','nenhuma'])\n",
    "com3bin = lb_comorbidade3.transform(com3.values)\n",
    "com4=df.pop('comorbidade4')\n",
    "lb_comorbidade4 = LabelBinarizer()\n",
    "lb_comorbidade4.fit(['DM','HAS','ICC','oncologica','renal-hd','HIV','obesidade','nenhuma'])\n",
    "com4bin = lb_comorbidade4.transform(com4.values)\n",
    "arr = np.sum([com1bin, com2bin, com3bin, com4bin],0,keepdims=True) #soma\n",
    "arr = (np.delete(arr, 4, axis=2)) #Delete\n",
    "#df['comorbidades']=arr\n",
    "#df.insert(3, \"Comorbidade\", arr, True)\n",
    "mat = np.matrix(arr)\n",
    "print(mat)\n",
    "df_new = pd.concat([df, pd.DataFrame(mat,columns=['com1','com2','com3','com4','com5','com6','com7'])], axis=1)\n",
    "df=df_new"
   ]
  },
  {
   "cell_type": "code",
   "execution_count": 6,
   "id": "11fdb482",
   "metadata": {
    "id": "11fdb482"
   },
   "outputs": [],
   "source": [
    "# preencher com o último valor\n",
    "df = df.ffill()"
   ]
  },
  {
   "cell_type": "code",
   "execution_count": 7,
   "id": "0dd4f36c",
   "metadata": {
    "id": "0dd4f36c"
   },
   "outputs": [],
   "source": [
    "# deletar colunas incompletas\n",
    "df = df.drop(columns='antibiotico1')\n",
    "df = df.drop(columns='antibiotico2')\n"
   ]
  },
  {
   "cell_type": "code",
   "execution_count": 8,
   "id": "2e6df69e",
   "metadata": {
    "colab": {
     "base_uri": "https://localhost:8080/"
    },
    "id": "2e6df69e",
    "outputId": "e08e7bdc-d423-4207-a186-82f958e24dcb"
   },
   "outputs": [
    {
     "name": "stdout",
     "output_type": "stream",
     "text": [
      "<class 'pandas.core.frame.DataFrame'>\n",
      "RangeIndex: 429 entries, 0 to 428\n",
      "Data columns (total 28 columns):\n",
      " #   Column                    Non-Null Count  Dtype  \n",
      "---  ------                    --------------  -----  \n",
      " 0   idade                     429 non-null    int64  \n",
      " 1   sexo                      429 non-null    object \n",
      " 2   raca                      429 non-null    object \n",
      " 3   tagabismo                 429 non-null    object \n",
      " 4   trombo_na_internacao      429 non-null    object \n",
      " 5   desfecho                  429 non-null    object \n",
      " 6   anti-inflamatorio1        429 non-null    object \n",
      " 7   anti-inflamatorio2        429 non-null    object \n",
      " 8   anti-inflamatorio3        429 non-null    object \n",
      " 9   anti-inflamatorio_previo  429 non-null    object \n",
      " 10  profilaxia_de_trombo1     429 non-null    object \n",
      " 11  profilaxia_de_trombo2     429 non-null    object \n",
      " 12  anticoagulante_previo     429 non-null    object \n",
      " 13  proteina c (mg/dl)        429 non-null    float64\n",
      " 14  ferritina (ng/ml)         429 non-null    int64  \n",
      " 15  leucócitos ( /ul)         429 non-null    int64  \n",
      " 16  creatinina (mg/dl)        429 non-null    float64\n",
      " 17  ureia(mg/dl)              429 non-null    float64\n",
      " 18  d-dimeros (ng/ml)         429 non-null    int64  \n",
      " 19  reinfeccao                429 non-null    object \n",
      " 20  sintomas                  429 non-null    object \n",
      " 21  com1                      429 non-null    int32  \n",
      " 22  com2                      429 non-null    int32  \n",
      " 23  com3                      429 non-null    int32  \n",
      " 24  com4                      429 non-null    int32  \n",
      " 25  com5                      429 non-null    int32  \n",
      " 26  com6                      429 non-null    int32  \n",
      " 27  com7                      429 non-null    int32  \n",
      "dtypes: float64(3), int32(7), int64(4), object(14)\n",
      "memory usage: 82.2+ KB\n"
     ]
    }
   ],
   "source": [
    "df.info()"
   ]
  },
  {
   "cell_type": "code",
   "execution_count": 9,
   "id": "f93d9b8a",
   "metadata": {
    "colab": {
     "base_uri": "https://localhost:8080/"
    },
    "id": "f93d9b8a",
    "outputId": "5abd76ab-4700-4fac-926a-5cf5edc7316a"
   },
   "outputs": [
    {
     "data": {
      "text/plain": [
       "0      False\n",
       "1      False\n",
       "2      False\n",
       "3      False\n",
       "4      False\n",
       "       ...  \n",
       "424    False\n",
       "425    False\n",
       "426    False\n",
       "427    False\n",
       "428    False\n",
       "Name: desfecho, Length: 429, dtype: bool"
      ]
     },
     "execution_count": 9,
     "metadata": {},
     "output_type": "execute_result"
    }
   ],
   "source": [
    "df['desfecho']==1  # DESFECHO (1-alta/ 2-UTI/ 3-óbito/4-fim isolamento/5-transf.)"
   ]
  },
  {
   "cell_type": "markdown",
   "id": "09c756e8",
   "metadata": {
    "id": "09c756e8"
   },
   "source": [
    "#### Atributos escolhidos: "
   ]
  },
  {
   "cell_type": "code",
   "execution_count": 10,
   "id": "a6aad5ab",
   "metadata": {
    "id": "a6aad5ab"
   },
   "outputs": [],
   "source": [
    "nomes_atributos_numericos = ['idade','proteina c (mg/dl)','ferritina (ng/ml)','leucócitos ( /ul)','creatinina (mg/dl)','ureia(mg/dl)','d-dimeros (ng/ml)']"
   ]
  },
  {
   "cell_type": "code",
   "execution_count": 11,
   "id": "116cd9c9",
   "metadata": {
    "colab": {
     "base_uri": "https://localhost:8080/"
    },
    "id": "116cd9c9",
    "outputId": "c7235db7-78d1-4b1d-c3a5-a183bd65d715"
   },
   "outputs": [
    {
     "data": {
      "text/plain": [
       "['idade',\n",
       " 'proteina c (mg/dl)',\n",
       " 'ferritina (ng/ml)',\n",
       " 'leucócitos ( /ul)',\n",
       " 'creatinina (mg/dl)',\n",
       " 'ureia(mg/dl)',\n",
       " 'd-dimeros (ng/ml)']"
      ]
     },
     "execution_count": 11,
     "metadata": {},
     "output_type": "execute_result"
    }
   ],
   "source": [
    "nomes_atributos_numericos"
   ]
  },
  {
   "cell_type": "code",
   "execution_count": 12,
   "id": "5a1cefb6",
   "metadata": {
    "id": "5a1cefb6"
   },
   "outputs": [],
   "source": [
    "nomes_atributos_categoricos = ['sexo','sintomas','raca','tagabismo',\n",
    "#                               'comorbidade1','comorbidade2','comorbidade3','comorbidade4',\n",
    "                               'trombo_na_internacao','sintomas','anti-inflamatorio_previo','anticoagulante_previo','reinfeccao']"
   ]
  },
  {
   "cell_type": "code",
   "execution_count": 13,
   "id": "755cf5f9",
   "metadata": {
    "colab": {
     "base_uri": "https://localhost:8080/"
    },
    "id": "755cf5f9",
    "outputId": "fc72af6a-2d35-4c40-9295-0be6500124c7"
   },
   "outputs": [
    {
     "data": {
      "text/plain": [
       "['sexo',\n",
       " 'sintomas',\n",
       " 'raca',\n",
       " 'tagabismo',\n",
       " 'trombo_na_internacao',\n",
       " 'sintomas',\n",
       " 'anti-inflamatorio_previo',\n",
       " 'anticoagulante_previo',\n",
       " 'reinfeccao']"
      ]
     },
     "execution_count": 13,
     "metadata": {},
     "output_type": "execute_result"
    }
   ],
   "source": [
    "nomes_atributos_categoricos"
   ]
  },
  {
   "cell_type": "code",
   "execution_count": 14,
   "id": "6f8fe8d6",
   "metadata": {
    "colab": {
     "base_uri": "https://localhost:8080/"
    },
    "id": "6f8fe8d6",
    "outputId": "84a76be1-4bf2-4843-f3dd-0c918be5969e"
   },
   "outputs": [
    {
     "data": {
      "text/plain": [
       "alta              243\n",
       "UTI                89\n",
       "fim_isolamento     47\n",
       "obito              47\n",
       "transf              3\n",
       "Name: desfecho, dtype: int64"
      ]
     },
     "execution_count": 14,
     "metadata": {},
     "output_type": "execute_result"
    }
   ],
   "source": [
    "df['desfecho'].value_counts()"
   ]
  },
  {
   "cell_type": "code",
   "execution_count": 15,
   "id": "b4fdbab9",
   "metadata": {
    "id": "b4fdbab9"
   },
   "outputs": [],
   "source": [
    "df = df.drop(df[df['desfecho'] == 'transf'].index)"
   ]
  },
  {
   "cell_type": "code",
   "execution_count": 16,
   "id": "127dd369",
   "metadata": {
    "colab": {
     "base_uri": "https://localhost:8080/"
    },
    "id": "127dd369",
    "outputId": "eafcd1d4-e847-4b2a-be55-fecddce84a36"
   },
   "outputs": [
    {
     "name": "stdout",
     "output_type": "stream",
     "text": [
      "47\n",
      "              idade sexo    raca tagabismo trombo_na_internacao desfecho  \\\n",
      "desfecho                                                                   \n",
      "UTI      187     42    M  branca       nao               nenhum      UTI   \n",
      "         414     60    M  branca       nao               nenhum      UTI   \n",
      "         395     34    F  branca       nao               nenhum      UTI   \n",
      "         24      92    F   parda       nao               nenhum      UTI   \n",
      "         125     79    F  branca       nao               nenhum      UTI   \n",
      "...             ...  ...     ...       ...                  ...      ...   \n",
      "obito    49      61    F  branca       nao               nenhum    obito   \n",
      "         101     24    F  branca       nao               nenhum    obito   \n",
      "         157     88    F   preta       nao               nenhum    obito   \n",
      "         297     62    M  branca       nao                  TEP    obito   \n",
      "         374     77    M  branca       sim               nenhum    obito   \n",
      "\n",
      "                          anti-inflamatorio1 anti-inflamatorio2  \\\n",
      "desfecho                                                          \n",
      "UTI      187  denenhumametasona 4mg/mL 2,5mL             nenhum   \n",
      "         414                          nenhum             nenhum   \n",
      "         395  denenhumametasona 4mg/mL 2,5mL     prednisona 5mg   \n",
      "         24                           nenhum             nenhum   \n",
      "         125  denenhumametasona 4mg/mL 2,5mL             nenhum   \n",
      "...                                      ...                ...   \n",
      "obito    49   denenhumametasona 4mg/mL 2,5mL             nenhum   \n",
      "         101                          nenhum             nenhum   \n",
      "         157                 prednisona 20mg             nenhum   \n",
      "         297  denenhumametasona 4mg/mL 2,5mL             nenhum   \n",
      "         374                          nenhum             nenhum   \n",
      "\n",
      "             anti-inflamatorio3 anti-inflamatorio_previo  \\\n",
      "desfecho                                                   \n",
      "UTI      187             nenhum                      Nao   \n",
      "         414             nenhum                      Nao   \n",
      "         395             nenhum                      Sim   \n",
      "         24              nenhum                      Nao   \n",
      "         125             nenhum                      Nao   \n",
      "...                         ...                      ...   \n",
      "obito    49              nenhum                      Sim   \n",
      "         101             nenhum                      Nao   \n",
      "         157             nenhum                      Nao   \n",
      "         297             nenhum                      Nao   \n",
      "         374             nenhum                      Nao   \n",
      "\n",
      "                    profilaxia_de_trombo1 profilaxia_de_trombo2  \\\n",
      "desfecho                                                          \n",
      "UTI      187       heparina 5000UI/0,25mL                nenhum   \n",
      "         414       heparina 5000UI/0,25mL                nenhum   \n",
      "         395  enonenhumaparina 40mg/0,4mL                nenhum   \n",
      "         24        heparina 5000UI/0,25mL                nenhum   \n",
      "         125  enonenhumaparina 40mg/0,4mL                nenhum   \n",
      "...                                   ...                   ...   \n",
      "obito    49                        nenhum                nenhum   \n",
      "         101                       nenhum                nenhum   \n",
      "         157       heparina 5000UI/0,25mL                nenhum   \n",
      "         297  enonenhumaparina 60mg/0,6mL                nenhum   \n",
      "         374  enonenhumaparina 40mg/0,4mL                nenhum   \n",
      "\n",
      "             anticoagulante_previo  proteina c (mg/dl)  ferritina (ng/ml)  \\\n",
      "desfecho                                                                    \n",
      "UTI      187                   Nao                15.4                  0   \n",
      "         414                   Sim                 0.0                  0   \n",
      "         395                   Nao                 1.0                  0   \n",
      "         24                    Sim                30.7                  0   \n",
      "         125                   Nao                 1.9                  0   \n",
      "...                            ...                 ...                ...   \n",
      "obito    49                    Nao                 4.3               3080   \n",
      "         101                   Nao                32.9                  0   \n",
      "         157                   Nao                15.2                  0   \n",
      "         297                   Nao                35.5                  0   \n",
      "         374                   Nao                25.7                  0   \n",
      "\n",
      "              leucócitos ( /ul)  creatinina (mg/dl)  ureia(mg/dl)  \\\n",
      "desfecho                                                            \n",
      "UTI      187               5620                6.30         119.0   \n",
      "         414               7050                4.59          94.0   \n",
      "         395               3780                0.00         159.0   \n",
      "         24                6170                4.83         164.0   \n",
      "         125               5550                1.49          76.0   \n",
      "...                         ...                 ...           ...   \n",
      "obito    49                8550                1.62          91.0   \n",
      "         101                120                0.71          18.0   \n",
      "         157               8430                0.64          55.0   \n",
      "         297               1190                1.09          59.0   \n",
      "         374              19420                1.42          89.0   \n",
      "\n",
      "              d-dimeros (ng/ml) reinfeccao  sintomas  com1  com2  com3  com4  \\\n",
      "desfecho                                                                       \n",
      "UTI      187                  0        nao     grave     0     0     0     0   \n",
      "         414                  0        nao     grave     1     1     0     0   \n",
      "         395                  0        nao     grave     0     0     0     1   \n",
      "         24                   0        nao     grave     1     1     0     0   \n",
      "         125                  0        nao     grave     0     1     0     0   \n",
      "...                         ...        ...       ...   ...   ...   ...   ...   \n",
      "obito    49                   0        nao     grave     0     1     0     0   \n",
      "         101                748        nao     grave     0     0     0     0   \n",
      "         157               1512        nao      leve     1     1     0     0   \n",
      "         297                  0        nao  moderado     0     0     0     0   \n",
      "         374               3266        nao     grave     0     0     0     1   \n",
      "\n",
      "              com5  com6  com7  \n",
      "desfecho                        \n",
      "UTI      187     0     1     1  \n",
      "         414     1     0     1  \n",
      "         395     0     0     1  \n",
      "         24      0     0     1  \n",
      "         125     0     0     0  \n",
      "...            ...   ...   ...  \n",
      "obito    49      0     0     0  \n",
      "         101     0     1     0  \n",
      "         157     0     0     0  \n",
      "         297     0     1     0  \n",
      "         374     0     0     0  \n",
      "\n",
      "[188 rows x 28 columns]\n"
     ]
    }
   ],
   "source": [
    "val_cnt = df['desfecho'].value_counts()\n",
    "min_sample = val_cnt.min()\n",
    "print(min_sample) # Outputs 7 in as an example\n",
    "df = df.groupby('desfecho').apply(lambda s: s.sample(min_sample))\n",
    "print(df)"
   ]
  },
  {
   "cell_type": "code",
   "execution_count": 17,
   "id": "44da06d2",
   "metadata": {
    "id": "44da06d2"
   },
   "outputs": [],
   "source": [
    "df['desfecho'].mask(df['desfecho'] == 'alta', 0, inplace=True)\n",
    "df['desfecho'].mask(df['desfecho'] == 'UTI', 1, inplace=True)\n",
    "df['desfecho'].mask(df['desfecho'] == 'fim_isolamento', 2, inplace=True)\n",
    "df['desfecho'].mask(df['desfecho'] == 'obito', 3, inplace=True)"
   ]
  },
  {
   "cell_type": "markdown",
   "id": "63ffe010",
   "metadata": {
    "id": "63ffe010"
   },
   "source": [
    "#### Pré-Processamento"
   ]
  },
  {
   "cell_type": "markdown",
   "id": "7fc9e204",
   "metadata": {
    "id": "7fc9e204"
   },
   "source": [
    "#### Separando os conjuntos de treino e teste"
   ]
  },
  {
   "cell_type": "code",
   "execution_count": 18,
   "id": "37ed527c",
   "metadata": {
    "id": "37ed527c"
   },
   "outputs": [],
   "source": [
    "import tensorflow as tf\n",
    "from tensorflow import keras"
   ]
  },
  {
   "cell_type": "code",
   "execution_count": 19,
   "id": "cca4b83d",
   "metadata": {
    "id": "cca4b83d"
   },
   "outputs": [],
   "source": [
    "from sklearn.impute import SimpleImputer\n",
    "from sklearn.preprocessing import StandardScaler\n",
    "from sklearn.preprocessing import OneHotEncoder\n",
    "\n",
    "from sklearn.pipeline import Pipeline\n",
    "from sklearn.compose import ColumnTransformer\n",
    "\n",
    "pipeline_atr_numericos = Pipeline([\n",
    "    ('imputer',SimpleImputer(strategy='mean')),\n",
    "    ('scaler', StandardScaler()),\n",
    "])\n",
    "\n",
    "preproc_completo = ColumnTransformer([\n",
    "    ('numericos',   pipeline_atr_numericos, nomes_atributos_numericos),\n",
    "    ('categoricos', OneHotEncoder(),        nomes_atributos_categoricos),\n",
    "    ], \n",
    "    sparse_threshold=0)\n",
    "\n",
    "df_labels = df['desfecho'].copy()\n",
    "df_features = df.drop(columns='desfecho')\n",
    "\n",
    "# pre-processamento do conjunto de treino\n",
    "df_features = preproc_completo.fit_transform(df_features)\n",
    "\n",
    "df_features = np.concatenate((df_features, df[['com1','com2','com3','com4','com5','com6','com7']].to_numpy()), axis=1)\n",
    "\n",
    "# pre-processamento da coluna alvo para treino\n",
    "\n",
    "df_labels = tf.keras.utils.to_categorical(df_labels, 4)\n",
    "\n"
   ]
  },
  {
   "cell_type": "code",
   "execution_count": 20,
   "id": "9abfa34e",
   "metadata": {
    "id": "9abfa34e"
   },
   "outputs": [
    {
     "name": "stdout",
     "output_type": "stream",
     "text": [
      "TRAIN: [128  24 164  16  85  55 163 145  41 132  15  58  61  97  19 160  27 171\n",
      " 109 130  96 178 143  30  73 141 126 136 169  69  64 168 186 156 120 117\n",
      "  12  63 187  92   1  90  44 165 114 140  40  53  91  99  76  49 101   5\n",
      " 112  98  50 111 151 172  48  20  77  36 108  60 119  45 152  62  32 167\n",
      "  23  86  87  39  11  80   4  54 135  81  31 116 170   8  84 122  94   7\n",
      " 161 183  95  70  18 115  71  38  46 162 149 146  21 174  52  34   9 153\n",
      " 133 124 185 173   3 106 181  88 105  59 157  78 158 154  29  72  14 118\n",
      " 148 139 113  47 137 125 102 155 100 175 177 179  66  43  35  79  83  28\n",
      "   2  25  89 138 110   6] TEST: [127 134 142  13 182  17  37  67 107 129  51  26 184  68  22 131 104 147\n",
      "  56 123  57 150  33  10  82  93  65  74 144  75 159 166 103   0 180 121\n",
      "  42 176]\n"
     ]
    }
   ],
   "source": [
    "from sklearn.model_selection import StratifiedShuffleSplit\n",
    "\n",
    "# separando os conjuntos de dados de treino e teste\n",
    "\n",
    "sss = StratifiedShuffleSplit(n_splits=1, test_size=0.2, random_state=213)\n",
    "\n",
    "sss.get_n_splits(df_features, df_labels)\n",
    "\n",
    "for train_index, test_index in sss.split(df_features, df_labels):\n",
    "    print(\"TRAIN:\", train_index, \"TEST:\", test_index)\n",
    "    X_treino, X_teste = df_features[train_index], df_features[test_index]\n",
    "    y_treino, y_teste = df_labels[train_index], df_labels[test_index]"
   ]
  },
  {
   "cell_type": "code",
   "execution_count": 21,
   "id": "a5500015",
   "metadata": {
    "id": "a5500015"
   },
   "outputs": [],
   "source": [
    "BATCH_SIZE = 64\n",
    "SHUFFLE_BUFFER_SIZE = 100\n",
    "train_dataset = tf.data.Dataset.from_tensor_slices((X_treino, y_treino))\n",
    "train_dataset = train_dataset.shuffle(SHUFFLE_BUFFER_SIZE).batch(BATCH_SIZE)\n",
    "test_dataset = tf.data.Dataset.from_tensor_slices((X_teste, y_teste))\n",
    "test_dataset = test_dataset.shuffle(SHUFFLE_BUFFER_SIZE).batch(BATCH_SIZE)"
   ]
  },
  {
   "cell_type": "code",
   "execution_count": 22,
   "id": "38c8ddb2",
   "metadata": {
    "id": "38c8ddb2"
   },
   "outputs": [
    {
     "data": {
      "text/plain": [
       "array([-1.09677942,  0.45322487,  0.50253622, -0.98320019, -0.18484747,\n",
       "       -0.69347107, -0.57950791,  0.        ,  1.        ,  0.        ,\n",
       "        0.        ,  1.        ,  0.        ,  1.        ,  0.        ,\n",
       "        0.        ,  1.        ,  0.        ,  0.        ,  0.        ,\n",
       "        0.        ,  1.        ,  0.        ,  0.        ,  0.        ,\n",
       "        1.        ,  0.        ,  1.        ,  0.        ,  0.        ,\n",
       "        1.        ,  1.        ,  0.        ,  0.        ,  0.        ,\n",
       "        0.        ,  0.        ,  0.        ,  0.        ,  0.        ])"
      ]
     },
     "execution_count": 22,
     "metadata": {},
     "output_type": "execute_result"
    }
   ],
   "source": [
    "X_treino[0]"
   ]
  },
  {
   "cell_type": "code",
   "execution_count": null,
   "id": "2f8b9873",
   "metadata": {
    "id": "2f8b9873"
   },
   "outputs": [],
   "source": []
  },
  {
   "cell_type": "code",
   "execution_count": 23,
   "id": "6bd51fc6",
   "metadata": {
    "id": "6bd51fc6"
   },
   "outputs": [
    {
     "data": {
      "text/plain": [
       "array([[-1.09677942,  0.45322487,  0.50253622, ...,  0.        ,\n",
       "         0.        ,  0.        ],\n",
       "       [ 0.63594773,  0.27290321, -0.21826992, ...,  0.        ,\n",
       "         0.        ,  0.        ],\n",
       "       [ 0.52043259,  0.53050557, -0.21826992, ...,  0.        ,\n",
       "         0.        ,  0.        ],\n",
       "       ...,\n",
       "       [-0.98126428, -1.02369534, -0.21826992, ...,  0.        ,\n",
       "         0.        ,  1.        ],\n",
       "       [-0.1149007 ,  1.74982342, -0.21826992, ...,  0.        ,\n",
       "         0.        ,  0.        ],\n",
       "       [-0.05714313, -0.43120991, -0.21826992, ...,  1.        ,\n",
       "         0.        ,  0.        ]])"
      ]
     },
     "execution_count": 23,
     "metadata": {},
     "output_type": "execute_result"
    }
   ],
   "source": [
    "X_treino"
   ]
  },
  {
   "cell_type": "code",
   "execution_count": 24,
   "id": "1d48e54e",
   "metadata": {
    "id": "1d48e54e"
   },
   "outputs": [
    {
     "data": {
      "text/plain": [
       "(150, 40)"
      ]
     },
     "execution_count": 24,
     "metadata": {},
     "output_type": "execute_result"
    }
   ],
   "source": [
    "X_treino.shape"
   ]
  },
  {
   "cell_type": "code",
   "execution_count": 25,
   "id": "0f3e0842",
   "metadata": {
    "id": "0f3e0842"
   },
   "outputs": [
    {
     "data": {
      "text/plain": [
       "(150, 4)"
      ]
     },
     "execution_count": 25,
     "metadata": {},
     "output_type": "execute_result"
    }
   ],
   "source": [
    "y_treino.shape"
   ]
  },
  {
   "cell_type": "code",
   "execution_count": 26,
   "id": "54bbf379",
   "metadata": {
    "id": "54bbf379"
   },
   "outputs": [
    {
     "data": {
      "text/plain": [
       "(38, 40)"
      ]
     },
     "execution_count": 26,
     "metadata": {},
     "output_type": "execute_result"
    }
   ],
   "source": [
    "X_teste.shape"
   ]
  },
  {
   "cell_type": "code",
   "execution_count": 27,
   "id": "37c0294b",
   "metadata": {
    "id": "37c0294b"
   },
   "outputs": [
    {
     "data": {
      "text/plain": [
       "(38, 4)"
      ]
     },
     "execution_count": 27,
     "metadata": {},
     "output_type": "execute_result"
    }
   ],
   "source": [
    "y_teste.shape"
   ]
  },
  {
   "cell_type": "markdown",
   "id": "2bc8300e",
   "metadata": {
    "id": "2bc8300e"
   },
   "source": [
    "- RNA TensorFlow + Keras"
   ]
  },
  {
   "cell_type": "code",
   "execution_count": 28,
   "id": "56eb7a3e",
   "metadata": {
    "id": "56eb7a3e"
   },
   "outputs": [],
   "source": [
    "import tensorflow as tf\n",
    "from tensorflow import keras"
   ]
  },
  {
   "cell_type": "code",
   "execution_count": 29,
   "id": "2af9641b",
   "metadata": {
    "id": "2af9641b"
   },
   "outputs": [
    {
     "data": {
      "text/plain": [
       "(40,)"
      ]
     },
     "execution_count": 29,
     "metadata": {},
     "output_type": "execute_result"
    }
   ],
   "source": [
    "# Qual o tamanho da entrada?\n",
    "X_treino.shape[1:]"
   ]
  },
  {
   "cell_type": "code",
   "execution_count": 30,
   "id": "f6d90f7c",
   "metadata": {
    "id": "f6d90f7c"
   },
   "outputs": [],
   "source": [
    "model = keras.models.Sequential()\n",
    "model.add(keras.layers.Dense(64, activation=\"relu\",input_shape=X_treino.shape[1:]))\n",
    "model.add(keras.layers.Dense(32, activation=\"relu\"))\n",
    "model.add(keras.layers.Dense(4, activation=\"softmax\"))"
   ]
  },
  {
   "cell_type": "code",
   "execution_count": 31,
   "id": "121c9d6b",
   "metadata": {
    "id": "121c9d6b"
   },
   "outputs": [
    {
     "name": "stdout",
     "output_type": "stream",
     "text": [
      "Model: \"sequential\"\n",
      "_________________________________________________________________\n",
      " Layer (type)                Output Shape              Param #   \n",
      "=================================================================\n",
      " dense (Dense)               (None, 64)                2624      \n",
      "                                                                 \n",
      " dense_1 (Dense)             (None, 32)                2080      \n",
      "                                                                 \n",
      " dense_2 (Dense)             (None, 4)                 132       \n",
      "                                                                 \n",
      "=================================================================\n",
      "Total params: 4,836\n",
      "Trainable params: 4,836\n",
      "Non-trainable params: 0\n",
      "_________________________________________________________________\n"
     ]
    }
   ],
   "source": [
    "model.summary()"
   ]
  },
  {
   "cell_type": "code",
   "execution_count": 32,
   "id": "09d7b90a",
   "metadata": {
    "id": "09d7b90a"
   },
   "outputs": [],
   "source": [
    "# Para modelos de classificação com saída esparsa:    # para classificação com saída densa  # para classificação binária:     \n",
    "model.compile(loss='categorical_crossentropy', # usar categorical_crossentropy       # usar binary_crossentropy e mudar\n",
    "              optimizer=\"adam\",                        #                                     # a ativação da camada de saída\n",
    "              metrics=[\"accuracy\",tf.keras.metrics.Precision(), tf.keras.metrics.Recall()])                   #                                     # para sigmoid\n"
   ]
  },
  {
   "cell_type": "markdown",
   "id": "80d7f281",
   "metadata": {
    "id": "80d7f281"
   },
   "source": [
    "#### Treinamento do modelo"
   ]
  },
  {
   "cell_type": "code",
   "execution_count": 33,
   "id": "91b89601",
   "metadata": {
    "id": "91b89601"
   },
   "outputs": [
    {
     "name": "stdout",
     "output_type": "stream",
     "text": [
      "Epoch 1/25\n",
      "4/4 [==============================] - 1s 125ms/step - loss: 1.3358 - accuracy: 0.3333 - precision: 0.6667 - recall: 0.0167 - val_loss: 1.3766 - val_accuracy: 0.4000 - val_precision: 0.0000e+00 - val_recall: 0.0000e+00\n",
      "Epoch 2/25\n",
      "4/4 [==============================] - 0s 5ms/step - loss: 1.2814 - accuracy: 0.4083 - precision: 1.0000 - recall: 0.0250 - val_loss: 1.3321 - val_accuracy: 0.4333 - val_precision: 0.0000e+00 - val_recall: 0.0000e+00\n",
      "Epoch 3/25\n",
      "4/4 [==============================] - 0s 5ms/step - loss: 1.2389 - accuracy: 0.4750 - precision: 1.0000 - recall: 0.0417 - val_loss: 1.2945 - val_accuracy: 0.4333 - val_precision: 0.0000e+00 - val_recall: 0.0000e+00\n",
      "Epoch 4/25\n",
      "4/4 [==============================] - 0s 5ms/step - loss: 1.1986 - accuracy: 0.5333 - precision: 1.0000 - recall: 0.0500 - val_loss: 1.2588 - val_accuracy: 0.4667 - val_precision: 0.0000e+00 - val_recall: 0.0000e+00\n",
      "Epoch 5/25\n",
      "4/4 [==============================] - 0s 5ms/step - loss: 1.1623 - accuracy: 0.5333 - precision: 0.8750 - recall: 0.0583 - val_loss: 1.2248 - val_accuracy: 0.4667 - val_precision: 1.0000 - val_recall: 0.0333\n",
      "Epoch 6/25\n",
      "4/4 [==============================] - 0s 5ms/step - loss: 1.1245 - accuracy: 0.5333 - precision: 0.8750 - recall: 0.0583 - val_loss: 1.1939 - val_accuracy: 0.4333 - val_precision: 1.0000 - val_recall: 0.0667\n",
      "Epoch 7/25\n",
      "4/4 [==============================] - 0s 5ms/step - loss: 1.0883 - accuracy: 0.5333 - precision: 0.9167 - recall: 0.0917 - val_loss: 1.1604 - val_accuracy: 0.4667 - val_precision: 1.0000 - val_recall: 0.1000\n",
      "Epoch 8/25\n",
      "4/4 [==============================] - 0s 5ms/step - loss: 1.0527 - accuracy: 0.5750 - precision: 0.8824 - recall: 0.1250 - val_loss: 1.1287 - val_accuracy: 0.4667 - val_precision: 0.8333 - val_recall: 0.1667\n",
      "Epoch 9/25\n",
      "4/4 [==============================] - 0s 5ms/step - loss: 1.0168 - accuracy: 0.6000 - precision: 0.8077 - recall: 0.1750 - val_loss: 1.0960 - val_accuracy: 0.5000 - val_precision: 0.8333 - val_recall: 0.1667\n",
      "Epoch 10/25\n",
      "4/4 [==============================] - 0s 5ms/step - loss: 0.9823 - accuracy: 0.6333 - precision: 0.8276 - recall: 0.2000 - val_loss: 1.0664 - val_accuracy: 0.5000 - val_precision: 0.8333 - val_recall: 0.1667\n",
      "Epoch 11/25\n",
      "4/4 [==============================] - 0s 4ms/step - loss: 0.9482 - accuracy: 0.6417 - precision: 0.8438 - recall: 0.2250 - val_loss: 1.0365 - val_accuracy: 0.5333 - val_precision: 0.8333 - val_recall: 0.1667\n",
      "Epoch 12/25\n",
      "4/4 [==============================] - 0s 5ms/step - loss: 0.9177 - accuracy: 0.6417 - precision: 0.8684 - recall: 0.2750 - val_loss: 1.0081 - val_accuracy: 0.5333 - val_precision: 0.8571 - val_recall: 0.2000\n",
      "Epoch 13/25\n",
      "4/4 [==============================] - 0s 5ms/step - loss: 0.8884 - accuracy: 0.6583 - precision: 0.8500 - recall: 0.2833 - val_loss: 0.9830 - val_accuracy: 0.5000 - val_precision: 0.8889 - val_recall: 0.2667\n",
      "Epoch 14/25\n",
      "4/4 [==============================] - 0s 5ms/step - loss: 0.8609 - accuracy: 0.6833 - precision: 0.8511 - recall: 0.3333 - val_loss: 0.9637 - val_accuracy: 0.5000 - val_precision: 0.8000 - val_recall: 0.2667\n",
      "Epoch 15/25\n",
      "4/4 [==============================] - 0s 5ms/step - loss: 0.8360 - accuracy: 0.6833 - precision: 0.8627 - recall: 0.3667 - val_loss: 0.9485 - val_accuracy: 0.4667 - val_precision: 0.7273 - val_recall: 0.2667\n",
      "Epoch 16/25\n",
      "4/4 [==============================] - 0s 5ms/step - loss: 0.8116 - accuracy: 0.6833 - precision: 0.8475 - recall: 0.4167 - val_loss: 0.9316 - val_accuracy: 0.5000 - val_precision: 0.6923 - val_recall: 0.3000\n",
      "Epoch 17/25\n",
      "4/4 [==============================] - 0s 5ms/step - loss: 0.7914 - accuracy: 0.6667 - precision: 0.8548 - recall: 0.4417 - val_loss: 0.9178 - val_accuracy: 0.5000 - val_precision: 0.6923 - val_recall: 0.3000\n",
      "Epoch 18/25\n",
      "4/4 [==============================] - 0s 5ms/step - loss: 0.7691 - accuracy: 0.6917 - precision: 0.8730 - recall: 0.4583 - val_loss: 0.8988 - val_accuracy: 0.5333 - val_precision: 0.6923 - val_recall: 0.3000\n",
      "Epoch 19/25\n",
      "4/4 [==============================] - 0s 5ms/step - loss: 0.7514 - accuracy: 0.7167 - precision: 0.8676 - recall: 0.4917 - val_loss: 0.8825 - val_accuracy: 0.5000 - val_precision: 0.6923 - val_recall: 0.3000\n",
      "Epoch 20/25\n",
      "4/4 [==============================] - 0s 5ms/step - loss: 0.7330 - accuracy: 0.7333 - precision: 0.8714 - recall: 0.5083 - val_loss: 0.8694 - val_accuracy: 0.5667 - val_precision: 0.6429 - val_recall: 0.3000\n",
      "Epoch 21/25\n",
      "4/4 [==============================] - 0s 5ms/step - loss: 0.7156 - accuracy: 0.7333 - precision: 0.8767 - recall: 0.5333 - val_loss: 0.8595 - val_accuracy: 0.5333 - val_precision: 0.6667 - val_recall: 0.3333\n",
      "Epoch 22/25\n",
      "4/4 [==============================] - 0s 5ms/step - loss: 0.6991 - accuracy: 0.7500 - precision: 0.8784 - recall: 0.5417 - val_loss: 0.8478 - val_accuracy: 0.5667 - val_precision: 0.7059 - val_recall: 0.4000\n",
      "Epoch 23/25\n",
      "4/4 [==============================] - 0s 5ms/step - loss: 0.6832 - accuracy: 0.7667 - precision: 0.8933 - recall: 0.5583 - val_loss: 0.8362 - val_accuracy: 0.5667 - val_precision: 0.7059 - val_recall: 0.4000\n",
      "Epoch 24/25\n",
      "4/4 [==============================] - 0s 5ms/step - loss: 0.6689 - accuracy: 0.7750 - precision: 0.8961 - recall: 0.5750 - val_loss: 0.8306 - val_accuracy: 0.5667 - val_precision: 0.7059 - val_recall: 0.4000\n",
      "Epoch 25/25\n",
      "4/4 [==============================] - 0s 5ms/step - loss: 0.6543 - accuracy: 0.7667 - precision: 0.8875 - recall: 0.5917 - val_loss: 0.8258 - val_accuracy: 0.5667 - val_precision: 0.6667 - val_recall: 0.4000\n"
     ]
    }
   ],
   "source": [
    "history = model.fit(X_treino, y_treino, epochs=25, validation_split=0.2)"
   ]
  },
  {
   "cell_type": "markdown",
   "id": "9efbb3db",
   "metadata": {
    "id": "9efbb3db"
   },
   "source": [
    "#### Avaliação da evolução do treinamento"
   ]
  },
  {
   "cell_type": "code",
   "execution_count": 34,
   "id": "1369c7b4",
   "metadata": {
    "id": "1369c7b4"
   },
   "outputs": [
    {
     "data": {
      "image/png": "[encoded data removed]",
      "text/plain": [
       "<Figure size 720x432 with 1 Axes>"
      ]
     },
     "metadata": {
      "needs_background": "light"
     },
     "output_type": "display_data"
    }
   ],
   "source": [
    "pd.DataFrame(history.history).plot(figsize=(10,6))\n",
    "plt.grid(True)\n",
    "plt.gca().set_ylim(0,1)\n",
    "plt.show()"
   ]
  },
  {
   "cell_type": "markdown",
   "id": "7b88d149",
   "metadata": {
    "id": "7b88d149"
   },
   "source": [
    "#### Avaliação do desempenho do modelo treinado"
   ]
  },
  {
   "cell_type": "code",
   "execution_count": 35,
   "id": "ed960dfb",
   "metadata": {
    "id": "ed960dfb"
   },
   "outputs": [
    {
     "name": "stdout",
     "output_type": "stream",
     "text": [
      "1/1 [==============================] - 0s 206ms/step - loss: 0.8944 - accuracy: 0.6579 - precision: 0.6667 - recall: 0.4211\n"
     ]
    }
   ],
   "source": [
    "y_previsto_rna_proba = model.evaluate(test_dataset)"
   ]
  },
  {
   "cell_type": "code",
   "execution_count": 36,
   "id": "050417d0",
   "metadata": {
    "id": "050417d0"
   },
   "outputs": [
    {
     "data": {
      "text/plain": [
       "array([0.89, 0.66, 0.67, 0.42])"
      ]
     },
     "execution_count": 36,
     "metadata": {},
     "output_type": "execute_result"
    }
   ],
   "source": [
    "np.round(y_previsto_rna_proba,decimals=2)"
   ]
  },
  {
   "cell_type": "code",
   "execution_count": 37,
   "id": "d0932b03",
   "metadata": {
    "id": "d0932b03"
   },
   "outputs": [
    {
     "name": "stdout",
     "output_type": "stream",
     "text": [
      "2/2 [==============================] - 0s 2ms/step\n",
      "[[0.45299733 0.10883468 0.37096494 0.06720302]\n",
      " [0.55044633 0.03183373 0.3966422  0.02107766]\n",
      " [0.21279009 0.09291286 0.31166747 0.38262963]\n",
      " [0.02613589 0.9303136  0.02166331 0.02188718]\n",
      " [0.25587305 0.05348853 0.27869415 0.4119443 ]\n",
      " [0.0416938  0.66032994 0.07476858 0.22320764]\n",
      " [0.01955926 0.4802646  0.03086294 0.46931317]\n",
      " [0.4918785  0.04009361 0.4140031  0.05402483]\n",
      " [0.17984244 0.14781916 0.13586174 0.5364767 ]\n",
      " [0.4190426  0.14024712 0.3312139  0.10949647]\n",
      " [0.3369913  0.20865814 0.2958183  0.15853225]\n",
      " [0.02305611 0.8968195  0.01495326 0.06517125]\n",
      " [0.03567972 0.76836365 0.02525356 0.17070308]\n",
      " [0.45032126 0.0755101  0.44059232 0.03357625]\n",
      " [0.00708551 0.62143105 0.00888544 0.3625979 ]\n",
      " [0.37151396 0.06717137 0.5215624  0.03975229]\n",
      " [0.5214627  0.0435871  0.40013602 0.03481423]\n",
      " [0.14816132 0.16364802 0.14319664 0.54499394]\n",
      " [0.4184635  0.08431412 0.38752902 0.10969338]\n",
      " [0.5440062  0.02956341 0.31171957 0.11471075]\n",
      " [0.33430487 0.30027786 0.20531574 0.16010156]\n",
      " [0.02163757 0.4571933  0.01158988 0.5095793 ]\n",
      " [0.01024393 0.717601   0.01015243 0.26200262]\n",
      " [0.01419753 0.57874805 0.01262351 0.3944309 ]\n",
      " [0.6581553  0.06896428 0.21592936 0.0569511 ]\n",
      " [0.24962649 0.11811318 0.3371582  0.29510215]\n",
      " [0.2209086  0.04798595 0.39126885 0.3398366 ]\n",
      " [0.49444184 0.10858624 0.29546896 0.10150303]\n",
      " [0.01378881 0.382776   0.01175666 0.5916785 ]\n",
      " [0.504964   0.049253   0.40286937 0.04291366]\n",
      " [0.48223183 0.02655746 0.35858572 0.13262498]\n",
      " [0.01145968 0.2543701  0.01114974 0.7230205 ]\n",
      " [0.27237046 0.02055002 0.6914021  0.01567749]\n",
      " [0.09253579 0.6789965  0.08817558 0.14029217]\n",
      " [0.5041928  0.08595042 0.29436576 0.11549105]\n",
      " [0.71521163 0.03197956 0.22869594 0.02411282]\n",
      " [0.03402736 0.88313586 0.03075848 0.05207831]\n",
      " [0.06637478 0.756347   0.04298635 0.13429192]]\n",
      "[[0. 0. 1. 0.]\n",
      " [0. 0. 1. 0.]\n",
      " [0. 0. 0. 1.]\n",
      " [0. 1. 0. 0.]\n",
      " [0. 0. 0. 1.]\n",
      " [0. 1. 0. 0.]\n",
      " [0. 1. 0. 0.]\n",
      " [1. 0. 0. 0.]\n",
      " [0. 0. 1. 0.]\n",
      " [0. 0. 1. 0.]\n",
      " [1. 0. 0. 0.]\n",
      " [0. 1. 0. 0.]\n",
      " [0. 0. 0. 1.]\n",
      " [1. 0. 0. 0.]\n",
      " [0. 1. 0. 0.]\n",
      " [0. 0. 1. 0.]\n",
      " [0. 0. 1. 0.]\n",
      " [0. 0. 0. 1.]\n",
      " [1. 0. 0. 0.]\n",
      " [0. 0. 1. 0.]\n",
      " [1. 0. 0. 0.]\n",
      " [0. 0. 0. 1.]\n",
      " [0. 1. 0. 0.]\n",
      " [0. 1. 0. 0.]\n",
      " [1. 0. 0. 0.]\n",
      " [1. 0. 0. 0.]\n",
      " [1. 0. 0. 0.]\n",
      " [1. 0. 0. 0.]\n",
      " [0. 0. 0. 1.]\n",
      " [1. 0. 0. 0.]\n",
      " [0. 0. 0. 1.]\n",
      " [0. 0. 0. 1.]\n",
      " [0. 0. 1. 0.]\n",
      " [0. 1. 0. 0.]\n",
      " [0. 0. 0. 1.]\n",
      " [0. 0. 1. 0.]\n",
      " [0. 1. 0. 0.]\n",
      " [0. 0. 0. 1.]]\n",
      "[0 0 3 1 3 1 1 0 3 0 0 1 1 0 1 2 0 3 0 0 0 3 1 1 0 2 2 0 3 0 0 3 2 1 0 0 1\n",
      " 1]\n",
      "                precision    recall  f1-score   support\n",
      "\n",
      "          alta       0.50      0.80      0.62        10\n",
      "           UTI       0.82      1.00      0.90         9\n",
      "fim_isolamento       0.50      0.22      0.31         9\n",
      "         obito       0.86      0.60      0.71        10\n",
      "\n",
      "      accuracy                           0.66        38\n",
      "     macro avg       0.67      0.66      0.63        38\n",
      "  weighted avg       0.67      0.66      0.63        38\n",
      "\n"
     ]
    }
   ],
   "source": [
    "from sklearn.metrics import classification_report\n",
    "\n",
    "y_pred = model.predict(X_teste)\n",
    "print(y_pred)\n",
    "print(y_teste)\n",
    "y_teste_class = np.argmax(y_teste,axis=1)\n",
    "y_pred_class = np.argmax(y_pred, axis=1)\n",
    "print(y_pred_class)\n",
    "print(classification_report(y_teste_class, y_pred_class,target_names=['alta','UTI','fim_isolamento', 'obito']))"
   ]
  },
  {
   "cell_type": "code",
   "execution_count": null,
   "id": "f03f4a90",
   "metadata": {
    "id": "f03f4a90"
   },
   "outputs": [],
   "source": []
  }
 ],
 "metadata": {
  "colab": {
   "provenance": []
  },
  "kernelspec": {
   "display_name": "Python 3 (ipykernel)",
   "language": "python",
   "name": "python3"
  },
  "language_info": {
   "codemirror_mode": {
    "name": "ipython",
    "version": 3
   },
   "file_extension": ".py",
   "mimetype": "text/x-python",
   "name": "python",
   "nbconvert_exporter": "python",
   "pygments_lexer": "ipython3",
   "version": "3.9.12"
  }
 },
 "nbformat": 4,
 "nbformat_minor": 5
}
