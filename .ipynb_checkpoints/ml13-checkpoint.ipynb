{
 "cells": [
  {
   "cell_type": "markdown",
   "id": "ee0e54b9",
   "metadata": {
    "colab_type": "text",
    "id": "view-in-github"
   },
   "source": [
    "<a href=\"https://colab.research.google.com/github/dantefleschpereira/ml_covid/blob/main/ml12.ipynb\" target=\"_parent\"><img src=\"https://colab.research.google.com/assets/colab-badge.svg\" alt=\"Open In Colab\"/></a>"
   ]
  },
  {
   "cell_type": "code",
   "execution_count": 339,
   "id": "0a3204d1",
   "metadata": {
    "id": "0a3204d1"
   },
   "outputs": [],
   "source": [
    "import numpy as np\n",
    "import pandas as pd\n",
    "import matplotlib.pyplot as plt\n",
    "from sklearn.preprocessing import OrdinalEncoder\n",
    "pd.set_option('display.max_columns', None)\n",
    "\n",
    "import seaborn as sns\n",
    "from sklearn.metrics import classification_report\n",
    "from sklearn.model_selection import train_test_split\n",
    "from sklearn.metrics import roc_auc_score, roc_curve, accuracy_score\n",
    "from imblearn.under_sampling import RandomUnderSampler"
   ]
  },
  {
   "cell_type": "markdown",
   "id": "cb29bc7e",
   "metadata": {
    "id": "cb29bc7e"
   },
   "source": [
    "#### Análise Exploratória de Dados"
   ]
  },
  {
   "cell_type": "code",
   "execution_count": 340,
   "id": "a167525e",
   "metadata": {
    "id": "a167525e"
   },
   "outputs": [],
   "source": [
    "df = pd.read_excel('D:\\ml_covid\\dataset_obito.xlsx')"
   ]
  },
  {
   "cell_type": "code",
   "execution_count": 341,
   "id": "ff87e261",
   "metadata": {
    "colab": {
     "base_uri": "https://localhost:8080/",
     "height": 757
    },
    "id": "ff87e261",
    "outputId": "96beda28-2835-4204-d5d6-2b933097183a"
   },
   "outputs": [
    {
     "data": {
      "text/html": [
       "<div>\n",
       "<style scoped>\n",
       "    .dataframe tbody tr th:only-of-type {\n",
       "        vertical-align: middle;\n",
       "    }\n",
       "\n",
       "    .dataframe tbody tr th {\n",
       "        vertical-align: top;\n",
       "    }\n",
       "\n",
       "    .dataframe thead th {\n",
       "        text-align: right;\n",
       "    }\n",
       "</style>\n",
       "<table border=\"1\" class=\"dataframe\">\n",
       "  <thead>\n",
       "    <tr style=\"text-align: right;\">\n",
       "      <th></th>\n",
       "      <th>idade</th>\n",
       "      <th>sexo</th>\n",
       "      <th>raca</th>\n",
       "      <th>tagabismo</th>\n",
       "      <th>comorbidade1</th>\n",
       "      <th>comorbidade2</th>\n",
       "      <th>comorbidade3</th>\n",
       "      <th>comorbidade4</th>\n",
       "      <th>trombo_na_internacao</th>\n",
       "      <th>desfecho</th>\n",
       "      <th>anti-inflamatorio1</th>\n",
       "      <th>anti-inflamatorio2</th>\n",
       "      <th>anti-inflamatorio3</th>\n",
       "      <th>anti-inflamatorio_previo</th>\n",
       "      <th>profilaxia_de_trombo1</th>\n",
       "      <th>profilaxia_de_trombo2</th>\n",
       "      <th>anticoagulante_previo</th>\n",
       "      <th>antibiotico1</th>\n",
       "      <th>antibiotico2</th>\n",
       "      <th>proteina c (mg/dl)</th>\n",
       "      <th>ferritina (ng/ml)</th>\n",
       "      <th>leucócitos ( /ul)</th>\n",
       "      <th>creatinina (mg/dl)</th>\n",
       "      <th>ureia(mg/dl)</th>\n",
       "      <th>d-dimeros (ng/ml)</th>\n",
       "      <th>reinfeccao</th>\n",
       "      <th>sintomas</th>\n",
       "    </tr>\n",
       "  </thead>\n",
       "  <tbody>\n",
       "    <tr>\n",
       "      <th>0</th>\n",
       "      <td>41</td>\n",
       "      <td>M</td>\n",
       "      <td>branca</td>\n",
       "      <td>nao</td>\n",
       "      <td>nenhuma</td>\n",
       "      <td>nenhuma</td>\n",
       "      <td>nenhum</td>\n",
       "      <td>nenhum</td>\n",
       "      <td>nenhum</td>\n",
       "      <td>0</td>\n",
       "      <td>nenhum</td>\n",
       "      <td>nenhum</td>\n",
       "      <td>nenhum</td>\n",
       "      <td>Nao</td>\n",
       "      <td>heparina 5000UI/0,25mL</td>\n",
       "      <td>nenhum</td>\n",
       "      <td>Sim</td>\n",
       "      <td>NaN</td>\n",
       "      <td>NaN</td>\n",
       "      <td>8.0</td>\n",
       "      <td>0</td>\n",
       "      <td>4830</td>\n",
       "      <td>0.76</td>\n",
       "      <td>36.0</td>\n",
       "      <td>0</td>\n",
       "      <td>nao</td>\n",
       "      <td>leve</td>\n",
       "    </tr>\n",
       "    <tr>\n",
       "      <th>1</th>\n",
       "      <td>77</td>\n",
       "      <td>F</td>\n",
       "      <td>branca</td>\n",
       "      <td>sim</td>\n",
       "      <td>HAS</td>\n",
       "      <td>nenhuma</td>\n",
       "      <td>nenhum</td>\n",
       "      <td>nenhum</td>\n",
       "      <td>nenhum</td>\n",
       "      <td>0</td>\n",
       "      <td>hidrocortisona 100mg</td>\n",
       "      <td>prednisona 20mg</td>\n",
       "      <td>nenhum</td>\n",
       "      <td>Nao</td>\n",
       "      <td>enonenhumaparina 40mg/0,4mL</td>\n",
       "      <td>nenhum</td>\n",
       "      <td>Sim</td>\n",
       "      <td>NaN</td>\n",
       "      <td>NaN</td>\n",
       "      <td>14.7</td>\n",
       "      <td>0</td>\n",
       "      <td>5280</td>\n",
       "      <td>0.82</td>\n",
       "      <td>31.0</td>\n",
       "      <td>0</td>\n",
       "      <td>nao</td>\n",
       "      <td>assintom</td>\n",
       "    </tr>\n",
       "    <tr>\n",
       "      <th>2</th>\n",
       "      <td>67</td>\n",
       "      <td>M</td>\n",
       "      <td>branca</td>\n",
       "      <td>previo</td>\n",
       "      <td>HAS</td>\n",
       "      <td>DM</td>\n",
       "      <td>nenhum</td>\n",
       "      <td>nenhum</td>\n",
       "      <td>nenhum</td>\n",
       "      <td>0</td>\n",
       "      <td>nenhum</td>\n",
       "      <td>nenhum</td>\n",
       "      <td>nenhum</td>\n",
       "      <td>Nao</td>\n",
       "      <td>heparina 5000UI/0,25mL</td>\n",
       "      <td>nenhum</td>\n",
       "      <td>Sim</td>\n",
       "      <td>NaN</td>\n",
       "      <td>NaN</td>\n",
       "      <td>0.0</td>\n",
       "      <td>0</td>\n",
       "      <td>8650</td>\n",
       "      <td>0.72</td>\n",
       "      <td>0.0</td>\n",
       "      <td>0</td>\n",
       "      <td>nao</td>\n",
       "      <td>leve</td>\n",
       "    </tr>\n",
       "    <tr>\n",
       "      <th>3</th>\n",
       "      <td>51</td>\n",
       "      <td>M</td>\n",
       "      <td>branca</td>\n",
       "      <td>nao</td>\n",
       "      <td>HAS</td>\n",
       "      <td>renal-hd</td>\n",
       "      <td>nenhum</td>\n",
       "      <td>nenhum</td>\n",
       "      <td>nenhum</td>\n",
       "      <td>0</td>\n",
       "      <td>prednisona 20mg</td>\n",
       "      <td>nenhum</td>\n",
       "      <td>nenhum</td>\n",
       "      <td>Sim</td>\n",
       "      <td>nenhum</td>\n",
       "      <td>nenhum</td>\n",
       "      <td>Nao</td>\n",
       "      <td>NaN</td>\n",
       "      <td>NaN</td>\n",
       "      <td>6.2</td>\n",
       "      <td>0</td>\n",
       "      <td>9590</td>\n",
       "      <td>0.00</td>\n",
       "      <td>142.0</td>\n",
       "      <td>0</td>\n",
       "      <td>nao</td>\n",
       "      <td>leve</td>\n",
       "    </tr>\n",
       "    <tr>\n",
       "      <th>4</th>\n",
       "      <td>51</td>\n",
       "      <td>M</td>\n",
       "      <td>branca</td>\n",
       "      <td>nao</td>\n",
       "      <td>HAS</td>\n",
       "      <td>renal-hd</td>\n",
       "      <td>nenhum</td>\n",
       "      <td>nenhum</td>\n",
       "      <td>nenhum</td>\n",
       "      <td>0</td>\n",
       "      <td>denenhumametasona 4mg/mL 2,5mL</td>\n",
       "      <td>hidrocortisona 100mg</td>\n",
       "      <td>prednisona 20mg</td>\n",
       "      <td>Nao</td>\n",
       "      <td>nenhum</td>\n",
       "      <td>nenhum</td>\n",
       "      <td>Nao</td>\n",
       "      <td>NaN</td>\n",
       "      <td>NaN</td>\n",
       "      <td>32.0</td>\n",
       "      <td>0</td>\n",
       "      <td>4230</td>\n",
       "      <td>15.40</td>\n",
       "      <td>158.0</td>\n",
       "      <td>1535</td>\n",
       "      <td>sim</td>\n",
       "      <td>assintom</td>\n",
       "    </tr>\n",
       "    <tr>\n",
       "      <th>5</th>\n",
       "      <td>64</td>\n",
       "      <td>F</td>\n",
       "      <td>branca</td>\n",
       "      <td>nao</td>\n",
       "      <td>HAS</td>\n",
       "      <td>nenhuma</td>\n",
       "      <td>nenhum</td>\n",
       "      <td>nenhum</td>\n",
       "      <td>nenhum</td>\n",
       "      <td>0</td>\n",
       "      <td>nenhum</td>\n",
       "      <td>nenhum</td>\n",
       "      <td>nenhum</td>\n",
       "      <td>Nao</td>\n",
       "      <td>heparina 5000UI/0,25mL</td>\n",
       "      <td>nenhum</td>\n",
       "      <td>Sim</td>\n",
       "      <td>NaN</td>\n",
       "      <td>NaN</td>\n",
       "      <td>4.1</td>\n",
       "      <td>1530</td>\n",
       "      <td>6430</td>\n",
       "      <td>1.00</td>\n",
       "      <td>52.0</td>\n",
       "      <td>0</td>\n",
       "      <td>nao</td>\n",
       "      <td>leve</td>\n",
       "    </tr>\n",
       "    <tr>\n",
       "      <th>6</th>\n",
       "      <td>38</td>\n",
       "      <td>M</td>\n",
       "      <td>preta</td>\n",
       "      <td>nao</td>\n",
       "      <td>renal-hd</td>\n",
       "      <td>nenhuma</td>\n",
       "      <td>nenhum</td>\n",
       "      <td>nenhum</td>\n",
       "      <td>nenhum</td>\n",
       "      <td>0</td>\n",
       "      <td>hidrocortisona 100mg</td>\n",
       "      <td>prednisona 20mg</td>\n",
       "      <td>nenhum</td>\n",
       "      <td>Sim</td>\n",
       "      <td>heparina 5000UI/0,25mL</td>\n",
       "      <td>nenhum</td>\n",
       "      <td>Nao</td>\n",
       "      <td>NaN</td>\n",
       "      <td>NaN</td>\n",
       "      <td>19.3</td>\n",
       "      <td>2380</td>\n",
       "      <td>1260</td>\n",
       "      <td>7.35</td>\n",
       "      <td>191.0</td>\n",
       "      <td>1021</td>\n",
       "      <td>nao</td>\n",
       "      <td>leve</td>\n",
       "    </tr>\n",
       "    <tr>\n",
       "      <th>7</th>\n",
       "      <td>37</td>\n",
       "      <td>M</td>\n",
       "      <td>branca</td>\n",
       "      <td>sim</td>\n",
       "      <td>HIV</td>\n",
       "      <td>oncologico</td>\n",
       "      <td>nenhum</td>\n",
       "      <td>nenhum</td>\n",
       "      <td>TVP</td>\n",
       "      <td>0</td>\n",
       "      <td>tiamina 300mg</td>\n",
       "      <td>piridonenhumina 40mg</td>\n",
       "      <td>nenhum</td>\n",
       "      <td>Nao</td>\n",
       "      <td>enonenhumaparina 40mg/0,4mL</td>\n",
       "      <td>nenhum</td>\n",
       "      <td>Sim</td>\n",
       "      <td>NaN</td>\n",
       "      <td>NaN</td>\n",
       "      <td>4.8</td>\n",
       "      <td>0</td>\n",
       "      <td>4410</td>\n",
       "      <td>0.68</td>\n",
       "      <td>31.0</td>\n",
       "      <td>437</td>\n",
       "      <td>nao</td>\n",
       "      <td>leve</td>\n",
       "    </tr>\n",
       "    <tr>\n",
       "      <th>8</th>\n",
       "      <td>82</td>\n",
       "      <td>F</td>\n",
       "      <td>branca</td>\n",
       "      <td>nao</td>\n",
       "      <td>HAS</td>\n",
       "      <td>oncologico</td>\n",
       "      <td>nenhum</td>\n",
       "      <td>nenhum</td>\n",
       "      <td>nenhum</td>\n",
       "      <td>1</td>\n",
       "      <td>nenhum</td>\n",
       "      <td>nenhum</td>\n",
       "      <td>nenhum</td>\n",
       "      <td>Nao</td>\n",
       "      <td>enonenhumaparina 40mg/0,4mL</td>\n",
       "      <td>nenhum</td>\n",
       "      <td>Sim</td>\n",
       "      <td>NaN</td>\n",
       "      <td>NaN</td>\n",
       "      <td>0.0</td>\n",
       "      <td>0</td>\n",
       "      <td>0</td>\n",
       "      <td>0.00</td>\n",
       "      <td>0.0</td>\n",
       "      <td>0</td>\n",
       "      <td>nao</td>\n",
       "      <td>assintom</td>\n",
       "    </tr>\n",
       "    <tr>\n",
       "      <th>9</th>\n",
       "      <td>45</td>\n",
       "      <td>M</td>\n",
       "      <td>branca</td>\n",
       "      <td>nao</td>\n",
       "      <td>nenhuma</td>\n",
       "      <td>nenhuma</td>\n",
       "      <td>nenhum</td>\n",
       "      <td>nenhum</td>\n",
       "      <td>ambos</td>\n",
       "      <td>0</td>\n",
       "      <td>nenhum</td>\n",
       "      <td>nenhum</td>\n",
       "      <td>nenhum</td>\n",
       "      <td>Nao</td>\n",
       "      <td>enonenhumaparina 40mg/0,4mL</td>\n",
       "      <td>enonenhumaparina 60mg/0,6mL</td>\n",
       "      <td>Sim</td>\n",
       "      <td>NaN</td>\n",
       "      <td>NaN</td>\n",
       "      <td>17.2</td>\n",
       "      <td>366</td>\n",
       "      <td>2790</td>\n",
       "      <td>1.08</td>\n",
       "      <td>22.0</td>\n",
       "      <td>0</td>\n",
       "      <td>nao</td>\n",
       "      <td>leve</td>\n",
       "    </tr>\n",
       "    <tr>\n",
       "      <th>10</th>\n",
       "      <td>63</td>\n",
       "      <td>M</td>\n",
       "      <td>branca</td>\n",
       "      <td>previo</td>\n",
       "      <td>HAS</td>\n",
       "      <td>DM</td>\n",
       "      <td>oncologica</td>\n",
       "      <td>nenhum</td>\n",
       "      <td>nenhum</td>\n",
       "      <td>0</td>\n",
       "      <td>prednisona 20mg</td>\n",
       "      <td>nenhum</td>\n",
       "      <td>nenhum</td>\n",
       "      <td>Sim</td>\n",
       "      <td>heparina 5000UI/0,25mL</td>\n",
       "      <td>nenhum</td>\n",
       "      <td>Sim</td>\n",
       "      <td>NaN</td>\n",
       "      <td>NaN</td>\n",
       "      <td>8.8</td>\n",
       "      <td>0</td>\n",
       "      <td>4480</td>\n",
       "      <td>1.33</td>\n",
       "      <td>61.0</td>\n",
       "      <td>3760</td>\n",
       "      <td>nao</td>\n",
       "      <td>grave</td>\n",
       "    </tr>\n",
       "    <tr>\n",
       "      <th>11</th>\n",
       "      <td>79</td>\n",
       "      <td>M</td>\n",
       "      <td>preta</td>\n",
       "      <td>nao</td>\n",
       "      <td>HAS</td>\n",
       "      <td>nenhuma</td>\n",
       "      <td>nenhum</td>\n",
       "      <td>nenhum</td>\n",
       "      <td>nenhum</td>\n",
       "      <td>0</td>\n",
       "      <td>nenhum</td>\n",
       "      <td>nenhum</td>\n",
       "      <td>nenhum</td>\n",
       "      <td>Nao</td>\n",
       "      <td>heparina 5000UI/0,25mL</td>\n",
       "      <td>nenhum</td>\n",
       "      <td>Sim</td>\n",
       "      <td>NaN</td>\n",
       "      <td>NaN</td>\n",
       "      <td>0.0</td>\n",
       "      <td>0</td>\n",
       "      <td>11150</td>\n",
       "      <td>0.89</td>\n",
       "      <td>53.0</td>\n",
       "      <td>0</td>\n",
       "      <td>nao</td>\n",
       "      <td>assintom</td>\n",
       "    </tr>\n",
       "    <tr>\n",
       "      <th>12</th>\n",
       "      <td>79</td>\n",
       "      <td>M</td>\n",
       "      <td>branca</td>\n",
       "      <td>nao</td>\n",
       "      <td>HAS</td>\n",
       "      <td>nenhuma</td>\n",
       "      <td>nenhum</td>\n",
       "      <td>nenhum</td>\n",
       "      <td>nenhum</td>\n",
       "      <td>1</td>\n",
       "      <td>denenhumametasona 4mg/mL 2,5mL</td>\n",
       "      <td>nenhum</td>\n",
       "      <td>nenhum</td>\n",
       "      <td>Nao</td>\n",
       "      <td>heparina 5000UI/0,25mL</td>\n",
       "      <td>nenhum</td>\n",
       "      <td>Nao</td>\n",
       "      <td>NaN</td>\n",
       "      <td>NaN</td>\n",
       "      <td>21.1</td>\n",
       "      <td>0</td>\n",
       "      <td>10260</td>\n",
       "      <td>1.09</td>\n",
       "      <td>62.0</td>\n",
       "      <td>1657</td>\n",
       "      <td>sim</td>\n",
       "      <td>moderado</td>\n",
       "    </tr>\n",
       "    <tr>\n",
       "      <th>13</th>\n",
       "      <td>52</td>\n",
       "      <td>F</td>\n",
       "      <td>preta</td>\n",
       "      <td>nao</td>\n",
       "      <td>DM</td>\n",
       "      <td>nenhuma</td>\n",
       "      <td>nenhum</td>\n",
       "      <td>nenhum</td>\n",
       "      <td>TEP</td>\n",
       "      <td>0</td>\n",
       "      <td>nenhum</td>\n",
       "      <td>nenhum</td>\n",
       "      <td>nenhum</td>\n",
       "      <td>Nao</td>\n",
       "      <td>heparina 5000UI/0,25mL</td>\n",
       "      <td>nenhum</td>\n",
       "      <td>Sim</td>\n",
       "      <td>NaN</td>\n",
       "      <td>NaN</td>\n",
       "      <td>2.1</td>\n",
       "      <td>0</td>\n",
       "      <td>4510</td>\n",
       "      <td>1.12</td>\n",
       "      <td>22.0</td>\n",
       "      <td>2466</td>\n",
       "      <td>nao</td>\n",
       "      <td>leve</td>\n",
       "    </tr>\n",
       "    <tr>\n",
       "      <th>14</th>\n",
       "      <td>30</td>\n",
       "      <td>M</td>\n",
       "      <td>preta</td>\n",
       "      <td>sim</td>\n",
       "      <td>HIV</td>\n",
       "      <td>nenhuma</td>\n",
       "      <td>nenhum</td>\n",
       "      <td>nenhum</td>\n",
       "      <td>nenhum</td>\n",
       "      <td>0</td>\n",
       "      <td>piridonenhumina 40mg</td>\n",
       "      <td>nenhum</td>\n",
       "      <td>nenhum</td>\n",
       "      <td>Sim</td>\n",
       "      <td>nenhum</td>\n",
       "      <td>nenhum</td>\n",
       "      <td>Nao</td>\n",
       "      <td>NaN</td>\n",
       "      <td>NaN</td>\n",
       "      <td>5.1</td>\n",
       "      <td>0</td>\n",
       "      <td>2560</td>\n",
       "      <td>1.09</td>\n",
       "      <td>22.0</td>\n",
       "      <td>0</td>\n",
       "      <td>sim</td>\n",
       "      <td>leve</td>\n",
       "    </tr>\n",
       "  </tbody>\n",
       "</table>\n",
       "</div>"
      ],
      "text/plain": [
       "    idade sexo    raca tagabismo comorbidade1 comorbidade2 comorbidade3  \\\n",
       "0      41    M  branca       nao      nenhuma      nenhuma       nenhum   \n",
       "1      77    F  branca       sim          HAS      nenhuma       nenhum   \n",
       "2      67    M  branca    previo          HAS           DM       nenhum   \n",
       "3      51    M  branca       nao          HAS     renal-hd       nenhum   \n",
       "4      51    M  branca       nao          HAS     renal-hd       nenhum   \n",
       "5      64    F  branca       nao          HAS      nenhuma       nenhum   \n",
       "6      38    M   preta       nao     renal-hd      nenhuma       nenhum   \n",
       "7      37    M  branca       sim          HIV   oncologico       nenhum   \n",
       "8      82    F  branca       nao          HAS   oncologico       nenhum   \n",
       "9      45    M  branca       nao      nenhuma      nenhuma       nenhum   \n",
       "10     63    M  branca    previo          HAS           DM   oncologica   \n",
       "11     79    M   preta       nao          HAS      nenhuma       nenhum   \n",
       "12     79    M  branca       nao          HAS      nenhuma       nenhum   \n",
       "13     52    F   preta       nao           DM      nenhuma       nenhum   \n",
       "14     30    M   preta       sim          HIV      nenhuma       nenhum   \n",
       "\n",
       "   comorbidade4 trombo_na_internacao  desfecho  \\\n",
       "0        nenhum               nenhum         0   \n",
       "1        nenhum               nenhum         0   \n",
       "2        nenhum               nenhum         0   \n",
       "3        nenhum               nenhum         0   \n",
       "4        nenhum               nenhum         0   \n",
       "5        nenhum               nenhum         0   \n",
       "6        nenhum               nenhum         0   \n",
       "7        nenhum                  TVP         0   \n",
       "8        nenhum               nenhum         1   \n",
       "9        nenhum                ambos         0   \n",
       "10       nenhum               nenhum         0   \n",
       "11       nenhum               nenhum         0   \n",
       "12       nenhum               nenhum         1   \n",
       "13       nenhum                  TEP         0   \n",
       "14       nenhum               nenhum         0   \n",
       "\n",
       "                anti-inflamatorio1    anti-inflamatorio2 anti-inflamatorio3  \\\n",
       "0                           nenhum                nenhum             nenhum   \n",
       "1             hidrocortisona 100mg       prednisona 20mg             nenhum   \n",
       "2                           nenhum                nenhum             nenhum   \n",
       "3                  prednisona 20mg                nenhum             nenhum   \n",
       "4   denenhumametasona 4mg/mL 2,5mL  hidrocortisona 100mg    prednisona 20mg   \n",
       "5                           nenhum                nenhum             nenhum   \n",
       "6             hidrocortisona 100mg       prednisona 20mg             nenhum   \n",
       "7                    tiamina 300mg  piridonenhumina 40mg             nenhum   \n",
       "8                           nenhum                nenhum             nenhum   \n",
       "9                           nenhum                nenhum             nenhum   \n",
       "10                 prednisona 20mg                nenhum             nenhum   \n",
       "11                          nenhum                nenhum             nenhum   \n",
       "12  denenhumametasona 4mg/mL 2,5mL                nenhum             nenhum   \n",
       "13                          nenhum                nenhum             nenhum   \n",
       "14            piridonenhumina 40mg                nenhum             nenhum   \n",
       "\n",
       "   anti-inflamatorio_previo        profilaxia_de_trombo1  \\\n",
       "0                       Nao       heparina 5000UI/0,25mL   \n",
       "1                       Nao  enonenhumaparina 40mg/0,4mL   \n",
       "2                       Nao       heparina 5000UI/0,25mL   \n",
       "3                       Sim                       nenhum   \n",
       "4                       Nao                       nenhum   \n",
       "5                       Nao       heparina 5000UI/0,25mL   \n",
       "6                       Sim       heparina 5000UI/0,25mL   \n",
       "7                       Nao  enonenhumaparina 40mg/0,4mL   \n",
       "8                       Nao  enonenhumaparina 40mg/0,4mL   \n",
       "9                       Nao  enonenhumaparina 40mg/0,4mL   \n",
       "10                      Sim       heparina 5000UI/0,25mL   \n",
       "11                      Nao       heparina 5000UI/0,25mL   \n",
       "12                      Nao       heparina 5000UI/0,25mL   \n",
       "13                      Nao       heparina 5000UI/0,25mL   \n",
       "14                      Sim                       nenhum   \n",
       "\n",
       "          profilaxia_de_trombo2 anticoagulante_previo antibiotico1  \\\n",
       "0                        nenhum                   Sim          NaN   \n",
       "1                        nenhum                   Sim          NaN   \n",
       "2                        nenhum                   Sim          NaN   \n",
       "3                        nenhum                   Nao          NaN   \n",
       "4                        nenhum                   Nao          NaN   \n",
       "5                        nenhum                   Sim          NaN   \n",
       "6                        nenhum                   Nao          NaN   \n",
       "7                        nenhum                   Sim          NaN   \n",
       "8                        nenhum                   Sim          NaN   \n",
       "9   enonenhumaparina 60mg/0,6mL                   Sim          NaN   \n",
       "10                       nenhum                   Sim          NaN   \n",
       "11                       nenhum                   Sim          NaN   \n",
       "12                       nenhum                   Nao          NaN   \n",
       "13                       nenhum                   Sim          NaN   \n",
       "14                       nenhum                   Nao          NaN   \n",
       "\n",
       "   antibiotico2  proteina c (mg/dl)  ferritina (ng/ml)  leucócitos ( /ul)  \\\n",
       "0           NaN                 8.0                  0               4830   \n",
       "1           NaN                14.7                  0               5280   \n",
       "2           NaN                 0.0                  0               8650   \n",
       "3           NaN                 6.2                  0               9590   \n",
       "4           NaN                32.0                  0               4230   \n",
       "5           NaN                 4.1               1530               6430   \n",
       "6           NaN                19.3               2380               1260   \n",
       "7           NaN                 4.8                  0               4410   \n",
       "8           NaN                 0.0                  0                  0   \n",
       "9           NaN                17.2                366               2790   \n",
       "10          NaN                 8.8                  0               4480   \n",
       "11          NaN                 0.0                  0              11150   \n",
       "12          NaN                21.1                  0              10260   \n",
       "13          NaN                 2.1                  0               4510   \n",
       "14          NaN                 5.1                  0               2560   \n",
       "\n",
       "    creatinina (mg/dl)  ureia(mg/dl)  d-dimeros (ng/ml) reinfeccao  sintomas  \n",
       "0                 0.76          36.0                  0        nao      leve  \n",
       "1                 0.82          31.0                  0        nao  assintom  \n",
       "2                 0.72           0.0                  0        nao      leve  \n",
       "3                 0.00         142.0                  0        nao      leve  \n",
       "4                15.40         158.0               1535        sim  assintom  \n",
       "5                 1.00          52.0                  0        nao      leve  \n",
       "6                 7.35         191.0               1021        nao      leve  \n",
       "7                 0.68          31.0                437        nao      leve  \n",
       "8                 0.00           0.0                  0        nao  assintom  \n",
       "9                 1.08          22.0                  0        nao      leve  \n",
       "10                1.33          61.0               3760        nao     grave  \n",
       "11                0.89          53.0                  0        nao  assintom  \n",
       "12                1.09          62.0               1657        sim  moderado  \n",
       "13                1.12          22.0               2466        nao      leve  \n",
       "14                1.09          22.0                  0        sim      leve  "
      ]
     },
     "execution_count": 341,
     "metadata": {},
     "output_type": "execute_result"
    }
   ],
   "source": [
    "df.head(15)"
   ]
  },
  {
   "cell_type": "markdown",
   "id": "c0a4f8a3",
   "metadata": {
    "id": "c0a4f8a3"
   },
   "source": [
    "Valores Vazios\n",
    "- Deletar linhas/colunas vazias\n",
    "- Deletar linhas que possuem valores vazios\n",
    "- Preencher valores vazios (último valor)"
   ]
  },
  {
   "cell_type": "code",
   "execution_count": 342,
   "id": "90b1d202",
   "metadata": {
    "id": "90b1d202"
   },
   "outputs": [],
   "source": [
    "# deletar linhas e colunas completamente vazias\n",
    "# df = df.dropna(how='all', axis=1)\n",
    "\n",
    "# deletar linhas que possuem pelo menos 1 valor vazio\n",
    "# df = df.dropna()"
   ]
  },
  {
   "cell_type": "code",
   "execution_count": 343,
   "id": "11fdb482",
   "metadata": {
    "id": "11fdb482"
   },
   "outputs": [],
   "source": [
    "# preencher com o último valor\n",
    "df = df.ffill()"
   ]
  },
  {
   "cell_type": "code",
   "execution_count": 344,
   "id": "0dd4f36c",
   "metadata": {
    "id": "0dd4f36c"
   },
   "outputs": [],
   "source": [
    "# deletar colunas incompletas\n",
    "df = df.drop(columns='antibiotico1')\n",
    "df = df.drop(columns='antibiotico2')\n"
   ]
  },
  {
   "cell_type": "code",
   "execution_count": 345,
   "id": "2e6df69e",
   "metadata": {
    "colab": {
     "base_uri": "https://localhost:8080/"
    },
    "id": "2e6df69e",
    "outputId": "7efe9c1e-e3be-47d2-91c2-e66e37e557f1"
   },
   "outputs": [
    {
     "name": "stdout",
     "output_type": "stream",
     "text": [
      "<class 'pandas.core.frame.DataFrame'>\n",
      "RangeIndex: 429 entries, 0 to 428\n",
      "Data columns (total 25 columns):\n",
      " #   Column                    Non-Null Count  Dtype  \n",
      "---  ------                    --------------  -----  \n",
      " 0   idade                     429 non-null    int64  \n",
      " 1   sexo                      429 non-null    object \n",
      " 2   raca                      429 non-null    object \n",
      " 3   tagabismo                 429 non-null    object \n",
      " 4   comorbidade1              429 non-null    object \n",
      " 5   comorbidade2              429 non-null    object \n",
      " 6   comorbidade3              429 non-null    object \n",
      " 7   comorbidade4              429 non-null    object \n",
      " 8   trombo_na_internacao      429 non-null    object \n",
      " 9   desfecho                  429 non-null    int64  \n",
      " 10  anti-inflamatorio1        429 non-null    object \n",
      " 11  anti-inflamatorio2        429 non-null    object \n",
      " 12  anti-inflamatorio3        429 non-null    object \n",
      " 13  anti-inflamatorio_previo  429 non-null    object \n",
      " 14  profilaxia_de_trombo1     429 non-null    object \n",
      " 15  profilaxia_de_trombo2     429 non-null    object \n",
      " 16  anticoagulante_previo     429 non-null    object \n",
      " 17  proteina c (mg/dl)        429 non-null    float64\n",
      " 18  ferritina (ng/ml)         429 non-null    int64  \n",
      " 19  leucócitos ( /ul)         429 non-null    int64  \n",
      " 20  creatinina (mg/dl)        429 non-null    float64\n",
      " 21  ureia(mg/dl)              429 non-null    float64\n",
      " 22  d-dimeros (ng/ml)         429 non-null    int64  \n",
      " 23  reinfeccao                429 non-null    object \n",
      " 24  sintomas                  429 non-null    object \n",
      "dtypes: float64(3), int64(5), object(17)\n",
      "memory usage: 83.9+ KB\n"
     ]
    }
   ],
   "source": [
    "df.info()"
   ]
  },
  {
   "cell_type": "code",
   "execution_count": 346,
   "id": "f48b1e87",
   "metadata": {
    "colab": {
     "base_uri": "https://localhost:8080/",
     "height": 424
    },
    "id": "f48b1e87",
    "outputId": "bf9a00c5-4a45-4b25-d581-35d35df4f490"
   },
   "outputs": [
    {
     "data": {
      "text/html": [
       "<div>\n",
       "<style scoped>\n",
       "    .dataframe tbody tr th:only-of-type {\n",
       "        vertical-align: middle;\n",
       "    }\n",
       "\n",
       "    .dataframe tbody tr th {\n",
       "        vertical-align: top;\n",
       "    }\n",
       "\n",
       "    .dataframe thead th {\n",
       "        text-align: right;\n",
       "    }\n",
       "</style>\n",
       "<table border=\"1\" class=\"dataframe\">\n",
       "  <thead>\n",
       "    <tr style=\"text-align: right;\">\n",
       "      <th></th>\n",
       "      <th>comorbidade1</th>\n",
       "      <th>comorbidade2</th>\n",
       "      <th>comorbidade3</th>\n",
       "      <th>comorbidade4</th>\n",
       "      <th>desfecho</th>\n",
       "    </tr>\n",
       "  </thead>\n",
       "  <tbody>\n",
       "    <tr>\n",
       "      <th>0</th>\n",
       "      <td>nenhuma</td>\n",
       "      <td>nenhuma</td>\n",
       "      <td>nenhum</td>\n",
       "      <td>nenhum</td>\n",
       "      <td>0</td>\n",
       "    </tr>\n",
       "    <tr>\n",
       "      <th>1</th>\n",
       "      <td>HAS</td>\n",
       "      <td>nenhuma</td>\n",
       "      <td>nenhum</td>\n",
       "      <td>nenhum</td>\n",
       "      <td>0</td>\n",
       "    </tr>\n",
       "    <tr>\n",
       "      <th>2</th>\n",
       "      <td>HAS</td>\n",
       "      <td>DM</td>\n",
       "      <td>nenhum</td>\n",
       "      <td>nenhum</td>\n",
       "      <td>0</td>\n",
       "    </tr>\n",
       "    <tr>\n",
       "      <th>3</th>\n",
       "      <td>HAS</td>\n",
       "      <td>renal-hd</td>\n",
       "      <td>nenhum</td>\n",
       "      <td>nenhum</td>\n",
       "      <td>0</td>\n",
       "    </tr>\n",
       "    <tr>\n",
       "      <th>4</th>\n",
       "      <td>HAS</td>\n",
       "      <td>renal-hd</td>\n",
       "      <td>nenhum</td>\n",
       "      <td>nenhum</td>\n",
       "      <td>0</td>\n",
       "    </tr>\n",
       "    <tr>\n",
       "      <th>...</th>\n",
       "      <td>...</td>\n",
       "      <td>...</td>\n",
       "      <td>...</td>\n",
       "      <td>...</td>\n",
       "      <td>...</td>\n",
       "    </tr>\n",
       "    <tr>\n",
       "      <th>424</th>\n",
       "      <td>HAS</td>\n",
       "      <td>nenhuma</td>\n",
       "      <td>nenhum</td>\n",
       "      <td>nenhum</td>\n",
       "      <td>0</td>\n",
       "    </tr>\n",
       "    <tr>\n",
       "      <th>425</th>\n",
       "      <td>nenhuma</td>\n",
       "      <td>nenhuma</td>\n",
       "      <td>nenhum</td>\n",
       "      <td>nenhum</td>\n",
       "      <td>0</td>\n",
       "    </tr>\n",
       "    <tr>\n",
       "      <th>426</th>\n",
       "      <td>DM</td>\n",
       "      <td>HAS</td>\n",
       "      <td>nenhum</td>\n",
       "      <td>nenhum</td>\n",
       "      <td>0</td>\n",
       "    </tr>\n",
       "    <tr>\n",
       "      <th>427</th>\n",
       "      <td>HAS</td>\n",
       "      <td>ICC</td>\n",
       "      <td>nenhum</td>\n",
       "      <td>nenhum</td>\n",
       "      <td>0</td>\n",
       "    </tr>\n",
       "    <tr>\n",
       "      <th>428</th>\n",
       "      <td>DM</td>\n",
       "      <td>HAS</td>\n",
       "      <td>nenhum</td>\n",
       "      <td>nenhum</td>\n",
       "      <td>0</td>\n",
       "    </tr>\n",
       "  </tbody>\n",
       "</table>\n",
       "<p>429 rows × 5 columns</p>\n",
       "</div>"
      ],
      "text/plain": [
       "    comorbidade1 comorbidade2 comorbidade3 comorbidade4  desfecho\n",
       "0        nenhuma      nenhuma       nenhum       nenhum         0\n",
       "1            HAS      nenhuma       nenhum       nenhum         0\n",
       "2            HAS           DM       nenhum       nenhum         0\n",
       "3            HAS     renal-hd       nenhum       nenhum         0\n",
       "4            HAS     renal-hd       nenhum       nenhum         0\n",
       "..           ...          ...          ...          ...       ...\n",
       "424          HAS      nenhuma       nenhum       nenhum         0\n",
       "425      nenhuma      nenhuma       nenhum       nenhum         0\n",
       "426           DM          HAS       nenhum       nenhum         0\n",
       "427          HAS          ICC       nenhum       nenhum         0\n",
       "428           DM          HAS       nenhum       nenhum         0\n",
       "\n",
       "[429 rows x 5 columns]"
      ]
     },
     "metadata": {},
     "output_type": "display_data"
    }
   ],
   "source": [
    "view_comorbidade_desfecho = df[['comorbidade1','comorbidade2','comorbidade3','comorbidade4', 'desfecho']]\n",
    "display(view_comorbidade_desfecho)"
   ]
  },
  {
   "cell_type": "code",
   "execution_count": 347,
   "id": "f93d9b8a",
   "metadata": {
    "id": "f93d9b8a"
   },
   "outputs": [],
   "source": [
    "# DESFECHO (1-alta/ 2-UTI/ 3-óbito/4-fim isolamento/5-transf.)"
   ]
  },
  {
   "cell_type": "markdown",
   "id": "09c756e8",
   "metadata": {
    "id": "09c756e8"
   },
   "source": [
    "#### Atributos escolhidos: "
   ]
  },
  {
   "cell_type": "code",
   "execution_count": 348,
   "id": "a6aad5ab",
   "metadata": {
    "id": "a6aad5ab"
   },
   "outputs": [],
   "source": [
    "nomes_atributos_numericos = ['idade','proteina c (mg/dl)','ferritina (ng/ml)','leucócitos ( /ul)','creatinina (mg/dl)','ureia(mg/dl)','d-dimeros (ng/ml)']"
   ]
  },
  {
   "cell_type": "code",
   "execution_count": 349,
   "id": "116cd9c9",
   "metadata": {
    "colab": {
     "base_uri": "https://localhost:8080/"
    },
    "id": "116cd9c9",
    "outputId": "1b3dee01-94f1-4d23-b2bd-47ab00dd82bf"
   },
   "outputs": [
    {
     "data": {
      "text/plain": [
       "['idade',\n",
       " 'proteina c (mg/dl)',\n",
       " 'ferritina (ng/ml)',\n",
       " 'leucócitos ( /ul)',\n",
       " 'creatinina (mg/dl)',\n",
       " 'ureia(mg/dl)',\n",
       " 'd-dimeros (ng/ml)']"
      ]
     },
     "execution_count": 349,
     "metadata": {},
     "output_type": "execute_result"
    }
   ],
   "source": [
    "nomes_atributos_numericos"
   ]
  },
  {
   "cell_type": "code",
   "execution_count": 350,
   "id": "5a1cefb6",
   "metadata": {
    "id": "5a1cefb6"
   },
   "outputs": [],
   "source": [
    "nomes_atributos_categoricos = ['sexo','sintomas','raca','tagabismo','comorbidade1','comorbidade2','comorbidade3','comorbidade4','trombo_na_internacao','sintomas','anti-inflamatorio_previo','anticoagulante_previo','reinfeccao']"
   ]
  },
  {
   "cell_type": "code",
   "execution_count": 351,
   "id": "755cf5f9",
   "metadata": {
    "colab": {
     "base_uri": "https://localhost:8080/"
    },
    "id": "755cf5f9",
    "outputId": "b3a621b4-553f-4fd1-cdb1-24ea6dc95407"
   },
   "outputs": [
    {
     "data": {
      "text/plain": [
       "['sexo',\n",
       " 'sintomas',\n",
       " 'raca',\n",
       " 'tagabismo',\n",
       " 'comorbidade1',\n",
       " 'comorbidade2',\n",
       " 'comorbidade3',\n",
       " 'comorbidade4',\n",
       " 'trombo_na_internacao',\n",
       " 'sintomas',\n",
       " 'anti-inflamatorio_previo',\n",
       " 'anticoagulante_previo',\n",
       " 'reinfeccao']"
      ]
     },
     "execution_count": 351,
     "metadata": {},
     "output_type": "execute_result"
    }
   ],
   "source": [
    "nomes_atributos_categoricos"
   ]
  },
  {
   "cell_type": "code",
   "execution_count": 352,
   "id": "6f8fe8d6",
   "metadata": {
    "colab": {
     "base_uri": "https://localhost:8080/"
    },
    "id": "6f8fe8d6",
    "outputId": "8c58532c-e3d0-40b0-e9c9-2bd3276d4eea"
   },
   "outputs": [
    {
     "data": {
      "text/plain": [
       "0    382\n",
       "1     47\n",
       "Name: desfecho, dtype: int64"
      ]
     },
     "execution_count": 352,
     "metadata": {},
     "output_type": "execute_result"
    }
   ],
   "source": [
    "df['desfecho'].value_counts()"
   ]
  },
  {
   "cell_type": "markdown",
   "id": "63ffe010",
   "metadata": {
    "id": "63ffe010"
   },
   "source": [
    "#### Pré-Processamento"
   ]
  },
  {
   "cell_type": "markdown",
   "id": "7fc9e204",
   "metadata": {
    "id": "7fc9e204"
   },
   "source": [
    "#### Separando os conjuntos de treino e teste"
   ]
  },
  {
   "cell_type": "code",
   "execution_count": 353,
   "id": "9abfa34e",
   "metadata": {
    "id": "9abfa34e"
   },
   "outputs": [],
   "source": [
    "from sklearn.model_selection import train_test_split\n",
    "\n",
    "# separando os conjuntos de dados de treino e teste\n",
    "df_treino, df_teste = train_test_split(df, test_size=0.2, random_state=42)\n",
    "\n",
    "# separando a coluna alvo do conjunto de treino\n",
    "df_treino_labels = df_treino['desfecho'].copy()\n",
    "df_treino        = df_treino.drop(columns='desfecho')\n",
    "\n",
    "# separando a coluna alvo do conjunto de teste\n",
    "df_teste_labels = df_teste['desfecho'].copy()\n",
    "df_teste        = df_teste.drop(columns='desfecho')"
   ]
  },
  {
   "cell_type": "code",
   "execution_count": 354,
   "id": "a5500015",
   "metadata": {
    "id": "a5500015"
   },
   "outputs": [],
   "source": [
    "from sklearn.impute import SimpleImputer\n",
    "from sklearn.preprocessing import StandardScaler\n",
    "from sklearn.preprocessing import OneHotEncoder\n",
    "\n",
    "from sklearn.pipeline import Pipeline\n",
    "from sklearn.compose import ColumnTransformer\n",
    "\n",
    "pipeline_atr_numericos = Pipeline([\n",
    "    ('imputer',SimpleImputer(strategy='mean')),\n",
    "    ('scaler', StandardScaler()),\n",
    "])\n",
    "\n",
    "preproc_completo = ColumnTransformer([\n",
    "    ('numericos',   pipeline_atr_numericos, nomes_atributos_numericos),\n",
    "    ('categoricos', OneHotEncoder(),        nomes_atributos_categoricos),\n",
    "    ], \n",
    "    sparse_threshold=0)\n",
    "\n",
    "# pre-processamento do conjunto de treino\n",
    "X_treino = preproc_completo.fit_transform(df_treino)\n",
    "\n",
    "# pre-processamento do conjunto de teste\n",
    "X_teste = preproc_completo.transform(df_teste)\n",
    "\n",
    "# pre-processamento da coluna alvo para treino\n",
    "y_treino = df_treino_labels.values == 1\n",
    "\n",
    "# pre-processamento da coluna alvo para teste\n",
    "y_teste = df_teste_labels.values == 1"
   ]
  },
  {
   "cell_type": "code",
   "execution_count": 355,
   "id": "xb8KkmirAdpn",
   "metadata": {
    "id": "xb8KkmirAdpn"
   },
   "outputs": [],
   "source": [
    "# configurar o estilo dos gráficos com o Seaborn\n",
    "sns.set_style('dark')"
   ]
  },
  {
   "cell_type": "code",
   "execution_count": 356,
   "id": "V19aOYyu_isQ",
   "metadata": {
    "id": "V19aOYyu_isQ"
   },
   "outputs": [],
   "source": [
    "# usar técnica under-sampling\n",
    "# Under-sampling: reduz o desbalanceamento do dataset focando na classe majoritária. Ou seja, elimina aleatoriamente entradas da classe com maior número de ocorrências\n",
    "# rus = RandomUnderSampler()\n",
    "# X_treino, y_treino = rus.fit_resample(X_treino, y_treino)\n"
   ]
  },
  {
   "cell_type": "code",
   "execution_count": 357,
   "id": "4CF-78qPGCY3",
   "metadata": {
    "id": "4CF-78qPGCY3"
   },
   "outputs": [],
   "source": [
    "from imblearn.over_sampling import RandomOverSampler\n",
    "# Over-sampling: cria novas observações da classe minoritária a partir das informações contidas nos dados originais. "
   ]
  },
  {
   "cell_type": "code",
   "execution_count": 358,
   "id": "yCkHpyxgGnJX",
   "metadata": {
    "id": "yCkHpyxgGnJX"
   },
   "outputs": [],
   "source": [
    "oversample = RandomOverSampler(sampling_strategy='minority')"
   ]
  },
  {
   "cell_type": "code",
   "execution_count": 359,
   "id": "HLxp-psOGhcP",
   "metadata": {
    "id": "HLxp-psOGhcP"
   },
   "outputs": [],
   "source": [
    "# fit and apply the transform\n",
    "X_treino, y_treino = oversample.fit_resample(X_treino, y_treino)"
   ]
  },
  {
   "cell_type": "code",
   "execution_count": 360,
   "id": "Ffz0qPCh_jJ3",
   "metadata": {
    "colab": {
     "base_uri": "https://localhost:8080/"
    },
    "id": "Ffz0qPCh_jJ3",
    "outputId": "40e67460-c0b7-45ed-b67d-7c1e8e3fd599"
   },
   "outputs": [
    {
     "name": "stdout",
     "output_type": "stream",
     "text": [
      "False    304\n",
      "True     304\n",
      "dtype: int64\n"
     ]
    }
   ],
   "source": [
    "# ver o balanceamento das classes\n",
    "print(pd.Series(y_treino).value_counts())\n"
   ]
  },
  {
   "cell_type": "code",
   "execution_count": 361,
   "id": "GmOw9hezAJ_Q",
   "metadata": {
    "colab": {
     "base_uri": "https://localhost:8080/",
     "height": 320
    },
    "id": "GmOw9hezAJ_Q",
    "outputId": "7454c1ff-482d-49cb-ff51-5b9e6ddf7247"
   },
   "outputs": [
    {
     "name": "stderr",
     "output_type": "stream",
     "text": [
      "C:\\Users\\Dante\\anaconda3\\lib\\site-packages\\seaborn\\_decorators.py:36: FutureWarning: Pass the following variable as a keyword arg: x. From version 0.12, the only valid positional argument will be `data`, and passing other arguments without an explicit keyword will result in an error or misinterpretation.\n",
      "  warnings.warn(\n"
     ]
    },
    {
     "data": {
      "image/png": "[encoded data removed]",
      "text/plain": [
       "<Figure size 432x288 with 1 Axes>"
      ]
     },
     "metadata": {},
     "output_type": "display_data"
    }
   ],
   "source": [
    "# plotar a nova distribuição de classes\n",
    "sns.countplot(y_treino);"
   ]
  },
  {
   "cell_type": "code",
   "execution_count": 362,
   "id": "37ed527c",
   "metadata": {
    "id": "37ed527c"
   },
   "outputs": [],
   "source": [
    "import tensorflow as tf\n",
    "from tensorflow import keras"
   ]
  },
  {
   "cell_type": "code",
   "execution_count": 363,
   "id": "6bd51fc6",
   "metadata": {
    "colab": {
     "base_uri": "https://localhost:8080/"
    },
    "id": "6bd51fc6",
    "outputId": "93f500f5-d73e-4836-c04c-9d04a2984990"
   },
   "outputs": [
    {
     "data": {
      "text/plain": [
       "array([[ 0.55880269,  0.66566491, -0.27504492, ...,  1.        ,\n",
       "         1.        ,  0.        ],\n",
       "       [-1.31686041, -0.96869008, -0.27504492, ...,  0.        ,\n",
       "         1.        ,  0.        ],\n",
       "       [ 0.26573033,  1.70320488, -0.27504492, ...,  0.        ,\n",
       "         1.        ,  0.        ],\n",
       "       ...,\n",
       "       [ 0.08988692, -0.96869008, -0.27504492, ...,  0.        ,\n",
       "         1.        ,  0.        ],\n",
       "       [-0.73071569,  1.76747726, -0.27504492, ...,  1.        ,\n",
       "         1.        ,  0.        ],\n",
       "       [ 1.02771847, -0.58305575, -0.27504492, ...,  0.        ,\n",
       "         1.        ,  0.        ]])"
      ]
     },
     "execution_count": 363,
     "metadata": {},
     "output_type": "execute_result"
    }
   ],
   "source": [
    "X_treino"
   ]
  },
  {
   "cell_type": "code",
   "execution_count": 364,
   "id": "1d48e54e",
   "metadata": {
    "colab": {
     "base_uri": "https://localhost:8080/"
    },
    "id": "1d48e54e",
    "outputId": "7214601e-2c25-449e-e200-b65e1043c68b"
   },
   "outputs": [
    {
     "data": {
      "text/plain": [
       "(608, 60)"
      ]
     },
     "execution_count": 364,
     "metadata": {},
     "output_type": "execute_result"
    }
   ],
   "source": [
    "X_treino.shape"
   ]
  },
  {
   "cell_type": "code",
   "execution_count": 365,
   "id": "0f3e0842",
   "metadata": {
    "colab": {
     "base_uri": "https://localhost:8080/"
    },
    "id": "0f3e0842",
    "outputId": "f5c1a222-aa8b-4091-9c86-7d91051eeabe"
   },
   "outputs": [
    {
     "data": {
      "text/plain": [
       "(608,)"
      ]
     },
     "execution_count": 365,
     "metadata": {},
     "output_type": "execute_result"
    }
   ],
   "source": [
    "y_treino.shape"
   ]
  },
  {
   "cell_type": "code",
   "execution_count": 366,
   "id": "54bbf379",
   "metadata": {
    "colab": {
     "base_uri": "https://localhost:8080/"
    },
    "id": "54bbf379",
    "outputId": "e88c832f-aed4-41bd-a0a1-59e967965aff"
   },
   "outputs": [
    {
     "data": {
      "text/plain": [
       "(86, 60)"
      ]
     },
     "execution_count": 366,
     "metadata": {},
     "output_type": "execute_result"
    }
   ],
   "source": [
    "X_teste.shape"
   ]
  },
  {
   "cell_type": "code",
   "execution_count": 367,
   "id": "37c0294b",
   "metadata": {
    "colab": {
     "base_uri": "https://localhost:8080/"
    },
    "id": "37c0294b",
    "outputId": "4f429b67-0eea-4b80-c973-0698211824d5"
   },
   "outputs": [
    {
     "data": {
      "text/plain": [
       "(86,)"
      ]
     },
     "execution_count": 367,
     "metadata": {},
     "output_type": "execute_result"
    }
   ],
   "source": [
    "y_teste.shape"
   ]
  },
  {
   "cell_type": "markdown",
   "id": "2bc8300e",
   "metadata": {
    "id": "2bc8300e"
   },
   "source": [
    "- RNA TensorFlow + Keras"
   ]
  },
  {
   "cell_type": "code",
   "execution_count": 368,
   "id": "56eb7a3e",
   "metadata": {
    "id": "56eb7a3e"
   },
   "outputs": [],
   "source": [
    "import tensorflow as tf\n",
    "from tensorflow import keras"
   ]
  },
  {
   "cell_type": "code",
   "execution_count": 369,
   "id": "2af9641b",
   "metadata": {
    "colab": {
     "base_uri": "https://localhost:8080/"
    },
    "id": "2af9641b",
    "outputId": "0db64fdf-eba6-4b6a-c925-90f1abce6327"
   },
   "outputs": [
    {
     "data": {
      "text/plain": [
       "(60,)"
      ]
     },
     "execution_count": 369,
     "metadata": {},
     "output_type": "execute_result"
    }
   ],
   "source": [
    "# Qual o tamanho da entrada?\n",
    "X_treino.shape[1:]"
   ]
  },
  {
   "cell_type": "code",
   "execution_count": 370,
   "id": "f6d90f7c",
   "metadata": {
    "id": "f6d90f7c"
   },
   "outputs": [],
   "source": [
    "model = keras.models.Sequential()\n",
    "model.add(keras.layers.Dense(32, activation=\"relu\",input_shape=X_treino.shape[1:]))\n",
    "model.add(keras.layers.Dense(16, activation=\"relu\"))\n",
    "model.add(keras.layers.Dense(2, activation=\"softmax\"))"
   ]
  },
  {
   "cell_type": "code",
   "execution_count": 371,
   "id": "121c9d6b",
   "metadata": {
    "colab": {
     "base_uri": "https://localhost:8080/"
    },
    "id": "121c9d6b",
    "outputId": "48bf5679-fbf6-4d40-dc9c-1c3f0516a9d7"
   },
   "outputs": [
    {
     "name": "stdout",
     "output_type": "stream",
     "text": [
      "Model: \"sequential_8\"\n",
      "_________________________________________________________________\n",
      " Layer (type)                Output Shape              Param #   \n",
      "=================================================================\n",
      " dense_24 (Dense)            (None, 32)                1952      \n",
      "                                                                 \n",
      " dense_25 (Dense)            (None, 16)                528       \n",
      "                                                                 \n",
      " dense_26 (Dense)            (None, 2)                 34        \n",
      "                                                                 \n",
      "=================================================================\n",
      "Total params: 2,514\n",
      "Trainable params: 2,514\n",
      "Non-trainable params: 0\n",
      "_________________________________________________________________\n"
     ]
    }
   ],
   "source": [
    "model.summary()"
   ]
  },
  {
   "cell_type": "code",
   "execution_count": 372,
   "id": "09d7b90a",
   "metadata": {
    "id": "09d7b90a"
   },
   "outputs": [],
   "source": [
    "# Para modelos de classificação com saída esparsa:    # para classificação com saída densa  # para classificação binária:     \n",
    "model.compile(loss=\"sparse_categorical_crossentropy\", # usar categorical_crossentropy       # usar binary_crossentropy e mudar\n",
    "              optimizer=\"sgd\",                        #                                     # a ativação da camada de saída\n",
    "              metrics=[\"accuracy\"])                   #                                     # para sigmoid\n"
   ]
  },
  {
   "cell_type": "code",
   "execution_count": 373,
   "id": "cOsErwTtiuNQ",
   "metadata": {
    "id": "cOsErwTtiuNQ"
   },
   "outputs": [],
   "source": [
    "# Early Stopping (optimization technique used to reduce overfitting)\n",
    "# early_stopping_cb = keras.callbacks.EarlyStopping(patience=5,restore_best_weights=True)"
   ]
  },
  {
   "cell_type": "markdown",
   "id": "80d7f281",
   "metadata": {
    "id": "80d7f281"
   },
   "source": [
    "#### Treinamento do modelo"
   ]
  },
  {
   "cell_type": "code",
   "execution_count": 374,
   "id": "91b89601",
   "metadata": {
    "colab": {
     "base_uri": "https://localhost:8080/"
    },
    "id": "91b89601",
    "outputId": "b2306169-913b-4bf7-953c-16ca886e7b93"
   },
   "outputs": [
    {
     "name": "stdout",
     "output_type": "stream",
     "text": [
      "Epoch 1/150\n",
      "16/16 [==============================] - 1s 15ms/step - loss: 0.6468 - accuracy: 0.6255 - val_loss: 1.0220 - val_accuracy: 0.0738\n",
      "Epoch 2/150\n",
      "16/16 [==============================] - 0s 4ms/step - loss: 0.6241 - accuracy: 0.6358 - val_loss: 0.9523 - val_accuracy: 0.1475\n",
      "Epoch 3/150\n",
      "16/16 [==============================] - 0s 4ms/step - loss: 0.6045 - accuracy: 0.6543 - val_loss: 0.9200 - val_accuracy: 0.1639\n",
      "Epoch 4/150\n",
      "16/16 [==============================] - 0s 3ms/step - loss: 0.5870 - accuracy: 0.6626 - val_loss: 0.8851 - val_accuracy: 0.2295\n",
      "Epoch 5/150\n",
      "16/16 [==============================] - 0s 4ms/step - loss: 0.5685 - accuracy: 0.6914 - val_loss: 0.8341 - val_accuracy: 0.3361\n",
      "Epoch 6/150\n",
      "16/16 [==============================] - 0s 4ms/step - loss: 0.5505 - accuracy: 0.7263 - val_loss: 0.7843 - val_accuracy: 0.3852\n",
      "Epoch 7/150\n",
      "16/16 [==============================] - 0s 4ms/step - loss: 0.5344 - accuracy: 0.7428 - val_loss: 0.7680 - val_accuracy: 0.4426\n",
      "Epoch 8/150\n",
      "16/16 [==============================] - 0s 4ms/step - loss: 0.5198 - accuracy: 0.7490 - val_loss: 0.7487 - val_accuracy: 0.4918\n",
      "Epoch 9/150\n",
      "16/16 [==============================] - 0s 4ms/step - loss: 0.5049 - accuracy: 0.7593 - val_loss: 0.7117 - val_accuracy: 0.5738\n",
      "Epoch 10/150\n",
      "16/16 [==============================] - 0s 4ms/step - loss: 0.4916 - accuracy: 0.7757 - val_loss: 0.7255 - val_accuracy: 0.5984\n",
      "Epoch 11/150\n",
      "16/16 [==============================] - 0s 4ms/step - loss: 0.4789 - accuracy: 0.7819 - val_loss: 0.7225 - val_accuracy: 0.5984\n",
      "Epoch 12/150\n",
      "16/16 [==============================] - 0s 4ms/step - loss: 0.4668 - accuracy: 0.7881 - val_loss: 0.6817 - val_accuracy: 0.5984\n",
      "Epoch 13/150\n",
      "16/16 [==============================] - 0s 4ms/step - loss: 0.4569 - accuracy: 0.7922 - val_loss: 0.6769 - val_accuracy: 0.6311\n",
      "Epoch 14/150\n",
      "16/16 [==============================] - 0s 4ms/step - loss: 0.4462 - accuracy: 0.8107 - val_loss: 0.6978 - val_accuracy: 0.6311\n",
      "Epoch 15/150\n",
      "16/16 [==============================] - 0s 4ms/step - loss: 0.4374 - accuracy: 0.8189 - val_loss: 0.6864 - val_accuracy: 0.6475\n",
      "Epoch 16/150\n",
      "16/16 [==============================] - 0s 4ms/step - loss: 0.4288 - accuracy: 0.8230 - val_loss: 0.6598 - val_accuracy: 0.6803\n",
      "Epoch 17/150\n",
      "16/16 [==============================] - 0s 4ms/step - loss: 0.4211 - accuracy: 0.8230 - val_loss: 0.6403 - val_accuracy: 0.6803\n",
      "Epoch 18/150\n",
      "16/16 [==============================] - 0s 4ms/step - loss: 0.4136 - accuracy: 0.8251 - val_loss: 0.5984 - val_accuracy: 0.7213\n",
      "Epoch 19/150\n",
      "16/16 [==============================] - 0s 4ms/step - loss: 0.4075 - accuracy: 0.8313 - val_loss: 0.5817 - val_accuracy: 0.7213\n",
      "Epoch 20/150\n",
      "16/16 [==============================] - 0s 4ms/step - loss: 0.4004 - accuracy: 0.8313 - val_loss: 0.6027 - val_accuracy: 0.6885\n",
      "Epoch 21/150\n",
      "16/16 [==============================] - 0s 4ms/step - loss: 0.3934 - accuracy: 0.8374 - val_loss: 0.5873 - val_accuracy: 0.7213\n",
      "Epoch 22/150\n",
      "16/16 [==============================] - 0s 4ms/step - loss: 0.3878 - accuracy: 0.8395 - val_loss: 0.5825 - val_accuracy: 0.7213\n",
      "Epoch 23/150\n",
      "16/16 [==============================] - 0s 4ms/step - loss: 0.3821 - accuracy: 0.8416 - val_loss: 0.5809 - val_accuracy: 0.7213\n",
      "Epoch 24/150\n",
      "16/16 [==============================] - 0s 4ms/step - loss: 0.3765 - accuracy: 0.8374 - val_loss: 0.5648 - val_accuracy: 0.6803\n",
      "Epoch 25/150\n",
      "16/16 [==============================] - 0s 4ms/step - loss: 0.3712 - accuracy: 0.8354 - val_loss: 0.5493 - val_accuracy: 0.6803\n",
      "Epoch 26/150\n",
      "16/16 [==============================] - 0s 4ms/step - loss: 0.3660 - accuracy: 0.8354 - val_loss: 0.5158 - val_accuracy: 0.6803\n",
      "Epoch 27/150\n",
      "16/16 [==============================] - 0s 4ms/step - loss: 0.3597 - accuracy: 0.8436 - val_loss: 0.5373 - val_accuracy: 0.6803\n",
      "Epoch 28/150\n",
      "16/16 [==============================] - 0s 4ms/step - loss: 0.3543 - accuracy: 0.8313 - val_loss: 0.5241 - val_accuracy: 0.7213\n",
      "Epoch 29/150\n",
      "16/16 [==============================] - 0s 4ms/step - loss: 0.3484 - accuracy: 0.8395 - val_loss: 0.5565 - val_accuracy: 0.6885\n",
      "Epoch 30/150\n",
      "16/16 [==============================] - 0s 4ms/step - loss: 0.3437 - accuracy: 0.8436 - val_loss: 0.5516 - val_accuracy: 0.6885\n",
      "Epoch 31/150\n",
      "16/16 [==============================] - 0s 4ms/step - loss: 0.3395 - accuracy: 0.8416 - val_loss: 0.5104 - val_accuracy: 0.7213\n",
      "Epoch 32/150\n",
      "16/16 [==============================] - 0s 4ms/step - loss: 0.3332 - accuracy: 0.8416 - val_loss: 0.5045 - val_accuracy: 0.7213\n",
      "Epoch 33/150\n",
      "16/16 [==============================] - 0s 4ms/step - loss: 0.3284 - accuracy: 0.8519 - val_loss: 0.4787 - val_accuracy: 0.7377\n",
      "Epoch 34/150\n",
      "16/16 [==============================] - 0s 4ms/step - loss: 0.3236 - accuracy: 0.8498 - val_loss: 0.4230 - val_accuracy: 0.8279\n",
      "Epoch 35/150\n",
      "16/16 [==============================] - 0s 4ms/step - loss: 0.3202 - accuracy: 0.8498 - val_loss: 0.4494 - val_accuracy: 0.7377\n",
      "Epoch 36/150\n",
      "16/16 [==============================] - 0s 4ms/step - loss: 0.3163 - accuracy: 0.8498 - val_loss: 0.4546 - val_accuracy: 0.7377\n",
      "Epoch 37/150\n",
      "16/16 [==============================] - 0s 4ms/step - loss: 0.3117 - accuracy: 0.8560 - val_loss: 0.4741 - val_accuracy: 0.7377\n",
      "Epoch 38/150\n",
      "16/16 [==============================] - 0s 4ms/step - loss: 0.3075 - accuracy: 0.8683 - val_loss: 0.4033 - val_accuracy: 0.7869\n",
      "Epoch 39/150\n",
      "16/16 [==============================] - 0s 3ms/step - loss: 0.3043 - accuracy: 0.8642 - val_loss: 0.4870 - val_accuracy: 0.7869\n",
      "Epoch 40/150\n",
      "16/16 [==============================] - 0s 4ms/step - loss: 0.3004 - accuracy: 0.8745 - val_loss: 0.4489 - val_accuracy: 0.7869\n",
      "Epoch 41/150\n",
      "16/16 [==============================] - 0s 4ms/step - loss: 0.2962 - accuracy: 0.8786 - val_loss: 0.4541 - val_accuracy: 0.7869\n",
      "Epoch 42/150\n",
      "16/16 [==============================] - 0s 4ms/step - loss: 0.2927 - accuracy: 0.8827 - val_loss: 0.4338 - val_accuracy: 0.7869\n",
      "Epoch 43/150\n",
      "16/16 [==============================] - 0s 4ms/step - loss: 0.2898 - accuracy: 0.8807 - val_loss: 0.4269 - val_accuracy: 0.7869\n",
      "Epoch 44/150\n",
      "16/16 [==============================] - 0s 4ms/step - loss: 0.2856 - accuracy: 0.8807 - val_loss: 0.4851 - val_accuracy: 0.7623\n",
      "Epoch 45/150\n",
      "16/16 [==============================] - 0s 4ms/step - loss: 0.2842 - accuracy: 0.8868 - val_loss: 0.4578 - val_accuracy: 0.7623\n",
      "Epoch 46/150\n",
      "16/16 [==============================] - 0s 4ms/step - loss: 0.2800 - accuracy: 0.8765 - val_loss: 0.4666 - val_accuracy: 0.7623\n",
      "Epoch 47/150\n",
      "16/16 [==============================] - 0s 4ms/step - loss: 0.2760 - accuracy: 0.8889 - val_loss: 0.3798 - val_accuracy: 0.7869\n",
      "Epoch 48/150\n",
      "16/16 [==============================] - 0s 4ms/step - loss: 0.2740 - accuracy: 0.8868 - val_loss: 0.4391 - val_accuracy: 0.7623\n",
      "Epoch 49/150\n",
      "16/16 [==============================] - 0s 4ms/step - loss: 0.2709 - accuracy: 0.8765 - val_loss: 0.4412 - val_accuracy: 0.7623\n",
      "Epoch 50/150\n",
      "16/16 [==============================] - 0s 4ms/step - loss: 0.2691 - accuracy: 0.8827 - val_loss: 0.3977 - val_accuracy: 0.7623\n",
      "Epoch 51/150\n",
      "16/16 [==============================] - 0s 5ms/step - loss: 0.2657 - accuracy: 0.8827 - val_loss: 0.4354 - val_accuracy: 0.7623\n",
      "Epoch 52/150\n",
      "16/16 [==============================] - 0s 4ms/step - loss: 0.2624 - accuracy: 0.8848 - val_loss: 0.3986 - val_accuracy: 0.7705\n",
      "Epoch 53/150\n",
      "16/16 [==============================] - 0s 3ms/step - loss: 0.2600 - accuracy: 0.8889 - val_loss: 0.3902 - val_accuracy: 0.7705\n",
      "Epoch 54/150\n",
      "16/16 [==============================] - 0s 4ms/step - loss: 0.2578 - accuracy: 0.8868 - val_loss: 0.4143 - val_accuracy: 0.7623\n",
      "Epoch 55/150\n",
      "16/16 [==============================] - 0s 3ms/step - loss: 0.2554 - accuracy: 0.8889 - val_loss: 0.3793 - val_accuracy: 0.7705\n",
      "Epoch 56/150\n",
      "16/16 [==============================] - 0s 4ms/step - loss: 0.2529 - accuracy: 0.8930 - val_loss: 0.3963 - val_accuracy: 0.7623\n",
      "Epoch 57/150\n",
      "16/16 [==============================] - 0s 4ms/step - loss: 0.2504 - accuracy: 0.8868 - val_loss: 0.4058 - val_accuracy: 0.7623\n",
      "Epoch 58/150\n",
      "16/16 [==============================] - 0s 3ms/step - loss: 0.2475 - accuracy: 0.8889 - val_loss: 0.3402 - val_accuracy: 0.7951\n"
     ]
    },
    {
     "name": "stdout",
     "output_type": "stream",
     "text": [
      "Epoch 59/150\n",
      "16/16 [==============================] - 0s 4ms/step - loss: 0.2454 - accuracy: 0.8951 - val_loss: 0.3780 - val_accuracy: 0.7705\n",
      "Epoch 60/150\n",
      "16/16 [==============================] - 0s 4ms/step - loss: 0.2431 - accuracy: 0.8930 - val_loss: 0.3412 - val_accuracy: 0.7951\n",
      "Epoch 61/150\n",
      "16/16 [==============================] - 0s 4ms/step - loss: 0.2402 - accuracy: 0.8971 - val_loss: 0.3909 - val_accuracy: 0.7705\n",
      "Epoch 62/150\n",
      "16/16 [==============================] - 0s 3ms/step - loss: 0.2375 - accuracy: 0.8992 - val_loss: 0.3815 - val_accuracy: 0.7705\n",
      "Epoch 63/150\n",
      "16/16 [==============================] - 0s 4ms/step - loss: 0.2354 - accuracy: 0.8951 - val_loss: 0.3639 - val_accuracy: 0.7705\n",
      "Epoch 64/150\n",
      "16/16 [==============================] - 0s 3ms/step - loss: 0.2329 - accuracy: 0.8971 - val_loss: 0.3647 - val_accuracy: 0.7705\n",
      "Epoch 65/150\n",
      "16/16 [==============================] - 0s 4ms/step - loss: 0.2304 - accuracy: 0.8992 - val_loss: 0.3354 - val_accuracy: 0.7705\n",
      "Epoch 66/150\n",
      "16/16 [==============================] - 0s 3ms/step - loss: 0.2285 - accuracy: 0.9033 - val_loss: 0.3709 - val_accuracy: 0.7705\n",
      "Epoch 67/150\n",
      "16/16 [==============================] - 0s 4ms/step - loss: 0.2266 - accuracy: 0.9033 - val_loss: 0.3621 - val_accuracy: 0.7705\n",
      "Epoch 68/150\n",
      "16/16 [==============================] - 0s 4ms/step - loss: 0.2243 - accuracy: 0.9053 - val_loss: 0.4270 - val_accuracy: 0.7541\n",
      "Epoch 69/150\n",
      "16/16 [==============================] - 0s 3ms/step - loss: 0.2242 - accuracy: 0.9033 - val_loss: 0.3856 - val_accuracy: 0.7705\n",
      "Epoch 70/150\n",
      "16/16 [==============================] - 0s 3ms/step - loss: 0.2210 - accuracy: 0.9033 - val_loss: 0.3292 - val_accuracy: 0.8115\n",
      "Epoch 71/150\n",
      "16/16 [==============================] - 0s 4ms/step - loss: 0.2203 - accuracy: 0.9156 - val_loss: 0.3185 - val_accuracy: 0.8115\n",
      "Epoch 72/150\n",
      "16/16 [==============================] - 0s 4ms/step - loss: 0.2172 - accuracy: 0.9177 - val_loss: 0.3535 - val_accuracy: 0.8115\n",
      "Epoch 73/150\n",
      "16/16 [==============================] - 0s 4ms/step - loss: 0.2151 - accuracy: 0.9136 - val_loss: 0.3575 - val_accuracy: 0.7951\n",
      "Epoch 74/150\n",
      "16/16 [==============================] - 0s 4ms/step - loss: 0.2134 - accuracy: 0.9156 - val_loss: 0.3565 - val_accuracy: 0.7787\n",
      "Epoch 75/150\n",
      "16/16 [==============================] - 0s 4ms/step - loss: 0.2124 - accuracy: 0.9136 - val_loss: 0.3864 - val_accuracy: 0.7787\n",
      "Epoch 76/150\n",
      "16/16 [==============================] - 0s 4ms/step - loss: 0.2111 - accuracy: 0.9239 - val_loss: 0.4051 - val_accuracy: 0.7541\n",
      "Epoch 77/150\n",
      "16/16 [==============================] - 0s 4ms/step - loss: 0.2101 - accuracy: 0.9136 - val_loss: 0.2837 - val_accuracy: 0.8361\n",
      "Epoch 78/150\n",
      "16/16 [==============================] - 0s 4ms/step - loss: 0.2069 - accuracy: 0.9156 - val_loss: 0.2693 - val_accuracy: 0.8770\n",
      "Epoch 79/150\n",
      "16/16 [==============================] - 0s 3ms/step - loss: 0.2052 - accuracy: 0.9300 - val_loss: 0.3130 - val_accuracy: 0.8115\n",
      "Epoch 80/150\n",
      "16/16 [==============================] - 0s 4ms/step - loss: 0.2033 - accuracy: 0.9259 - val_loss: 0.3004 - val_accuracy: 0.8361\n",
      "Epoch 81/150\n",
      "16/16 [==============================] - 0s 4ms/step - loss: 0.2022 - accuracy: 0.9198 - val_loss: 0.2816 - val_accuracy: 0.8361\n",
      "Epoch 82/150\n",
      "16/16 [==============================] - 0s 4ms/step - loss: 0.1999 - accuracy: 0.9259 - val_loss: 0.2669 - val_accuracy: 0.8770\n",
      "Epoch 83/150\n",
      "16/16 [==============================] - 0s 4ms/step - loss: 0.1982 - accuracy: 0.9280 - val_loss: 0.2688 - val_accuracy: 0.8770\n",
      "Epoch 84/150\n",
      "16/16 [==============================] - 0s 4ms/step - loss: 0.1963 - accuracy: 0.9300 - val_loss: 0.2925 - val_accuracy: 0.8361\n",
      "Epoch 85/150\n",
      "16/16 [==============================] - 0s 3ms/step - loss: 0.1945 - accuracy: 0.9362 - val_loss: 0.2950 - val_accuracy: 0.8361\n",
      "Epoch 86/150\n",
      "16/16 [==============================] - 0s 4ms/step - loss: 0.1937 - accuracy: 0.9321 - val_loss: 0.3199 - val_accuracy: 0.8115\n",
      "Epoch 87/150\n",
      "16/16 [==============================] - 0s 4ms/step - loss: 0.1928 - accuracy: 0.9280 - val_loss: 0.3130 - val_accuracy: 0.8115\n",
      "Epoch 88/150\n",
      "16/16 [==============================] - 0s 4ms/step - loss: 0.1901 - accuracy: 0.9280 - val_loss: 0.2791 - val_accuracy: 0.8361\n",
      "Epoch 89/150\n",
      "16/16 [==============================] - 0s 3ms/step - loss: 0.1885 - accuracy: 0.9321 - val_loss: 0.3125 - val_accuracy: 0.8115\n",
      "Epoch 90/150\n",
      "16/16 [==============================] - 0s 4ms/step - loss: 0.1870 - accuracy: 0.9342 - val_loss: 0.2940 - val_accuracy: 0.8361\n",
      "Epoch 91/150\n",
      "16/16 [==============================] - 0s 4ms/step - loss: 0.1860 - accuracy: 0.9342 - val_loss: 0.2833 - val_accuracy: 0.8361\n",
      "Epoch 92/150\n",
      "16/16 [==============================] - 0s 4ms/step - loss: 0.1842 - accuracy: 0.9403 - val_loss: 0.3084 - val_accuracy: 0.8361\n",
      "Epoch 93/150\n",
      "16/16 [==============================] - 0s 4ms/step - loss: 0.1825 - accuracy: 0.9383 - val_loss: 0.2468 - val_accuracy: 0.9098\n",
      "Epoch 94/150\n",
      "16/16 [==============================] - 0s 4ms/step - loss: 0.1815 - accuracy: 0.9403 - val_loss: 0.2750 - val_accuracy: 0.9098\n",
      "Epoch 95/150\n",
      "16/16 [==============================] - 0s 4ms/step - loss: 0.1798 - accuracy: 0.9424 - val_loss: 0.2642 - val_accuracy: 0.9098\n",
      "Epoch 96/150\n",
      "16/16 [==============================] - 0s 4ms/step - loss: 0.1779 - accuracy: 0.9506 - val_loss: 0.2749 - val_accuracy: 0.8770\n",
      "Epoch 97/150\n",
      "16/16 [==============================] - 0s 4ms/step - loss: 0.1770 - accuracy: 0.9424 - val_loss: 0.2830 - val_accuracy: 0.8770\n",
      "Epoch 98/150\n",
      "16/16 [==============================] - 0s 4ms/step - loss: 0.1749 - accuracy: 0.9465 - val_loss: 0.2467 - val_accuracy: 0.9098\n",
      "Epoch 99/150\n",
      "16/16 [==============================] - 0s 4ms/step - loss: 0.1746 - accuracy: 0.9465 - val_loss: 0.2592 - val_accuracy: 0.9098\n",
      "Epoch 100/150\n",
      "16/16 [==============================] - 0s 4ms/step - loss: 0.1741 - accuracy: 0.9527 - val_loss: 0.2487 - val_accuracy: 0.9098\n",
      "Epoch 101/150\n",
      "16/16 [==============================] - 0s 4ms/step - loss: 0.1712 - accuracy: 0.9506 - val_loss: 0.2366 - val_accuracy: 0.9098\n",
      "Epoch 102/150\n",
      "16/16 [==============================] - 0s 4ms/step - loss: 0.1705 - accuracy: 0.9568 - val_loss: 0.2735 - val_accuracy: 0.8770\n",
      "Epoch 103/150\n",
      "16/16 [==============================] - 0s 4ms/step - loss: 0.1696 - accuracy: 0.9506 - val_loss: 0.2855 - val_accuracy: 0.8361\n",
      "Epoch 104/150\n",
      "16/16 [==============================] - 0s 4ms/step - loss: 0.1678 - accuracy: 0.9444 - val_loss: 0.2340 - val_accuracy: 0.9098\n",
      "Epoch 105/150\n",
      "16/16 [==============================] - 0s 4ms/step - loss: 0.1668 - accuracy: 0.9547 - val_loss: 0.2836 - val_accuracy: 0.8361\n",
      "Epoch 106/150\n",
      "16/16 [==============================] - 0s 4ms/step - loss: 0.1661 - accuracy: 0.9547 - val_loss: 0.2518 - val_accuracy: 0.9098\n",
      "Epoch 107/150\n",
      "16/16 [==============================] - 0s 3ms/step - loss: 0.1632 - accuracy: 0.9588 - val_loss: 0.2345 - val_accuracy: 0.9672\n",
      "Epoch 108/150\n",
      "16/16 [==============================] - 0s 4ms/step - loss: 0.1620 - accuracy: 0.9547 - val_loss: 0.2501 - val_accuracy: 0.9098\n",
      "Epoch 109/150\n",
      "16/16 [==============================] - 0s 4ms/step - loss: 0.1612 - accuracy: 0.9609 - val_loss: 0.2269 - val_accuracy: 0.9672\n",
      "Epoch 110/150\n",
      "16/16 [==============================] - 0s 4ms/step - loss: 0.1602 - accuracy: 0.9630 - val_loss: 0.2854 - val_accuracy: 0.8361\n",
      "Epoch 111/150\n",
      "16/16 [==============================] - 0s 4ms/step - loss: 0.1596 - accuracy: 0.9568 - val_loss: 0.2230 - val_accuracy: 0.9672\n",
      "Epoch 112/150\n",
      "16/16 [==============================] - 0s 3ms/step - loss: 0.1569 - accuracy: 0.9650 - val_loss: 0.2392 - val_accuracy: 0.9098\n",
      "Epoch 113/150\n",
      "16/16 [==============================] - 0s 3ms/step - loss: 0.1559 - accuracy: 0.9609 - val_loss: 0.2399 - val_accuracy: 0.9098\n",
      "Epoch 114/150\n",
      "16/16 [==============================] - 0s 4ms/step - loss: 0.1545 - accuracy: 0.9630 - val_loss: 0.2438 - val_accuracy: 0.9098\n",
      "Epoch 115/150\n",
      "16/16 [==============================] - 0s 4ms/step - loss: 0.1541 - accuracy: 0.9609 - val_loss: 0.2241 - val_accuracy: 0.9098\n",
      "Epoch 116/150\n"
     ]
    },
    {
     "name": "stdout",
     "output_type": "stream",
     "text": [
      "16/16 [==============================] - 0s 4ms/step - loss: 0.1524 - accuracy: 0.9609 - val_loss: 0.1986 - val_accuracy: 0.9672\n",
      "Epoch 117/150\n",
      "16/16 [==============================] - 0s 4ms/step - loss: 0.1509 - accuracy: 0.9650 - val_loss: 0.2112 - val_accuracy: 0.9672\n",
      "Epoch 118/150\n",
      "16/16 [==============================] - 0s 3ms/step - loss: 0.1488 - accuracy: 0.9650 - val_loss: 0.2119 - val_accuracy: 0.9672\n",
      "Epoch 119/150\n",
      "16/16 [==============================] - 0s 4ms/step - loss: 0.1478 - accuracy: 0.9630 - val_loss: 0.2058 - val_accuracy: 0.9672\n",
      "Epoch 120/150\n",
      "16/16 [==============================] - 0s 3ms/step - loss: 0.1466 - accuracy: 0.9650 - val_loss: 0.1870 - val_accuracy: 0.9672\n",
      "Epoch 121/150\n",
      "16/16 [==============================] - 0s 4ms/step - loss: 0.1458 - accuracy: 0.9630 - val_loss: 0.1860 - val_accuracy: 0.9672\n",
      "Epoch 122/150\n",
      "16/16 [==============================] - 0s 3ms/step - loss: 0.1452 - accuracy: 0.9650 - val_loss: 0.2095 - val_accuracy: 0.9672\n",
      "Epoch 123/150\n",
      "16/16 [==============================] - 0s 4ms/step - loss: 0.1448 - accuracy: 0.9630 - val_loss: 0.1883 - val_accuracy: 0.9672\n",
      "Epoch 124/150\n",
      "16/16 [==============================] - 0s 4ms/step - loss: 0.1424 - accuracy: 0.9671 - val_loss: 0.1866 - val_accuracy: 0.9672\n",
      "Epoch 125/150\n",
      "16/16 [==============================] - 0s 4ms/step - loss: 0.1409 - accuracy: 0.9671 - val_loss: 0.2420 - val_accuracy: 0.9098\n",
      "Epoch 126/150\n",
      "16/16 [==============================] - 0s 3ms/step - loss: 0.1409 - accuracy: 0.9630 - val_loss: 0.2119 - val_accuracy: 0.9672\n",
      "Epoch 127/150\n",
      "16/16 [==============================] - 0s 4ms/step - loss: 0.1385 - accuracy: 0.9671 - val_loss: 0.1970 - val_accuracy: 0.9672\n",
      "Epoch 128/150\n",
      "16/16 [==============================] - 0s 4ms/step - loss: 0.1378 - accuracy: 0.9671 - val_loss: 0.1851 - val_accuracy: 0.9672\n",
      "Epoch 129/150\n",
      "16/16 [==============================] - 0s 4ms/step - loss: 0.1367 - accuracy: 0.9650 - val_loss: 0.1627 - val_accuracy: 1.0000\n",
      "Epoch 130/150\n",
      "16/16 [==============================] - 0s 4ms/step - loss: 0.1362 - accuracy: 0.9691 - val_loss: 0.2363 - val_accuracy: 0.9672\n",
      "Epoch 131/150\n",
      "16/16 [==============================] - 0s 4ms/step - loss: 0.1354 - accuracy: 0.9671 - val_loss: 0.1671 - val_accuracy: 1.0000\n",
      "Epoch 132/150\n",
      "16/16 [==============================] - 0s 4ms/step - loss: 0.1331 - accuracy: 0.9671 - val_loss: 0.1791 - val_accuracy: 1.0000\n",
      "Epoch 133/150\n",
      "16/16 [==============================] - 0s 3ms/step - loss: 0.1326 - accuracy: 0.9691 - val_loss: 0.1654 - val_accuracy: 1.0000\n",
      "Epoch 134/150\n",
      "16/16 [==============================] - 0s 4ms/step - loss: 0.1309 - accuracy: 0.9712 - val_loss: 0.1615 - val_accuracy: 1.0000\n",
      "Epoch 135/150\n",
      "16/16 [==============================] - 0s 4ms/step - loss: 0.1300 - accuracy: 0.9712 - val_loss: 0.1901 - val_accuracy: 0.9672\n",
      "Epoch 136/150\n",
      "16/16 [==============================] - 0s 4ms/step - loss: 0.1288 - accuracy: 0.9671 - val_loss: 0.1696 - val_accuracy: 1.0000\n",
      "Epoch 137/150\n",
      "16/16 [==============================] - 0s 4ms/step - loss: 0.1272 - accuracy: 0.9712 - val_loss: 0.2308 - val_accuracy: 0.9672\n",
      "Epoch 138/150\n",
      "16/16 [==============================] - 0s 3ms/step - loss: 0.1279 - accuracy: 0.9671 - val_loss: 0.1557 - val_accuracy: 1.0000\n",
      "Epoch 139/150\n",
      "16/16 [==============================] - 0s 3ms/step - loss: 0.1262 - accuracy: 0.9671 - val_loss: 0.1736 - val_accuracy: 0.9672\n",
      "Epoch 140/150\n",
      "16/16 [==============================] - 0s 4ms/step - loss: 0.1250 - accuracy: 0.9671 - val_loss: 0.1597 - val_accuracy: 1.0000\n",
      "Epoch 141/150\n",
      "16/16 [==============================] - 0s 4ms/step - loss: 0.1253 - accuracy: 0.9671 - val_loss: 0.1749 - val_accuracy: 0.9672\n",
      "Epoch 142/150\n",
      "16/16 [==============================] - 0s 4ms/step - loss: 0.1229 - accuracy: 0.9671 - val_loss: 0.1689 - val_accuracy: 0.9672\n",
      "Epoch 143/150\n",
      "16/16 [==============================] - 0s 3ms/step - loss: 0.1215 - accuracy: 0.9671 - val_loss: 0.1710 - val_accuracy: 0.9672\n",
      "Epoch 144/150\n",
      "16/16 [==============================] - 0s 4ms/step - loss: 0.1212 - accuracy: 0.9671 - val_loss: 0.1916 - val_accuracy: 0.9672\n",
      "Epoch 145/150\n",
      "16/16 [==============================] - 0s 3ms/step - loss: 0.1200 - accuracy: 0.9671 - val_loss: 0.2012 - val_accuracy: 0.9672\n",
      "Epoch 146/150\n",
      "16/16 [==============================] - 0s 4ms/step - loss: 0.1195 - accuracy: 0.9671 - val_loss: 0.1670 - val_accuracy: 0.9672\n",
      "Epoch 147/150\n",
      "16/16 [==============================] - 0s 4ms/step - loss: 0.1183 - accuracy: 0.9671 - val_loss: 0.2347 - val_accuracy: 0.9672\n",
      "Epoch 148/150\n",
      "16/16 [==============================] - 0s 3ms/step - loss: 0.1186 - accuracy: 0.9691 - val_loss: 0.1568 - val_accuracy: 1.0000\n",
      "Epoch 149/150\n",
      "16/16 [==============================] - 0s 4ms/step - loss: 0.1162 - accuracy: 0.9671 - val_loss: 0.1577 - val_accuracy: 1.0000\n",
      "Epoch 150/150\n",
      "16/16 [==============================] - 0s 5ms/step - loss: 0.1156 - accuracy: 0.9712 - val_loss: 0.1690 - val_accuracy: 1.0000\n"
     ]
    }
   ],
   "source": [
    "# history = model.fit(X_treino, y_treino, epochs=150, validation_split=0.2, callbacks=[early_stopping_cb])\n",
    "history = model.fit(X_treino, y_treino, epochs=150, validation_split=0.2)"
   ]
  },
  {
   "cell_type": "markdown",
   "id": "9efbb3db",
   "metadata": {
    "id": "9efbb3db"
   },
   "source": [
    "#### Avaliação da evolução do treinamento"
   ]
  },
  {
   "cell_type": "code",
   "execution_count": 375,
   "id": "1369c7b4",
   "metadata": {
    "colab": {
     "base_uri": "https://localhost:8080/",
     "height": 378
    },
    "id": "1369c7b4",
    "outputId": "b852eada-c605-41c1-933d-40aaf5c09277"
   },
   "outputs": [
    {
     "data": {
      "image/png": "[encoded data removed]",
      "text/plain": [
       "<Figure size 720x432 with 1 Axes>"
      ]
     },
     "metadata": {},
     "output_type": "display_data"
    }
   ],
   "source": [
    "pd.DataFrame(history.history).plot(figsize=(10,6))\n",
    "plt.grid(True)\n",
    "plt.gca().set_ylim(0,1)\n",
    "plt.show()"
   ]
  },
  {
   "cell_type": "markdown",
   "id": "7b88d149",
   "metadata": {
    "id": "7b88d149"
   },
   "source": [
    "#### Avaliação do desempenho do modelo treinado"
   ]
  },
  {
   "cell_type": "code",
   "execution_count": 376,
   "id": "ed960dfb",
   "metadata": {
    "id": "ed960dfb"
   },
   "outputs": [
    {
     "name": "stdout",
     "output_type": "stream",
     "text": [
      "3/3 [==============================] - 0s 4ms/step\n"
     ]
    }
   ],
   "source": [
    "y_previsto_rna_proba = model.predict(X_teste)"
   ]
  },
  {
   "cell_type": "code",
   "execution_count": 377,
   "id": "050417d0",
   "metadata": {
    "colab": {
     "base_uri": "https://localhost:8080/"
    },
    "id": "050417d0",
    "outputId": "1f9b74e6-a708-47ee-ab2b-92df38970768"
   },
   "outputs": [
    {
     "data": {
      "text/plain": [
       "array([[1.  , 0.  ],\n",
       "       [0.9 , 0.1 ],\n",
       "       [0.73, 0.27],\n",
       "       [0.74, 0.26],\n",
       "       [0.52, 0.48],\n",
       "       [0.99, 0.01],\n",
       "       [1.  , 0.  ],\n",
       "       [0.92, 0.08],\n",
       "       [0.68, 0.32],\n",
       "       [0.99, 0.01],\n",
       "       [1.  , 0.  ],\n",
       "       [0.98, 0.02],\n",
       "       [1.  , 0.  ],\n",
       "       [1.  , 0.  ],\n",
       "       [1.  , 0.  ],\n",
       "       [0.91, 0.09],\n",
       "       [1.  , 0.  ],\n",
       "       [0.03, 0.97],\n",
       "       [1.  , 0.  ],\n",
       "       [0.5 , 0.5 ],\n",
       "       [0.99, 0.01],\n",
       "       [0.99, 0.01],\n",
       "       [0.99, 0.01],\n",
       "       [1.  , 0.  ],\n",
       "       [1.  , 0.  ],\n",
       "       [1.  , 0.  ],\n",
       "       [0.78, 0.22],\n",
       "       [1.  , 0.  ],\n",
       "       [0.96, 0.04],\n",
       "       [0.76, 0.24],\n",
       "       [1.  , 0.  ],\n",
       "       [1.  , 0.  ],\n",
       "       [0.67, 0.33],\n",
       "       [1.  , 0.  ],\n",
       "       [1.  , 0.  ],\n",
       "       [0.99, 0.01],\n",
       "       [1.  , 0.  ],\n",
       "       [0.8 , 0.2 ],\n",
       "       [0.27, 0.73],\n",
       "       [0.99, 0.01],\n",
       "       [0.41, 0.59],\n",
       "       [0.88, 0.12],\n",
       "       [0.84, 0.16],\n",
       "       [0.8 , 0.2 ],\n",
       "       [0.99, 0.01],\n",
       "       [1.  , 0.  ],\n",
       "       [1.  , 0.  ],\n",
       "       [1.  , 0.  ],\n",
       "       [1.  , 0.  ],\n",
       "       [0.16, 0.84],\n",
       "       [0.99, 0.01],\n",
       "       [1.  , 0.  ],\n",
       "       [0.97, 0.03],\n",
       "       [1.  , 0.  ],\n",
       "       [0.6 , 0.4 ],\n",
       "       [1.  , 0.  ],\n",
       "       [1.  , 0.  ],\n",
       "       [0.99, 0.01],\n",
       "       [1.  , 0.  ],\n",
       "       [1.  , 0.  ],\n",
       "       [0.98, 0.02],\n",
       "       [0.99, 0.01],\n",
       "       [0.95, 0.05],\n",
       "       [0.99, 0.01],\n",
       "       [1.  , 0.  ],\n",
       "       [1.  , 0.  ],\n",
       "       [1.  , 0.  ],\n",
       "       [1.  , 0.  ],\n",
       "       [0.99, 0.01],\n",
       "       [0.78, 0.22],\n",
       "       [1.  , 0.  ],\n",
       "       [1.  , 0.  ],\n",
       "       [0.97, 0.03],\n",
       "       [1.  , 0.  ],\n",
       "       [1.  , 0.  ],\n",
       "       [1.  , 0.  ],\n",
       "       [1.  , 0.  ],\n",
       "       [0.67, 0.33],\n",
       "       [1.  , 0.  ],\n",
       "       [1.  , 0.  ],\n",
       "       [1.  , 0.  ],\n",
       "       [1.  , 0.  ],\n",
       "       [0.93, 0.07],\n",
       "       [1.  , 0.  ],\n",
       "       [0.04, 0.96],\n",
       "       [0.46, 0.54]], dtype=float32)"
      ]
     },
     "execution_count": 377,
     "metadata": {},
     "output_type": "execute_result"
    }
   ],
   "source": [
    "np.round(y_previsto_rna_proba,decimals=2)"
   ]
  },
  {
   "cell_type": "code",
   "execution_count": 378,
   "id": "8818db34",
   "metadata": {},
   "outputs": [
    {
     "name": "stdout",
     "output_type": "stream",
     "text": [
      "3/3 [==============================] - 0s 0s/step\n",
      "[[9.9988854e-01 1.1140635e-04]\n",
      " [8.9848852e-01 1.0151146e-01]\n",
      " [7.2958517e-01 2.7041492e-01]\n",
      " [7.4248344e-01 2.5751659e-01]\n",
      " [5.2491671e-01 4.7508329e-01]\n",
      " [9.8733610e-01 1.2663912e-02]\n",
      " [9.9965060e-01 3.4938162e-04]\n",
      " [9.2165154e-01 7.8348465e-02]\n",
      " [6.8452531e-01 3.1547466e-01]\n",
      " [9.9313980e-01 6.8601607e-03]\n",
      " [9.9999797e-01 2.0017540e-06]\n",
      " [9.7671139e-01 2.3288637e-02]\n",
      " [9.9617213e-01 3.8279097e-03]\n",
      " [9.9987507e-01 1.2487512e-04]\n",
      " [9.9998677e-01 1.3228803e-05]\n",
      " [9.1235280e-01 8.7647215e-02]\n",
      " [9.9980968e-01 1.9030570e-04]\n",
      " [2.6803343e-02 9.7319669e-01]\n",
      " [9.9961960e-01 3.8040351e-04]\n",
      " [5.0000173e-01 4.9999833e-01]\n",
      " [9.8651540e-01 1.3484529e-02]\n",
      " [9.9035138e-01 9.6486127e-03]\n",
      " [9.8618883e-01 1.3811143e-02]\n",
      " [9.9999928e-01 7.5464243e-07]\n",
      " [9.9999666e-01 3.3779377e-06]\n",
      " [9.9989748e-01 1.0251606e-04]\n",
      " [7.7619362e-01 2.2380638e-01]\n",
      " [9.9978358e-01 2.1646707e-04]\n",
      " [9.5637631e-01 4.3623690e-02]\n",
      " [7.6353210e-01 2.3646793e-01]\n",
      " [9.9915540e-01 8.4460294e-04]\n",
      " [9.9869174e-01 1.3082181e-03]\n",
      " [6.6859663e-01 3.3140332e-01]\n",
      " [9.9927658e-01 7.2340493e-04]\n",
      " [9.9999344e-01 6.5896165e-06]\n",
      " [9.9018162e-01 9.8183528e-03]\n",
      " [9.9999571e-01 4.2718125e-06]\n",
      " [8.0206490e-01 1.9793516e-01]\n",
      " [2.6805362e-01 7.3194641e-01]\n",
      " [9.8914319e-01 1.0856787e-02]\n",
      " [4.1199371e-01 5.8800638e-01]\n",
      " [8.7976331e-01 1.2023672e-01]\n",
      " [8.3579379e-01 1.6420627e-01]\n",
      " [7.9900193e-01 2.0099810e-01]\n",
      " [9.9142480e-01 8.5751982e-03]\n",
      " [9.9984121e-01 1.5876998e-04]\n",
      " [9.9982136e-01 1.7867293e-04]\n",
      " [9.9992478e-01 7.5191761e-05]\n",
      " [9.9980468e-01 1.9533228e-04]\n",
      " [1.5734704e-01 8.4265298e-01]\n",
      " [9.9432606e-01 5.6738905e-03]\n",
      " [9.9997830e-01 2.1718473e-05]\n",
      " [9.7233409e-01 2.7665909e-02]\n",
      " [9.9999464e-01 5.3814811e-06]\n",
      " [5.9761411e-01 4.0238589e-01]\n",
      " [9.9957305e-01 4.2694368e-04]\n",
      " [9.9865228e-01 1.3477049e-03]\n",
      " [9.9111968e-01 8.8803582e-03]\n",
      " [9.9990666e-01 9.3346083e-05]\n",
      " [9.9999917e-01 8.7854005e-07]\n",
      " [9.8124379e-01 1.8756250e-02]\n",
      " [9.9316460e-01 6.8353331e-03]\n",
      " [9.4636428e-01 5.3635743e-02]\n",
      " [9.8650229e-01 1.3497699e-02]\n",
      " [9.9997199e-01 2.7982589e-05]\n",
      " [9.9999034e-01 9.6233216e-06]\n",
      " [9.9992776e-01 7.2244766e-05]\n",
      " [9.9942845e-01 5.7156140e-04]\n",
      " [9.8582262e-01 1.4177356e-02]\n",
      " [7.8294194e-01 2.1705809e-01]\n",
      " [9.9504423e-01 4.9557090e-03]\n",
      " [9.9999511e-01 4.9231053e-06]\n",
      " [9.6898323e-01 3.1016763e-02]\n",
      " [9.9987900e-01 1.2094221e-04]\n",
      " [9.9961579e-01 3.8412743e-04]\n",
      " [9.9957579e-01 4.2420367e-04]\n",
      " [9.9995255e-01 4.7496313e-05]\n",
      " [6.7105317e-01 3.2894686e-01]\n",
      " [9.9581039e-01 4.1896100e-03]\n",
      " [9.9812680e-01 1.8731635e-03]\n",
      " [9.9977607e-01 2.2399270e-04]\n",
      " [9.9951160e-01 4.8837496e-04]\n",
      " [9.3075436e-01 6.9245636e-02]\n",
      " [9.9997616e-01 2.3788396e-05]\n",
      " [4.3041728e-02 9.5695823e-01]\n",
      " [4.6343637e-01 5.3656358e-01]]\n",
      "[False False False False False False False False  True False False False\n",
      " False False False False False False False False False False False False\n",
      " False False  True False False  True False False False False False False\n",
      " False False False False False False False False False False False  True\n",
      " False False False False False False False False False False False False\n",
      " False False False False False False False False False  True  True False\n",
      "  True False False False False False False False False False  True False\n",
      " False False]\n",
      "[False, False, False, False, False, False, False, False, False, False, False, False, False, False, False, False, False, True, False, False, False, False, False, False, False, False, False, False, False, False, False, False, False, False, False, False, False, False, True, False, True, False, False, False, False, False, False, False, False, True, False, False, False, False, False, False, False, False, False, False, False, False, False, False, False, False, False, False, False, False, False, False, False, False, False, False, False, False, False, False, False, False, False, False, True, True]\n"
     ]
    },
    {
     "data": {
      "text/plain": [
       "(array([0.9, 0. ]),\n",
       " array([0.92307692, 0.        ]),\n",
       " array([0.91139241, 0.        ]),\n",
       " array([78,  8], dtype=int64))"
      ]
     },
     "execution_count": 378,
     "metadata": {},
     "output_type": "execute_result"
    }
   ],
   "source": [
    "y_previsto_rna_proba = model.predict(X_teste)\n",
    "print(y_previsto_rna_proba)\n",
    "print(y_teste)\n",
    "y_prev = [False] * len(y_previsto_rna_proba)\n",
    "for i in range(len(y_previsto_rna_proba)):\n",
    "  y_prev[i] = y_previsto_rna_proba[i][0]<y_previsto_rna_proba[i][1]\n",
    "print(y_prev)\n",
    "from sklearn.metrics import precision_recall_fscore_support\n",
    "precision_recall_fscore_support(y_teste, y_prev)"
   ]
  },
  {
   "cell_type": "code",
   "execution_count": 379,
   "id": "mozICcYboLCj",
   "metadata": {
    "colab": {
     "base_uri": "https://localhost:8080/"
    },
    "id": "mozICcYboLCj",
    "outputId": "fa545fa2-4b5a-45f8-90a5-65fec9e198d4"
   },
   "outputs": [
    {
     "name": "stdout",
     "output_type": "stream",
     "text": [
      "Acurácia:  0.8604651162790697\n",
      "Precisão:  0.25\n",
      "Recall:    0.25\n",
      "F1 Score:  0.25\n"
     ]
    }
   ],
   "source": [
    "# Treinamento de uma árvore de decisão com sua indução restrita a 10 níveis\n",
    "\n",
    "from sklearn.tree import DecisionTreeClassifier\n",
    "from sklearn.metrics import accuracy_score, precision_score, recall_score, f1_score\n",
    "\n",
    "tree_clf = DecisionTreeClassifier(max_depth=10)\n",
    "tree_clf.fit(X_treino, y_treino)\n",
    "\n",
    "y_pred = tree_clf.predict(X_teste)\n",
    "\n",
    "print(\"Acurácia: \", accuracy_score(y_teste,y_pred))\n",
    "print(\"Precisão: \", precision_score(y_teste,y_pred))\n",
    "print(\"Recall:   \", recall_score(y_teste,y_pred))\n",
    "print(\"F1 Score: \", f1_score(y_teste,y_pred))"
   ]
  },
  {
   "cell_type": "code",
   "execution_count": 380,
   "id": "1b69a89e",
   "metadata": {},
   "outputs": [
    {
     "name": "stdout",
     "output_type": "stream",
     "text": [
      "MLP:\n",
      "Acurácia:  0.8837209302325582\n",
      "Precisão:  0.25\n",
      "Recall:    0.125\n",
      "F1 Score:  0.16666666666666666\n"
     ]
    },
    {
     "name": "stderr",
     "output_type": "stream",
     "text": [
      "C:\\Users\\Dante\\anaconda3\\lib\\site-packages\\sklearn\\neural_network\\_multilayer_perceptron.py:702: ConvergenceWarning: Stochastic Optimizer: Maximum iterations (200) reached and the optimization hasn't converged yet.\n",
      "  warnings.warn(\n"
     ]
    }
   ],
   "source": [
    "# Treinamento de uma RNA tipo Multi-Layer Perceptron\n",
    "from sklearn.neural_network import MLPClassifier\n",
    "\n",
    "mlp_clf = MLPClassifier(hidden_layer_sizes=(18,2))\n",
    "mlp_clf.fit(X_treino, y_treino)\n",
    "y_previsto = mlp_clf.predict(X_teste)\n",
    "print(\"MLP:\")\n",
    "print(\"Acurácia: \", accuracy_score(y_teste,y_previsto))\n",
    "print(\"Precisão: \", precision_score(y_teste,y_previsto))\n",
    "print(\"Recall:   \", recall_score(y_teste,y_previsto))\n",
    "print(\"F1 Score: \", f1_score(y_teste,y_previsto))"
   ]
  },
  {
   "cell_type": "code",
   "execution_count": 381,
   "id": "8cc80dd3",
   "metadata": {},
   "outputs": [
    {
     "name": "stdout",
     "output_type": "stream",
     "text": [
      "Acurácia:  0.7674418604651163\n",
      "Precisão:  0.2\n",
      "Recall:    0.5\n",
      "F1 Score:  0.28571428571428575\n"
     ]
    },
    {
     "name": "stderr",
     "output_type": "stream",
     "text": [
      "C:\\Users\\Dante\\anaconda3\\lib\\site-packages\\sklearn\\linear_model\\_logistic.py:444: ConvergenceWarning: lbfgs failed to converge (status=1):\n",
      "STOP: TOTAL NO. of ITERATIONS REACHED LIMIT.\n",
      "\n",
      "Increase the number of iterations (max_iter) or scale the data as shown in:\n",
      "    https://scikit-learn.org/stable/modules/preprocessing.html\n",
      "Please also refer to the documentation for alternative solver options:\n",
      "    https://scikit-learn.org/stable/modules/linear_model.html#logistic-regression\n",
      "  n_iter_i = _check_optimize_result(\n"
     ]
    }
   ],
   "source": [
    "# Regressão logística\n",
    "from sklearn.linear_model import LogisticRegression\n",
    "\n",
    "log_reg = LogisticRegression()\n",
    "log_reg.fit(X_treino, y_treino)\n",
    "\n",
    "y_previsto = log_reg.predict(X_teste)\n",
    "\n",
    "print(\"Acurácia: \", accuracy_score(y_teste,y_previsto))\n",
    "print(\"Precisão: \", precision_score(y_teste,y_previsto))\n",
    "print(\"Recall:   \", recall_score(y_teste,y_previsto))\n",
    "print(\"F1 Score: \", f1_score(y_teste,y_previsto))"
   ]
  },
  {
   "cell_type": "code",
   "execution_count": 384,
   "id": "7304d54a",
   "metadata": {},
   "outputs": [
    {
     "data": {
      "text/plain": [
       "array([False,  True])"
      ]
     },
     "execution_count": 384,
     "metadata": {},
     "output_type": "execute_result"
    }
   ],
   "source": [
    "log_reg.classes_"
   ]
  },
  {
   "cell_type": "markdown",
   "id": "402f1c1b",
   "metadata": {},
   "source": [
    "#### Probabilidade estimada"
   ]
  },
  {
   "cell_type": "code",
   "execution_count": 383,
   "id": "92036f3c",
   "metadata": {},
   "outputs": [
    {
     "data": {
      "text/plain": [
       "array([[0.97, 0.03],\n",
       "       [0.41, 0.59],\n",
       "       [0.76, 0.24],\n",
       "       [0.65, 0.35],\n",
       "       [0.15, 0.85],\n",
       "       [0.5 , 0.5 ],\n",
       "       [0.92, 0.08],\n",
       "       [0.39, 0.61],\n",
       "       [0.11, 0.89],\n",
       "       [0.93, 0.07],\n",
       "       [1.  , 0.  ],\n",
       "       [0.58, 0.42],\n",
       "       [0.99, 0.01],\n",
       "       [0.97, 0.03],\n",
       "       [0.97, 0.03],\n",
       "       [0.39, 0.61],\n",
       "       [0.98, 0.02],\n",
       "       [0.03, 0.97],\n",
       "       [0.99, 0.01],\n",
       "       [0.49, 0.51],\n",
       "       [0.76, 0.24],\n",
       "       [0.93, 0.07],\n",
       "       [0.92, 0.08],\n",
       "       [1.  , 0.  ],\n",
       "       [1.  , 0.  ],\n",
       "       [0.99, 0.01],\n",
       "       [0.47, 0.53],\n",
       "       [0.99, 0.01],\n",
       "       [0.78, 0.22],\n",
       "       [0.43, 0.57],\n",
       "       [0.99, 0.01],\n",
       "       [0.78, 0.22],\n",
       "       [0.21, 0.79],\n",
       "       [0.95, 0.05],\n",
       "       [1.  , 0.  ],\n",
       "       [0.82, 0.18],\n",
       "       [1.  , 0.  ],\n",
       "       [0.51, 0.49],\n",
       "       [0.21, 0.79],\n",
       "       [0.83, 0.17],\n",
       "       [0.23, 0.77],\n",
       "       [0.96, 0.04],\n",
       "       [0.86, 0.14],\n",
       "       [0.36, 0.64],\n",
       "       [0.75, 0.25],\n",
       "       [1.  , 0.  ],\n",
       "       [0.96, 0.04],\n",
       "       [0.94, 0.06],\n",
       "       [0.98, 0.02],\n",
       "       [0.2 , 0.8 ],\n",
       "       [0.95, 0.05],\n",
       "       [0.99, 0.01],\n",
       "       [0.5 , 0.5 ],\n",
       "       [1.  , 0.  ],\n",
       "       [0.76, 0.24],\n",
       "       [0.97, 0.03],\n",
       "       [0.95, 0.05],\n",
       "       [0.72, 0.28],\n",
       "       [1.  , 0.  ],\n",
       "       [1.  , 0.  ],\n",
       "       [0.73, 0.27],\n",
       "       [0.88, 0.12],\n",
       "       [0.71, 0.29],\n",
       "       [0.43, 0.57],\n",
       "       [1.  , 0.  ],\n",
       "       [1.  , 0.  ],\n",
       "       [0.99, 0.01],\n",
       "       [0.97, 0.03],\n",
       "       [0.88, 0.12],\n",
       "       [0.02, 0.98],\n",
       "       [0.94, 0.06],\n",
       "       [1.  , 0.  ],\n",
       "       [0.9 , 0.1 ],\n",
       "       [0.92, 0.08],\n",
       "       [0.99, 0.01],\n",
       "       [0.97, 0.03],\n",
       "       [0.99, 0.01],\n",
       "       [0.27, 0.73],\n",
       "       [0.68, 0.32],\n",
       "       [0.96, 0.04],\n",
       "       [0.99, 0.01],\n",
       "       [0.99, 0.01],\n",
       "       [0.69, 0.31],\n",
       "       [1.  , 0.  ],\n",
       "       [0.01, 0.99],\n",
       "       [0.04, 0.96]])"
      ]
     },
     "execution_count": 383,
     "metadata": {},
     "output_type": "execute_result"
    }
   ],
   "source": [
    "y_probabilidade = log_reg.predict_proba(X_teste)\n",
    "np.round(y_probabilidade, decimals=2)"
   ]
  },
  {
   "cell_type": "markdown",
   "id": "430d4abb",
   "metadata": {},
   "source": [
    "#### Previsões"
   ]
  },
  {
   "cell_type": "code",
   "execution_count": 385,
   "id": "de2c2e31",
   "metadata": {},
   "outputs": [
    {
     "data": {
      "text/plain": [
       "array([False,  True, False, False,  True, False, False,  True,  True,\n",
       "       False, False, False, False, False, False,  True, False,  True,\n",
       "       False,  True, False, False, False, False, False, False,  True,\n",
       "       False, False,  True, False, False,  True, False, False, False,\n",
       "       False, False,  True, False,  True, False, False,  True, False,\n",
       "       False, False, False, False,  True, False, False,  True, False,\n",
       "       False, False, False, False, False, False, False, False, False,\n",
       "        True, False, False, False, False, False,  True, False, False,\n",
       "       False, False, False, False, False,  True, False, False, False,\n",
       "       False, False, False,  True,  True])"
      ]
     },
     "execution_count": 385,
     "metadata": {},
     "output_type": "execute_result"
    }
   ],
   "source": [
    "y_previsto = log_reg.predict(X_teste)\n",
    "y_previsto"
   ]
  },
  {
   "cell_type": "code",
   "execution_count": 386,
   "id": "52de07bf",
   "metadata": {},
   "outputs": [
    {
     "data": {
      "text/plain": [
       "array([False, False, False, False, False, False, False, False,  True,\n",
       "       False, False, False, False, False, False, False, False, False,\n",
       "       False, False, False, False, False, False, False, False,  True,\n",
       "       False, False,  True, False, False, False, False, False, False,\n",
       "       False, False, False, False, False, False, False, False, False,\n",
       "       False, False,  True, False, False, False, False, False, False,\n",
       "       False, False, False, False, False, False, False, False, False,\n",
       "       False, False, False, False, False, False,  True,  True, False,\n",
       "        True, False, False, False, False, False, False, False, False,\n",
       "       False,  True, False, False, False])"
      ]
     },
     "execution_count": 386,
     "metadata": {},
     "output_type": "execute_result"
    }
   ],
   "source": [
    "y_teste"
   ]
  },
  {
   "cell_type": "markdown",
   "id": "4b67ffd1",
   "metadata": {},
   "source": [
    "#### Acurácia"
   ]
  },
  {
   "cell_type": "code",
   "execution_count": 387,
   "id": "e3994771",
   "metadata": {},
   "outputs": [
    {
     "data": {
      "text/plain": [
       "(array([False, False, False, False, False, False, False, False,  True,\n",
       "        False, False, False, False, False, False, False, False, False,\n",
       "        False, False, False, False, False, False, False, False,  True,\n",
       "        False, False,  True, False, False, False, False, False, False,\n",
       "        False, False, False, False, False, False, False, False, False,\n",
       "        False, False,  True, False, False, False, False, False, False,\n",
       "        False, False, False, False, False, False, False, False, False,\n",
       "        False, False, False, False, False, False,  True,  True, False,\n",
       "         True, False, False, False, False, False, False, False, False,\n",
       "        False,  True, False, False, False]),\n",
       " (86,))"
      ]
     },
     "execution_count": 387,
     "metadata": {},
     "output_type": "execute_result"
    }
   ],
   "source": [
    "y_teste, y_teste.shape"
   ]
  },
  {
   "cell_type": "code",
   "execution_count": 389,
   "id": "1bb60394",
   "metadata": {},
   "outputs": [
    {
     "data": {
      "text/plain": [
       "array([ True, False,  True,  True, False,  True,  True, False,  True,\n",
       "        True,  True,  True,  True,  True,  True, False,  True, False,\n",
       "        True, False,  True,  True,  True,  True,  True,  True,  True,\n",
       "        True,  True,  True,  True,  True, False,  True,  True,  True,\n",
       "        True,  True, False,  True, False,  True,  True, False,  True,\n",
       "        True,  True, False,  True, False,  True,  True, False,  True,\n",
       "        True,  True,  True,  True,  True,  True,  True,  True,  True,\n",
       "       False,  True,  True,  True,  True,  True,  True, False,  True,\n",
       "       False,  True,  True,  True,  True, False,  True,  True,  True,\n",
       "        True, False,  True, False, False])"
      ]
     },
     "execution_count": 389,
     "metadata": {},
     "output_type": "execute_result"
    }
   ],
   "source": [
    "acertos = y_previsto == y_teste\n",
    "acertos"
   ]
  },
  {
   "cell_type": "code",
   "execution_count": 392,
   "id": "70ca88f1",
   "metadata": {},
   "outputs": [
    {
     "name": "stdout",
     "output_type": "stream",
     "text": [
      "[[ 0  1]\n",
      " [20 66]]\n"
     ]
    }
   ],
   "source": [
    "valores, quantidades = np.unique(acertos, return_counts=True)\n",
    "print(np.asarray((valores, quantidades)))\n",
    "\n",
    "# modelo errou 20 vezes e acertos 66 vezes."
   ]
  },
  {
   "cell_type": "code",
   "execution_count": 394,
   "id": "fa2e018b",
   "metadata": {},
   "outputs": [
    {
     "name": "stdout",
     "output_type": "stream",
     "text": [
      "Acurácia:  0.7674418604651163\n"
     ]
    }
   ],
   "source": [
    "print(\"Acurácia: \", quantidades[1]/y_teste.shape[0])"
   ]
  },
  {
   "cell_type": "code",
   "execution_count": 395,
   "id": "b51734f1",
   "metadata": {},
   "outputs": [
    {
     "name": "stdout",
     "output_type": "stream",
     "text": [
      "Acurácia:  76.7\n"
     ]
    }
   ],
   "source": [
    "print(\"Acurácia: \", np.round(quantidades[1]/y_teste.shape[0]*100,decimals=1))"
   ]
  }
 ],
 "metadata": {
  "colab": {
   "collapsed_sections": [
    "63ffe010"
   ],
   "include_colab_link": true,
   "provenance": []
  },
  "kernelspec": {
   "display_name": "Python 3 (ipykernel)",
   "language": "python",
   "name": "python3"
  },
  "language_info": {
   "codemirror_mode": {
    "name": "ipython",
    "version": 3
   },
   "file_extension": ".py",
   "mimetype": "text/x-python",
   "name": "python",
   "nbconvert_exporter": "python",
   "pygments_lexer": "ipython3",
   "version": "3.9.12"
  }
 },
 "nbformat": 4,
 "nbformat_minor": 5
}
