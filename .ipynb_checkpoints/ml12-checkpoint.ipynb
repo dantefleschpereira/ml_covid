{
 "cells": [
  {
   "cell_type": "markdown",
   "id": "ee0e54b9",
   "metadata": {
    "colab_type": "text",
    "id": "view-in-github"
   },
   "source": [
    "<a href=\"https://colab.research.google.com/github/dantefleschpereira/ml_covid/blob/main/ml12.ipynb\" target=\"_parent\"><img src=\"https://colab.research.google.com/assets/colab-badge.svg\" alt=\"Open In Colab\"/></a>"
   ]
  },
  {
   "cell_type": "code",
   "execution_count": 165,
   "id": "0a3204d1",
   "metadata": {
    "id": "0a3204d1"
   },
   "outputs": [],
   "source": [
    "import numpy as np\n",
    "import pandas as pd\n",
    "import matplotlib.pyplot as plt\n",
    "from sklearn.preprocessing import OrdinalEncoder\n",
    "pd.set_option('display.max_columns', None)\n",
    "\n",
    "import seaborn as sns\n",
    "from sklearn.metrics import classification_report\n",
    "from sklearn.model_selection import train_test_split\n",
    "from sklearn.metrics import roc_auc_score, roc_curve, accuracy_score\n",
    "from imblearn.under_sampling import RandomUnderSampler"
   ]
  },
  {
   "cell_type": "markdown",
   "id": "cb29bc7e",
   "metadata": {
    "id": "cb29bc7e"
   },
   "source": [
    "#### Análise Exploratória de Dados"
   ]
  },
  {
   "cell_type": "code",
   "execution_count": 166,
   "id": "a167525e",
   "metadata": {
    "id": "a167525e"
   },
   "outputs": [],
   "source": [
    "df = pd.read_excel('D:\\ml_covid\\dataset_obito.xlsx')"
   ]
  },
  {
   "cell_type": "code",
   "execution_count": 167,
   "id": "ff87e261",
   "metadata": {
    "colab": {
     "base_uri": "https://localhost:8080/",
     "height": 757
    },
    "id": "ff87e261",
    "outputId": "96beda28-2835-4204-d5d6-2b933097183a"
   },
   "outputs": [
    {
     "data": {
      "text/html": [
       "<div>\n",
       "<style scoped>\n",
       "    .dataframe tbody tr th:only-of-type {\n",
       "        vertical-align: middle;\n",
       "    }\n",
       "\n",
       "    .dataframe tbody tr th {\n",
       "        vertical-align: top;\n",
       "    }\n",
       "\n",
       "    .dataframe thead th {\n",
       "        text-align: right;\n",
       "    }\n",
       "</style>\n",
       "<table border=\"1\" class=\"dataframe\">\n",
       "  <thead>\n",
       "    <tr style=\"text-align: right;\">\n",
       "      <th></th>\n",
       "      <th>idade</th>\n",
       "      <th>sexo</th>\n",
       "      <th>raca</th>\n",
       "      <th>tagabismo</th>\n",
       "      <th>comorbidade1</th>\n",
       "      <th>comorbidade2</th>\n",
       "      <th>comorbidade3</th>\n",
       "      <th>comorbidade4</th>\n",
       "      <th>trombo_na_internacao</th>\n",
       "      <th>desfecho</th>\n",
       "      <th>anti-inflamatorio1</th>\n",
       "      <th>anti-inflamatorio2</th>\n",
       "      <th>anti-inflamatorio3</th>\n",
       "      <th>anti-inflamatorio_previo</th>\n",
       "      <th>profilaxia_de_trombo1</th>\n",
       "      <th>profilaxia_de_trombo2</th>\n",
       "      <th>anticoagulante_previo</th>\n",
       "      <th>antibiotico1</th>\n",
       "      <th>antibiotico2</th>\n",
       "      <th>proteina c (mg/dl)</th>\n",
       "      <th>ferritina (ng/ml)</th>\n",
       "      <th>leucócitos ( /ul)</th>\n",
       "      <th>creatinina (mg/dl)</th>\n",
       "      <th>ureia(mg/dl)</th>\n",
       "      <th>d-dimeros (ng/ml)</th>\n",
       "      <th>reinfeccao</th>\n",
       "      <th>sintomas</th>\n",
       "    </tr>\n",
       "  </thead>\n",
       "  <tbody>\n",
       "    <tr>\n",
       "      <th>0</th>\n",
       "      <td>41</td>\n",
       "      <td>M</td>\n",
       "      <td>branca</td>\n",
       "      <td>nao</td>\n",
       "      <td>nenhuma</td>\n",
       "      <td>nenhuma</td>\n",
       "      <td>nenhum</td>\n",
       "      <td>nenhum</td>\n",
       "      <td>nenhum</td>\n",
       "      <td>0</td>\n",
       "      <td>nenhum</td>\n",
       "      <td>nenhum</td>\n",
       "      <td>nenhum</td>\n",
       "      <td>Nao</td>\n",
       "      <td>heparina 5000UI/0,25mL</td>\n",
       "      <td>nenhum</td>\n",
       "      <td>Sim</td>\n",
       "      <td>NaN</td>\n",
       "      <td>NaN</td>\n",
       "      <td>8.0</td>\n",
       "      <td>0</td>\n",
       "      <td>4830</td>\n",
       "      <td>0.76</td>\n",
       "      <td>36.0</td>\n",
       "      <td>0</td>\n",
       "      <td>nao</td>\n",
       "      <td>leve</td>\n",
       "    </tr>\n",
       "    <tr>\n",
       "      <th>1</th>\n",
       "      <td>77</td>\n",
       "      <td>F</td>\n",
       "      <td>branca</td>\n",
       "      <td>sim</td>\n",
       "      <td>HAS</td>\n",
       "      <td>nenhuma</td>\n",
       "      <td>nenhum</td>\n",
       "      <td>nenhum</td>\n",
       "      <td>nenhum</td>\n",
       "      <td>0</td>\n",
       "      <td>hidrocortisona 100mg</td>\n",
       "      <td>prednisona 20mg</td>\n",
       "      <td>nenhum</td>\n",
       "      <td>Nao</td>\n",
       "      <td>enonenhumaparina 40mg/0,4mL</td>\n",
       "      <td>nenhum</td>\n",
       "      <td>Sim</td>\n",
       "      <td>NaN</td>\n",
       "      <td>NaN</td>\n",
       "      <td>14.7</td>\n",
       "      <td>0</td>\n",
       "      <td>5280</td>\n",
       "      <td>0.82</td>\n",
       "      <td>31.0</td>\n",
       "      <td>0</td>\n",
       "      <td>nao</td>\n",
       "      <td>assintom</td>\n",
       "    </tr>\n",
       "    <tr>\n",
       "      <th>2</th>\n",
       "      <td>67</td>\n",
       "      <td>M</td>\n",
       "      <td>branca</td>\n",
       "      <td>previo</td>\n",
       "      <td>HAS</td>\n",
       "      <td>DM</td>\n",
       "      <td>nenhum</td>\n",
       "      <td>nenhum</td>\n",
       "      <td>nenhum</td>\n",
       "      <td>0</td>\n",
       "      <td>nenhum</td>\n",
       "      <td>nenhum</td>\n",
       "      <td>nenhum</td>\n",
       "      <td>Nao</td>\n",
       "      <td>heparina 5000UI/0,25mL</td>\n",
       "      <td>nenhum</td>\n",
       "      <td>Sim</td>\n",
       "      <td>NaN</td>\n",
       "      <td>NaN</td>\n",
       "      <td>0.0</td>\n",
       "      <td>0</td>\n",
       "      <td>8650</td>\n",
       "      <td>0.72</td>\n",
       "      <td>0.0</td>\n",
       "      <td>0</td>\n",
       "      <td>nao</td>\n",
       "      <td>leve</td>\n",
       "    </tr>\n",
       "    <tr>\n",
       "      <th>3</th>\n",
       "      <td>51</td>\n",
       "      <td>M</td>\n",
       "      <td>branca</td>\n",
       "      <td>nao</td>\n",
       "      <td>HAS</td>\n",
       "      <td>renal-hd</td>\n",
       "      <td>nenhum</td>\n",
       "      <td>nenhum</td>\n",
       "      <td>nenhum</td>\n",
       "      <td>0</td>\n",
       "      <td>prednisona 20mg</td>\n",
       "      <td>nenhum</td>\n",
       "      <td>nenhum</td>\n",
       "      <td>Sim</td>\n",
       "      <td>nenhum</td>\n",
       "      <td>nenhum</td>\n",
       "      <td>Nao</td>\n",
       "      <td>NaN</td>\n",
       "      <td>NaN</td>\n",
       "      <td>6.2</td>\n",
       "      <td>0</td>\n",
       "      <td>9590</td>\n",
       "      <td>0.00</td>\n",
       "      <td>142.0</td>\n",
       "      <td>0</td>\n",
       "      <td>nao</td>\n",
       "      <td>leve</td>\n",
       "    </tr>\n",
       "    <tr>\n",
       "      <th>4</th>\n",
       "      <td>51</td>\n",
       "      <td>M</td>\n",
       "      <td>branca</td>\n",
       "      <td>nao</td>\n",
       "      <td>HAS</td>\n",
       "      <td>renal-hd</td>\n",
       "      <td>nenhum</td>\n",
       "      <td>nenhum</td>\n",
       "      <td>nenhum</td>\n",
       "      <td>0</td>\n",
       "      <td>denenhumametasona 4mg/mL 2,5mL</td>\n",
       "      <td>hidrocortisona 100mg</td>\n",
       "      <td>prednisona 20mg</td>\n",
       "      <td>Nao</td>\n",
       "      <td>nenhum</td>\n",
       "      <td>nenhum</td>\n",
       "      <td>Nao</td>\n",
       "      <td>NaN</td>\n",
       "      <td>NaN</td>\n",
       "      <td>32.0</td>\n",
       "      <td>0</td>\n",
       "      <td>4230</td>\n",
       "      <td>15.40</td>\n",
       "      <td>158.0</td>\n",
       "      <td>1535</td>\n",
       "      <td>sim</td>\n",
       "      <td>assintom</td>\n",
       "    </tr>\n",
       "    <tr>\n",
       "      <th>5</th>\n",
       "      <td>64</td>\n",
       "      <td>F</td>\n",
       "      <td>branca</td>\n",
       "      <td>nao</td>\n",
       "      <td>HAS</td>\n",
       "      <td>nenhuma</td>\n",
       "      <td>nenhum</td>\n",
       "      <td>nenhum</td>\n",
       "      <td>nenhum</td>\n",
       "      <td>0</td>\n",
       "      <td>nenhum</td>\n",
       "      <td>nenhum</td>\n",
       "      <td>nenhum</td>\n",
       "      <td>Nao</td>\n",
       "      <td>heparina 5000UI/0,25mL</td>\n",
       "      <td>nenhum</td>\n",
       "      <td>Sim</td>\n",
       "      <td>NaN</td>\n",
       "      <td>NaN</td>\n",
       "      <td>4.1</td>\n",
       "      <td>1530</td>\n",
       "      <td>6430</td>\n",
       "      <td>1.00</td>\n",
       "      <td>52.0</td>\n",
       "      <td>0</td>\n",
       "      <td>nao</td>\n",
       "      <td>leve</td>\n",
       "    </tr>\n",
       "    <tr>\n",
       "      <th>6</th>\n",
       "      <td>38</td>\n",
       "      <td>M</td>\n",
       "      <td>preta</td>\n",
       "      <td>nao</td>\n",
       "      <td>renal-hd</td>\n",
       "      <td>nenhuma</td>\n",
       "      <td>nenhum</td>\n",
       "      <td>nenhum</td>\n",
       "      <td>nenhum</td>\n",
       "      <td>0</td>\n",
       "      <td>hidrocortisona 100mg</td>\n",
       "      <td>prednisona 20mg</td>\n",
       "      <td>nenhum</td>\n",
       "      <td>Sim</td>\n",
       "      <td>heparina 5000UI/0,25mL</td>\n",
       "      <td>nenhum</td>\n",
       "      <td>Nao</td>\n",
       "      <td>NaN</td>\n",
       "      <td>NaN</td>\n",
       "      <td>19.3</td>\n",
       "      <td>2380</td>\n",
       "      <td>1260</td>\n",
       "      <td>7.35</td>\n",
       "      <td>191.0</td>\n",
       "      <td>1021</td>\n",
       "      <td>nao</td>\n",
       "      <td>leve</td>\n",
       "    </tr>\n",
       "    <tr>\n",
       "      <th>7</th>\n",
       "      <td>37</td>\n",
       "      <td>M</td>\n",
       "      <td>branca</td>\n",
       "      <td>sim</td>\n",
       "      <td>HIV</td>\n",
       "      <td>oncologico</td>\n",
       "      <td>nenhum</td>\n",
       "      <td>nenhum</td>\n",
       "      <td>TVP</td>\n",
       "      <td>0</td>\n",
       "      <td>tiamina 300mg</td>\n",
       "      <td>piridonenhumina 40mg</td>\n",
       "      <td>nenhum</td>\n",
       "      <td>Nao</td>\n",
       "      <td>enonenhumaparina 40mg/0,4mL</td>\n",
       "      <td>nenhum</td>\n",
       "      <td>Sim</td>\n",
       "      <td>NaN</td>\n",
       "      <td>NaN</td>\n",
       "      <td>4.8</td>\n",
       "      <td>0</td>\n",
       "      <td>4410</td>\n",
       "      <td>0.68</td>\n",
       "      <td>31.0</td>\n",
       "      <td>437</td>\n",
       "      <td>nao</td>\n",
       "      <td>leve</td>\n",
       "    </tr>\n",
       "    <tr>\n",
       "      <th>8</th>\n",
       "      <td>82</td>\n",
       "      <td>F</td>\n",
       "      <td>branca</td>\n",
       "      <td>nao</td>\n",
       "      <td>HAS</td>\n",
       "      <td>oncologico</td>\n",
       "      <td>nenhum</td>\n",
       "      <td>nenhum</td>\n",
       "      <td>nenhum</td>\n",
       "      <td>1</td>\n",
       "      <td>nenhum</td>\n",
       "      <td>nenhum</td>\n",
       "      <td>nenhum</td>\n",
       "      <td>Nao</td>\n",
       "      <td>enonenhumaparina 40mg/0,4mL</td>\n",
       "      <td>nenhum</td>\n",
       "      <td>Sim</td>\n",
       "      <td>NaN</td>\n",
       "      <td>NaN</td>\n",
       "      <td>0.0</td>\n",
       "      <td>0</td>\n",
       "      <td>0</td>\n",
       "      <td>0.00</td>\n",
       "      <td>0.0</td>\n",
       "      <td>0</td>\n",
       "      <td>nao</td>\n",
       "      <td>assintom</td>\n",
       "    </tr>\n",
       "    <tr>\n",
       "      <th>9</th>\n",
       "      <td>45</td>\n",
       "      <td>M</td>\n",
       "      <td>branca</td>\n",
       "      <td>nao</td>\n",
       "      <td>nenhuma</td>\n",
       "      <td>nenhuma</td>\n",
       "      <td>nenhum</td>\n",
       "      <td>nenhum</td>\n",
       "      <td>ambos</td>\n",
       "      <td>0</td>\n",
       "      <td>nenhum</td>\n",
       "      <td>nenhum</td>\n",
       "      <td>nenhum</td>\n",
       "      <td>Nao</td>\n",
       "      <td>enonenhumaparina 40mg/0,4mL</td>\n",
       "      <td>enonenhumaparina 60mg/0,6mL</td>\n",
       "      <td>Sim</td>\n",
       "      <td>NaN</td>\n",
       "      <td>NaN</td>\n",
       "      <td>17.2</td>\n",
       "      <td>366</td>\n",
       "      <td>2790</td>\n",
       "      <td>1.08</td>\n",
       "      <td>22.0</td>\n",
       "      <td>0</td>\n",
       "      <td>nao</td>\n",
       "      <td>leve</td>\n",
       "    </tr>\n",
       "    <tr>\n",
       "      <th>10</th>\n",
       "      <td>63</td>\n",
       "      <td>M</td>\n",
       "      <td>branca</td>\n",
       "      <td>previo</td>\n",
       "      <td>HAS</td>\n",
       "      <td>DM</td>\n",
       "      <td>oncologica</td>\n",
       "      <td>nenhum</td>\n",
       "      <td>nenhum</td>\n",
       "      <td>0</td>\n",
       "      <td>prednisona 20mg</td>\n",
       "      <td>nenhum</td>\n",
       "      <td>nenhum</td>\n",
       "      <td>Sim</td>\n",
       "      <td>heparina 5000UI/0,25mL</td>\n",
       "      <td>nenhum</td>\n",
       "      <td>Sim</td>\n",
       "      <td>NaN</td>\n",
       "      <td>NaN</td>\n",
       "      <td>8.8</td>\n",
       "      <td>0</td>\n",
       "      <td>4480</td>\n",
       "      <td>1.33</td>\n",
       "      <td>61.0</td>\n",
       "      <td>3760</td>\n",
       "      <td>nao</td>\n",
       "      <td>grave</td>\n",
       "    </tr>\n",
       "    <tr>\n",
       "      <th>11</th>\n",
       "      <td>79</td>\n",
       "      <td>M</td>\n",
       "      <td>preta</td>\n",
       "      <td>nao</td>\n",
       "      <td>HAS</td>\n",
       "      <td>nenhuma</td>\n",
       "      <td>nenhum</td>\n",
       "      <td>nenhum</td>\n",
       "      <td>nenhum</td>\n",
       "      <td>0</td>\n",
       "      <td>nenhum</td>\n",
       "      <td>nenhum</td>\n",
       "      <td>nenhum</td>\n",
       "      <td>Nao</td>\n",
       "      <td>heparina 5000UI/0,25mL</td>\n",
       "      <td>nenhum</td>\n",
       "      <td>Sim</td>\n",
       "      <td>NaN</td>\n",
       "      <td>NaN</td>\n",
       "      <td>0.0</td>\n",
       "      <td>0</td>\n",
       "      <td>11150</td>\n",
       "      <td>0.89</td>\n",
       "      <td>53.0</td>\n",
       "      <td>0</td>\n",
       "      <td>nao</td>\n",
       "      <td>assintom</td>\n",
       "    </tr>\n",
       "    <tr>\n",
       "      <th>12</th>\n",
       "      <td>79</td>\n",
       "      <td>M</td>\n",
       "      <td>branca</td>\n",
       "      <td>nao</td>\n",
       "      <td>HAS</td>\n",
       "      <td>nenhuma</td>\n",
       "      <td>nenhum</td>\n",
       "      <td>nenhum</td>\n",
       "      <td>nenhum</td>\n",
       "      <td>1</td>\n",
       "      <td>denenhumametasona 4mg/mL 2,5mL</td>\n",
       "      <td>nenhum</td>\n",
       "      <td>nenhum</td>\n",
       "      <td>Nao</td>\n",
       "      <td>heparina 5000UI/0,25mL</td>\n",
       "      <td>nenhum</td>\n",
       "      <td>Nao</td>\n",
       "      <td>NaN</td>\n",
       "      <td>NaN</td>\n",
       "      <td>21.1</td>\n",
       "      <td>0</td>\n",
       "      <td>10260</td>\n",
       "      <td>1.09</td>\n",
       "      <td>62.0</td>\n",
       "      <td>1657</td>\n",
       "      <td>sim</td>\n",
       "      <td>moderado</td>\n",
       "    </tr>\n",
       "    <tr>\n",
       "      <th>13</th>\n",
       "      <td>52</td>\n",
       "      <td>F</td>\n",
       "      <td>preta</td>\n",
       "      <td>nao</td>\n",
       "      <td>DM</td>\n",
       "      <td>nenhuma</td>\n",
       "      <td>nenhum</td>\n",
       "      <td>nenhum</td>\n",
       "      <td>TEP</td>\n",
       "      <td>0</td>\n",
       "      <td>nenhum</td>\n",
       "      <td>nenhum</td>\n",
       "      <td>nenhum</td>\n",
       "      <td>Nao</td>\n",
       "      <td>heparina 5000UI/0,25mL</td>\n",
       "      <td>nenhum</td>\n",
       "      <td>Sim</td>\n",
       "      <td>NaN</td>\n",
       "      <td>NaN</td>\n",
       "      <td>2.1</td>\n",
       "      <td>0</td>\n",
       "      <td>4510</td>\n",
       "      <td>1.12</td>\n",
       "      <td>22.0</td>\n",
       "      <td>2466</td>\n",
       "      <td>nao</td>\n",
       "      <td>leve</td>\n",
       "    </tr>\n",
       "    <tr>\n",
       "      <th>14</th>\n",
       "      <td>30</td>\n",
       "      <td>M</td>\n",
       "      <td>preta</td>\n",
       "      <td>sim</td>\n",
       "      <td>HIV</td>\n",
       "      <td>nenhuma</td>\n",
       "      <td>nenhum</td>\n",
       "      <td>nenhum</td>\n",
       "      <td>nenhum</td>\n",
       "      <td>0</td>\n",
       "      <td>piridonenhumina 40mg</td>\n",
       "      <td>nenhum</td>\n",
       "      <td>nenhum</td>\n",
       "      <td>Sim</td>\n",
       "      <td>nenhum</td>\n",
       "      <td>nenhum</td>\n",
       "      <td>Nao</td>\n",
       "      <td>NaN</td>\n",
       "      <td>NaN</td>\n",
       "      <td>5.1</td>\n",
       "      <td>0</td>\n",
       "      <td>2560</td>\n",
       "      <td>1.09</td>\n",
       "      <td>22.0</td>\n",
       "      <td>0</td>\n",
       "      <td>sim</td>\n",
       "      <td>leve</td>\n",
       "    </tr>\n",
       "  </tbody>\n",
       "</table>\n",
       "</div>"
      ],
      "text/plain": [
       "    idade sexo    raca tagabismo comorbidade1 comorbidade2 comorbidade3  \\\n",
       "0      41    M  branca       nao      nenhuma      nenhuma       nenhum   \n",
       "1      77    F  branca       sim          HAS      nenhuma       nenhum   \n",
       "2      67    M  branca    previo          HAS           DM       nenhum   \n",
       "3      51    M  branca       nao          HAS     renal-hd       nenhum   \n",
       "4      51    M  branca       nao          HAS     renal-hd       nenhum   \n",
       "5      64    F  branca       nao          HAS      nenhuma       nenhum   \n",
       "6      38    M   preta       nao     renal-hd      nenhuma       nenhum   \n",
       "7      37    M  branca       sim          HIV   oncologico       nenhum   \n",
       "8      82    F  branca       nao          HAS   oncologico       nenhum   \n",
       "9      45    M  branca       nao      nenhuma      nenhuma       nenhum   \n",
       "10     63    M  branca    previo          HAS           DM   oncologica   \n",
       "11     79    M   preta       nao          HAS      nenhuma       nenhum   \n",
       "12     79    M  branca       nao          HAS      nenhuma       nenhum   \n",
       "13     52    F   preta       nao           DM      nenhuma       nenhum   \n",
       "14     30    M   preta       sim          HIV      nenhuma       nenhum   \n",
       "\n",
       "   comorbidade4 trombo_na_internacao  desfecho  \\\n",
       "0        nenhum               nenhum         0   \n",
       "1        nenhum               nenhum         0   \n",
       "2        nenhum               nenhum         0   \n",
       "3        nenhum               nenhum         0   \n",
       "4        nenhum               nenhum         0   \n",
       "5        nenhum               nenhum         0   \n",
       "6        nenhum               nenhum         0   \n",
       "7        nenhum                  TVP         0   \n",
       "8        nenhum               nenhum         1   \n",
       "9        nenhum                ambos         0   \n",
       "10       nenhum               nenhum         0   \n",
       "11       nenhum               nenhum         0   \n",
       "12       nenhum               nenhum         1   \n",
       "13       nenhum                  TEP         0   \n",
       "14       nenhum               nenhum         0   \n",
       "\n",
       "                anti-inflamatorio1    anti-inflamatorio2 anti-inflamatorio3  \\\n",
       "0                           nenhum                nenhum             nenhum   \n",
       "1             hidrocortisona 100mg       prednisona 20mg             nenhum   \n",
       "2                           nenhum                nenhum             nenhum   \n",
       "3                  prednisona 20mg                nenhum             nenhum   \n",
       "4   denenhumametasona 4mg/mL 2,5mL  hidrocortisona 100mg    prednisona 20mg   \n",
       "5                           nenhum                nenhum             nenhum   \n",
       "6             hidrocortisona 100mg       prednisona 20mg             nenhum   \n",
       "7                    tiamina 300mg  piridonenhumina 40mg             nenhum   \n",
       "8                           nenhum                nenhum             nenhum   \n",
       "9                           nenhum                nenhum             nenhum   \n",
       "10                 prednisona 20mg                nenhum             nenhum   \n",
       "11                          nenhum                nenhum             nenhum   \n",
       "12  denenhumametasona 4mg/mL 2,5mL                nenhum             nenhum   \n",
       "13                          nenhum                nenhum             nenhum   \n",
       "14            piridonenhumina 40mg                nenhum             nenhum   \n",
       "\n",
       "   anti-inflamatorio_previo        profilaxia_de_trombo1  \\\n",
       "0                       Nao       heparina 5000UI/0,25mL   \n",
       "1                       Nao  enonenhumaparina 40mg/0,4mL   \n",
       "2                       Nao       heparina 5000UI/0,25mL   \n",
       "3                       Sim                       nenhum   \n",
       "4                       Nao                       nenhum   \n",
       "5                       Nao       heparina 5000UI/0,25mL   \n",
       "6                       Sim       heparina 5000UI/0,25mL   \n",
       "7                       Nao  enonenhumaparina 40mg/0,4mL   \n",
       "8                       Nao  enonenhumaparina 40mg/0,4mL   \n",
       "9                       Nao  enonenhumaparina 40mg/0,4mL   \n",
       "10                      Sim       heparina 5000UI/0,25mL   \n",
       "11                      Nao       heparina 5000UI/0,25mL   \n",
       "12                      Nao       heparina 5000UI/0,25mL   \n",
       "13                      Nao       heparina 5000UI/0,25mL   \n",
       "14                      Sim                       nenhum   \n",
       "\n",
       "          profilaxia_de_trombo2 anticoagulante_previo antibiotico1  \\\n",
       "0                        nenhum                   Sim          NaN   \n",
       "1                        nenhum                   Sim          NaN   \n",
       "2                        nenhum                   Sim          NaN   \n",
       "3                        nenhum                   Nao          NaN   \n",
       "4                        nenhum                   Nao          NaN   \n",
       "5                        nenhum                   Sim          NaN   \n",
       "6                        nenhum                   Nao          NaN   \n",
       "7                        nenhum                   Sim          NaN   \n",
       "8                        nenhum                   Sim          NaN   \n",
       "9   enonenhumaparina 60mg/0,6mL                   Sim          NaN   \n",
       "10                       nenhum                   Sim          NaN   \n",
       "11                       nenhum                   Sim          NaN   \n",
       "12                       nenhum                   Nao          NaN   \n",
       "13                       nenhum                   Sim          NaN   \n",
       "14                       nenhum                   Nao          NaN   \n",
       "\n",
       "   antibiotico2  proteina c (mg/dl)  ferritina (ng/ml)  leucócitos ( /ul)  \\\n",
       "0           NaN                 8.0                  0               4830   \n",
       "1           NaN                14.7                  0               5280   \n",
       "2           NaN                 0.0                  0               8650   \n",
       "3           NaN                 6.2                  0               9590   \n",
       "4           NaN                32.0                  0               4230   \n",
       "5           NaN                 4.1               1530               6430   \n",
       "6           NaN                19.3               2380               1260   \n",
       "7           NaN                 4.8                  0               4410   \n",
       "8           NaN                 0.0                  0                  0   \n",
       "9           NaN                17.2                366               2790   \n",
       "10          NaN                 8.8                  0               4480   \n",
       "11          NaN                 0.0                  0              11150   \n",
       "12          NaN                21.1                  0              10260   \n",
       "13          NaN                 2.1                  0               4510   \n",
       "14          NaN                 5.1                  0               2560   \n",
       "\n",
       "    creatinina (mg/dl)  ureia(mg/dl)  d-dimeros (ng/ml) reinfeccao  sintomas  \n",
       "0                 0.76          36.0                  0        nao      leve  \n",
       "1                 0.82          31.0                  0        nao  assintom  \n",
       "2                 0.72           0.0                  0        nao      leve  \n",
       "3                 0.00         142.0                  0        nao      leve  \n",
       "4                15.40         158.0               1535        sim  assintom  \n",
       "5                 1.00          52.0                  0        nao      leve  \n",
       "6                 7.35         191.0               1021        nao      leve  \n",
       "7                 0.68          31.0                437        nao      leve  \n",
       "8                 0.00           0.0                  0        nao  assintom  \n",
       "9                 1.08          22.0                  0        nao      leve  \n",
       "10                1.33          61.0               3760        nao     grave  \n",
       "11                0.89          53.0                  0        nao  assintom  \n",
       "12                1.09          62.0               1657        sim  moderado  \n",
       "13                1.12          22.0               2466        nao      leve  \n",
       "14                1.09          22.0                  0        sim      leve  "
      ]
     },
     "execution_count": 167,
     "metadata": {},
     "output_type": "execute_result"
    }
   ],
   "source": [
    "df.head(15)"
   ]
  },
  {
   "cell_type": "markdown",
   "id": "c0a4f8a3",
   "metadata": {
    "id": "c0a4f8a3"
   },
   "source": [
    "Valores Vazios\n",
    "- Deletar linhas/colunas vazias\n",
    "- Deletar linhas que possuem valores vazios\n",
    "- Preencher valores vazios (último valor)"
   ]
  },
  {
   "cell_type": "code",
   "execution_count": 168,
   "id": "90b1d202",
   "metadata": {
    "id": "90b1d202"
   },
   "outputs": [],
   "source": [
    "# deletar linhas e colunas completamente vazias\n",
    "# df = df.dropna(how='all', axis=1)\n",
    "\n",
    "# deletar linhas que possuem pelo menos 1 valor vazio\n",
    "# df = df.dropna()"
   ]
  },
  {
   "cell_type": "code",
   "execution_count": 169,
   "id": "11fdb482",
   "metadata": {
    "id": "11fdb482"
   },
   "outputs": [],
   "source": [
    "# preencher com o último valor\n",
    "df = df.ffill()"
   ]
  },
  {
   "cell_type": "code",
   "execution_count": 170,
   "id": "0dd4f36c",
   "metadata": {
    "id": "0dd4f36c"
   },
   "outputs": [],
   "source": [
    "# deletar colunas incompletas\n",
    "df = df.drop(columns='antibiotico1')\n",
    "df = df.drop(columns='antibiotico2')\n"
   ]
  },
  {
   "cell_type": "code",
   "execution_count": 171,
   "id": "2e6df69e",
   "metadata": {
    "colab": {
     "base_uri": "https://localhost:8080/"
    },
    "id": "2e6df69e",
    "outputId": "7efe9c1e-e3be-47d2-91c2-e66e37e557f1"
   },
   "outputs": [
    {
     "name": "stdout",
     "output_type": "stream",
     "text": [
      "<class 'pandas.core.frame.DataFrame'>\n",
      "RangeIndex: 429 entries, 0 to 428\n",
      "Data columns (total 25 columns):\n",
      " #   Column                    Non-Null Count  Dtype  \n",
      "---  ------                    --------------  -----  \n",
      " 0   idade                     429 non-null    int64  \n",
      " 1   sexo                      429 non-null    object \n",
      " 2   raca                      429 non-null    object \n",
      " 3   tagabismo                 429 non-null    object \n",
      " 4   comorbidade1              429 non-null    object \n",
      " 5   comorbidade2              429 non-null    object \n",
      " 6   comorbidade3              429 non-null    object \n",
      " 7   comorbidade4              429 non-null    object \n",
      " 8   trombo_na_internacao      429 non-null    object \n",
      " 9   desfecho                  429 non-null    int64  \n",
      " 10  anti-inflamatorio1        429 non-null    object \n",
      " 11  anti-inflamatorio2        429 non-null    object \n",
      " 12  anti-inflamatorio3        429 non-null    object \n",
      " 13  anti-inflamatorio_previo  429 non-null    object \n",
      " 14  profilaxia_de_trombo1     429 non-null    object \n",
      " 15  profilaxia_de_trombo2     429 non-null    object \n",
      " 16  anticoagulante_previo     429 non-null    object \n",
      " 17  proteina c (mg/dl)        429 non-null    float64\n",
      " 18  ferritina (ng/ml)         429 non-null    int64  \n",
      " 19  leucócitos ( /ul)         429 non-null    int64  \n",
      " 20  creatinina (mg/dl)        429 non-null    float64\n",
      " 21  ureia(mg/dl)              429 non-null    float64\n",
      " 22  d-dimeros (ng/ml)         429 non-null    int64  \n",
      " 23  reinfeccao                429 non-null    object \n",
      " 24  sintomas                  429 non-null    object \n",
      "dtypes: float64(3), int64(5), object(17)\n",
      "memory usage: 83.9+ KB\n"
     ]
    }
   ],
   "source": [
    "df.info()"
   ]
  },
  {
   "cell_type": "code",
   "execution_count": 172,
   "id": "f48b1e87",
   "metadata": {
    "colab": {
     "base_uri": "https://localhost:8080/",
     "height": 424
    },
    "id": "f48b1e87",
    "outputId": "bf9a00c5-4a45-4b25-d581-35d35df4f490"
   },
   "outputs": [
    {
     "data": {
      "text/html": [
       "<div>\n",
       "<style scoped>\n",
       "    .dataframe tbody tr th:only-of-type {\n",
       "        vertical-align: middle;\n",
       "    }\n",
       "\n",
       "    .dataframe tbody tr th {\n",
       "        vertical-align: top;\n",
       "    }\n",
       "\n",
       "    .dataframe thead th {\n",
       "        text-align: right;\n",
       "    }\n",
       "</style>\n",
       "<table border=\"1\" class=\"dataframe\">\n",
       "  <thead>\n",
       "    <tr style=\"text-align: right;\">\n",
       "      <th></th>\n",
       "      <th>comorbidade1</th>\n",
       "      <th>comorbidade2</th>\n",
       "      <th>comorbidade3</th>\n",
       "      <th>comorbidade4</th>\n",
       "      <th>desfecho</th>\n",
       "    </tr>\n",
       "  </thead>\n",
       "  <tbody>\n",
       "    <tr>\n",
       "      <th>0</th>\n",
       "      <td>nenhuma</td>\n",
       "      <td>nenhuma</td>\n",
       "      <td>nenhum</td>\n",
       "      <td>nenhum</td>\n",
       "      <td>0</td>\n",
       "    </tr>\n",
       "    <tr>\n",
       "      <th>1</th>\n",
       "      <td>HAS</td>\n",
       "      <td>nenhuma</td>\n",
       "      <td>nenhum</td>\n",
       "      <td>nenhum</td>\n",
       "      <td>0</td>\n",
       "    </tr>\n",
       "    <tr>\n",
       "      <th>2</th>\n",
       "      <td>HAS</td>\n",
       "      <td>DM</td>\n",
       "      <td>nenhum</td>\n",
       "      <td>nenhum</td>\n",
       "      <td>0</td>\n",
       "    </tr>\n",
       "    <tr>\n",
       "      <th>3</th>\n",
       "      <td>HAS</td>\n",
       "      <td>renal-hd</td>\n",
       "      <td>nenhum</td>\n",
       "      <td>nenhum</td>\n",
       "      <td>0</td>\n",
       "    </tr>\n",
       "    <tr>\n",
       "      <th>4</th>\n",
       "      <td>HAS</td>\n",
       "      <td>renal-hd</td>\n",
       "      <td>nenhum</td>\n",
       "      <td>nenhum</td>\n",
       "      <td>0</td>\n",
       "    </tr>\n",
       "    <tr>\n",
       "      <th>...</th>\n",
       "      <td>...</td>\n",
       "      <td>...</td>\n",
       "      <td>...</td>\n",
       "      <td>...</td>\n",
       "      <td>...</td>\n",
       "    </tr>\n",
       "    <tr>\n",
       "      <th>424</th>\n",
       "      <td>HAS</td>\n",
       "      <td>nenhuma</td>\n",
       "      <td>nenhum</td>\n",
       "      <td>nenhum</td>\n",
       "      <td>0</td>\n",
       "    </tr>\n",
       "    <tr>\n",
       "      <th>425</th>\n",
       "      <td>nenhuma</td>\n",
       "      <td>nenhuma</td>\n",
       "      <td>nenhum</td>\n",
       "      <td>nenhum</td>\n",
       "      <td>0</td>\n",
       "    </tr>\n",
       "    <tr>\n",
       "      <th>426</th>\n",
       "      <td>DM</td>\n",
       "      <td>HAS</td>\n",
       "      <td>nenhum</td>\n",
       "      <td>nenhum</td>\n",
       "      <td>0</td>\n",
       "    </tr>\n",
       "    <tr>\n",
       "      <th>427</th>\n",
       "      <td>HAS</td>\n",
       "      <td>ICC</td>\n",
       "      <td>nenhum</td>\n",
       "      <td>nenhum</td>\n",
       "      <td>0</td>\n",
       "    </tr>\n",
       "    <tr>\n",
       "      <th>428</th>\n",
       "      <td>DM</td>\n",
       "      <td>HAS</td>\n",
       "      <td>nenhum</td>\n",
       "      <td>nenhum</td>\n",
       "      <td>0</td>\n",
       "    </tr>\n",
       "  </tbody>\n",
       "</table>\n",
       "<p>429 rows × 5 columns</p>\n",
       "</div>"
      ],
      "text/plain": [
       "    comorbidade1 comorbidade2 comorbidade3 comorbidade4  desfecho\n",
       "0        nenhuma      nenhuma       nenhum       nenhum         0\n",
       "1            HAS      nenhuma       nenhum       nenhum         0\n",
       "2            HAS           DM       nenhum       nenhum         0\n",
       "3            HAS     renal-hd       nenhum       nenhum         0\n",
       "4            HAS     renal-hd       nenhum       nenhum         0\n",
       "..           ...          ...          ...          ...       ...\n",
       "424          HAS      nenhuma       nenhum       nenhum         0\n",
       "425      nenhuma      nenhuma       nenhum       nenhum         0\n",
       "426           DM          HAS       nenhum       nenhum         0\n",
       "427          HAS          ICC       nenhum       nenhum         0\n",
       "428           DM          HAS       nenhum       nenhum         0\n",
       "\n",
       "[429 rows x 5 columns]"
      ]
     },
     "metadata": {},
     "output_type": "display_data"
    }
   ],
   "source": [
    "view_comorbidade_desfecho = df[['comorbidade1','comorbidade2','comorbidade3','comorbidade4', 'desfecho']]\n",
    "display(view_comorbidade_desfecho)"
   ]
  },
  {
   "cell_type": "code",
   "execution_count": 173,
   "id": "f93d9b8a",
   "metadata": {
    "id": "f93d9b8a"
   },
   "outputs": [],
   "source": [
    "# DESFECHO (1-alta/ 2-UTI/ 3-óbito/4-fim isolamento/5-transf.)"
   ]
  },
  {
   "cell_type": "markdown",
   "id": "09c756e8",
   "metadata": {
    "id": "09c756e8"
   },
   "source": [
    "#### Atributos escolhidos: "
   ]
  },
  {
   "cell_type": "code",
   "execution_count": 174,
   "id": "a6aad5ab",
   "metadata": {
    "id": "a6aad5ab"
   },
   "outputs": [],
   "source": [
    "nomes_atributos_numericos = ['idade','proteina c (mg/dl)','ferritina (ng/ml)','leucócitos ( /ul)','creatinina (mg/dl)','ureia(mg/dl)','d-dimeros (ng/ml)']"
   ]
  },
  {
   "cell_type": "code",
   "execution_count": 175,
   "id": "116cd9c9",
   "metadata": {
    "colab": {
     "base_uri": "https://localhost:8080/"
    },
    "id": "116cd9c9",
    "outputId": "1b3dee01-94f1-4d23-b2bd-47ab00dd82bf"
   },
   "outputs": [
    {
     "data": {
      "text/plain": [
       "['idade',\n",
       " 'proteina c (mg/dl)',\n",
       " 'ferritina (ng/ml)',\n",
       " 'leucócitos ( /ul)',\n",
       " 'creatinina (mg/dl)',\n",
       " 'ureia(mg/dl)',\n",
       " 'd-dimeros (ng/ml)']"
      ]
     },
     "execution_count": 175,
     "metadata": {},
     "output_type": "execute_result"
    }
   ],
   "source": [
    "nomes_atributos_numericos"
   ]
  },
  {
   "cell_type": "code",
   "execution_count": 176,
   "id": "5a1cefb6",
   "metadata": {
    "id": "5a1cefb6"
   },
   "outputs": [],
   "source": [
    "nomes_atributos_categoricos = ['sexo','sintomas','raca','tagabismo','comorbidade1','comorbidade2','comorbidade3','comorbidade4','trombo_na_internacao','sintomas','anti-inflamatorio_previo','anticoagulante_previo','reinfeccao']"
   ]
  },
  {
   "cell_type": "code",
   "execution_count": 177,
   "id": "755cf5f9",
   "metadata": {
    "colab": {
     "base_uri": "https://localhost:8080/"
    },
    "id": "755cf5f9",
    "outputId": "b3a621b4-553f-4fd1-cdb1-24ea6dc95407"
   },
   "outputs": [
    {
     "data": {
      "text/plain": [
       "['sexo',\n",
       " 'sintomas',\n",
       " 'raca',\n",
       " 'tagabismo',\n",
       " 'comorbidade1',\n",
       " 'comorbidade2',\n",
       " 'comorbidade3',\n",
       " 'comorbidade4',\n",
       " 'trombo_na_internacao',\n",
       " 'sintomas',\n",
       " 'anti-inflamatorio_previo',\n",
       " 'anticoagulante_previo',\n",
       " 'reinfeccao']"
      ]
     },
     "execution_count": 177,
     "metadata": {},
     "output_type": "execute_result"
    }
   ],
   "source": [
    "nomes_atributos_categoricos"
   ]
  },
  {
   "cell_type": "code",
   "execution_count": 178,
   "id": "6f8fe8d6",
   "metadata": {
    "colab": {
     "base_uri": "https://localhost:8080/"
    },
    "id": "6f8fe8d6",
    "outputId": "8c58532c-e3d0-40b0-e9c9-2bd3276d4eea"
   },
   "outputs": [
    {
     "data": {
      "text/plain": [
       "0    382\n",
       "1     47\n",
       "Name: desfecho, dtype: int64"
      ]
     },
     "execution_count": 178,
     "metadata": {},
     "output_type": "execute_result"
    }
   ],
   "source": [
    "df['desfecho'].value_counts()"
   ]
  },
  {
   "cell_type": "markdown",
   "id": "63ffe010",
   "metadata": {
    "id": "63ffe010"
   },
   "source": [
    "#### Pré-Processamento"
   ]
  },
  {
   "cell_type": "markdown",
   "id": "7fc9e204",
   "metadata": {
    "id": "7fc9e204"
   },
   "source": [
    "#### Separando os conjuntos de treino e teste"
   ]
  },
  {
   "cell_type": "code",
   "execution_count": 179,
   "id": "9abfa34e",
   "metadata": {
    "id": "9abfa34e"
   },
   "outputs": [],
   "source": [
    "from sklearn.model_selection import train_test_split\n",
    "\n",
    "# separando os conjuntos de dados de treino e teste\n",
    "df_treino, df_teste = train_test_split(df, test_size=0.2, random_state=42)\n",
    "\n",
    "# separando a coluna alvo do conjunto de treino\n",
    "df_treino_labels = df_treino['desfecho'].copy()\n",
    "df_treino        = df_treino.drop(columns='desfecho')\n",
    "\n",
    "# separando a coluna alvo do conjunto de teste\n",
    "df_teste_labels = df_teste['desfecho'].copy()\n",
    "df_teste        = df_teste.drop(columns='desfecho')"
   ]
  },
  {
   "cell_type": "code",
   "execution_count": 180,
   "id": "a5500015",
   "metadata": {
    "id": "a5500015"
   },
   "outputs": [],
   "source": [
    "from sklearn.impute import SimpleImputer\n",
    "from sklearn.preprocessing import StandardScaler\n",
    "from sklearn.preprocessing import OneHotEncoder\n",
    "\n",
    "from sklearn.pipeline import Pipeline\n",
    "from sklearn.compose import ColumnTransformer\n",
    "\n",
    "pipeline_atr_numericos = Pipeline([\n",
    "    ('imputer',SimpleImputer(strategy='mean')),\n",
    "    ('scaler', StandardScaler()),\n",
    "])\n",
    "\n",
    "preproc_completo = ColumnTransformer([\n",
    "    ('numericos',   pipeline_atr_numericos, nomes_atributos_numericos),\n",
    "    ('categoricos', OneHotEncoder(),        nomes_atributos_categoricos),\n",
    "    ], \n",
    "    sparse_threshold=0)\n",
    "\n",
    "# pre-processamento do conjunto de treino\n",
    "X_treino = preproc_completo.fit_transform(df_treino)\n",
    "\n",
    "# pre-processamento do conjunto de teste\n",
    "X_teste = preproc_completo.transform(df_teste)\n",
    "\n",
    "# pre-processamento da coluna alvo para treino\n",
    "y_treino = df_treino_labels.values == 1\n",
    "\n",
    "# pre-processamento da coluna alvo para teste\n",
    "y_teste = df_teste_labels.values == 1"
   ]
  },
  {
   "cell_type": "code",
   "execution_count": 181,
   "id": "xb8KkmirAdpn",
   "metadata": {
    "id": "xb8KkmirAdpn"
   },
   "outputs": [],
   "source": [
    "# configurar o estilo dos gráficos com o Seaborn\n",
    "sns.set_style('dark')"
   ]
  },
  {
   "cell_type": "code",
   "execution_count": 182,
   "id": "V19aOYyu_isQ",
   "metadata": {
    "id": "V19aOYyu_isQ"
   },
   "outputs": [],
   "source": [
    "# usar técnica under-sampling\n",
    "# Under-sampling: reduz o desbalanceamento do dataset focando na classe majoritária. Ou seja, elimina aleatoriamente entradas da classe com maior número de ocorrências\n",
    "# rus = RandomUnderSampler()\n",
    "# X_treino, y_treino = rus.fit_resample(X_treino, y_treino)\n"
   ]
  },
  {
   "cell_type": "code",
   "execution_count": 183,
   "id": "4CF-78qPGCY3",
   "metadata": {
    "id": "4CF-78qPGCY3"
   },
   "outputs": [],
   "source": [
    "from imblearn.over_sampling import RandomOverSampler\n",
    "# Over-sampling: cria novas observações da classe minoritária a partir das informações contidas nos dados originais. "
   ]
  },
  {
   "cell_type": "code",
   "execution_count": 184,
   "id": "yCkHpyxgGnJX",
   "metadata": {
    "id": "yCkHpyxgGnJX"
   },
   "outputs": [],
   "source": [
    "oversample = RandomOverSampler(sampling_strategy='minority')"
   ]
  },
  {
   "cell_type": "code",
   "execution_count": 185,
   "id": "HLxp-psOGhcP",
   "metadata": {
    "id": "HLxp-psOGhcP"
   },
   "outputs": [],
   "source": [
    "# fit and apply the transform\n",
    "X_treino, y_treino = oversample.fit_resample(X_treino, y_treino)"
   ]
  },
  {
   "cell_type": "code",
   "execution_count": 186,
   "id": "Ffz0qPCh_jJ3",
   "metadata": {
    "colab": {
     "base_uri": "https://localhost:8080/"
    },
    "id": "Ffz0qPCh_jJ3",
    "outputId": "40e67460-c0b7-45ed-b67d-7c1e8e3fd599"
   },
   "outputs": [
    {
     "name": "stdout",
     "output_type": "stream",
     "text": [
      "False    304\n",
      "True     304\n",
      "dtype: int64\n"
     ]
    }
   ],
   "source": [
    "# ver o balanceamento das classes\n",
    "print(pd.Series(y_treino).value_counts())\n"
   ]
  },
  {
   "cell_type": "code",
   "execution_count": 187,
   "id": "GmOw9hezAJ_Q",
   "metadata": {
    "colab": {
     "base_uri": "https://localhost:8080/",
     "height": 320
    },
    "id": "GmOw9hezAJ_Q",
    "outputId": "7454c1ff-482d-49cb-ff51-5b9e6ddf7247"
   },
   "outputs": [
    {
     "name": "stderr",
     "output_type": "stream",
     "text": [
      "C:\\Users\\Dante\\anaconda3\\lib\\site-packages\\seaborn\\_decorators.py:36: FutureWarning: Pass the following variable as a keyword arg: x. From version 0.12, the only valid positional argument will be `data`, and passing other arguments without an explicit keyword will result in an error or misinterpretation.\n",
      "  warnings.warn(\n"
     ]
    },
    {
     "data": {
      "image/png": "[encoded data removed]",
      "text/plain": [
       "<Figure size 432x288 with 1 Axes>"
      ]
     },
     "metadata": {},
     "output_type": "display_data"
    }
   ],
   "source": [
    "# plotar a nova distribuição de classes\n",
    "sns.countplot(y_treino);"
   ]
  },
  {
   "cell_type": "code",
   "execution_count": 188,
   "id": "37ed527c",
   "metadata": {
    "id": "37ed527c"
   },
   "outputs": [],
   "source": [
    "import tensorflow as tf\n",
    "from tensorflow import keras"
   ]
  },
  {
   "cell_type": "code",
   "execution_count": 189,
   "id": "6bd51fc6",
   "metadata": {
    "colab": {
     "base_uri": "https://localhost:8080/"
    },
    "id": "6bd51fc6",
    "outputId": "93f500f5-d73e-4836-c04c-9d04a2984990"
   },
   "outputs": [
    {
     "data": {
      "text/plain": [
       "array([[ 0.55880269,  0.66566491, -0.27504492, ...,  1.        ,\n",
       "         1.        ,  0.        ],\n",
       "       [-1.31686041, -0.96869008, -0.27504492, ...,  0.        ,\n",
       "         1.        ,  0.        ],\n",
       "       [ 0.26573033,  1.70320488, -0.27504492, ...,  0.        ,\n",
       "         1.        ,  0.        ],\n",
       "       ...,\n",
       "       [ 1.96555002,  1.13393516,  4.56455206, ...,  1.        ,\n",
       "         1.        ,  0.        ],\n",
       "       [ 0.14850139,  0.71157376, -0.27504492, ...,  1.        ,\n",
       "         1.        ,  0.        ],\n",
       "       [ 0.85187505, -0.96869008, -0.27504492, ...,  0.        ,\n",
       "         0.        ,  1.        ]])"
      ]
     },
     "execution_count": 189,
     "metadata": {},
     "output_type": "execute_result"
    }
   ],
   "source": [
    "X_treino"
   ]
  },
  {
   "cell_type": "code",
   "execution_count": 190,
   "id": "1d48e54e",
   "metadata": {
    "colab": {
     "base_uri": "https://localhost:8080/"
    },
    "id": "1d48e54e",
    "outputId": "7214601e-2c25-449e-e200-b65e1043c68b"
   },
   "outputs": [
    {
     "data": {
      "text/plain": [
       "(608, 60)"
      ]
     },
     "execution_count": 190,
     "metadata": {},
     "output_type": "execute_result"
    }
   ],
   "source": [
    "X_treino.shape"
   ]
  },
  {
   "cell_type": "code",
   "execution_count": 191,
   "id": "0f3e0842",
   "metadata": {
    "colab": {
     "base_uri": "https://localhost:8080/"
    },
    "id": "0f3e0842",
    "outputId": "f5c1a222-aa8b-4091-9c86-7d91051eeabe"
   },
   "outputs": [
    {
     "data": {
      "text/plain": [
       "(608,)"
      ]
     },
     "execution_count": 191,
     "metadata": {},
     "output_type": "execute_result"
    }
   ],
   "source": [
    "y_treino.shape"
   ]
  },
  {
   "cell_type": "code",
   "execution_count": 192,
   "id": "54bbf379",
   "metadata": {
    "colab": {
     "base_uri": "https://localhost:8080/"
    },
    "id": "54bbf379",
    "outputId": "e88c832f-aed4-41bd-a0a1-59e967965aff"
   },
   "outputs": [
    {
     "data": {
      "text/plain": [
       "(86, 60)"
      ]
     },
     "execution_count": 192,
     "metadata": {},
     "output_type": "execute_result"
    }
   ],
   "source": [
    "X_teste.shape"
   ]
  },
  {
   "cell_type": "code",
   "execution_count": 193,
   "id": "37c0294b",
   "metadata": {
    "colab": {
     "base_uri": "https://localhost:8080/"
    },
    "id": "37c0294b",
    "outputId": "4f429b67-0eea-4b80-c973-0698211824d5"
   },
   "outputs": [
    {
     "data": {
      "text/plain": [
       "(86,)"
      ]
     },
     "execution_count": 193,
     "metadata": {},
     "output_type": "execute_result"
    }
   ],
   "source": [
    "y_teste.shape"
   ]
  },
  {
   "cell_type": "markdown",
   "id": "2bc8300e",
   "metadata": {
    "id": "2bc8300e"
   },
   "source": [
    "- RNA TensorFlow + Keras"
   ]
  },
  {
   "cell_type": "code",
   "execution_count": 194,
   "id": "56eb7a3e",
   "metadata": {
    "id": "56eb7a3e"
   },
   "outputs": [],
   "source": [
    "import tensorflow as tf\n",
    "from tensorflow import keras"
   ]
  },
  {
   "cell_type": "code",
   "execution_count": 195,
   "id": "2af9641b",
   "metadata": {
    "colab": {
     "base_uri": "https://localhost:8080/"
    },
    "id": "2af9641b",
    "outputId": "0db64fdf-eba6-4b6a-c925-90f1abce6327"
   },
   "outputs": [
    {
     "data": {
      "text/plain": [
       "(60,)"
      ]
     },
     "execution_count": 195,
     "metadata": {},
     "output_type": "execute_result"
    }
   ],
   "source": [
    "# Qual o tamanho da entrada?\n",
    "X_treino.shape[1:]"
   ]
  },
  {
   "cell_type": "code",
   "execution_count": 196,
   "id": "f6d90f7c",
   "metadata": {
    "id": "f6d90f7c"
   },
   "outputs": [],
   "source": [
    "model = keras.models.Sequential()\n",
    "model.add(keras.layers.Dense(32, activation=\"relu\",input_shape=X_treino.shape[1:]))\n",
    "model.add(keras.layers.Dense(16, activation=\"relu\"))\n",
    "model.add(keras.layers.Dense(2, activation=\"softmax\"))"
   ]
  },
  {
   "cell_type": "code",
   "execution_count": 197,
   "id": "121c9d6b",
   "metadata": {
    "colab": {
     "base_uri": "https://localhost:8080/"
    },
    "id": "121c9d6b",
    "outputId": "48bf5679-fbf6-4d40-dc9c-1c3f0516a9d7"
   },
   "outputs": [
    {
     "name": "stdout",
     "output_type": "stream",
     "text": [
      "Model: \"sequential_4\"\n",
      "_________________________________________________________________\n",
      " Layer (type)                Output Shape              Param #   \n",
      "=================================================================\n",
      " dense_12 (Dense)            (None, 32)                1952      \n",
      "                                                                 \n",
      " dense_13 (Dense)            (None, 16)                528       \n",
      "                                                                 \n",
      " dense_14 (Dense)            (None, 2)                 34        \n",
      "                                                                 \n",
      "=================================================================\n",
      "Total params: 2,514\n",
      "Trainable params: 2,514\n",
      "Non-trainable params: 0\n",
      "_________________________________________________________________\n"
     ]
    }
   ],
   "source": [
    "model.summary()"
   ]
  },
  {
   "cell_type": "code",
   "execution_count": 198,
   "id": "09d7b90a",
   "metadata": {
    "id": "09d7b90a"
   },
   "outputs": [],
   "source": [
    "# Para modelos de classificação com saída esparsa:    # para classificação com saída densa  # para classificação binária:     \n",
    "model.compile(loss=\"sparse_categorical_crossentropy\", # usar categorical_crossentropy       # usar binary_crossentropy e mudar\n",
    "              optimizer=\"sgd\",                        #                                     # a ativação da camada de saída\n",
    "              metrics=[\"accuracy\"])                   #                                     # para sigmoid\n"
   ]
  },
  {
   "cell_type": "code",
   "execution_count": 199,
   "id": "cOsErwTtiuNQ",
   "metadata": {
    "id": "cOsErwTtiuNQ"
   },
   "outputs": [],
   "source": [
    "# Early Stopping (optimization technique used to reduce overfitting)\n",
    "# early_stopping_cb = keras.callbacks.EarlyStopping(patience=5,restore_best_weights=True)"
   ]
  },
  {
   "cell_type": "markdown",
   "id": "80d7f281",
   "metadata": {
    "id": "80d7f281"
   },
   "source": [
    "#### Treinamento do modelo"
   ]
  },
  {
   "cell_type": "code",
   "execution_count": 200,
   "id": "91b89601",
   "metadata": {
    "colab": {
     "base_uri": "https://localhost:8080/"
    },
    "id": "91b89601",
    "outputId": "b2306169-913b-4bf7-953c-16ca886e7b93"
   },
   "outputs": [
    {
     "name": "stdout",
     "output_type": "stream",
     "text": [
      "Epoch 1/150\n",
      "16/16 [==============================] - 1s 18ms/step - loss: 0.7735 - accuracy: 0.3765 - val_loss: 0.7425 - val_accuracy: 0.4508\n",
      "Epoch 2/150\n",
      "16/16 [==============================] - 0s 4ms/step - loss: 0.6939 - accuracy: 0.5226 - val_loss: 0.7739 - val_accuracy: 0.2787\n",
      "Epoch 3/150\n",
      "16/16 [==============================] - 0s 5ms/step - loss: 0.6525 - accuracy: 0.6029 - val_loss: 0.7688 - val_accuracy: 0.3607\n",
      "Epoch 4/150\n",
      "16/16 [==============================] - 0s 5ms/step - loss: 0.6216 - accuracy: 0.6337 - val_loss: 0.7908 - val_accuracy: 0.2951\n",
      "Epoch 5/150\n",
      "16/16 [==============================] - 0s 5ms/step - loss: 0.5981 - accuracy: 0.6564 - val_loss: 0.7615 - val_accuracy: 0.4016\n",
      "Epoch 6/150\n",
      "16/16 [==============================] - 0s 5ms/step - loss: 0.5781 - accuracy: 0.6934 - val_loss: 0.7791 - val_accuracy: 0.3361\n",
      "Epoch 7/150\n",
      "16/16 [==============================] - 0s 5ms/step - loss: 0.5610 - accuracy: 0.6975 - val_loss: 0.7607 - val_accuracy: 0.3689\n",
      "Epoch 8/150\n",
      "16/16 [==============================] - 0s 5ms/step - loss: 0.5462 - accuracy: 0.7037 - val_loss: 0.7397 - val_accuracy: 0.4262\n",
      "Epoch 9/150\n",
      "16/16 [==============================] - 0s 5ms/step - loss: 0.5332 - accuracy: 0.7346 - val_loss: 0.6949 - val_accuracy: 0.5246\n",
      "Epoch 10/150\n",
      "16/16 [==============================] - 0s 5ms/step - loss: 0.5211 - accuracy: 0.7551 - val_loss: 0.7001 - val_accuracy: 0.4918\n",
      "Epoch 11/150\n",
      "16/16 [==============================] - 0s 5ms/step - loss: 0.5095 - accuracy: 0.7510 - val_loss: 0.7081 - val_accuracy: 0.4918\n",
      "Epoch 12/150\n",
      "16/16 [==============================] - 0s 5ms/step - loss: 0.4991 - accuracy: 0.7510 - val_loss: 0.6645 - val_accuracy: 0.5492\n",
      "Epoch 13/150\n",
      "16/16 [==============================] - 0s 5ms/step - loss: 0.4898 - accuracy: 0.7675 - val_loss: 0.6774 - val_accuracy: 0.5492\n",
      "Epoch 14/150\n",
      "16/16 [==============================] - 0s 5ms/step - loss: 0.4803 - accuracy: 0.7716 - val_loss: 0.6626 - val_accuracy: 0.5902\n",
      "Epoch 15/150\n",
      "16/16 [==============================] - 0s 5ms/step - loss: 0.4721 - accuracy: 0.7778 - val_loss: 0.6674 - val_accuracy: 0.5902\n",
      "Epoch 16/150\n",
      "16/16 [==============================] - 0s 5ms/step - loss: 0.4641 - accuracy: 0.7860 - val_loss: 0.6322 - val_accuracy: 0.5902\n",
      "Epoch 17/150\n",
      "16/16 [==============================] - 0s 5ms/step - loss: 0.4564 - accuracy: 0.7798 - val_loss: 0.6263 - val_accuracy: 0.5902\n",
      "Epoch 18/150\n",
      "16/16 [==============================] - 0s 5ms/step - loss: 0.4499 - accuracy: 0.7675 - val_loss: 0.6398 - val_accuracy: 0.5902\n",
      "Epoch 19/150\n",
      "16/16 [==============================] - 0s 4ms/step - loss: 0.4429 - accuracy: 0.7757 - val_loss: 0.6274 - val_accuracy: 0.5902\n",
      "Epoch 20/150\n",
      "16/16 [==============================] - 0s 4ms/step - loss: 0.4370 - accuracy: 0.7798 - val_loss: 0.6273 - val_accuracy: 0.5574\n",
      "Epoch 21/150\n",
      "16/16 [==============================] - 0s 4ms/step - loss: 0.4309 - accuracy: 0.7757 - val_loss: 0.6277 - val_accuracy: 0.5574\n",
      "Epoch 22/150\n",
      "16/16 [==============================] - 0s 4ms/step - loss: 0.4257 - accuracy: 0.7716 - val_loss: 0.6161 - val_accuracy: 0.5574\n",
      "Epoch 23/150\n",
      "16/16 [==============================] - 0s 4ms/step - loss: 0.4190 - accuracy: 0.7757 - val_loss: 0.5949 - val_accuracy: 0.5574\n",
      "Epoch 24/150\n",
      "16/16 [==============================] - 0s 5ms/step - loss: 0.4132 - accuracy: 0.7737 - val_loss: 0.5727 - val_accuracy: 0.6148\n",
      "Epoch 25/150\n",
      "16/16 [==============================] - 0s 5ms/step - loss: 0.4084 - accuracy: 0.7757 - val_loss: 0.5610 - val_accuracy: 0.6230\n",
      "Epoch 26/150\n",
      "16/16 [==============================] - 0s 4ms/step - loss: 0.4031 - accuracy: 0.7942 - val_loss: 0.5647 - val_accuracy: 0.5902\n",
      "Epoch 27/150\n",
      "16/16 [==============================] - 0s 5ms/step - loss: 0.3978 - accuracy: 0.7922 - val_loss: 0.5624 - val_accuracy: 0.5902\n",
      "Epoch 28/150\n",
      "16/16 [==============================] - 0s 5ms/step - loss: 0.3931 - accuracy: 0.7922 - val_loss: 0.5488 - val_accuracy: 0.5902\n",
      "Epoch 29/150\n",
      "16/16 [==============================] - 0s 5ms/step - loss: 0.3878 - accuracy: 0.7922 - val_loss: 0.5687 - val_accuracy: 0.5902\n",
      "Epoch 30/150\n",
      "16/16 [==============================] - 0s 5ms/step - loss: 0.3831 - accuracy: 0.7922 - val_loss: 0.5874 - val_accuracy: 0.5656\n",
      "Epoch 31/150\n",
      "16/16 [==============================] - 0s 5ms/step - loss: 0.3784 - accuracy: 0.8004 - val_loss: 0.5430 - val_accuracy: 0.5902\n",
      "Epoch 32/150\n",
      "16/16 [==============================] - 0s 5ms/step - loss: 0.3744 - accuracy: 0.8004 - val_loss: 0.5850 - val_accuracy: 0.5656\n",
      "Epoch 33/150\n",
      "16/16 [==============================] - 0s 4ms/step - loss: 0.3707 - accuracy: 0.8107 - val_loss: 0.5296 - val_accuracy: 0.6475\n",
      "Epoch 34/150\n",
      "16/16 [==============================] - 0s 5ms/step - loss: 0.3649 - accuracy: 0.8128 - val_loss: 0.5094 - val_accuracy: 0.6639\n",
      "Epoch 35/150\n",
      "16/16 [==============================] - 0s 4ms/step - loss: 0.3599 - accuracy: 0.8169 - val_loss: 0.4718 - val_accuracy: 0.7295\n",
      "Epoch 36/150\n",
      "16/16 [==============================] - 0s 5ms/step - loss: 0.3563 - accuracy: 0.8333 - val_loss: 0.4756 - val_accuracy: 0.6967\n",
      "Epoch 37/150\n",
      "16/16 [==============================] - 0s 5ms/step - loss: 0.3515 - accuracy: 0.8230 - val_loss: 0.4814 - val_accuracy: 0.6967\n",
      "Epoch 38/150\n",
      "16/16 [==============================] - 0s 4ms/step - loss: 0.3471 - accuracy: 0.8292 - val_loss: 0.4578 - val_accuracy: 0.7459\n",
      "Epoch 39/150\n",
      "16/16 [==============================] - 0s 4ms/step - loss: 0.3435 - accuracy: 0.8354 - val_loss: 0.4973 - val_accuracy: 0.7459\n",
      "Epoch 40/150\n",
      "16/16 [==============================] - 0s 4ms/step - loss: 0.3396 - accuracy: 0.8436 - val_loss: 0.5054 - val_accuracy: 0.7459\n",
      "Epoch 41/150\n",
      "16/16 [==============================] - 0s 4ms/step - loss: 0.3356 - accuracy: 0.8519 - val_loss: 0.4664 - val_accuracy: 0.7541\n",
      "Epoch 42/150\n",
      "16/16 [==============================] - 0s 4ms/step - loss: 0.3318 - accuracy: 0.8436 - val_loss: 0.4651 - val_accuracy: 0.7541\n",
      "Epoch 43/150\n",
      "16/16 [==============================] - 0s 4ms/step - loss: 0.3275 - accuracy: 0.8519 - val_loss: 0.4443 - val_accuracy: 0.7541\n",
      "Epoch 44/150\n",
      "16/16 [==============================] - 0s 4ms/step - loss: 0.3239 - accuracy: 0.8539 - val_loss: 0.4280 - val_accuracy: 0.7541\n",
      "Epoch 45/150\n",
      "16/16 [==============================] - 0s 4ms/step - loss: 0.3202 - accuracy: 0.8498 - val_loss: 0.4755 - val_accuracy: 0.7541\n",
      "Epoch 46/150\n",
      "16/16 [==============================] - 0s 4ms/step - loss: 0.3170 - accuracy: 0.8683 - val_loss: 0.4390 - val_accuracy: 0.7541\n",
      "Epoch 47/150\n",
      "16/16 [==============================] - 0s 4ms/step - loss: 0.3129 - accuracy: 0.8621 - val_loss: 0.4374 - val_accuracy: 0.7541\n",
      "Epoch 48/150\n",
      "16/16 [==============================] - 0s 4ms/step - loss: 0.3094 - accuracy: 0.8580 - val_loss: 0.4660 - val_accuracy: 0.7541\n",
      "Epoch 49/150\n",
      "16/16 [==============================] - 0s 4ms/step - loss: 0.3070 - accuracy: 0.8683 - val_loss: 0.4492 - val_accuracy: 0.7541\n",
      "Epoch 50/150\n",
      "16/16 [==============================] - 0s 4ms/step - loss: 0.3019 - accuracy: 0.8663 - val_loss: 0.4080 - val_accuracy: 0.7869\n",
      "Epoch 51/150\n",
      "16/16 [==============================] - 0s 4ms/step - loss: 0.2993 - accuracy: 0.8663 - val_loss: 0.4330 - val_accuracy: 0.7541\n",
      "Epoch 52/150\n",
      "16/16 [==============================] - 0s 4ms/step - loss: 0.2968 - accuracy: 0.8765 - val_loss: 0.4236 - val_accuracy: 0.7541\n",
      "Epoch 53/150\n",
      "16/16 [==============================] - 0s 4ms/step - loss: 0.2929 - accuracy: 0.8724 - val_loss: 0.4423 - val_accuracy: 0.7541\n",
      "Epoch 54/150\n",
      "16/16 [==============================] - 0s 5ms/step - loss: 0.2900 - accuracy: 0.8827 - val_loss: 0.3956 - val_accuracy: 0.8361\n",
      "Epoch 55/150\n",
      "16/16 [==============================] - 0s 4ms/step - loss: 0.2872 - accuracy: 0.8951 - val_loss: 0.3996 - val_accuracy: 0.8361\n",
      "Epoch 56/150\n",
      "16/16 [==============================] - 0s 4ms/step - loss: 0.2837 - accuracy: 0.8951 - val_loss: 0.3714 - val_accuracy: 0.8361\n",
      "Epoch 57/150\n",
      "16/16 [==============================] - 0s 4ms/step - loss: 0.2811 - accuracy: 0.8909 - val_loss: 0.3583 - val_accuracy: 0.8361\n",
      "Epoch 58/150\n",
      "16/16 [==============================] - 0s 4ms/step - loss: 0.2786 - accuracy: 0.8909 - val_loss: 0.3651 - val_accuracy: 0.8607\n"
     ]
    },
    {
     "name": "stdout",
     "output_type": "stream",
     "text": [
      "Epoch 59/150\n",
      "16/16 [==============================] - 0s 4ms/step - loss: 0.2753 - accuracy: 0.9012 - val_loss: 0.4481 - val_accuracy: 0.7295\n",
      "Epoch 60/150\n",
      "16/16 [==============================] - 0s 4ms/step - loss: 0.2743 - accuracy: 0.8971 - val_loss: 0.3897 - val_accuracy: 0.8607\n",
      "Epoch 61/150\n",
      "16/16 [==============================] - 0s 4ms/step - loss: 0.2692 - accuracy: 0.9156 - val_loss: 0.4064 - val_accuracy: 0.8279\n",
      "Epoch 62/150\n",
      "16/16 [==============================] - 0s 4ms/step - loss: 0.2681 - accuracy: 0.9012 - val_loss: 0.3623 - val_accuracy: 0.8607\n",
      "Epoch 63/150\n",
      "16/16 [==============================] - 0s 4ms/step - loss: 0.2639 - accuracy: 0.9136 - val_loss: 0.3413 - val_accuracy: 0.9262\n",
      "Epoch 64/150\n",
      "16/16 [==============================] - 0s 4ms/step - loss: 0.2613 - accuracy: 0.9156 - val_loss: 0.3824 - val_accuracy: 0.8607\n",
      "Epoch 65/150\n",
      "16/16 [==============================] - 0s 4ms/step - loss: 0.2584 - accuracy: 0.9136 - val_loss: 0.3388 - val_accuracy: 0.9262\n",
      "Epoch 66/150\n",
      "16/16 [==============================] - 0s 4ms/step - loss: 0.2566 - accuracy: 0.9074 - val_loss: 0.3501 - val_accuracy: 0.8607\n",
      "Epoch 67/150\n",
      "16/16 [==============================] - 0s 4ms/step - loss: 0.2529 - accuracy: 0.9115 - val_loss: 0.3858 - val_accuracy: 0.8607\n",
      "Epoch 68/150\n",
      "16/16 [==============================] - 0s 5ms/step - loss: 0.2500 - accuracy: 0.9177 - val_loss: 0.3638 - val_accuracy: 0.8607\n",
      "Epoch 69/150\n",
      "16/16 [==============================] - 0s 4ms/step - loss: 0.2477 - accuracy: 0.9156 - val_loss: 0.3384 - val_accuracy: 0.9262\n",
      "Epoch 70/150\n",
      "16/16 [==============================] - 0s 5ms/step - loss: 0.2457 - accuracy: 0.9156 - val_loss: 0.3820 - val_accuracy: 0.8361\n",
      "Epoch 71/150\n",
      "16/16 [==============================] - 0s 4ms/step - loss: 0.2442 - accuracy: 0.9156 - val_loss: 0.3413 - val_accuracy: 0.9262\n",
      "Epoch 72/150\n",
      "16/16 [==============================] - 0s 4ms/step - loss: 0.2402 - accuracy: 0.9239 - val_loss: 0.3689 - val_accuracy: 0.8361\n",
      "Epoch 73/150\n",
      "16/16 [==============================] - 0s 4ms/step - loss: 0.2385 - accuracy: 0.9198 - val_loss: 0.3432 - val_accuracy: 0.9262\n",
      "Epoch 74/150\n",
      "16/16 [==============================] - 0s 4ms/step - loss: 0.2361 - accuracy: 0.9239 - val_loss: 0.3350 - val_accuracy: 0.9262\n",
      "Epoch 75/150\n",
      "16/16 [==============================] - 0s 4ms/step - loss: 0.2336 - accuracy: 0.9218 - val_loss: 0.3498 - val_accuracy: 0.8361\n",
      "Epoch 76/150\n",
      "16/16 [==============================] - 0s 4ms/step - loss: 0.2321 - accuracy: 0.9177 - val_loss: 0.2990 - val_accuracy: 0.9344\n",
      "Epoch 77/150\n",
      "16/16 [==============================] - 0s 4ms/step - loss: 0.2297 - accuracy: 0.9239 - val_loss: 0.3140 - val_accuracy: 0.9344\n",
      "Epoch 78/150\n",
      "16/16 [==============================] - 0s 4ms/step - loss: 0.2269 - accuracy: 0.9300 - val_loss: 0.3264 - val_accuracy: 0.9016\n",
      "Epoch 79/150\n",
      "16/16 [==============================] - 0s 4ms/step - loss: 0.2246 - accuracy: 0.9136 - val_loss: 0.3130 - val_accuracy: 0.9344\n",
      "Epoch 80/150\n",
      "16/16 [==============================] - 0s 4ms/step - loss: 0.2218 - accuracy: 0.9321 - val_loss: 0.2987 - val_accuracy: 0.9344\n",
      "Epoch 81/150\n",
      "16/16 [==============================] - 0s 4ms/step - loss: 0.2201 - accuracy: 0.9300 - val_loss: 0.3106 - val_accuracy: 0.9344\n",
      "Epoch 82/150\n",
      "16/16 [==============================] - 0s 4ms/step - loss: 0.2181 - accuracy: 0.9362 - val_loss: 0.2802 - val_accuracy: 0.9508\n",
      "Epoch 83/150\n",
      "16/16 [==============================] - 0s 4ms/step - loss: 0.2156 - accuracy: 0.9403 - val_loss: 0.2940 - val_accuracy: 0.9344\n",
      "Epoch 84/150\n",
      "16/16 [==============================] - 0s 4ms/step - loss: 0.2135 - accuracy: 0.9342 - val_loss: 0.3401 - val_accuracy: 0.9016\n",
      "Epoch 85/150\n",
      "16/16 [==============================] - 0s 4ms/step - loss: 0.2121 - accuracy: 0.9403 - val_loss: 0.2936 - val_accuracy: 0.9344\n",
      "Epoch 86/150\n",
      "16/16 [==============================] - 0s 4ms/step - loss: 0.2097 - accuracy: 0.9403 - val_loss: 0.2742 - val_accuracy: 0.9508\n",
      "Epoch 87/150\n",
      "16/16 [==============================] - 0s 5ms/step - loss: 0.2083 - accuracy: 0.9383 - val_loss: 0.3207 - val_accuracy: 0.9344\n",
      "Epoch 88/150\n",
      "16/16 [==============================] - 0s 4ms/step - loss: 0.2065 - accuracy: 0.9424 - val_loss: 0.3208 - val_accuracy: 0.9098\n",
      "Epoch 89/150\n",
      "16/16 [==============================] - 0s 4ms/step - loss: 0.2044 - accuracy: 0.9403 - val_loss: 0.2700 - val_accuracy: 0.9508\n",
      "Epoch 90/150\n",
      "16/16 [==============================] - 0s 4ms/step - loss: 0.2024 - accuracy: 0.9444 - val_loss: 0.2798 - val_accuracy: 0.9508\n",
      "Epoch 91/150\n",
      "16/16 [==============================] - 0s 4ms/step - loss: 0.2004 - accuracy: 0.9465 - val_loss: 0.2824 - val_accuracy: 0.9508\n",
      "Epoch 92/150\n",
      "16/16 [==============================] - 0s 4ms/step - loss: 0.1987 - accuracy: 0.9465 - val_loss: 0.2828 - val_accuracy: 0.9508\n",
      "Epoch 93/150\n",
      "16/16 [==============================] - 0s 4ms/step - loss: 0.1976 - accuracy: 0.9486 - val_loss: 0.2800 - val_accuracy: 0.9508\n",
      "Epoch 94/150\n",
      "16/16 [==============================] - 0s 4ms/step - loss: 0.1953 - accuracy: 0.9506 - val_loss: 0.2654 - val_accuracy: 0.9508\n",
      "Epoch 95/150\n",
      "16/16 [==============================] - 0s 4ms/step - loss: 0.1939 - accuracy: 0.9465 - val_loss: 0.3465 - val_accuracy: 0.9262\n",
      "Epoch 96/150\n",
      "16/16 [==============================] - 0s 4ms/step - loss: 0.1931 - accuracy: 0.9506 - val_loss: 0.2915 - val_accuracy: 0.9508\n",
      "Epoch 97/150\n",
      "16/16 [==============================] - 0s 4ms/step - loss: 0.1902 - accuracy: 0.9486 - val_loss: 0.2514 - val_accuracy: 0.9508\n",
      "Epoch 98/150\n",
      "16/16 [==============================] - 0s 4ms/step - loss: 0.1881 - accuracy: 0.9465 - val_loss: 0.2714 - val_accuracy: 0.9508\n",
      "Epoch 99/150\n",
      "16/16 [==============================] - 0s 4ms/step - loss: 0.1858 - accuracy: 0.9486 - val_loss: 0.3203 - val_accuracy: 0.9262\n",
      "Epoch 100/150\n",
      "16/16 [==============================] - 0s 4ms/step - loss: 0.1867 - accuracy: 0.9486 - val_loss: 0.2899 - val_accuracy: 0.9262\n",
      "Epoch 101/150\n",
      "16/16 [==============================] - 0s 4ms/step - loss: 0.1840 - accuracy: 0.9506 - val_loss: 0.2741 - val_accuracy: 0.9508\n",
      "Epoch 102/150\n",
      "16/16 [==============================] - 0s 4ms/step - loss: 0.1823 - accuracy: 0.9486 - val_loss: 0.2624 - val_accuracy: 0.9508\n",
      "Epoch 103/150\n",
      "16/16 [==============================] - 0s 5ms/step - loss: 0.1808 - accuracy: 0.9506 - val_loss: 0.3009 - val_accuracy: 0.9262\n",
      "Epoch 104/150\n",
      "16/16 [==============================] - 0s 4ms/step - loss: 0.1802 - accuracy: 0.9527 - val_loss: 0.2542 - val_accuracy: 0.9508\n",
      "Epoch 105/150\n",
      "16/16 [==============================] - 0s 4ms/step - loss: 0.1774 - accuracy: 0.9547 - val_loss: 0.2302 - val_accuracy: 0.9508\n",
      "Epoch 106/150\n",
      "16/16 [==============================] - 0s 4ms/step - loss: 0.1764 - accuracy: 0.9506 - val_loss: 0.2408 - val_accuracy: 0.9508\n",
      "Epoch 107/150\n",
      "16/16 [==============================] - 0s 4ms/step - loss: 0.1743 - accuracy: 0.9527 - val_loss: 0.2308 - val_accuracy: 0.9508\n",
      "Epoch 108/150\n",
      "16/16 [==============================] - 0s 4ms/step - loss: 0.1729 - accuracy: 0.9506 - val_loss: 0.2906 - val_accuracy: 0.9262\n",
      "Epoch 109/150\n",
      "16/16 [==============================] - 0s 4ms/step - loss: 0.1720 - accuracy: 0.9506 - val_loss: 0.3128 - val_accuracy: 0.9262\n",
      "Epoch 110/150\n",
      "16/16 [==============================] - 0s 4ms/step - loss: 0.1714 - accuracy: 0.9527 - val_loss: 0.2438 - val_accuracy: 0.9508\n",
      "Epoch 111/150\n",
      "16/16 [==============================] - 0s 4ms/step - loss: 0.1683 - accuracy: 0.9527 - val_loss: 0.2335 - val_accuracy: 0.9508\n",
      "Epoch 112/150\n",
      "16/16 [==============================] - 0s 4ms/step - loss: 0.1669 - accuracy: 0.9527 - val_loss: 0.2635 - val_accuracy: 0.9262\n",
      "Epoch 113/150\n",
      "16/16 [==============================] - 0s 4ms/step - loss: 0.1656 - accuracy: 0.9506 - val_loss: 0.2430 - val_accuracy: 0.9508\n",
      "Epoch 114/150\n",
      "16/16 [==============================] - 0s 4ms/step - loss: 0.1640 - accuracy: 0.9527 - val_loss: 0.3365 - val_accuracy: 0.9262\n",
      "Epoch 115/150\n",
      "16/16 [==============================] - 0s 4ms/step - loss: 0.1653 - accuracy: 0.9527 - val_loss: 0.1974 - val_accuracy: 0.9836\n",
      "Epoch 116/150\n"
     ]
    },
    {
     "name": "stdout",
     "output_type": "stream",
     "text": [
      "16/16 [==============================] - 0s 4ms/step - loss: 0.1617 - accuracy: 0.9588 - val_loss: 0.2556 - val_accuracy: 0.9262\n",
      "Epoch 117/150\n",
      "16/16 [==============================] - 0s 4ms/step - loss: 0.1615 - accuracy: 0.9506 - val_loss: 0.2390 - val_accuracy: 0.9508\n",
      "Epoch 118/150\n",
      "16/16 [==============================] - 0s 4ms/step - loss: 0.1585 - accuracy: 0.9547 - val_loss: 0.2177 - val_accuracy: 0.9508\n",
      "Epoch 119/150\n",
      "16/16 [==============================] - 0s 4ms/step - loss: 0.1571 - accuracy: 0.9568 - val_loss: 0.2323 - val_accuracy: 0.9508\n",
      "Epoch 120/150\n",
      "16/16 [==============================] - 0s 4ms/step - loss: 0.1558 - accuracy: 0.9527 - val_loss: 0.2562 - val_accuracy: 0.9508\n",
      "Epoch 121/150\n",
      "16/16 [==============================] - 0s 4ms/step - loss: 0.1562 - accuracy: 0.9588 - val_loss: 0.2226 - val_accuracy: 0.9508\n",
      "Epoch 122/150\n",
      "16/16 [==============================] - 0s 4ms/step - loss: 0.1536 - accuracy: 0.9609 - val_loss: 0.2246 - val_accuracy: 0.9508\n",
      "Epoch 123/150\n",
      "16/16 [==============================] - 0s 4ms/step - loss: 0.1520 - accuracy: 0.9588 - val_loss: 0.2169 - val_accuracy: 0.9508\n",
      "Epoch 124/150\n",
      "16/16 [==============================] - 0s 4ms/step - loss: 0.1505 - accuracy: 0.9568 - val_loss: 0.2211 - val_accuracy: 0.9508\n",
      "Epoch 125/150\n",
      "16/16 [==============================] - 0s 4ms/step - loss: 0.1499 - accuracy: 0.9609 - val_loss: 0.2208 - val_accuracy: 0.9508\n",
      "Epoch 126/150\n",
      "16/16 [==============================] - 0s 4ms/step - loss: 0.1490 - accuracy: 0.9609 - val_loss: 0.1948 - val_accuracy: 0.9672\n",
      "Epoch 127/150\n",
      "16/16 [==============================] - 0s 4ms/step - loss: 0.1464 - accuracy: 0.9568 - val_loss: 0.2115 - val_accuracy: 0.9508\n",
      "Epoch 128/150\n",
      "16/16 [==============================] - 0s 4ms/step - loss: 0.1456 - accuracy: 0.9588 - val_loss: 0.1916 - val_accuracy: 1.0000\n",
      "Epoch 129/150\n",
      "16/16 [==============================] - 0s 4ms/step - loss: 0.1450 - accuracy: 0.9630 - val_loss: 0.2579 - val_accuracy: 0.9262\n",
      "Epoch 130/150\n",
      "16/16 [==============================] - 0s 4ms/step - loss: 0.1443 - accuracy: 0.9609 - val_loss: 0.2572 - val_accuracy: 0.9262\n",
      "Epoch 131/150\n",
      "16/16 [==============================] - 0s 4ms/step - loss: 0.1420 - accuracy: 0.9671 - val_loss: 0.1881 - val_accuracy: 0.9672\n",
      "Epoch 132/150\n",
      "16/16 [==============================] - 0s 4ms/step - loss: 0.1396 - accuracy: 0.9650 - val_loss: 0.2318 - val_accuracy: 0.9508\n",
      "Epoch 133/150\n",
      "16/16 [==============================] - 0s 4ms/step - loss: 0.1405 - accuracy: 0.9650 - val_loss: 0.2380 - val_accuracy: 0.9508\n",
      "Epoch 134/150\n",
      "16/16 [==============================] - 0s 4ms/step - loss: 0.1374 - accuracy: 0.9671 - val_loss: 0.1841 - val_accuracy: 0.9672\n",
      "Epoch 135/150\n",
      "16/16 [==============================] - 0s 4ms/step - loss: 0.1366 - accuracy: 0.9609 - val_loss: 0.2519 - val_accuracy: 0.9262\n",
      "Epoch 136/150\n",
      "16/16 [==============================] - 0s 4ms/step - loss: 0.1367 - accuracy: 0.9671 - val_loss: 0.1957 - val_accuracy: 0.9672\n",
      "Epoch 137/150\n",
      "16/16 [==============================] - 0s 4ms/step - loss: 0.1353 - accuracy: 0.9671 - val_loss: 0.1897 - val_accuracy: 0.9672\n",
      "Epoch 138/150\n",
      "16/16 [==============================] - 0s 4ms/step - loss: 0.1335 - accuracy: 0.9691 - val_loss: 0.1839 - val_accuracy: 1.0000\n",
      "Epoch 139/150\n",
      "16/16 [==============================] - 0s 4ms/step - loss: 0.1316 - accuracy: 0.9753 - val_loss: 0.1908 - val_accuracy: 0.9672\n",
      "Epoch 140/150\n",
      "16/16 [==============================] - 0s 4ms/step - loss: 0.1317 - accuracy: 0.9671 - val_loss: 0.1845 - val_accuracy: 1.0000\n",
      "Epoch 141/150\n",
      "16/16 [==============================] - 0s 4ms/step - loss: 0.1298 - accuracy: 0.9753 - val_loss: 0.2048 - val_accuracy: 0.9672\n",
      "Epoch 142/150\n",
      "16/16 [==============================] - 0s 4ms/step - loss: 0.1290 - accuracy: 0.9691 - val_loss: 0.1671 - val_accuracy: 1.0000\n",
      "Epoch 143/150\n",
      "16/16 [==============================] - 0s 4ms/step - loss: 0.1279 - accuracy: 0.9733 - val_loss: 0.2012 - val_accuracy: 0.9672\n",
      "Epoch 144/150\n",
      "16/16 [==============================] - 0s 4ms/step - loss: 0.1268 - accuracy: 0.9712 - val_loss: 0.1830 - val_accuracy: 1.0000\n",
      "Epoch 145/150\n",
      "16/16 [==============================] - 0s 4ms/step - loss: 0.1262 - accuracy: 0.9753 - val_loss: 0.1779 - val_accuracy: 1.0000\n",
      "Epoch 146/150\n",
      "16/16 [==============================] - 0s 4ms/step - loss: 0.1242 - accuracy: 0.9733 - val_loss: 0.1897 - val_accuracy: 0.9672\n",
      "Epoch 147/150\n",
      "16/16 [==============================] - 0s 4ms/step - loss: 0.1239 - accuracy: 0.9712 - val_loss: 0.2001 - val_accuracy: 0.9672\n",
      "Epoch 148/150\n",
      "16/16 [==============================] - 0s 5ms/step - loss: 0.1229 - accuracy: 0.9733 - val_loss: 0.1996 - val_accuracy: 0.9672\n",
      "Epoch 149/150\n",
      "16/16 [==============================] - 0s 4ms/step - loss: 0.1214 - accuracy: 0.9712 - val_loss: 0.1687 - val_accuracy: 1.0000\n",
      "Epoch 150/150\n",
      "16/16 [==============================] - 0s 4ms/step - loss: 0.1208 - accuracy: 0.9712 - val_loss: 0.1755 - val_accuracy: 1.0000\n"
     ]
    }
   ],
   "source": [
    "# history = model.fit(X_treino, y_treino, epochs=150, validation_split=0.2, callbacks=[early_stopping_cb])\n",
    "history = model.fit(X_treino, y_treino, epochs=150, validation_split=0.2)"
   ]
  },
  {
   "cell_type": "markdown",
   "id": "9efbb3db",
   "metadata": {
    "id": "9efbb3db"
   },
   "source": [
    "#### Avaliação da evolução do treinamento"
   ]
  },
  {
   "cell_type": "code",
   "execution_count": 201,
   "id": "1369c7b4",
   "metadata": {
    "colab": {
     "base_uri": "https://localhost:8080/",
     "height": 378
    },
    "id": "1369c7b4",
    "outputId": "b852eada-c605-41c1-933d-40aaf5c09277"
   },
   "outputs": [
    {
     "data": {
      "image/png": "[encoded data removed]",
      "text/plain": [
       "<Figure size 720x432 with 1 Axes>"
      ]
     },
     "metadata": {},
     "output_type": "display_data"
    }
   ],
   "source": [
    "pd.DataFrame(history.history).plot(figsize=(10,6))\n",
    "plt.grid(True)\n",
    "plt.gca().set_ylim(0,1)\n",
    "plt.show()"
   ]
  },
  {
   "cell_type": "markdown",
   "id": "7b88d149",
   "metadata": {
    "id": "7b88d149"
   },
   "source": [
    "#### Avaliação do desempenho do modelo treinado"
   ]
  },
  {
   "cell_type": "code",
   "execution_count": 202,
   "id": "ed960dfb",
   "metadata": {
    "id": "ed960dfb"
   },
   "outputs": [
    {
     "name": "stdout",
     "output_type": "stream",
     "text": [
      "3/3 [==============================] - 0s 3ms/step\n"
     ]
    }
   ],
   "source": [
    "y_previsto_rna_proba = model.predict(X_teste)"
   ]
  },
  {
   "cell_type": "code",
   "execution_count": 203,
   "id": "050417d0",
   "metadata": {
    "colab": {
     "base_uri": "https://localhost:8080/"
    },
    "id": "050417d0",
    "outputId": "1f9b74e6-a708-47ee-ab2b-92df38970768"
   },
   "outputs": [
    {
     "data": {
      "text/plain": [
       "array([[1.  , 0.  ],\n",
       "       [0.88, 0.12],\n",
       "       [0.96, 0.04],\n",
       "       [0.99, 0.01],\n",
       "       [0.86, 0.14],\n",
       "       [0.91, 0.09],\n",
       "       [1.  , 0.  ],\n",
       "       [0.96, 0.04],\n",
       "       [0.11, 0.89],\n",
       "       [1.  , 0.  ],\n",
       "       [1.  , 0.  ],\n",
       "       [0.82, 0.18],\n",
       "       [1.  , 0.  ],\n",
       "       [1.  , 0.  ],\n",
       "       [1.  , 0.  ],\n",
       "       [0.79, 0.21],\n",
       "       [1.  , 0.  ],\n",
       "       [0.04, 0.96],\n",
       "       [1.  , 0.  ],\n",
       "       [0.61, 0.39],\n",
       "       [0.99, 0.01],\n",
       "       [0.97, 0.03],\n",
       "       [0.96, 0.04],\n",
       "       [1.  , 0.  ],\n",
       "       [1.  , 0.  ],\n",
       "       [1.  , 0.  ],\n",
       "       [0.84, 0.16],\n",
       "       [1.  , 0.  ],\n",
       "       [0.95, 0.05],\n",
       "       [0.9 , 0.1 ],\n",
       "       [1.  , 0.  ],\n",
       "       [0.99, 0.01],\n",
       "       [0.84, 0.16],\n",
       "       [1.  , 0.  ],\n",
       "       [1.  , 0.  ],\n",
       "       [0.94, 0.06],\n",
       "       [1.  , 0.  ],\n",
       "       [0.73, 0.27],\n",
       "       [0.42, 0.58],\n",
       "       [0.94, 0.06],\n",
       "       [0.78, 0.22],\n",
       "       [0.97, 0.03],\n",
       "       [0.99, 0.01],\n",
       "       [0.91, 0.09],\n",
       "       [0.98, 0.02],\n",
       "       [1.  , 0.  ],\n",
       "       [1.  , 0.  ],\n",
       "       [1.  , 0.  ],\n",
       "       [1.  , 0.  ],\n",
       "       [0.62, 0.38],\n",
       "       [1.  , 0.  ],\n",
       "       [1.  , 0.  ],\n",
       "       [0.84, 0.16],\n",
       "       [1.  , 0.  ],\n",
       "       [0.46, 0.54],\n",
       "       [1.  , 0.  ],\n",
       "       [0.99, 0.01],\n",
       "       [0.96, 0.04],\n",
       "       [1.  , 0.  ],\n",
       "       [1.  , 0.  ],\n",
       "       [0.93, 0.07],\n",
       "       [1.  , 0.  ],\n",
       "       [0.84, 0.16],\n",
       "       [0.99, 0.01],\n",
       "       [1.  , 0.  ],\n",
       "       [1.  , 0.  ],\n",
       "       [1.  , 0.  ],\n",
       "       [1.  , 0.  ],\n",
       "       [1.  , 0.  ],\n",
       "       [0.27, 0.73],\n",
       "       [0.99, 0.01],\n",
       "       [1.  , 0.  ],\n",
       "       [0.97, 0.03],\n",
       "       [1.  , 0.  ],\n",
       "       [1.  , 0.  ],\n",
       "       [1.  , 0.  ],\n",
       "       [1.  , 0.  ],\n",
       "       [0.22, 0.78],\n",
       "       [1.  , 0.  ],\n",
       "       [0.99, 0.01],\n",
       "       [1.  , 0.  ],\n",
       "       [1.  , 0.  ],\n",
       "       [0.97, 0.03],\n",
       "       [1.  , 0.  ],\n",
       "       [0.05, 0.95],\n",
       "       [0.37, 0.63]], dtype=float32)"
      ]
     },
     "execution_count": 203,
     "metadata": {},
     "output_type": "execute_result"
    }
   ],
   "source": [
    "np.round(y_previsto_rna_proba,decimals=2)"
   ]
  },
  {
   "cell_type": "code",
   "execution_count": 204,
   "id": "1e4bb4c4",
   "metadata": {},
   "outputs": [
    {
     "name": "stdout",
     "output_type": "stream",
     "text": [
      "3/3 [==============================] - 0s 3ms/step\n",
      "[[9.99584854e-01 4.15135873e-04]\n",
      " [8.81634831e-01 1.18365191e-01]\n",
      " [9.61412072e-01 3.85879092e-02]\n",
      " [9.85072076e-01 1.49279460e-02]\n",
      " [8.61832619e-01 1.38167411e-01]\n",
      " [9.12839115e-01 8.71609300e-02]\n",
      " [9.98779356e-01 1.22061151e-03]\n",
      " [9.60131645e-01 3.98682766e-02]\n",
      " [1.10196307e-01 8.89803648e-01]\n",
      " [9.95666265e-01 4.33371123e-03]\n",
      " [9.99973655e-01 2.63274960e-05]\n",
      " [8.15973222e-01 1.84026778e-01]\n",
      " [9.97075796e-01 2.92421016e-03]\n",
      " [9.99034405e-01 9.65577434e-04]\n",
      " [9.99981999e-01 1.80164789e-05]\n",
      " [7.87905037e-01 2.12094992e-01]\n",
      " [9.99682188e-01 3.17881058e-04]\n",
      " [4.26713862e-02 9.57328558e-01]\n",
      " [9.99335587e-01 6.64354244e-04]\n",
      " [6.07933640e-01 3.92066389e-01]\n",
      " [9.85651255e-01 1.43487053e-02]\n",
      " [9.67847943e-01 3.21521275e-02]\n",
      " [9.57881391e-01 4.21186537e-02]\n",
      " [9.99999046e-01 9.09147900e-07]\n",
      " [9.99990821e-01 9.16785302e-06]\n",
      " [9.99827325e-01 1.72659129e-04]\n",
      " [8.35932374e-01 1.64067611e-01]\n",
      " [9.99315977e-01 6.84039027e-04]\n",
      " [9.52618182e-01 4.73818742e-02]\n",
      " [9.03986216e-01 9.60137770e-02]\n",
      " [9.99746859e-01 2.53091450e-04]\n",
      " [9.90251899e-01 9.74808354e-03]\n",
      " [8.42818499e-01 1.57181546e-01]\n",
      " [9.99188125e-01 8.11820326e-04]\n",
      " [9.99964833e-01 3.52243260e-05]\n",
      " [9.39076602e-01 6.09234124e-02]\n",
      " [9.99883175e-01 1.16848467e-04]\n",
      " [7.29988635e-01 2.70011395e-01]\n",
      " [4.17691231e-01 5.82308710e-01]\n",
      " [9.40702140e-01 5.92978559e-02]\n",
      " [7.80910075e-01 2.19089866e-01]\n",
      " [9.74024892e-01 2.59751044e-02]\n",
      " [9.90021765e-01 9.97827481e-03]\n",
      " [9.13145542e-01 8.68543983e-02]\n",
      " [9.80159044e-01 1.98409762e-02]\n",
      " [9.99755085e-01 2.44895986e-04]\n",
      " [9.97645319e-01 2.35470897e-03]\n",
      " [9.99947309e-01 5.26754266e-05]\n",
      " [9.96935844e-01 3.06418887e-03]\n",
      " [6.23014569e-01 3.76985520e-01]\n",
      " [9.96765018e-01 3.23493895e-03]\n",
      " [9.99955654e-01 4.43099198e-05]\n",
      " [8.42202246e-01 1.57797799e-01]\n",
      " [9.99845862e-01 1.54146284e-04]\n",
      " [4.56904292e-01 5.43095767e-01]\n",
      " [9.98231113e-01 1.76888891e-03]\n",
      " [9.93428886e-01 6.57108147e-03]\n",
      " [9.61841106e-01 3.81589159e-02]\n",
      " [9.99973893e-01 2.61234181e-05]\n",
      " [9.99968410e-01 3.15469442e-05]\n",
      " [9.34195638e-01 6.58043399e-02]\n",
      " [9.97902632e-01 2.09738244e-03]\n",
      " [8.35367322e-01 1.64632753e-01]\n",
      " [9.92582917e-01 7.41710979e-03]\n",
      " [9.99861360e-01 1.38661926e-04]\n",
      " [9.99894381e-01 1.05620966e-04]\n",
      " [9.99779761e-01 2.20245507e-04]\n",
      " [9.97917712e-01 2.08230480e-03]\n",
      " [9.96296942e-01 3.70304426e-03]\n",
      " [2.70970702e-01 7.29029298e-01]\n",
      " [9.85770464e-01 1.42295752e-02]\n",
      " [9.99953985e-01 4.59875446e-05]\n",
      " [9.69773412e-01 3.02265193e-02]\n",
      " [9.98138189e-01 1.86180091e-03]\n",
      " [9.99891758e-01 1.08271313e-04]\n",
      " [9.96467352e-01 3.53268394e-03]\n",
      " [9.98684347e-01 1.31570420e-03]\n",
      " [2.15709850e-01 7.84290135e-01]\n",
      " [9.98110771e-01 1.88927620e-03]\n",
      " [9.92953837e-01 7.04619521e-03]\n",
      " [9.98912811e-01 1.08722178e-03]\n",
      " [9.98955250e-01 1.04471936e-03]\n",
      " [9.67492044e-01 3.25079411e-02]\n",
      " [9.99852777e-01 1.47249273e-04]\n",
      " [5.27375042e-02 9.47262466e-01]\n",
      " [3.71062279e-01 6.28937721e-01]]\n",
      "[False False False False False False False False  True False False False\n",
      " False False False False False False False False False False False False\n",
      " False False  True False False  True False False False False False False\n",
      " False False False False False False False False False False False  True\n",
      " False False False False False False False False False False False False\n",
      " False False False False False False False False False  True  True False\n",
      "  True False False False False False False False False False  True False\n",
      " False False]\n",
      "[False, False, False, False, False, False, False, False, True, False, False, False, False, False, False, False, False, True, False, False, False, False, False, False, False, False, False, False, False, False, False, False, False, False, False, False, False, False, True, False, False, False, False, False, False, False, False, False, False, False, False, False, False, False, True, False, False, False, False, False, False, False, False, False, False, False, False, False, False, True, False, False, False, False, False, False, False, True, False, False, False, False, False, False, True, True]\n"
     ]
    },
    {
     "data": {
      "text/plain": [
       "(array([0.92307692, 0.25      ]),\n",
       " array([0.92307692, 0.25      ]),\n",
       " array([0.92307692, 0.25      ]),\n",
       " array([78,  8], dtype=int64))"
      ]
     },
     "execution_count": 204,
     "metadata": {},
     "output_type": "execute_result"
    }
   ],
   "source": [
    "y_previsto_rna_proba = model.predict(X_teste)\n",
    "print(y_previsto_rna_proba)\n",
    "print(y_teste)\n",
    "y_prev = [False] * len(y_previsto_rna_proba)\n",
    "for i in range(len(y_previsto_rna_proba)):\n",
    "  y_prev[i] = y_previsto_rna_proba[i][0]<y_previsto_rna_proba[i][1]\n",
    "print(y_prev)\n",
    "from sklearn.metrics import precision_recall_fscore_support\n",
    "precision_recall_fscore_support(y_teste, y_prev)"
   ]
  },
  {
   "cell_type": "code",
   "execution_count": 206,
   "id": "mozICcYboLCj",
   "metadata": {
    "colab": {
     "base_uri": "https://localhost:8080/"
    },
    "id": "mozICcYboLCj",
    "outputId": "fa545fa2-4b5a-45f8-90a5-65fec9e198d4"
   },
   "outputs": [
    {
     "name": "stdout",
     "output_type": "stream",
     "text": [
      "Acurácia:  0.8604651162790697\n",
      "Precisão:  0.25\n",
      "Recall:    0.25\n",
      "F1 Score:  0.25\n"
     ]
    }
   ],
   "source": [
    "# Treinamento de uma árvore de decisão com sua indução restrita a 10 níveis\n",
    "\n",
    "from sklearn.tree import DecisionTreeClassifier\n",
    "from sklearn.metrics import accuracy_score, precision_score, recall_score, f1_score\n",
    "\n",
    "tree_clf = DecisionTreeClassifier(max_depth=10)\n",
    "tree_clf.fit(X_treino, y_treino)\n",
    "\n",
    "y_pred = tree_clf.predict(X_teste)\n",
    "\n",
    "print(\"Acurácia: \", accuracy_score(y_teste,y_pred))\n",
    "print(\"Precisão: \", precision_score(y_teste,y_pred))\n",
    "print(\"Recall:   \", recall_score(y_teste,y_pred))\n",
    "print(\"F1 Score: \", f1_score(y_teste,y_pred))"
   ]
  }
 ],
 "metadata": {
  "colab": {
   "collapsed_sections": [
    "63ffe010"
   ],
   "include_colab_link": true,
   "provenance": []
  },
  "kernelspec": {
   "display_name": "Python 3 (ipykernel)",
   "language": "python",
   "name": "python3"
  },
  "language_info": {
   "codemirror_mode": {
    "name": "ipython",
    "version": 3
   },
   "file_extension": ".py",
   "mimetype": "text/x-python",
   "name": "python",
   "nbconvert_exporter": "python",
   "pygments_lexer": "ipython3",
   "version": "3.9.12"
  }
 },
 "nbformat": 4,
 "nbformat_minor": 5
}
