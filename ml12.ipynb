{
 "cells": [
  {
   "cell_type": "markdown",
   "id": "ee0e54b9",
   "metadata": {
    "colab_type": "text",
    "id": "view-in-github"
   },
   "source": [
    "<a href=\"https://colab.research.google.com/github/dantefleschpereira/ml_covid/blob/main/ml12.ipynb\" target=\"_parent\"><img src=\"https://colab.research.google.com/assets/colab-badge.svg\" alt=\"Open In Colab\"/></a>"
   ]
  },
  {
   "cell_type": "code",
   "execution_count": 254,
   "id": "0a3204d1",
   "metadata": {
    "id": "0a3204d1"
   },
   "outputs": [],
   "source": [
    "import numpy as np\n",
    "import pandas as pd\n",
    "import matplotlib.pyplot as plt\n",
    "from sklearn.preprocessing import OrdinalEncoder\n",
    "pd.set_option('display.max_columns', None)\n",
    "\n",
    "import seaborn as sns\n",
    "from sklearn.metrics import classification_report\n",
    "from sklearn.model_selection import train_test_split\n",
    "from sklearn.metrics import roc_auc_score, roc_curve, accuracy_score\n",
    "from imblearn.under_sampling import RandomUnderSampler"
   ]
  },
  {
   "cell_type": "markdown",
   "id": "cb29bc7e",
   "metadata": {
    "id": "cb29bc7e"
   },
   "source": [
    "#### Análise Exploratória de Dados"
   ]
  },
  {
   "cell_type": "code",
   "execution_count": 255,
   "id": "a167525e",
   "metadata": {
    "id": "a167525e"
   },
   "outputs": [],
   "source": [
    "df = pd.read_excel('D:\\ml_covid\\dataset_obito.xlsx')"
   ]
  },
  {
   "cell_type": "code",
   "execution_count": 256,
   "id": "ff87e261",
   "metadata": {
    "colab": {
     "base_uri": "https://localhost:8080/",
     "height": 757
    },
    "id": "ff87e261",
    "outputId": "96beda28-2835-4204-d5d6-2b933097183a"
   },
   "outputs": [
    {
     "data": {
      "text/html": [
       "<div>\n",
       "<style scoped>\n",
       "    .dataframe tbody tr th:only-of-type {\n",
       "        vertical-align: middle;\n",
       "    }\n",
       "\n",
       "    .dataframe tbody tr th {\n",
       "        vertical-align: top;\n",
       "    }\n",
       "\n",
       "    .dataframe thead th {\n",
       "        text-align: right;\n",
       "    }\n",
       "</style>\n",
       "<table border=\"1\" class=\"dataframe\">\n",
       "  <thead>\n",
       "    <tr style=\"text-align: right;\">\n",
       "      <th></th>\n",
       "      <th>idade</th>\n",
       "      <th>sexo</th>\n",
       "      <th>raca</th>\n",
       "      <th>tagabismo</th>\n",
       "      <th>comorbidade1</th>\n",
       "      <th>comorbidade2</th>\n",
       "      <th>comorbidade3</th>\n",
       "      <th>comorbidade4</th>\n",
       "      <th>trombo_na_internacao</th>\n",
       "      <th>desfecho</th>\n",
       "      <th>anti-inflamatorio1</th>\n",
       "      <th>anti-inflamatorio2</th>\n",
       "      <th>anti-inflamatorio3</th>\n",
       "      <th>anti-inflamatorio_previo</th>\n",
       "      <th>profilaxia_de_trombo1</th>\n",
       "      <th>profilaxia_de_trombo2</th>\n",
       "      <th>anticoagulante_previo</th>\n",
       "      <th>antibiotico1</th>\n",
       "      <th>antibiotico2</th>\n",
       "      <th>proteina c (mg/dl)</th>\n",
       "      <th>ferritina (ng/ml)</th>\n",
       "      <th>leucócitos ( /ul)</th>\n",
       "      <th>creatinina (mg/dl)</th>\n",
       "      <th>ureia(mg/dl)</th>\n",
       "      <th>d-dimeros (ng/ml)</th>\n",
       "      <th>reinfeccao</th>\n",
       "      <th>sintomas</th>\n",
       "    </tr>\n",
       "  </thead>\n",
       "  <tbody>\n",
       "    <tr>\n",
       "      <th>0</th>\n",
       "      <td>41</td>\n",
       "      <td>M</td>\n",
       "      <td>branca</td>\n",
       "      <td>nao</td>\n",
       "      <td>nenhuma</td>\n",
       "      <td>nenhuma</td>\n",
       "      <td>nenhum</td>\n",
       "      <td>nenhum</td>\n",
       "      <td>nenhum</td>\n",
       "      <td>0</td>\n",
       "      <td>nenhum</td>\n",
       "      <td>nenhum</td>\n",
       "      <td>nenhum</td>\n",
       "      <td>Nao</td>\n",
       "      <td>heparina 5000UI/0,25mL</td>\n",
       "      <td>nenhum</td>\n",
       "      <td>Sim</td>\n",
       "      <td>NaN</td>\n",
       "      <td>NaN</td>\n",
       "      <td>8.0</td>\n",
       "      <td>0</td>\n",
       "      <td>4830</td>\n",
       "      <td>0.76</td>\n",
       "      <td>36.0</td>\n",
       "      <td>0</td>\n",
       "      <td>nao</td>\n",
       "      <td>leve</td>\n",
       "    </tr>\n",
       "    <tr>\n",
       "      <th>1</th>\n",
       "      <td>77</td>\n",
       "      <td>F</td>\n",
       "      <td>branca</td>\n",
       "      <td>sim</td>\n",
       "      <td>HAS</td>\n",
       "      <td>nenhuma</td>\n",
       "      <td>nenhum</td>\n",
       "      <td>nenhum</td>\n",
       "      <td>nenhum</td>\n",
       "      <td>0</td>\n",
       "      <td>hidrocortisona 100mg</td>\n",
       "      <td>prednisona 20mg</td>\n",
       "      <td>nenhum</td>\n",
       "      <td>Nao</td>\n",
       "      <td>enonenhumaparina 40mg/0,4mL</td>\n",
       "      <td>nenhum</td>\n",
       "      <td>Sim</td>\n",
       "      <td>NaN</td>\n",
       "      <td>NaN</td>\n",
       "      <td>14.7</td>\n",
       "      <td>0</td>\n",
       "      <td>5280</td>\n",
       "      <td>0.82</td>\n",
       "      <td>31.0</td>\n",
       "      <td>0</td>\n",
       "      <td>nao</td>\n",
       "      <td>assintom</td>\n",
       "    </tr>\n",
       "    <tr>\n",
       "      <th>2</th>\n",
       "      <td>67</td>\n",
       "      <td>M</td>\n",
       "      <td>branca</td>\n",
       "      <td>previo</td>\n",
       "      <td>HAS</td>\n",
       "      <td>DM</td>\n",
       "      <td>nenhum</td>\n",
       "      <td>nenhum</td>\n",
       "      <td>nenhum</td>\n",
       "      <td>0</td>\n",
       "      <td>nenhum</td>\n",
       "      <td>nenhum</td>\n",
       "      <td>nenhum</td>\n",
       "      <td>Nao</td>\n",
       "      <td>heparina 5000UI/0,25mL</td>\n",
       "      <td>nenhum</td>\n",
       "      <td>Sim</td>\n",
       "      <td>NaN</td>\n",
       "      <td>NaN</td>\n",
       "      <td>0.0</td>\n",
       "      <td>0</td>\n",
       "      <td>8650</td>\n",
       "      <td>0.72</td>\n",
       "      <td>0.0</td>\n",
       "      <td>0</td>\n",
       "      <td>nao</td>\n",
       "      <td>leve</td>\n",
       "    </tr>\n",
       "    <tr>\n",
       "      <th>3</th>\n",
       "      <td>51</td>\n",
       "      <td>M</td>\n",
       "      <td>branca</td>\n",
       "      <td>nao</td>\n",
       "      <td>HAS</td>\n",
       "      <td>renal-hd</td>\n",
       "      <td>nenhum</td>\n",
       "      <td>nenhum</td>\n",
       "      <td>nenhum</td>\n",
       "      <td>0</td>\n",
       "      <td>prednisona 20mg</td>\n",
       "      <td>nenhum</td>\n",
       "      <td>nenhum</td>\n",
       "      <td>Sim</td>\n",
       "      <td>nenhum</td>\n",
       "      <td>nenhum</td>\n",
       "      <td>Nao</td>\n",
       "      <td>NaN</td>\n",
       "      <td>NaN</td>\n",
       "      <td>6.2</td>\n",
       "      <td>0</td>\n",
       "      <td>9590</td>\n",
       "      <td>0.00</td>\n",
       "      <td>142.0</td>\n",
       "      <td>0</td>\n",
       "      <td>nao</td>\n",
       "      <td>leve</td>\n",
       "    </tr>\n",
       "    <tr>\n",
       "      <th>4</th>\n",
       "      <td>51</td>\n",
       "      <td>M</td>\n",
       "      <td>branca</td>\n",
       "      <td>nao</td>\n",
       "      <td>HAS</td>\n",
       "      <td>renal-hd</td>\n",
       "      <td>nenhum</td>\n",
       "      <td>nenhum</td>\n",
       "      <td>nenhum</td>\n",
       "      <td>0</td>\n",
       "      <td>denenhumametasona 4mg/mL 2,5mL</td>\n",
       "      <td>hidrocortisona 100mg</td>\n",
       "      <td>prednisona 20mg</td>\n",
       "      <td>Nao</td>\n",
       "      <td>nenhum</td>\n",
       "      <td>nenhum</td>\n",
       "      <td>Nao</td>\n",
       "      <td>NaN</td>\n",
       "      <td>NaN</td>\n",
       "      <td>32.0</td>\n",
       "      <td>0</td>\n",
       "      <td>4230</td>\n",
       "      <td>15.40</td>\n",
       "      <td>158.0</td>\n",
       "      <td>1535</td>\n",
       "      <td>sim</td>\n",
       "      <td>assintom</td>\n",
       "    </tr>\n",
       "    <tr>\n",
       "      <th>5</th>\n",
       "      <td>64</td>\n",
       "      <td>F</td>\n",
       "      <td>branca</td>\n",
       "      <td>nao</td>\n",
       "      <td>HAS</td>\n",
       "      <td>nenhuma</td>\n",
       "      <td>nenhum</td>\n",
       "      <td>nenhum</td>\n",
       "      <td>nenhum</td>\n",
       "      <td>0</td>\n",
       "      <td>nenhum</td>\n",
       "      <td>nenhum</td>\n",
       "      <td>nenhum</td>\n",
       "      <td>Nao</td>\n",
       "      <td>heparina 5000UI/0,25mL</td>\n",
       "      <td>nenhum</td>\n",
       "      <td>Sim</td>\n",
       "      <td>NaN</td>\n",
       "      <td>NaN</td>\n",
       "      <td>4.1</td>\n",
       "      <td>1530</td>\n",
       "      <td>6430</td>\n",
       "      <td>1.00</td>\n",
       "      <td>52.0</td>\n",
       "      <td>0</td>\n",
       "      <td>nao</td>\n",
       "      <td>leve</td>\n",
       "    </tr>\n",
       "    <tr>\n",
       "      <th>6</th>\n",
       "      <td>38</td>\n",
       "      <td>M</td>\n",
       "      <td>preta</td>\n",
       "      <td>nao</td>\n",
       "      <td>renal-hd</td>\n",
       "      <td>nenhuma</td>\n",
       "      <td>nenhum</td>\n",
       "      <td>nenhum</td>\n",
       "      <td>nenhum</td>\n",
       "      <td>0</td>\n",
       "      <td>hidrocortisona 100mg</td>\n",
       "      <td>prednisona 20mg</td>\n",
       "      <td>nenhum</td>\n",
       "      <td>Sim</td>\n",
       "      <td>heparina 5000UI/0,25mL</td>\n",
       "      <td>nenhum</td>\n",
       "      <td>Nao</td>\n",
       "      <td>NaN</td>\n",
       "      <td>NaN</td>\n",
       "      <td>19.3</td>\n",
       "      <td>2380</td>\n",
       "      <td>1260</td>\n",
       "      <td>7.35</td>\n",
       "      <td>191.0</td>\n",
       "      <td>1021</td>\n",
       "      <td>nao</td>\n",
       "      <td>leve</td>\n",
       "    </tr>\n",
       "    <tr>\n",
       "      <th>7</th>\n",
       "      <td>37</td>\n",
       "      <td>M</td>\n",
       "      <td>branca</td>\n",
       "      <td>sim</td>\n",
       "      <td>HIV</td>\n",
       "      <td>oncologico</td>\n",
       "      <td>nenhum</td>\n",
       "      <td>nenhum</td>\n",
       "      <td>TVP</td>\n",
       "      <td>0</td>\n",
       "      <td>tiamina 300mg</td>\n",
       "      <td>piridonenhumina 40mg</td>\n",
       "      <td>nenhum</td>\n",
       "      <td>Nao</td>\n",
       "      <td>enonenhumaparina 40mg/0,4mL</td>\n",
       "      <td>nenhum</td>\n",
       "      <td>Sim</td>\n",
       "      <td>NaN</td>\n",
       "      <td>NaN</td>\n",
       "      <td>4.8</td>\n",
       "      <td>0</td>\n",
       "      <td>4410</td>\n",
       "      <td>0.68</td>\n",
       "      <td>31.0</td>\n",
       "      <td>437</td>\n",
       "      <td>nao</td>\n",
       "      <td>leve</td>\n",
       "    </tr>\n",
       "    <tr>\n",
       "      <th>8</th>\n",
       "      <td>82</td>\n",
       "      <td>F</td>\n",
       "      <td>branca</td>\n",
       "      <td>nao</td>\n",
       "      <td>HAS</td>\n",
       "      <td>oncologico</td>\n",
       "      <td>nenhum</td>\n",
       "      <td>nenhum</td>\n",
       "      <td>nenhum</td>\n",
       "      <td>1</td>\n",
       "      <td>nenhum</td>\n",
       "      <td>nenhum</td>\n",
       "      <td>nenhum</td>\n",
       "      <td>Nao</td>\n",
       "      <td>enonenhumaparina 40mg/0,4mL</td>\n",
       "      <td>nenhum</td>\n",
       "      <td>Sim</td>\n",
       "      <td>NaN</td>\n",
       "      <td>NaN</td>\n",
       "      <td>0.0</td>\n",
       "      <td>0</td>\n",
       "      <td>0</td>\n",
       "      <td>0.00</td>\n",
       "      <td>0.0</td>\n",
       "      <td>0</td>\n",
       "      <td>nao</td>\n",
       "      <td>assintom</td>\n",
       "    </tr>\n",
       "    <tr>\n",
       "      <th>9</th>\n",
       "      <td>45</td>\n",
       "      <td>M</td>\n",
       "      <td>branca</td>\n",
       "      <td>nao</td>\n",
       "      <td>nenhuma</td>\n",
       "      <td>nenhuma</td>\n",
       "      <td>nenhum</td>\n",
       "      <td>nenhum</td>\n",
       "      <td>ambos</td>\n",
       "      <td>0</td>\n",
       "      <td>nenhum</td>\n",
       "      <td>nenhum</td>\n",
       "      <td>nenhum</td>\n",
       "      <td>Nao</td>\n",
       "      <td>enonenhumaparina 40mg/0,4mL</td>\n",
       "      <td>enonenhumaparina 60mg/0,6mL</td>\n",
       "      <td>Sim</td>\n",
       "      <td>NaN</td>\n",
       "      <td>NaN</td>\n",
       "      <td>17.2</td>\n",
       "      <td>366</td>\n",
       "      <td>2790</td>\n",
       "      <td>1.08</td>\n",
       "      <td>22.0</td>\n",
       "      <td>0</td>\n",
       "      <td>nao</td>\n",
       "      <td>leve</td>\n",
       "    </tr>\n",
       "    <tr>\n",
       "      <th>10</th>\n",
       "      <td>63</td>\n",
       "      <td>M</td>\n",
       "      <td>branca</td>\n",
       "      <td>previo</td>\n",
       "      <td>HAS</td>\n",
       "      <td>DM</td>\n",
       "      <td>oncologica</td>\n",
       "      <td>nenhum</td>\n",
       "      <td>nenhum</td>\n",
       "      <td>0</td>\n",
       "      <td>prednisona 20mg</td>\n",
       "      <td>nenhum</td>\n",
       "      <td>nenhum</td>\n",
       "      <td>Sim</td>\n",
       "      <td>heparina 5000UI/0,25mL</td>\n",
       "      <td>nenhum</td>\n",
       "      <td>Sim</td>\n",
       "      <td>NaN</td>\n",
       "      <td>NaN</td>\n",
       "      <td>8.8</td>\n",
       "      <td>0</td>\n",
       "      <td>4480</td>\n",
       "      <td>1.33</td>\n",
       "      <td>61.0</td>\n",
       "      <td>3760</td>\n",
       "      <td>nao</td>\n",
       "      <td>grave</td>\n",
       "    </tr>\n",
       "    <tr>\n",
       "      <th>11</th>\n",
       "      <td>79</td>\n",
       "      <td>M</td>\n",
       "      <td>preta</td>\n",
       "      <td>nao</td>\n",
       "      <td>HAS</td>\n",
       "      <td>nenhuma</td>\n",
       "      <td>nenhum</td>\n",
       "      <td>nenhum</td>\n",
       "      <td>nenhum</td>\n",
       "      <td>0</td>\n",
       "      <td>nenhum</td>\n",
       "      <td>nenhum</td>\n",
       "      <td>nenhum</td>\n",
       "      <td>Nao</td>\n",
       "      <td>heparina 5000UI/0,25mL</td>\n",
       "      <td>nenhum</td>\n",
       "      <td>Sim</td>\n",
       "      <td>NaN</td>\n",
       "      <td>NaN</td>\n",
       "      <td>0.0</td>\n",
       "      <td>0</td>\n",
       "      <td>11150</td>\n",
       "      <td>0.89</td>\n",
       "      <td>53.0</td>\n",
       "      <td>0</td>\n",
       "      <td>nao</td>\n",
       "      <td>assintom</td>\n",
       "    </tr>\n",
       "    <tr>\n",
       "      <th>12</th>\n",
       "      <td>79</td>\n",
       "      <td>M</td>\n",
       "      <td>branca</td>\n",
       "      <td>nao</td>\n",
       "      <td>HAS</td>\n",
       "      <td>nenhuma</td>\n",
       "      <td>nenhum</td>\n",
       "      <td>nenhum</td>\n",
       "      <td>nenhum</td>\n",
       "      <td>1</td>\n",
       "      <td>denenhumametasona 4mg/mL 2,5mL</td>\n",
       "      <td>nenhum</td>\n",
       "      <td>nenhum</td>\n",
       "      <td>Nao</td>\n",
       "      <td>heparina 5000UI/0,25mL</td>\n",
       "      <td>nenhum</td>\n",
       "      <td>Nao</td>\n",
       "      <td>NaN</td>\n",
       "      <td>NaN</td>\n",
       "      <td>21.1</td>\n",
       "      <td>0</td>\n",
       "      <td>10260</td>\n",
       "      <td>1.09</td>\n",
       "      <td>62.0</td>\n",
       "      <td>1657</td>\n",
       "      <td>sim</td>\n",
       "      <td>moderado</td>\n",
       "    </tr>\n",
       "    <tr>\n",
       "      <th>13</th>\n",
       "      <td>52</td>\n",
       "      <td>F</td>\n",
       "      <td>preta</td>\n",
       "      <td>nao</td>\n",
       "      <td>DM</td>\n",
       "      <td>nenhuma</td>\n",
       "      <td>nenhum</td>\n",
       "      <td>nenhum</td>\n",
       "      <td>TEP</td>\n",
       "      <td>0</td>\n",
       "      <td>nenhum</td>\n",
       "      <td>nenhum</td>\n",
       "      <td>nenhum</td>\n",
       "      <td>Nao</td>\n",
       "      <td>heparina 5000UI/0,25mL</td>\n",
       "      <td>nenhum</td>\n",
       "      <td>Sim</td>\n",
       "      <td>NaN</td>\n",
       "      <td>NaN</td>\n",
       "      <td>2.1</td>\n",
       "      <td>0</td>\n",
       "      <td>4510</td>\n",
       "      <td>1.12</td>\n",
       "      <td>22.0</td>\n",
       "      <td>2466</td>\n",
       "      <td>nao</td>\n",
       "      <td>leve</td>\n",
       "    </tr>\n",
       "    <tr>\n",
       "      <th>14</th>\n",
       "      <td>30</td>\n",
       "      <td>M</td>\n",
       "      <td>preta</td>\n",
       "      <td>sim</td>\n",
       "      <td>HIV</td>\n",
       "      <td>nenhuma</td>\n",
       "      <td>nenhum</td>\n",
       "      <td>nenhum</td>\n",
       "      <td>nenhum</td>\n",
       "      <td>0</td>\n",
       "      <td>piridonenhumina 40mg</td>\n",
       "      <td>nenhum</td>\n",
       "      <td>nenhum</td>\n",
       "      <td>Sim</td>\n",
       "      <td>nenhum</td>\n",
       "      <td>nenhum</td>\n",
       "      <td>Nao</td>\n",
       "      <td>NaN</td>\n",
       "      <td>NaN</td>\n",
       "      <td>5.1</td>\n",
       "      <td>0</td>\n",
       "      <td>2560</td>\n",
       "      <td>1.09</td>\n",
       "      <td>22.0</td>\n",
       "      <td>0</td>\n",
       "      <td>sim</td>\n",
       "      <td>leve</td>\n",
       "    </tr>\n",
       "  </tbody>\n",
       "</table>\n",
       "</div>"
      ],
      "text/plain": [
       "    idade sexo    raca tagabismo comorbidade1 comorbidade2 comorbidade3  \\\n",
       "0      41    M  branca       nao      nenhuma      nenhuma       nenhum   \n",
       "1      77    F  branca       sim          HAS      nenhuma       nenhum   \n",
       "2      67    M  branca    previo          HAS           DM       nenhum   \n",
       "3      51    M  branca       nao          HAS     renal-hd       nenhum   \n",
       "4      51    M  branca       nao          HAS     renal-hd       nenhum   \n",
       "5      64    F  branca       nao          HAS      nenhuma       nenhum   \n",
       "6      38    M   preta       nao     renal-hd      nenhuma       nenhum   \n",
       "7      37    M  branca       sim          HIV   oncologico       nenhum   \n",
       "8      82    F  branca       nao          HAS   oncologico       nenhum   \n",
       "9      45    M  branca       nao      nenhuma      nenhuma       nenhum   \n",
       "10     63    M  branca    previo          HAS           DM   oncologica   \n",
       "11     79    M   preta       nao          HAS      nenhuma       nenhum   \n",
       "12     79    M  branca       nao          HAS      nenhuma       nenhum   \n",
       "13     52    F   preta       nao           DM      nenhuma       nenhum   \n",
       "14     30    M   preta       sim          HIV      nenhuma       nenhum   \n",
       "\n",
       "   comorbidade4 trombo_na_internacao  desfecho  \\\n",
       "0        nenhum               nenhum         0   \n",
       "1        nenhum               nenhum         0   \n",
       "2        nenhum               nenhum         0   \n",
       "3        nenhum               nenhum         0   \n",
       "4        nenhum               nenhum         0   \n",
       "5        nenhum               nenhum         0   \n",
       "6        nenhum               nenhum         0   \n",
       "7        nenhum                  TVP         0   \n",
       "8        nenhum               nenhum         1   \n",
       "9        nenhum                ambos         0   \n",
       "10       nenhum               nenhum         0   \n",
       "11       nenhum               nenhum         0   \n",
       "12       nenhum               nenhum         1   \n",
       "13       nenhum                  TEP         0   \n",
       "14       nenhum               nenhum         0   \n",
       "\n",
       "                anti-inflamatorio1    anti-inflamatorio2 anti-inflamatorio3  \\\n",
       "0                           nenhum                nenhum             nenhum   \n",
       "1             hidrocortisona 100mg       prednisona 20mg             nenhum   \n",
       "2                           nenhum                nenhum             nenhum   \n",
       "3                  prednisona 20mg                nenhum             nenhum   \n",
       "4   denenhumametasona 4mg/mL 2,5mL  hidrocortisona 100mg    prednisona 20mg   \n",
       "5                           nenhum                nenhum             nenhum   \n",
       "6             hidrocortisona 100mg       prednisona 20mg             nenhum   \n",
       "7                    tiamina 300mg  piridonenhumina 40mg             nenhum   \n",
       "8                           nenhum                nenhum             nenhum   \n",
       "9                           nenhum                nenhum             nenhum   \n",
       "10                 prednisona 20mg                nenhum             nenhum   \n",
       "11                          nenhum                nenhum             nenhum   \n",
       "12  denenhumametasona 4mg/mL 2,5mL                nenhum             nenhum   \n",
       "13                          nenhum                nenhum             nenhum   \n",
       "14            piridonenhumina 40mg                nenhum             nenhum   \n",
       "\n",
       "   anti-inflamatorio_previo        profilaxia_de_trombo1  \\\n",
       "0                       Nao       heparina 5000UI/0,25mL   \n",
       "1                       Nao  enonenhumaparina 40mg/0,4mL   \n",
       "2                       Nao       heparina 5000UI/0,25mL   \n",
       "3                       Sim                       nenhum   \n",
       "4                       Nao                       nenhum   \n",
       "5                       Nao       heparina 5000UI/0,25mL   \n",
       "6                       Sim       heparina 5000UI/0,25mL   \n",
       "7                       Nao  enonenhumaparina 40mg/0,4mL   \n",
       "8                       Nao  enonenhumaparina 40mg/0,4mL   \n",
       "9                       Nao  enonenhumaparina 40mg/0,4mL   \n",
       "10                      Sim       heparina 5000UI/0,25mL   \n",
       "11                      Nao       heparina 5000UI/0,25mL   \n",
       "12                      Nao       heparina 5000UI/0,25mL   \n",
       "13                      Nao       heparina 5000UI/0,25mL   \n",
       "14                      Sim                       nenhum   \n",
       "\n",
       "          profilaxia_de_trombo2 anticoagulante_previo antibiotico1  \\\n",
       "0                        nenhum                   Sim          NaN   \n",
       "1                        nenhum                   Sim          NaN   \n",
       "2                        nenhum                   Sim          NaN   \n",
       "3                        nenhum                   Nao          NaN   \n",
       "4                        nenhum                   Nao          NaN   \n",
       "5                        nenhum                   Sim          NaN   \n",
       "6                        nenhum                   Nao          NaN   \n",
       "7                        nenhum                   Sim          NaN   \n",
       "8                        nenhum                   Sim          NaN   \n",
       "9   enonenhumaparina 60mg/0,6mL                   Sim          NaN   \n",
       "10                       nenhum                   Sim          NaN   \n",
       "11                       nenhum                   Sim          NaN   \n",
       "12                       nenhum                   Nao          NaN   \n",
       "13                       nenhum                   Sim          NaN   \n",
       "14                       nenhum                   Nao          NaN   \n",
       "\n",
       "   antibiotico2  proteina c (mg/dl)  ferritina (ng/ml)  leucócitos ( /ul)  \\\n",
       "0           NaN                 8.0                  0               4830   \n",
       "1           NaN                14.7                  0               5280   \n",
       "2           NaN                 0.0                  0               8650   \n",
       "3           NaN                 6.2                  0               9590   \n",
       "4           NaN                32.0                  0               4230   \n",
       "5           NaN                 4.1               1530               6430   \n",
       "6           NaN                19.3               2380               1260   \n",
       "7           NaN                 4.8                  0               4410   \n",
       "8           NaN                 0.0                  0                  0   \n",
       "9           NaN                17.2                366               2790   \n",
       "10          NaN                 8.8                  0               4480   \n",
       "11          NaN                 0.0                  0              11150   \n",
       "12          NaN                21.1                  0              10260   \n",
       "13          NaN                 2.1                  0               4510   \n",
       "14          NaN                 5.1                  0               2560   \n",
       "\n",
       "    creatinina (mg/dl)  ureia(mg/dl)  d-dimeros (ng/ml) reinfeccao  sintomas  \n",
       "0                 0.76          36.0                  0        nao      leve  \n",
       "1                 0.82          31.0                  0        nao  assintom  \n",
       "2                 0.72           0.0                  0        nao      leve  \n",
       "3                 0.00         142.0                  0        nao      leve  \n",
       "4                15.40         158.0               1535        sim  assintom  \n",
       "5                 1.00          52.0                  0        nao      leve  \n",
       "6                 7.35         191.0               1021        nao      leve  \n",
       "7                 0.68          31.0                437        nao      leve  \n",
       "8                 0.00           0.0                  0        nao  assintom  \n",
       "9                 1.08          22.0                  0        nao      leve  \n",
       "10                1.33          61.0               3760        nao     grave  \n",
       "11                0.89          53.0                  0        nao  assintom  \n",
       "12                1.09          62.0               1657        sim  moderado  \n",
       "13                1.12          22.0               2466        nao      leve  \n",
       "14                1.09          22.0                  0        sim      leve  "
      ]
     },
     "execution_count": 256,
     "metadata": {},
     "output_type": "execute_result"
    }
   ],
   "source": [
    "df.head(15)"
   ]
  },
  {
   "cell_type": "markdown",
   "id": "c0a4f8a3",
   "metadata": {
    "id": "c0a4f8a3"
   },
   "source": [
    "Valores Vazios\n",
    "- Deletar linhas/colunas vazias\n",
    "- Deletar linhas que possuem valores vazios\n",
    "- Preencher valores vazios (último valor)"
   ]
  },
  {
   "cell_type": "code",
   "execution_count": 257,
   "id": "90b1d202",
   "metadata": {
    "id": "90b1d202"
   },
   "outputs": [],
   "source": [
    "# deletar linhas e colunas completamente vazias\n",
    "# df = df.dropna(how='all', axis=1)\n",
    "\n",
    "# deletar linhas que possuem pelo menos 1 valor vazio\n",
    "# df = df.dropna()"
   ]
  },
  {
   "cell_type": "code",
   "execution_count": 258,
   "id": "11fdb482",
   "metadata": {
    "id": "11fdb482"
   },
   "outputs": [],
   "source": [
    "# preencher com o último valor\n",
    "df = df.ffill()"
   ]
  },
  {
   "cell_type": "code",
   "execution_count": 259,
   "id": "0dd4f36c",
   "metadata": {
    "id": "0dd4f36c"
   },
   "outputs": [],
   "source": [
    "# deletar colunas incompletas\n",
    "df = df.drop(columns='antibiotico1')\n",
    "df = df.drop(columns='antibiotico2')\n"
   ]
  },
  {
   "cell_type": "code",
   "execution_count": 260,
   "id": "2e6df69e",
   "metadata": {
    "colab": {
     "base_uri": "https://localhost:8080/"
    },
    "id": "2e6df69e",
    "outputId": "7efe9c1e-e3be-47d2-91c2-e66e37e557f1"
   },
   "outputs": [
    {
     "name": "stdout",
     "output_type": "stream",
     "text": [
      "<class 'pandas.core.frame.DataFrame'>\n",
      "RangeIndex: 429 entries, 0 to 428\n",
      "Data columns (total 25 columns):\n",
      " #   Column                    Non-Null Count  Dtype  \n",
      "---  ------                    --------------  -----  \n",
      " 0   idade                     429 non-null    int64  \n",
      " 1   sexo                      429 non-null    object \n",
      " 2   raca                      429 non-null    object \n",
      " 3   tagabismo                 429 non-null    object \n",
      " 4   comorbidade1              429 non-null    object \n",
      " 5   comorbidade2              429 non-null    object \n",
      " 6   comorbidade3              429 non-null    object \n",
      " 7   comorbidade4              429 non-null    object \n",
      " 8   trombo_na_internacao      429 non-null    object \n",
      " 9   desfecho                  429 non-null    int64  \n",
      " 10  anti-inflamatorio1        429 non-null    object \n",
      " 11  anti-inflamatorio2        429 non-null    object \n",
      " 12  anti-inflamatorio3        429 non-null    object \n",
      " 13  anti-inflamatorio_previo  429 non-null    object \n",
      " 14  profilaxia_de_trombo1     429 non-null    object \n",
      " 15  profilaxia_de_trombo2     429 non-null    object \n",
      " 16  anticoagulante_previo     429 non-null    object \n",
      " 17  proteina c (mg/dl)        429 non-null    float64\n",
      " 18  ferritina (ng/ml)         429 non-null    int64  \n",
      " 19  leucócitos ( /ul)         429 non-null    int64  \n",
      " 20  creatinina (mg/dl)        429 non-null    float64\n",
      " 21  ureia(mg/dl)              429 non-null    float64\n",
      " 22  d-dimeros (ng/ml)         429 non-null    int64  \n",
      " 23  reinfeccao                429 non-null    object \n",
      " 24  sintomas                  429 non-null    object \n",
      "dtypes: float64(3), int64(5), object(17)\n",
      "memory usage: 83.9+ KB\n"
     ]
    }
   ],
   "source": [
    "df.info()"
   ]
  },
  {
   "cell_type": "code",
   "execution_count": 261,
   "id": "f48b1e87",
   "metadata": {
    "colab": {
     "base_uri": "https://localhost:8080/",
     "height": 424
    },
    "id": "f48b1e87",
    "outputId": "bf9a00c5-4a45-4b25-d581-35d35df4f490"
   },
   "outputs": [
    {
     "data": {
      "text/html": [
       "<div>\n",
       "<style scoped>\n",
       "    .dataframe tbody tr th:only-of-type {\n",
       "        vertical-align: middle;\n",
       "    }\n",
       "\n",
       "    .dataframe tbody tr th {\n",
       "        vertical-align: top;\n",
       "    }\n",
       "\n",
       "    .dataframe thead th {\n",
       "        text-align: right;\n",
       "    }\n",
       "</style>\n",
       "<table border=\"1\" class=\"dataframe\">\n",
       "  <thead>\n",
       "    <tr style=\"text-align: right;\">\n",
       "      <th></th>\n",
       "      <th>comorbidade1</th>\n",
       "      <th>comorbidade2</th>\n",
       "      <th>comorbidade3</th>\n",
       "      <th>comorbidade4</th>\n",
       "      <th>desfecho</th>\n",
       "    </tr>\n",
       "  </thead>\n",
       "  <tbody>\n",
       "    <tr>\n",
       "      <th>0</th>\n",
       "      <td>nenhuma</td>\n",
       "      <td>nenhuma</td>\n",
       "      <td>nenhum</td>\n",
       "      <td>nenhum</td>\n",
       "      <td>0</td>\n",
       "    </tr>\n",
       "    <tr>\n",
       "      <th>1</th>\n",
       "      <td>HAS</td>\n",
       "      <td>nenhuma</td>\n",
       "      <td>nenhum</td>\n",
       "      <td>nenhum</td>\n",
       "      <td>0</td>\n",
       "    </tr>\n",
       "    <tr>\n",
       "      <th>2</th>\n",
       "      <td>HAS</td>\n",
       "      <td>DM</td>\n",
       "      <td>nenhum</td>\n",
       "      <td>nenhum</td>\n",
       "      <td>0</td>\n",
       "    </tr>\n",
       "    <tr>\n",
       "      <th>3</th>\n",
       "      <td>HAS</td>\n",
       "      <td>renal-hd</td>\n",
       "      <td>nenhum</td>\n",
       "      <td>nenhum</td>\n",
       "      <td>0</td>\n",
       "    </tr>\n",
       "    <tr>\n",
       "      <th>4</th>\n",
       "      <td>HAS</td>\n",
       "      <td>renal-hd</td>\n",
       "      <td>nenhum</td>\n",
       "      <td>nenhum</td>\n",
       "      <td>0</td>\n",
       "    </tr>\n",
       "    <tr>\n",
       "      <th>...</th>\n",
       "      <td>...</td>\n",
       "      <td>...</td>\n",
       "      <td>...</td>\n",
       "      <td>...</td>\n",
       "      <td>...</td>\n",
       "    </tr>\n",
       "    <tr>\n",
       "      <th>424</th>\n",
       "      <td>HAS</td>\n",
       "      <td>nenhuma</td>\n",
       "      <td>nenhum</td>\n",
       "      <td>nenhum</td>\n",
       "      <td>0</td>\n",
       "    </tr>\n",
       "    <tr>\n",
       "      <th>425</th>\n",
       "      <td>nenhuma</td>\n",
       "      <td>nenhuma</td>\n",
       "      <td>nenhum</td>\n",
       "      <td>nenhum</td>\n",
       "      <td>0</td>\n",
       "    </tr>\n",
       "    <tr>\n",
       "      <th>426</th>\n",
       "      <td>DM</td>\n",
       "      <td>HAS</td>\n",
       "      <td>nenhum</td>\n",
       "      <td>nenhum</td>\n",
       "      <td>0</td>\n",
       "    </tr>\n",
       "    <tr>\n",
       "      <th>427</th>\n",
       "      <td>HAS</td>\n",
       "      <td>ICC</td>\n",
       "      <td>nenhum</td>\n",
       "      <td>nenhum</td>\n",
       "      <td>0</td>\n",
       "    </tr>\n",
       "    <tr>\n",
       "      <th>428</th>\n",
       "      <td>DM</td>\n",
       "      <td>HAS</td>\n",
       "      <td>nenhum</td>\n",
       "      <td>nenhum</td>\n",
       "      <td>0</td>\n",
       "    </tr>\n",
       "  </tbody>\n",
       "</table>\n",
       "<p>429 rows × 5 columns</p>\n",
       "</div>"
      ],
      "text/plain": [
       "    comorbidade1 comorbidade2 comorbidade3 comorbidade4  desfecho\n",
       "0        nenhuma      nenhuma       nenhum       nenhum         0\n",
       "1            HAS      nenhuma       nenhum       nenhum         0\n",
       "2            HAS           DM       nenhum       nenhum         0\n",
       "3            HAS     renal-hd       nenhum       nenhum         0\n",
       "4            HAS     renal-hd       nenhum       nenhum         0\n",
       "..           ...          ...          ...          ...       ...\n",
       "424          HAS      nenhuma       nenhum       nenhum         0\n",
       "425      nenhuma      nenhuma       nenhum       nenhum         0\n",
       "426           DM          HAS       nenhum       nenhum         0\n",
       "427          HAS          ICC       nenhum       nenhum         0\n",
       "428           DM          HAS       nenhum       nenhum         0\n",
       "\n",
       "[429 rows x 5 columns]"
      ]
     },
     "metadata": {},
     "output_type": "display_data"
    }
   ],
   "source": [
    "view_comorbidade_desfecho = df[['comorbidade1','comorbidade2','comorbidade3','comorbidade4', 'desfecho']]\n",
    "display(view_comorbidade_desfecho)"
   ]
  },
  {
   "cell_type": "code",
   "execution_count": 262,
   "id": "f93d9b8a",
   "metadata": {
    "id": "f93d9b8a"
   },
   "outputs": [],
   "source": [
    "# DESFECHO (1-alta/ 2-UTI/ 3-óbito/4-fim isolamento/5-transf.)"
   ]
  },
  {
   "cell_type": "markdown",
   "id": "09c756e8",
   "metadata": {
    "id": "09c756e8"
   },
   "source": [
    "#### Atributos escolhidos: "
   ]
  },
  {
   "cell_type": "code",
   "execution_count": 263,
   "id": "a6aad5ab",
   "metadata": {
    "id": "a6aad5ab"
   },
   "outputs": [],
   "source": [
    "nomes_atributos_numericos = ['idade','proteina c (mg/dl)','ferritina (ng/ml)','leucócitos ( /ul)','creatinina (mg/dl)','ureia(mg/dl)','d-dimeros (ng/ml)']"
   ]
  },
  {
   "cell_type": "code",
   "execution_count": 264,
   "id": "116cd9c9",
   "metadata": {
    "colab": {
     "base_uri": "https://localhost:8080/"
    },
    "id": "116cd9c9",
    "outputId": "1b3dee01-94f1-4d23-b2bd-47ab00dd82bf"
   },
   "outputs": [
    {
     "data": {
      "text/plain": [
       "['idade',\n",
       " 'proteina c (mg/dl)',\n",
       " 'ferritina (ng/ml)',\n",
       " 'leucócitos ( /ul)',\n",
       " 'creatinina (mg/dl)',\n",
       " 'ureia(mg/dl)',\n",
       " 'd-dimeros (ng/ml)']"
      ]
     },
     "execution_count": 264,
     "metadata": {},
     "output_type": "execute_result"
    }
   ],
   "source": [
    "nomes_atributos_numericos"
   ]
  },
  {
   "cell_type": "code",
   "execution_count": 265,
   "id": "5a1cefb6",
   "metadata": {
    "id": "5a1cefb6"
   },
   "outputs": [],
   "source": [
    "nomes_atributos_categoricos = ['sexo','sintomas','raca','tagabismo','comorbidade1','comorbidade2','comorbidade3','comorbidade4','trombo_na_internacao','sintomas','anti-inflamatorio_previo','anticoagulante_previo','reinfeccao']"
   ]
  },
  {
   "cell_type": "code",
   "execution_count": 266,
   "id": "755cf5f9",
   "metadata": {
    "colab": {
     "base_uri": "https://localhost:8080/"
    },
    "id": "755cf5f9",
    "outputId": "b3a621b4-553f-4fd1-cdb1-24ea6dc95407"
   },
   "outputs": [
    {
     "data": {
      "text/plain": [
       "['sexo',\n",
       " 'sintomas',\n",
       " 'raca',\n",
       " 'tagabismo',\n",
       " 'comorbidade1',\n",
       " 'comorbidade2',\n",
       " 'comorbidade3',\n",
       " 'comorbidade4',\n",
       " 'trombo_na_internacao',\n",
       " 'sintomas',\n",
       " 'anti-inflamatorio_previo',\n",
       " 'anticoagulante_previo',\n",
       " 'reinfeccao']"
      ]
     },
     "execution_count": 266,
     "metadata": {},
     "output_type": "execute_result"
    }
   ],
   "source": [
    "nomes_atributos_categoricos"
   ]
  },
  {
   "cell_type": "code",
   "execution_count": 267,
   "id": "6f8fe8d6",
   "metadata": {
    "colab": {
     "base_uri": "https://localhost:8080/"
    },
    "id": "6f8fe8d6",
    "outputId": "8c58532c-e3d0-40b0-e9c9-2bd3276d4eea"
   },
   "outputs": [
    {
     "data": {
      "text/plain": [
       "0    382\n",
       "1     47\n",
       "Name: desfecho, dtype: int64"
      ]
     },
     "execution_count": 267,
     "metadata": {},
     "output_type": "execute_result"
    }
   ],
   "source": [
    "df['desfecho'].value_counts()"
   ]
  },
  {
   "cell_type": "markdown",
   "id": "63ffe010",
   "metadata": {
    "id": "63ffe010"
   },
   "source": [
    "#### Pré-Processamento"
   ]
  },
  {
   "cell_type": "markdown",
   "id": "7fc9e204",
   "metadata": {
    "id": "7fc9e204"
   },
   "source": [
    "#### Separando os conjuntos de treino e teste"
   ]
  },
  {
   "cell_type": "code",
   "execution_count": 268,
   "id": "9abfa34e",
   "metadata": {
    "id": "9abfa34e"
   },
   "outputs": [],
   "source": [
    "from sklearn.model_selection import train_test_split\n",
    "\n",
    "# separando os conjuntos de dados de treino e teste\n",
    "df_treino, df_teste = train_test_split(df, test_size=0.2, random_state=42)\n",
    "\n",
    "# separando a coluna alvo do conjunto de treino\n",
    "df_treino_labels = df_treino['desfecho'].copy()\n",
    "df_treino        = df_treino.drop(columns='desfecho')\n",
    "\n",
    "# separando a coluna alvo do conjunto de teste\n",
    "df_teste_labels = df_teste['desfecho'].copy()\n",
    "df_teste        = df_teste.drop(columns='desfecho')"
   ]
  },
  {
   "cell_type": "code",
   "execution_count": 269,
   "id": "a5500015",
   "metadata": {
    "id": "a5500015"
   },
   "outputs": [],
   "source": [
    "from sklearn.impute import SimpleImputer\n",
    "from sklearn.preprocessing import StandardScaler\n",
    "from sklearn.preprocessing import OneHotEncoder\n",
    "\n",
    "from sklearn.pipeline import Pipeline\n",
    "from sklearn.compose import ColumnTransformer\n",
    "\n",
    "pipeline_atr_numericos = Pipeline([\n",
    "    ('imputer',SimpleImputer(strategy='mean')),\n",
    "    ('scaler', StandardScaler()),\n",
    "])\n",
    "\n",
    "preproc_completo = ColumnTransformer([\n",
    "    ('numericos',   pipeline_atr_numericos, nomes_atributos_numericos),\n",
    "    ('categoricos', OneHotEncoder(),        nomes_atributos_categoricos),\n",
    "    ], \n",
    "    sparse_threshold=0)\n",
    "\n",
    "# pre-processamento do conjunto de treino\n",
    "X_treino = preproc_completo.fit_transform(df_treino)\n",
    "\n",
    "# pre-processamento do conjunto de teste\n",
    "X_teste = preproc_completo.transform(df_teste)\n",
    "\n",
    "# pre-processamento da coluna alvo para treino\n",
    "y_treino = df_treino_labels.values == 1\n",
    "\n",
    "# pre-processamento da coluna alvo para teste\n",
    "y_teste = df_teste_labels.values == 1"
   ]
  },
  {
   "cell_type": "code",
   "execution_count": 270,
   "id": "xb8KkmirAdpn",
   "metadata": {
    "id": "xb8KkmirAdpn"
   },
   "outputs": [],
   "source": [
    "# configurar o estilo dos gráficos com o Seaborn\n",
    "sns.set_style('dark')"
   ]
  },
  {
   "cell_type": "code",
   "execution_count": 271,
   "id": "V19aOYyu_isQ",
   "metadata": {
    "id": "V19aOYyu_isQ"
   },
   "outputs": [],
   "source": [
    "# usar técnica under-sampling\n",
    "# Under-sampling: reduz o desbalanceamento do dataset focando na classe majoritária. Ou seja, elimina aleatoriamente entradas da classe com maior número de ocorrências\n",
    "# rus = RandomUnderSampler()\n",
    "# X_treino, y_treino = rus.fit_resample(X_treino, y_treino)\n"
   ]
  },
  {
   "cell_type": "code",
   "execution_count": 272,
   "id": "4CF-78qPGCY3",
   "metadata": {
    "id": "4CF-78qPGCY3"
   },
   "outputs": [],
   "source": [
    "from imblearn.over_sampling import RandomOverSampler\n",
    "# Over-sampling: cria novas observações da classe minoritária a partir das informações contidas nos dados originais. "
   ]
  },
  {
   "cell_type": "code",
   "execution_count": 273,
   "id": "yCkHpyxgGnJX",
   "metadata": {
    "id": "yCkHpyxgGnJX"
   },
   "outputs": [],
   "source": [
    "oversample = RandomOverSampler(sampling_strategy='minority')"
   ]
  },
  {
   "cell_type": "code",
   "execution_count": 274,
   "id": "HLxp-psOGhcP",
   "metadata": {
    "id": "HLxp-psOGhcP"
   },
   "outputs": [],
   "source": [
    "# fit and apply the transform\n",
    "X_treino, y_treino = oversample.fit_resample(X_treino, y_treino)"
   ]
  },
  {
   "cell_type": "code",
   "execution_count": 275,
   "id": "Ffz0qPCh_jJ3",
   "metadata": {
    "colab": {
     "base_uri": "https://localhost:8080/"
    },
    "id": "Ffz0qPCh_jJ3",
    "outputId": "40e67460-c0b7-45ed-b67d-7c1e8e3fd599"
   },
   "outputs": [
    {
     "name": "stdout",
     "output_type": "stream",
     "text": [
      "False    304\n",
      "True     304\n",
      "dtype: int64\n"
     ]
    }
   ],
   "source": [
    "# ver o balanceamento das classes\n",
    "print(pd.Series(y_treino).value_counts())\n"
   ]
  },
  {
   "cell_type": "code",
   "execution_count": 276,
   "id": "GmOw9hezAJ_Q",
   "metadata": {
    "colab": {
     "base_uri": "https://localhost:8080/",
     "height": 320
    },
    "id": "GmOw9hezAJ_Q",
    "outputId": "7454c1ff-482d-49cb-ff51-5b9e6ddf7247"
   },
   "outputs": [
    {
     "name": "stderr",
     "output_type": "stream",
     "text": [
      "C:\\Users\\Dante\\anaconda3\\lib\\site-packages\\seaborn\\_decorators.py:36: FutureWarning: Pass the following variable as a keyword arg: x. From version 0.12, the only valid positional argument will be `data`, and passing other arguments without an explicit keyword will result in an error or misinterpretation.\n",
      "  warnings.warn(\n"
     ]
    },
    {
     "data": {
      "image/png": "[encoded data removed]",
      "text/plain": [
       "<Figure size 432x288 with 1 Axes>"
      ]
     },
     "metadata": {},
     "output_type": "display_data"
    }
   ],
   "source": [
    "# plotar a nova distribuição de classes\n",
    "sns.countplot(y_treino);"
   ]
  },
  {
   "cell_type": "code",
   "execution_count": 277,
   "id": "37ed527c",
   "metadata": {
    "id": "37ed527c"
   },
   "outputs": [],
   "source": [
    "import tensorflow as tf\n",
    "from tensorflow import keras"
   ]
  },
  {
   "cell_type": "code",
   "execution_count": 278,
   "id": "6bd51fc6",
   "metadata": {
    "colab": {
     "base_uri": "https://localhost:8080/"
    },
    "id": "6bd51fc6",
    "outputId": "93f500f5-d73e-4836-c04c-9d04a2984990"
   },
   "outputs": [
    {
     "data": {
      "text/plain": [
       "array([[ 0.55880269,  0.66566491, -0.27504492, ...,  1.        ,\n",
       "         1.        ,  0.        ],\n",
       "       [-1.31686041, -0.96869008, -0.27504492, ...,  0.        ,\n",
       "         1.        ,  0.        ],\n",
       "       [ 0.26573033,  1.70320488, -0.27504492, ...,  0.        ,\n",
       "         1.        ,  0.        ],\n",
       "       ...,\n",
       "       [ 1.02771847,  0.96866331, -0.27504492, ...,  0.        ,\n",
       "         0.        ,  1.        ],\n",
       "       [ 1.08633294,  1.53793302, -0.27504492, ...,  0.        ,\n",
       "         1.        ,  0.        ],\n",
       "       [ 1.43801977,  0.96866331, -0.27504492, ...,  0.        ,\n",
       "         1.        ,  0.        ]])"
      ]
     },
     "execution_count": 278,
     "metadata": {},
     "output_type": "execute_result"
    }
   ],
   "source": [
    "X_treino"
   ]
  },
  {
   "cell_type": "code",
   "execution_count": 279,
   "id": "1d48e54e",
   "metadata": {
    "colab": {
     "base_uri": "https://localhost:8080/"
    },
    "id": "1d48e54e",
    "outputId": "7214601e-2c25-449e-e200-b65e1043c68b"
   },
   "outputs": [
    {
     "data": {
      "text/plain": [
       "(608, 60)"
      ]
     },
     "execution_count": 279,
     "metadata": {},
     "output_type": "execute_result"
    }
   ],
   "source": [
    "X_treino.shape"
   ]
  },
  {
   "cell_type": "code",
   "execution_count": 280,
   "id": "0f3e0842",
   "metadata": {
    "colab": {
     "base_uri": "https://localhost:8080/"
    },
    "id": "0f3e0842",
    "outputId": "f5c1a222-aa8b-4091-9c86-7d91051eeabe"
   },
   "outputs": [
    {
     "data": {
      "text/plain": [
       "(608,)"
      ]
     },
     "execution_count": 280,
     "metadata": {},
     "output_type": "execute_result"
    }
   ],
   "source": [
    "y_treino.shape"
   ]
  },
  {
   "cell_type": "code",
   "execution_count": 281,
   "id": "54bbf379",
   "metadata": {
    "colab": {
     "base_uri": "https://localhost:8080/"
    },
    "id": "54bbf379",
    "outputId": "e88c832f-aed4-41bd-a0a1-59e967965aff"
   },
   "outputs": [
    {
     "data": {
      "text/plain": [
       "(86, 60)"
      ]
     },
     "execution_count": 281,
     "metadata": {},
     "output_type": "execute_result"
    }
   ],
   "source": [
    "X_teste.shape"
   ]
  },
  {
   "cell_type": "code",
   "execution_count": 282,
   "id": "37c0294b",
   "metadata": {
    "colab": {
     "base_uri": "https://localhost:8080/"
    },
    "id": "37c0294b",
    "outputId": "4f429b67-0eea-4b80-c973-0698211824d5"
   },
   "outputs": [
    {
     "data": {
      "text/plain": [
       "(86,)"
      ]
     },
     "execution_count": 282,
     "metadata": {},
     "output_type": "execute_result"
    }
   ],
   "source": [
    "y_teste.shape"
   ]
  },
  {
   "cell_type": "markdown",
   "id": "2bc8300e",
   "metadata": {
    "id": "2bc8300e"
   },
   "source": [
    "- RNA TensorFlow + Keras"
   ]
  },
  {
   "cell_type": "code",
   "execution_count": 283,
   "id": "56eb7a3e",
   "metadata": {
    "id": "56eb7a3e"
   },
   "outputs": [],
   "source": [
    "import tensorflow as tf\n",
    "from tensorflow import keras"
   ]
  },
  {
   "cell_type": "code",
   "execution_count": 284,
   "id": "2af9641b",
   "metadata": {
    "colab": {
     "base_uri": "https://localhost:8080/"
    },
    "id": "2af9641b",
    "outputId": "0db64fdf-eba6-4b6a-c925-90f1abce6327"
   },
   "outputs": [
    {
     "data": {
      "text/plain": [
       "(60,)"
      ]
     },
     "execution_count": 284,
     "metadata": {},
     "output_type": "execute_result"
    }
   ],
   "source": [
    "# Qual o tamanho da entrada?\n",
    "X_treino.shape[1:]"
   ]
  },
  {
   "cell_type": "code",
   "execution_count": 285,
   "id": "f6d90f7c",
   "metadata": {
    "id": "f6d90f7c"
   },
   "outputs": [],
   "source": [
    "model = keras.models.Sequential()\n",
    "model.add(keras.layers.Dense(32, activation=\"relu\",input_shape=X_treino.shape[1:]))\n",
    "model.add(keras.layers.Dense(16, activation=\"relu\"))\n",
    "model.add(keras.layers.Dense(2, activation=\"softmax\"))"
   ]
  },
  {
   "cell_type": "code",
   "execution_count": 286,
   "id": "121c9d6b",
   "metadata": {
    "colab": {
     "base_uri": "https://localhost:8080/"
    },
    "id": "121c9d6b",
    "outputId": "48bf5679-fbf6-4d40-dc9c-1c3f0516a9d7"
   },
   "outputs": [
    {
     "name": "stdout",
     "output_type": "stream",
     "text": [
      "Model: \"sequential_6\"\n",
      "_________________________________________________________________\n",
      " Layer (type)                Output Shape              Param #   \n",
      "=================================================================\n",
      " dense_18 (Dense)            (None, 32)                1952      \n",
      "                                                                 \n",
      " dense_19 (Dense)            (None, 16)                528       \n",
      "                                                                 \n",
      " dense_20 (Dense)            (None, 2)                 34        \n",
      "                                                                 \n",
      "=================================================================\n",
      "Total params: 2,514\n",
      "Trainable params: 2,514\n",
      "Non-trainable params: 0\n",
      "_________________________________________________________________\n"
     ]
    }
   ],
   "source": [
    "model.summary()"
   ]
  },
  {
   "cell_type": "code",
   "execution_count": 287,
   "id": "09d7b90a",
   "metadata": {
    "id": "09d7b90a"
   },
   "outputs": [],
   "source": [
    "# Para modelos de classificação com saída esparsa:    # para classificação com saída densa  # para classificação binária:     \n",
    "model.compile(loss=\"sparse_categorical_crossentropy\", # usar categorical_crossentropy       # usar binary_crossentropy e mudar\n",
    "              optimizer=\"sgd\",                        #                                     # a ativação da camada de saída\n",
    "              metrics=[\"accuracy\"])                   #                                     # para sigmoid\n"
   ]
  },
  {
   "cell_type": "code",
   "execution_count": 288,
   "id": "cOsErwTtiuNQ",
   "metadata": {
    "id": "cOsErwTtiuNQ"
   },
   "outputs": [],
   "source": [
    "# Early Stopping (optimization technique used to reduce overfitting)\n",
    "# early_stopping_cb = keras.callbacks.EarlyStopping(patience=5,restore_best_weights=True)"
   ]
  },
  {
   "cell_type": "markdown",
   "id": "80d7f281",
   "metadata": {
    "id": "80d7f281"
   },
   "source": [
    "#### Treinamento do modelo"
   ]
  },
  {
   "cell_type": "code",
   "execution_count": 289,
   "id": "91b89601",
   "metadata": {
    "colab": {
     "base_uri": "https://localhost:8080/"
    },
    "id": "91b89601",
    "outputId": "b2306169-913b-4bf7-953c-16ca886e7b93"
   },
   "outputs": [
    {
     "name": "stdout",
     "output_type": "stream",
     "text": [
      "Epoch 1/150\n",
      "16/16 [==============================] - 1s 15ms/step - loss: 0.7343 - accuracy: 0.4568 - val_loss: 0.7202 - val_accuracy: 0.4590\n",
      "Epoch 2/150\n",
      "16/16 [==============================] - 0s 4ms/step - loss: 0.7047 - accuracy: 0.5494 - val_loss: 0.7491 - val_accuracy: 0.4098\n",
      "Epoch 3/150\n",
      "16/16 [==============================] - 0s 4ms/step - loss: 0.6856 - accuracy: 0.5761 - val_loss: 0.7971 - val_accuracy: 0.2787\n",
      "Epoch 4/150\n",
      "16/16 [==============================] - 0s 4ms/step - loss: 0.6683 - accuracy: 0.5947 - val_loss: 0.8002 - val_accuracy: 0.2623\n",
      "Epoch 5/150\n",
      "16/16 [==============================] - 0s 4ms/step - loss: 0.6561 - accuracy: 0.6152 - val_loss: 0.8246 - val_accuracy: 0.2623\n",
      "Epoch 6/150\n",
      "16/16 [==============================] - 0s 4ms/step - loss: 0.6435 - accuracy: 0.6337 - val_loss: 0.8359 - val_accuracy: 0.2623\n",
      "Epoch 7/150\n",
      "16/16 [==============================] - 0s 4ms/step - loss: 0.6321 - accuracy: 0.6481 - val_loss: 0.8345 - val_accuracy: 0.2623\n",
      "Epoch 8/150\n",
      "16/16 [==============================] - 0s 4ms/step - loss: 0.6223 - accuracy: 0.6564 - val_loss: 0.8140 - val_accuracy: 0.2787\n",
      "Epoch 9/150\n",
      "16/16 [==============================] - 0s 4ms/step - loss: 0.6129 - accuracy: 0.6667 - val_loss: 0.8126 - val_accuracy: 0.2787\n",
      "Epoch 10/150\n",
      "16/16 [==============================] - 0s 4ms/step - loss: 0.6031 - accuracy: 0.6626 - val_loss: 0.8087 - val_accuracy: 0.2787\n",
      "Epoch 11/150\n",
      "16/16 [==============================] - 0s 4ms/step - loss: 0.5943 - accuracy: 0.6667 - val_loss: 0.8038 - val_accuracy: 0.3115\n",
      "Epoch 12/150\n",
      "16/16 [==============================] - 0s 4ms/step - loss: 0.5854 - accuracy: 0.6749 - val_loss: 0.7969 - val_accuracy: 0.3279\n",
      "Epoch 13/150\n",
      "16/16 [==============================] - 0s 4ms/step - loss: 0.5775 - accuracy: 0.6770 - val_loss: 0.7825 - val_accuracy: 0.3279\n",
      "Epoch 14/150\n",
      "16/16 [==============================] - 0s 4ms/step - loss: 0.5697 - accuracy: 0.6728 - val_loss: 0.7802 - val_accuracy: 0.3770\n",
      "Epoch 15/150\n",
      "16/16 [==============================] - 0s 5ms/step - loss: 0.5624 - accuracy: 0.6975 - val_loss: 0.7750 - val_accuracy: 0.3770\n",
      "Epoch 16/150\n",
      "16/16 [==============================] - 0s 4ms/step - loss: 0.5542 - accuracy: 0.6975 - val_loss: 0.7653 - val_accuracy: 0.3770\n",
      "Epoch 17/150\n",
      "16/16 [==============================] - 0s 4ms/step - loss: 0.5462 - accuracy: 0.6996 - val_loss: 0.7707 - val_accuracy: 0.3770\n",
      "Epoch 18/150\n",
      "16/16 [==============================] - 0s 4ms/step - loss: 0.5390 - accuracy: 0.7037 - val_loss: 0.7556 - val_accuracy: 0.4180\n",
      "Epoch 19/150\n",
      "16/16 [==============================] - 0s 4ms/step - loss: 0.5313 - accuracy: 0.7222 - val_loss: 0.7445 - val_accuracy: 0.4180\n",
      "Epoch 20/150\n",
      "16/16 [==============================] - 0s 4ms/step - loss: 0.5237 - accuracy: 0.7325 - val_loss: 0.7642 - val_accuracy: 0.4016\n",
      "Epoch 21/150\n",
      "16/16 [==============================] - 0s 4ms/step - loss: 0.5162 - accuracy: 0.7366 - val_loss: 0.7490 - val_accuracy: 0.4180\n",
      "Epoch 22/150\n",
      "16/16 [==============================] - 0s 4ms/step - loss: 0.5080 - accuracy: 0.7407 - val_loss: 0.7495 - val_accuracy: 0.4016\n",
      "Epoch 23/150\n",
      "16/16 [==============================] - 0s 4ms/step - loss: 0.5009 - accuracy: 0.7428 - val_loss: 0.7437 - val_accuracy: 0.4016\n",
      "Epoch 24/150\n",
      "16/16 [==============================] - 0s 4ms/step - loss: 0.4936 - accuracy: 0.7387 - val_loss: 0.7086 - val_accuracy: 0.4508\n",
      "Epoch 25/150\n",
      "16/16 [==============================] - 0s 4ms/step - loss: 0.4861 - accuracy: 0.7654 - val_loss: 0.7010 - val_accuracy: 0.4508\n",
      "Epoch 26/150\n",
      "16/16 [==============================] - 0s 4ms/step - loss: 0.4788 - accuracy: 0.7695 - val_loss: 0.7013 - val_accuracy: 0.4672\n",
      "Epoch 27/150\n",
      "16/16 [==============================] - 0s 4ms/step - loss: 0.4712 - accuracy: 0.7942 - val_loss: 0.7063 - val_accuracy: 0.4836\n",
      "Epoch 28/150\n",
      "16/16 [==============================] - 0s 4ms/step - loss: 0.4640 - accuracy: 0.7942 - val_loss: 0.7070 - val_accuracy: 0.5246\n",
      "Epoch 29/150\n",
      "16/16 [==============================] - 0s 4ms/step - loss: 0.4573 - accuracy: 0.7881 - val_loss: 0.6665 - val_accuracy: 0.6393\n",
      "Epoch 30/150\n",
      "16/16 [==============================] - 0s 4ms/step - loss: 0.4503 - accuracy: 0.8004 - val_loss: 0.6280 - val_accuracy: 0.6393\n",
      "Epoch 31/150\n",
      "16/16 [==============================] - 0s 4ms/step - loss: 0.4430 - accuracy: 0.8086 - val_loss: 0.6251 - val_accuracy: 0.6393\n",
      "Epoch 32/150\n",
      "16/16 [==============================] - 0s 4ms/step - loss: 0.4360 - accuracy: 0.8066 - val_loss: 0.6522 - val_accuracy: 0.6393\n",
      "Epoch 33/150\n",
      "16/16 [==============================] - 0s 4ms/step - loss: 0.4297 - accuracy: 0.8189 - val_loss: 0.6280 - val_accuracy: 0.6393\n",
      "Epoch 34/150\n",
      "16/16 [==============================] - 0s 4ms/step - loss: 0.4228 - accuracy: 0.8169 - val_loss: 0.6198 - val_accuracy: 0.6393\n",
      "Epoch 35/150\n",
      "16/16 [==============================] - 0s 4ms/step - loss: 0.4165 - accuracy: 0.8210 - val_loss: 0.6231 - val_accuracy: 0.6393\n",
      "Epoch 36/150\n",
      "16/16 [==============================] - 0s 4ms/step - loss: 0.4099 - accuracy: 0.8230 - val_loss: 0.5829 - val_accuracy: 0.6721\n",
      "Epoch 37/150\n",
      "16/16 [==============================] - 0s 4ms/step - loss: 0.4033 - accuracy: 0.8272 - val_loss: 0.5872 - val_accuracy: 0.6721\n",
      "Epoch 38/150\n",
      "16/16 [==============================] - 0s 4ms/step - loss: 0.3973 - accuracy: 0.8395 - val_loss: 0.5784 - val_accuracy: 0.6721\n",
      "Epoch 39/150\n",
      "16/16 [==============================] - 0s 4ms/step - loss: 0.3910 - accuracy: 0.8354 - val_loss: 0.5541 - val_accuracy: 0.7131\n",
      "Epoch 40/150\n",
      "16/16 [==============================] - 0s 4ms/step - loss: 0.3850 - accuracy: 0.8374 - val_loss: 0.5379 - val_accuracy: 0.7705\n",
      "Epoch 41/150\n",
      "16/16 [==============================] - 0s 4ms/step - loss: 0.3795 - accuracy: 0.8601 - val_loss: 0.5237 - val_accuracy: 0.7705\n",
      "Epoch 42/150\n",
      "16/16 [==============================] - 0s 4ms/step - loss: 0.3742 - accuracy: 0.8519 - val_loss: 0.4993 - val_accuracy: 0.8607\n",
      "Epoch 43/150\n",
      "16/16 [==============================] - 0s 4ms/step - loss: 0.3684 - accuracy: 0.8807 - val_loss: 0.5381 - val_accuracy: 0.7869\n",
      "Epoch 44/150\n",
      "16/16 [==============================] - 0s 3ms/step - loss: 0.3629 - accuracy: 0.8786 - val_loss: 0.5334 - val_accuracy: 0.7869\n",
      "Epoch 45/150\n",
      "16/16 [==============================] - 0s 4ms/step - loss: 0.3575 - accuracy: 0.8786 - val_loss: 0.5041 - val_accuracy: 0.8443\n",
      "Epoch 46/150\n",
      "16/16 [==============================] - 0s 4ms/step - loss: 0.3534 - accuracy: 0.8807 - val_loss: 0.4757 - val_accuracy: 0.8607\n",
      "Epoch 47/150\n",
      "16/16 [==============================] - 0s 4ms/step - loss: 0.3480 - accuracy: 0.8848 - val_loss: 0.4901 - val_accuracy: 0.8607\n",
      "Epoch 48/150\n",
      "16/16 [==============================] - 0s 4ms/step - loss: 0.3442 - accuracy: 0.8868 - val_loss: 0.4785 - val_accuracy: 0.8607\n",
      "Epoch 49/150\n",
      "16/16 [==============================] - 0s 4ms/step - loss: 0.3394 - accuracy: 0.8827 - val_loss: 0.4635 - val_accuracy: 0.8770\n",
      "Epoch 50/150\n",
      "16/16 [==============================] - 0s 4ms/step - loss: 0.3355 - accuracy: 0.8930 - val_loss: 0.4641 - val_accuracy: 0.8770\n",
      "Epoch 51/150\n",
      "16/16 [==============================] - 0s 4ms/step - loss: 0.3309 - accuracy: 0.8930 - val_loss: 0.4269 - val_accuracy: 0.8770\n",
      "Epoch 52/150\n",
      "16/16 [==============================] - 0s 4ms/step - loss: 0.3272 - accuracy: 0.8909 - val_loss: 0.4170 - val_accuracy: 0.8770\n",
      "Epoch 53/150\n",
      "16/16 [==============================] - 0s 4ms/step - loss: 0.3227 - accuracy: 0.8909 - val_loss: 0.4481 - val_accuracy: 0.8770\n",
      "Epoch 54/150\n",
      "16/16 [==============================] - 0s 4ms/step - loss: 0.3188 - accuracy: 0.9012 - val_loss: 0.4127 - val_accuracy: 0.9262\n",
      "Epoch 55/150\n",
      "16/16 [==============================] - 0s 4ms/step - loss: 0.3151 - accuracy: 0.8951 - val_loss: 0.4741 - val_accuracy: 0.8443\n",
      "Epoch 56/150\n",
      "16/16 [==============================] - 0s 4ms/step - loss: 0.3116 - accuracy: 0.9074 - val_loss: 0.4157 - val_accuracy: 0.8770\n",
      "Epoch 57/150\n",
      "16/16 [==============================] - 0s 4ms/step - loss: 0.3075 - accuracy: 0.8992 - val_loss: 0.4063 - val_accuracy: 0.9262\n",
      "Epoch 58/150\n",
      "16/16 [==============================] - 0s 4ms/step - loss: 0.3043 - accuracy: 0.9033 - val_loss: 0.3918 - val_accuracy: 0.9262\n"
     ]
    },
    {
     "name": "stdout",
     "output_type": "stream",
     "text": [
      "Epoch 59/150\n",
      "16/16 [==============================] - 0s 4ms/step - loss: 0.3004 - accuracy: 0.9012 - val_loss: 0.3998 - val_accuracy: 0.9262\n",
      "Epoch 60/150\n",
      "16/16 [==============================] - 0s 4ms/step - loss: 0.2965 - accuracy: 0.8992 - val_loss: 0.4174 - val_accuracy: 0.8770\n",
      "Epoch 61/150\n",
      "16/16 [==============================] - 0s 4ms/step - loss: 0.2937 - accuracy: 0.9095 - val_loss: 0.3717 - val_accuracy: 0.9508\n",
      "Epoch 62/150\n",
      "16/16 [==============================] - 0s 4ms/step - loss: 0.2907 - accuracy: 0.9095 - val_loss: 0.3646 - val_accuracy: 0.9508\n",
      "Epoch 63/150\n",
      "16/16 [==============================] - 0s 4ms/step - loss: 0.2870 - accuracy: 0.9053 - val_loss: 0.3934 - val_accuracy: 0.9262\n",
      "Epoch 64/150\n",
      "16/16 [==============================] - 0s 3ms/step - loss: 0.2835 - accuracy: 0.9095 - val_loss: 0.3908 - val_accuracy: 0.9262\n",
      "Epoch 65/150\n",
      "16/16 [==============================] - 0s 4ms/step - loss: 0.2803 - accuracy: 0.9198 - val_loss: 0.3865 - val_accuracy: 0.9508\n",
      "Epoch 66/150\n",
      "16/16 [==============================] - 0s 4ms/step - loss: 0.2768 - accuracy: 0.9239 - val_loss: 0.3661 - val_accuracy: 0.9508\n",
      "Epoch 67/150\n",
      "16/16 [==============================] - 0s 4ms/step - loss: 0.2743 - accuracy: 0.9177 - val_loss: 0.3626 - val_accuracy: 0.9508\n",
      "Epoch 68/150\n",
      "16/16 [==============================] - 0s 4ms/step - loss: 0.2715 - accuracy: 0.9198 - val_loss: 0.4038 - val_accuracy: 0.9508\n",
      "Epoch 69/150\n",
      "16/16 [==============================] - 0s 4ms/step - loss: 0.2690 - accuracy: 0.9218 - val_loss: 0.3850 - val_accuracy: 0.9508\n",
      "Epoch 70/150\n",
      "16/16 [==============================] - 0s 4ms/step - loss: 0.2659 - accuracy: 0.9259 - val_loss: 0.3983 - val_accuracy: 0.9508\n",
      "Epoch 71/150\n",
      "16/16 [==============================] - 0s 4ms/step - loss: 0.2635 - accuracy: 0.9259 - val_loss: 0.3585 - val_accuracy: 0.9508\n",
      "Epoch 72/150\n",
      "16/16 [==============================] - 0s 3ms/step - loss: 0.2602 - accuracy: 0.9259 - val_loss: 0.3716 - val_accuracy: 0.9508\n",
      "Epoch 73/150\n",
      "16/16 [==============================] - 0s 3ms/step - loss: 0.2581 - accuracy: 0.9300 - val_loss: 0.3083 - val_accuracy: 0.9508\n",
      "Epoch 74/150\n",
      "16/16 [==============================] - 0s 3ms/step - loss: 0.2553 - accuracy: 0.9218 - val_loss: 0.3183 - val_accuracy: 0.9508\n",
      "Epoch 75/150\n",
      "16/16 [==============================] - 0s 3ms/step - loss: 0.2516 - accuracy: 0.9259 - val_loss: 0.3137 - val_accuracy: 0.9508\n",
      "Epoch 76/150\n",
      "16/16 [==============================] - 0s 4ms/step - loss: 0.2491 - accuracy: 0.9239 - val_loss: 0.3160 - val_accuracy: 0.9508\n",
      "Epoch 77/150\n",
      "16/16 [==============================] - 0s 4ms/step - loss: 0.2473 - accuracy: 0.9300 - val_loss: 0.3043 - val_accuracy: 0.9508\n",
      "Epoch 78/150\n",
      "16/16 [==============================] - 0s 4ms/step - loss: 0.2437 - accuracy: 0.9259 - val_loss: 0.3648 - val_accuracy: 0.9508\n",
      "Epoch 79/150\n",
      "16/16 [==============================] - 0s 4ms/step - loss: 0.2429 - accuracy: 0.9342 - val_loss: 0.3174 - val_accuracy: 0.9508\n",
      "Epoch 80/150\n",
      "16/16 [==============================] - 0s 3ms/step - loss: 0.2387 - accuracy: 0.9321 - val_loss: 0.2917 - val_accuracy: 0.9508\n",
      "Epoch 81/150\n",
      "16/16 [==============================] - 0s 4ms/step - loss: 0.2365 - accuracy: 0.9280 - val_loss: 0.3069 - val_accuracy: 0.9508\n",
      "Epoch 82/150\n",
      "16/16 [==============================] - 0s 4ms/step - loss: 0.2337 - accuracy: 0.9342 - val_loss: 0.2737 - val_accuracy: 0.9508\n",
      "Epoch 83/150\n",
      "16/16 [==============================] - 0s 4ms/step - loss: 0.2319 - accuracy: 0.9321 - val_loss: 0.2534 - val_accuracy: 0.9508\n",
      "Epoch 84/150\n",
      "16/16 [==============================] - 0s 4ms/step - loss: 0.2294 - accuracy: 0.9259 - val_loss: 0.3021 - val_accuracy: 0.9508\n",
      "Epoch 85/150\n",
      "16/16 [==============================] - 0s 4ms/step - loss: 0.2266 - accuracy: 0.9362 - val_loss: 0.2921 - val_accuracy: 0.9508\n",
      "Epoch 86/150\n",
      "16/16 [==============================] - 0s 4ms/step - loss: 0.2243 - accuracy: 0.9342 - val_loss: 0.2968 - val_accuracy: 0.9508\n",
      "Epoch 87/150\n",
      "16/16 [==============================] - 0s 4ms/step - loss: 0.2215 - accuracy: 0.9362 - val_loss: 0.2921 - val_accuracy: 0.9508\n",
      "Epoch 88/150\n",
      "16/16 [==============================] - 0s 3ms/step - loss: 0.2190 - accuracy: 0.9362 - val_loss: 0.2956 - val_accuracy: 0.9508\n",
      "Epoch 89/150\n",
      "16/16 [==============================] - 0s 4ms/step - loss: 0.2170 - accuracy: 0.9362 - val_loss: 0.2875 - val_accuracy: 0.9508\n",
      "Epoch 90/150\n",
      "16/16 [==============================] - 0s 5ms/step - loss: 0.2148 - accuracy: 0.9362 - val_loss: 0.2957 - val_accuracy: 0.9508\n",
      "Epoch 91/150\n",
      "16/16 [==============================] - 0s 4ms/step - loss: 0.2126 - accuracy: 0.9383 - val_loss: 0.2669 - val_accuracy: 0.9508\n",
      "Epoch 92/150\n",
      "16/16 [==============================] - 0s 4ms/step - loss: 0.2099 - accuracy: 0.9362 - val_loss: 0.2716 - val_accuracy: 0.9508\n",
      "Epoch 93/150\n",
      "16/16 [==============================] - 0s 4ms/step - loss: 0.2070 - accuracy: 0.9362 - val_loss: 0.2774 - val_accuracy: 0.9508\n",
      "Epoch 94/150\n",
      "16/16 [==============================] - 0s 4ms/step - loss: 0.2051 - accuracy: 0.9424 - val_loss: 0.2568 - val_accuracy: 0.9508\n",
      "Epoch 95/150\n",
      "16/16 [==============================] - 0s 4ms/step - loss: 0.2030 - accuracy: 0.9383 - val_loss: 0.2454 - val_accuracy: 0.9508\n",
      "Epoch 96/150\n",
      "16/16 [==============================] - 0s 4ms/step - loss: 0.2008 - accuracy: 0.9362 - val_loss: 0.2403 - val_accuracy: 0.9508\n",
      "Epoch 97/150\n",
      "16/16 [==============================] - 0s 4ms/step - loss: 0.1988 - accuracy: 0.9383 - val_loss: 0.2769 - val_accuracy: 0.9508\n",
      "Epoch 98/150\n",
      "16/16 [==============================] - 0s 3ms/step - loss: 0.1967 - accuracy: 0.9444 - val_loss: 0.2425 - val_accuracy: 0.9508\n",
      "Epoch 99/150\n",
      "16/16 [==============================] - 0s 4ms/step - loss: 0.1944 - accuracy: 0.9424 - val_loss: 0.2496 - val_accuracy: 0.9508\n",
      "Epoch 100/150\n",
      "16/16 [==============================] - 0s 3ms/step - loss: 0.1921 - accuracy: 0.9424 - val_loss: 0.2403 - val_accuracy: 0.9508\n",
      "Epoch 101/150\n",
      "16/16 [==============================] - 0s 4ms/step - loss: 0.1905 - accuracy: 0.9424 - val_loss: 0.2485 - val_accuracy: 0.9508\n",
      "Epoch 102/150\n",
      "16/16 [==============================] - 0s 4ms/step - loss: 0.1885 - accuracy: 0.9444 - val_loss: 0.2158 - val_accuracy: 0.9672\n",
      "Epoch 103/150\n",
      "16/16 [==============================] - 0s 4ms/step - loss: 0.1865 - accuracy: 0.9444 - val_loss: 0.2080 - val_accuracy: 0.9672\n",
      "Epoch 104/150\n",
      "16/16 [==============================] - 0s 3ms/step - loss: 0.1846 - accuracy: 0.9465 - val_loss: 0.2154 - val_accuracy: 0.9672\n",
      "Epoch 105/150\n",
      "16/16 [==============================] - 0s 4ms/step - loss: 0.1818 - accuracy: 0.9444 - val_loss: 0.2099 - val_accuracy: 0.9672\n",
      "Epoch 106/150\n",
      "16/16 [==============================] - 0s 4ms/step - loss: 0.1803 - accuracy: 0.9506 - val_loss: 0.2157 - val_accuracy: 0.9672\n",
      "Epoch 107/150\n",
      "16/16 [==============================] - 0s 4ms/step - loss: 0.1782 - accuracy: 0.9444 - val_loss: 0.2194 - val_accuracy: 0.9672\n",
      "Epoch 108/150\n",
      "16/16 [==============================] - 0s 4ms/step - loss: 0.1764 - accuracy: 0.9486 - val_loss: 0.2136 - val_accuracy: 0.9672\n",
      "Epoch 109/150\n",
      "16/16 [==============================] - 0s 3ms/step - loss: 0.1747 - accuracy: 0.9486 - val_loss: 0.2398 - val_accuracy: 0.9508\n",
      "Epoch 110/150\n",
      "16/16 [==============================] - 0s 4ms/step - loss: 0.1726 - accuracy: 0.9444 - val_loss: 0.2104 - val_accuracy: 0.9672\n",
      "Epoch 111/150\n",
      "16/16 [==============================] - 0s 4ms/step - loss: 0.1709 - accuracy: 0.9506 - val_loss: 0.1946 - val_accuracy: 0.9672\n",
      "Epoch 112/150\n",
      "16/16 [==============================] - 0s 3ms/step - loss: 0.1696 - accuracy: 0.9506 - val_loss: 0.2065 - val_accuracy: 0.9672\n",
      "Epoch 113/150\n",
      "16/16 [==============================] - 0s 4ms/step - loss: 0.1671 - accuracy: 0.9506 - val_loss: 0.2134 - val_accuracy: 0.9672\n",
      "Epoch 114/150\n",
      "16/16 [==============================] - 0s 4ms/step - loss: 0.1660 - accuracy: 0.9527 - val_loss: 0.2309 - val_accuracy: 0.9508\n",
      "Epoch 115/150\n",
      "16/16 [==============================] - 0s 4ms/step - loss: 0.1640 - accuracy: 0.9527 - val_loss: 0.1920 - val_accuracy: 0.9672\n",
      "Epoch 116/150\n"
     ]
    },
    {
     "name": "stdout",
     "output_type": "stream",
     "text": [
      "16/16 [==============================] - 0s 4ms/step - loss: 0.1626 - accuracy: 0.9527 - val_loss: 0.2169 - val_accuracy: 0.9672\n",
      "Epoch 117/150\n",
      "16/16 [==============================] - 0s 4ms/step - loss: 0.1602 - accuracy: 0.9568 - val_loss: 0.1890 - val_accuracy: 0.9672\n",
      "Epoch 118/150\n",
      "16/16 [==============================] - 0s 4ms/step - loss: 0.1586 - accuracy: 0.9568 - val_loss: 0.1893 - val_accuracy: 0.9672\n",
      "Epoch 119/150\n",
      "16/16 [==============================] - 0s 4ms/step - loss: 0.1572 - accuracy: 0.9547 - val_loss: 0.1833 - val_accuracy: 0.9672\n",
      "Epoch 120/150\n",
      "16/16 [==============================] - 0s 4ms/step - loss: 0.1555 - accuracy: 0.9547 - val_loss: 0.1961 - val_accuracy: 0.9672\n",
      "Epoch 121/150\n",
      "16/16 [==============================] - 0s 4ms/step - loss: 0.1534 - accuracy: 0.9568 - val_loss: 0.1913 - val_accuracy: 0.9672\n",
      "Epoch 122/150\n",
      "16/16 [==============================] - 0s 4ms/step - loss: 0.1522 - accuracy: 0.9568 - val_loss: 0.1717 - val_accuracy: 0.9672\n",
      "Epoch 123/150\n",
      "16/16 [==============================] - 0s 3ms/step - loss: 0.1509 - accuracy: 0.9568 - val_loss: 0.1757 - val_accuracy: 0.9672\n",
      "Epoch 124/150\n",
      "16/16 [==============================] - 0s 4ms/step - loss: 0.1489 - accuracy: 0.9609 - val_loss: 0.1772 - val_accuracy: 0.9672\n",
      "Epoch 125/150\n",
      "16/16 [==============================] - 0s 4ms/step - loss: 0.1473 - accuracy: 0.9588 - val_loss: 0.1731 - val_accuracy: 0.9672\n",
      "Epoch 126/150\n",
      "16/16 [==============================] - 0s 4ms/step - loss: 0.1458 - accuracy: 0.9609 - val_loss: 0.1696 - val_accuracy: 1.0000\n",
      "Epoch 127/150\n",
      "16/16 [==============================] - 0s 3ms/step - loss: 0.1450 - accuracy: 0.9609 - val_loss: 0.1823 - val_accuracy: 0.9672\n",
      "Epoch 128/150\n",
      "16/16 [==============================] - 0s 4ms/step - loss: 0.1429 - accuracy: 0.9588 - val_loss: 0.1576 - val_accuracy: 1.0000\n",
      "Epoch 129/150\n",
      "16/16 [==============================] - 0s 3ms/step - loss: 0.1419 - accuracy: 0.9671 - val_loss: 0.1918 - val_accuracy: 0.9672\n",
      "Epoch 130/150\n",
      "16/16 [==============================] - 0s 4ms/step - loss: 0.1407 - accuracy: 0.9609 - val_loss: 0.1982 - val_accuracy: 0.9672\n",
      "Epoch 131/150\n",
      "16/16 [==============================] - 0s 4ms/step - loss: 0.1391 - accuracy: 0.9650 - val_loss: 0.1726 - val_accuracy: 1.0000\n",
      "Epoch 132/150\n",
      "16/16 [==============================] - 0s 3ms/step - loss: 0.1368 - accuracy: 0.9671 - val_loss: 0.1558 - val_accuracy: 1.0000\n",
      "Epoch 133/150\n",
      "16/16 [==============================] - 0s 4ms/step - loss: 0.1362 - accuracy: 0.9671 - val_loss: 0.1608 - val_accuracy: 1.0000\n",
      "Epoch 134/150\n",
      "16/16 [==============================] - 0s 4ms/step - loss: 0.1347 - accuracy: 0.9671 - val_loss: 0.1724 - val_accuracy: 1.0000\n",
      "Epoch 135/150\n",
      "16/16 [==============================] - 0s 4ms/step - loss: 0.1328 - accuracy: 0.9671 - val_loss: 0.1552 - val_accuracy: 1.0000\n",
      "Epoch 136/150\n",
      "16/16 [==============================] - 0s 4ms/step - loss: 0.1318 - accuracy: 0.9691 - val_loss: 0.1615 - val_accuracy: 1.0000\n",
      "Epoch 137/150\n",
      "16/16 [==============================] - 0s 4ms/step - loss: 0.1302 - accuracy: 0.9691 - val_loss: 0.1488 - val_accuracy: 1.0000\n",
      "Epoch 138/150\n",
      "16/16 [==============================] - 0s 4ms/step - loss: 0.1292 - accuracy: 0.9671 - val_loss: 0.1454 - val_accuracy: 1.0000\n",
      "Epoch 139/150\n",
      "16/16 [==============================] - 0s 3ms/step - loss: 0.1277 - accuracy: 0.9671 - val_loss: 0.1577 - val_accuracy: 1.0000\n",
      "Epoch 140/150\n",
      "16/16 [==============================] - 0s 4ms/step - loss: 0.1263 - accuracy: 0.9671 - val_loss: 0.1674 - val_accuracy: 1.0000\n",
      "Epoch 141/150\n",
      "16/16 [==============================] - 0s 4ms/step - loss: 0.1263 - accuracy: 0.9712 - val_loss: 0.1617 - val_accuracy: 1.0000\n",
      "Epoch 142/150\n",
      "16/16 [==============================] - 0s 3ms/step - loss: 0.1244 - accuracy: 0.9712 - val_loss: 0.1406 - val_accuracy: 1.0000\n",
      "Epoch 143/150\n",
      "16/16 [==============================] - 0s 4ms/step - loss: 0.1226 - accuracy: 0.9671 - val_loss: 0.1490 - val_accuracy: 1.0000\n",
      "Epoch 144/150\n",
      "16/16 [==============================] - 0s 4ms/step - loss: 0.1214 - accuracy: 0.9671 - val_loss: 0.1603 - val_accuracy: 1.0000\n",
      "Epoch 145/150\n",
      "16/16 [==============================] - 0s 4ms/step - loss: 0.1204 - accuracy: 0.9712 - val_loss: 0.1390 - val_accuracy: 1.0000\n",
      "Epoch 146/150\n",
      "16/16 [==============================] - 0s 4ms/step - loss: 0.1193 - accuracy: 0.9671 - val_loss: 0.1249 - val_accuracy: 1.0000\n",
      "Epoch 147/150\n",
      "16/16 [==============================] - 0s 4ms/step - loss: 0.1175 - accuracy: 0.9671 - val_loss: 0.1426 - val_accuracy: 1.0000\n",
      "Epoch 148/150\n",
      "16/16 [==============================] - 0s 4ms/step - loss: 0.1166 - accuracy: 0.9712 - val_loss: 0.1323 - val_accuracy: 1.0000\n",
      "Epoch 149/150\n",
      "16/16 [==============================] - 0s 3ms/step - loss: 0.1157 - accuracy: 0.9671 - val_loss: 0.1773 - val_accuracy: 1.0000\n",
      "Epoch 150/150\n",
      "16/16 [==============================] - 0s 4ms/step - loss: 0.1150 - accuracy: 0.9774 - val_loss: 0.1259 - val_accuracy: 1.0000\n"
     ]
    }
   ],
   "source": [
    "# history = model.fit(X_treino, y_treino, epochs=150, validation_split=0.2, callbacks=[early_stopping_cb])\n",
    "history = model.fit(X_treino, y_treino, epochs=150, validation_split=0.2)"
   ]
  },
  {
   "cell_type": "markdown",
   "id": "9efbb3db",
   "metadata": {
    "id": "9efbb3db"
   },
   "source": [
    "#### Avaliação da evolução do treinamento"
   ]
  },
  {
   "cell_type": "code",
   "execution_count": 290,
   "id": "1369c7b4",
   "metadata": {
    "colab": {
     "base_uri": "https://localhost:8080/",
     "height": 378
    },
    "id": "1369c7b4",
    "outputId": "b852eada-c605-41c1-933d-40aaf5c09277"
   },
   "outputs": [
    {
     "data": {
      "image/png": "[encoded data removed]",
      "text/plain": [
       "<Figure size 720x432 with 1 Axes>"
      ]
     },
     "metadata": {},
     "output_type": "display_data"
    }
   ],
   "source": [
    "pd.DataFrame(history.history).plot(figsize=(10,6))\n",
    "plt.grid(True)\n",
    "plt.gca().set_ylim(0,1)\n",
    "plt.show()"
   ]
  },
  {
   "cell_type": "markdown",
   "id": "7b88d149",
   "metadata": {
    "id": "7b88d149"
   },
   "source": [
    "#### Avaliação do desempenho do modelo treinado"
   ]
  },
  {
   "cell_type": "code",
   "execution_count": 291,
   "id": "ed960dfb",
   "metadata": {
    "id": "ed960dfb"
   },
   "outputs": [
    {
     "name": "stdout",
     "output_type": "stream",
     "text": [
      "3/3 [==============================] - 0s 6ms/step\n"
     ]
    }
   ],
   "source": [
    "y_previsto_rna_proba = model.predict(X_teste)"
   ]
  },
  {
   "cell_type": "code",
   "execution_count": 292,
   "id": "050417d0",
   "metadata": {
    "colab": {
     "base_uri": "https://localhost:8080/"
    },
    "id": "050417d0",
    "outputId": "1f9b74e6-a708-47ee-ab2b-92df38970768"
   },
   "outputs": [
    {
     "data": {
      "text/plain": [
       "array([[1.  , 0.  ],\n",
       "       [0.89, 0.11],\n",
       "       [0.84, 0.16],\n",
       "       [0.78, 0.22],\n",
       "       [0.28, 0.72],\n",
       "       [0.96, 0.04],\n",
       "       [1.  , 0.  ],\n",
       "       [0.68, 0.32],\n",
       "       [0.63, 0.37],\n",
       "       [0.99, 0.01],\n",
       "       [1.  , 0.  ],\n",
       "       [0.97, 0.03],\n",
       "       [0.99, 0.01],\n",
       "       [1.  , 0.  ],\n",
       "       [1.  , 0.  ],\n",
       "       [0.8 , 0.2 ],\n",
       "       [1.  , 0.  ],\n",
       "       [0.22, 0.78],\n",
       "       [1.  , 0.  ],\n",
       "       [0.63, 0.37],\n",
       "       [0.85, 0.15],\n",
       "       [0.94, 0.06],\n",
       "       [0.94, 0.06],\n",
       "       [1.  , 0.  ],\n",
       "       [1.  , 0.  ],\n",
       "       [1.  , 0.  ],\n",
       "       [0.9 , 0.1 ],\n",
       "       [1.  , 0.  ],\n",
       "       [0.93, 0.07],\n",
       "       [0.91, 0.09],\n",
       "       [0.99, 0.01],\n",
       "       [0.84, 0.16],\n",
       "       [0.39, 0.61],\n",
       "       [1.  , 0.  ],\n",
       "       [1.  , 0.  ],\n",
       "       [0.97, 0.03],\n",
       "       [1.  , 0.  ],\n",
       "       [0.86, 0.14],\n",
       "       [0.06, 0.94],\n",
       "       [0.94, 0.06],\n",
       "       [0.52, 0.48],\n",
       "       [0.94, 0.06],\n",
       "       [0.91, 0.09],\n",
       "       [0.88, 0.12],\n",
       "       [1.  , 0.  ],\n",
       "       [1.  , 0.  ],\n",
       "       [1.  , 0.  ],\n",
       "       [1.  , 0.  ],\n",
       "       [1.  , 0.  ],\n",
       "       [0.75, 0.25],\n",
       "       [0.99, 0.01],\n",
       "       [1.  , 0.  ],\n",
       "       [0.94, 0.06],\n",
       "       [1.  , 0.  ],\n",
       "       [0.58, 0.42],\n",
       "       [1.  , 0.  ],\n",
       "       [0.98, 0.02],\n",
       "       [0.84, 0.16],\n",
       "       [1.  , 0.  ],\n",
       "       [1.  , 0.  ],\n",
       "       [0.9 , 0.1 ],\n",
       "       [1.  , 0.  ],\n",
       "       [0.81, 0.19],\n",
       "       [1.  , 0.  ],\n",
       "       [1.  , 0.  ],\n",
       "       [1.  , 0.  ],\n",
       "       [1.  , 0.  ],\n",
       "       [1.  , 0.  ],\n",
       "       [0.62, 0.38],\n",
       "       [0.65, 0.35],\n",
       "       [0.99, 0.01],\n",
       "       [1.  , 0.  ],\n",
       "       [0.54, 0.46],\n",
       "       [1.  , 0.  ],\n",
       "       [1.  , 0.  ],\n",
       "       [1.  , 0.  ],\n",
       "       [1.  , 0.  ],\n",
       "       [0.24, 0.76],\n",
       "       [1.  , 0.  ],\n",
       "       [0.96, 0.04],\n",
       "       [1.  , 0.  ],\n",
       "       [0.99, 0.01],\n",
       "       [0.88, 0.12],\n",
       "       [1.  , 0.  ],\n",
       "       [0.03, 0.97],\n",
       "       [0.29, 0.71]], dtype=float32)"
      ]
     },
     "execution_count": 292,
     "metadata": {},
     "output_type": "execute_result"
    }
   ],
   "source": [
    "np.round(y_previsto_rna_proba,decimals=2)"
   ]
  },
  {
   "cell_type": "code",
   "execution_count": 293,
   "id": "473bb2ae",
   "metadata": {},
   "outputs": [
    {
     "name": "stdout",
     "output_type": "stream",
     "text": [
      "3/3 [==============================] - 0s 0s/step\n",
      "[[9.99088645e-01 9.11377720e-04]\n",
      " [8.91082883e-01 1.08917087e-01]\n",
      " [8.44500721e-01 1.55499265e-01]\n",
      " [7.84250617e-01 2.15749443e-01]\n",
      " [2.75430769e-01 7.24569201e-01]\n",
      " [9.64745760e-01 3.52542102e-02]\n",
      " [9.99730289e-01 2.69675249e-04]\n",
      " [6.79112554e-01 3.20887446e-01]\n",
      " [6.32986784e-01 3.67013246e-01]\n",
      " [9.91151392e-01 8.84853024e-03]\n",
      " [9.99858022e-01 1.41941317e-04]\n",
      " [9.68719840e-01 3.12801749e-02]\n",
      " [9.93768692e-01 6.23138342e-03]\n",
      " [9.99137640e-01 8.62287648e-04]\n",
      " [9.99732554e-01 2.67375959e-04]\n",
      " [7.97733843e-01 2.02266097e-01]\n",
      " [9.97903228e-01 2.09672167e-03]\n",
      " [2.22855315e-01 7.77144730e-01]\n",
      " [9.98550355e-01 1.44961791e-03]\n",
      " [6.34831071e-01 3.65168959e-01]\n",
      " [8.50385368e-01 1.49614587e-01]\n",
      " [9.42288637e-01 5.77112995e-02]\n",
      " [9.42988276e-01 5.70116900e-02]\n",
      " [9.99977469e-01 2.25078074e-05]\n",
      " [9.99729574e-01 2.70417280e-04]\n",
      " [9.99259412e-01 7.40550808e-04]\n",
      " [8.95806015e-01 1.04193933e-01]\n",
      " [9.98670220e-01 1.32977846e-03]\n",
      " [9.30928111e-01 6.90719560e-02]\n",
      " [9.07405555e-01 9.25943777e-02]\n",
      " [9.86833394e-01 1.31666083e-02]\n",
      " [8.42781067e-01 1.57218874e-01]\n",
      " [3.89075518e-01 6.10924482e-01]\n",
      " [9.96008992e-01 3.99101153e-03]\n",
      " [9.99503970e-01 4.95971588e-04]\n",
      " [9.68657613e-01 3.13424282e-02]\n",
      " [9.99658823e-01 3.41164268e-04]\n",
      " [8.58832240e-01 1.41167775e-01]\n",
      " [5.51476702e-02 9.44852352e-01]\n",
      " [9.39611077e-01 6.03888929e-02]\n",
      " [5.16345918e-01 4.83654112e-01]\n",
      " [9.44154859e-01 5.58452047e-02]\n",
      " [9.10771191e-01 8.92288387e-02]\n",
      " [8.81927252e-01 1.18072763e-01]\n",
      " [9.96321797e-01 3.67827155e-03]\n",
      " [9.99886274e-01 1.13673610e-04]\n",
      " [9.97093797e-01 2.90618371e-03]\n",
      " [9.99759376e-01 2.40606387e-04]\n",
      " [9.96708870e-01 3.29106417e-03]\n",
      " [7.47590363e-01 2.52409667e-01]\n",
      " [9.90995109e-01 9.00492258e-03]\n",
      " [9.99545991e-01 4.54037130e-04]\n",
      " [9.37865973e-01 6.21340163e-02]\n",
      " [9.99739945e-01 2.60085508e-04]\n",
      " [5.77879071e-01 4.22120988e-01]\n",
      " [9.98982131e-01 1.01788691e-03]\n",
      " [9.83801663e-01 1.61983818e-02]\n",
      " [8.38113725e-01 1.61886320e-01]\n",
      " [9.99922156e-01 7.78036410e-05]\n",
      " [9.99966741e-01 3.32572381e-05]\n",
      " [8.95628154e-01 1.04371861e-01]\n",
      " [9.97343957e-01 2.65605911e-03]\n",
      " [8.05632949e-01 1.94367066e-01]\n",
      " [9.97768402e-01 2.23158533e-03]\n",
      " [9.99554098e-01 4.45937971e-04]\n",
      " [9.99804556e-01 1.95416651e-04]\n",
      " [9.98467624e-01 1.53238804e-03]\n",
      " [9.97738361e-01 2.26160907e-03]\n",
      " [6.23278141e-01 3.76721889e-01]\n",
      " [6.51724160e-01 3.48275870e-01]\n",
      " [9.93757606e-01 6.24241587e-03]\n",
      " [9.99933958e-01 6.60508813e-05]\n",
      " [5.36899209e-01 4.63100731e-01]\n",
      " [9.99315023e-01 6.85031933e-04]\n",
      " [9.96940792e-01 3.05916741e-03]\n",
      " [9.99575317e-01 4.24731144e-04]\n",
      " [9.99628186e-01 3.71799193e-04]\n",
      " [2.36210153e-01 7.63789892e-01]\n",
      " [9.95715201e-01 4.28481726e-03]\n",
      " [9.58894134e-01 4.11058962e-02]\n",
      " [9.98391449e-01 1.60850550e-03]\n",
      " [9.94946182e-01 5.05387364e-03]\n",
      " [8.83700848e-01 1.16299175e-01]\n",
      " [9.99478281e-01 5.21722541e-04]\n",
      " [2.65998058e-02 9.73400176e-01]\n",
      " [2.89738953e-01 7.10261047e-01]]\n",
      "[False False False False False False False False  True False False False\n",
      " False False False False False False False False False False False False\n",
      " False False  True False False  True False False False False False False\n",
      " False False False False False False False False False False False  True\n",
      " False False False False False False False False False False False False\n",
      " False False False False False False False False False  True  True False\n",
      "  True False False False False False False False False False  True False\n",
      " False False]\n",
      "[False, False, False, False, True, False, False, False, False, False, False, False, False, False, False, False, False, True, False, False, False, False, False, False, False, False, False, False, False, False, False, False, True, False, False, False, False, False, True, False, False, False, False, False, False, False, False, False, False, False, False, False, False, False, False, False, False, False, False, False, False, False, False, False, False, False, False, False, False, False, False, False, False, False, False, False, False, True, False, False, False, False, False, False, True, True]\n"
     ]
    },
    {
     "data": {
      "text/plain": [
       "(array([0.89873418, 0.        ]),\n",
       " array([0.91025641, 0.        ]),\n",
       " array([0.9044586, 0.       ]),\n",
       " array([78,  8], dtype=int64))"
      ]
     },
     "execution_count": 293,
     "metadata": {},
     "output_type": "execute_result"
    }
   ],
   "source": [
    "y_previsto_rna_proba = model.predict(X_teste)\n",
    "print(y_previsto_rna_proba)\n",
    "print(y_teste)\n",
    "y_prev = [False] * len(y_previsto_rna_proba)\n",
    "for i in range(len(y_previsto_rna_proba)):\n",
    "  y_prev[i] = y_previsto_rna_proba[i][0]<y_previsto_rna_proba[i][1]\n",
    "print(y_prev)\n",
    "from sklearn.metrics import precision_recall_fscore_support\n",
    "precision_recall_fscore_support(y_teste, y_prev)"
   ]
  },
  {
   "cell_type": "code",
   "execution_count": 294,
   "id": "mozICcYboLCj",
   "metadata": {
    "colab": {
     "base_uri": "https://localhost:8080/"
    },
    "id": "mozICcYboLCj",
    "outputId": "fa545fa2-4b5a-45f8-90a5-65fec9e198d4"
   },
   "outputs": [
    {
     "name": "stdout",
     "output_type": "stream",
     "text": [
      "Acurácia:  0.8372093023255814\n",
      "Precisão:  0.2\n",
      "Recall:    0.25\n",
      "F1 Score:  0.22222222222222224\n"
     ]
    }
   ],
   "source": [
    "# Treinamento de uma árvore de decisão com sua indução restrita a 10 níveis\n",
    "\n",
    "from sklearn.tree import DecisionTreeClassifier\n",
    "from sklearn.metrics import accuracy_score, precision_score, recall_score, f1_score\n",
    "\n",
    "tree_clf = DecisionTreeClassifier(max_depth=10)\n",
    "tree_clf.fit(X_treino, y_treino)\n",
    "\n",
    "y_pred = tree_clf.predict(X_teste)\n",
    "\n",
    "print(\"Acurácia: \", accuracy_score(y_teste,y_pred))\n",
    "print(\"Precisão: \", precision_score(y_teste,y_pred))\n",
    "print(\"Recall:   \", recall_score(y_teste,y_pred))\n",
    "print(\"F1 Score: \", f1_score(y_teste,y_pred))"
   ]
  },
  {
   "cell_type": "code",
   "execution_count": 295,
   "id": "b387a828",
   "metadata": {},
   "outputs": [
    {
     "name": "stdout",
     "output_type": "stream",
     "text": [
      "MLP:\n",
      "Acurácia:  0.8372093023255814\n",
      "Precisão:  0.25\n",
      "Recall:    0.375\n",
      "F1 Score:  0.3\n"
     ]
    },
    {
     "name": "stderr",
     "output_type": "stream",
     "text": [
      "C:\\Users\\Dante\\anaconda3\\lib\\site-packages\\sklearn\\neural_network\\_multilayer_perceptron.py:702: ConvergenceWarning: Stochastic Optimizer: Maximum iterations (200) reached and the optimization hasn't converged yet.\n",
      "  warnings.warn(\n"
     ]
    }
   ],
   "source": [
    "# Treinamento de uma RNA tipo Multi-Layer Perceptron\n",
    "from sklearn.neural_network import MLPClassifier\n",
    "\n",
    "mlp_clf = MLPClassifier(hidden_layer_sizes=(18,2))\n",
    "mlp_clf.fit(X_treino, y_treino)\n",
    "y_previsto = mlp_clf.predict(X_teste)\n",
    "print(\"MLP:\")\n",
    "print(\"Acurácia: \", accuracy_score(y_teste,y_previsto))\n",
    "print(\"Precisão: \", precision_score(y_teste,y_previsto))\n",
    "print(\"Recall:   \", recall_score(y_teste,y_previsto))\n",
    "print(\"F1 Score: \", f1_score(y_teste,y_previsto))"
   ]
  },
  {
   "cell_type": "code",
   "execution_count": null,
   "id": "eb114273",
   "metadata": {},
   "outputs": [],
   "source": [
    "# Regressão logística\n",
    "from sklearn.linear_model import LogisticRegression\n",
    "\n",
    "log_reg = LogisticRegression()\n",
    "log_reg.fit(X_treino, y_treino)\n",
    "\n",
    "y_previsto = log_reg.predict(X_teste)\n",
    "\n",
    "print(\"Acurácia: \", accuracy_score(y_teste,y_previsto))\n",
    "print(\"Precisão: \", precision_score(y_teste,y_previsto))\n",
    "print(\"Recall:   \", recall_score(y_teste,y_previsto))\n",
    "print(\"F1 Score: \", f1_score(y_teste,y_previsto))"
   ]
  }
 ],
 "metadata": {
  "colab": {
   "collapsed_sections": [
    "63ffe010"
   ],
   "include_colab_link": true,
   "provenance": []
  },
  "kernelspec": {
   "display_name": "Python 3 (ipykernel)",
   "language": "python",
   "name": "python3"
  },
  "language_info": {
   "codemirror_mode": {
    "name": "ipython",
    "version": 3
   },
   "file_extension": ".py",
   "mimetype": "text/x-python",
   "name": "python",
   "nbconvert_exporter": "python",
   "pygments_lexer": "ipython3",
   "version": "3.9.12"
  }
 },
 "nbformat": 4,
 "nbformat_minor": 5
}
