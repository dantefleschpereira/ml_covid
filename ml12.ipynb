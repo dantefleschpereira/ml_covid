{
  "cells": [
    {
      "cell_type": "markdown",
      "metadata": {
        "id": "view-in-github",
        "colab_type": "text"
      },
      "source": [
        "<a href=\"https://colab.research.google.com/github/dantefleschpereira/ml_covid/blob/main/ml12.ipynb\" target=\"_parent\"><img src=\"https://colab.research.google.com/assets/colab-badge.svg\" alt=\"Open In Colab\"/></a>"
      ]
    },
    {
      "cell_type": "code",
      "execution_count": 329,
      "id": "0a3204d1",
      "metadata": {
        "id": "0a3204d1"
      },
      "outputs": [],
      "source": [
        "import numpy as np\n",
        "import pandas as pd\n",
        "import matplotlib.pyplot as plt\n",
        "from sklearn.preprocessing import OrdinalEncoder\n",
        "pd.set_option('display.max_columns', None)\n",
        "\n",
        "import seaborn as sns\n",
        "from sklearn.metrics import classification_report\n",
        "from sklearn.model_selection import train_test_split\n",
        "from sklearn.metrics import roc_auc_score, roc_curve, accuracy_score\n",
        "from imblearn.under_sampling import RandomUnderSampler"
      ]
    },
    {
      "cell_type": "markdown",
      "id": "cb29bc7e",
      "metadata": {
        "id": "cb29bc7e"
      },
      "source": [
        "#### Análise Exploratória de Dados"
      ]
    },
    {
      "cell_type": "code",
      "execution_count": 330,
      "id": "a167525e",
      "metadata": {
        "id": "a167525e"
      },
      "outputs": [],
      "source": [
        "df = pd.read_excel('dataset_obito.xlsx')"
      ]
    },
    {
      "cell_type": "code",
      "execution_count": 331,
      "id": "ff87e261",
      "metadata": {
        "colab": {
          "base_uri": "https://localhost:8080/",
          "height": 757
        },
        "id": "ff87e261",
        "outputId": "96beda28-2835-4204-d5d6-2b933097183a"
      },
      "outputs": [
        {
          "output_type": "execute_result",
          "data": {
            "text/plain": [
              "    idade sexo    raca tagabismo comorbidade1 comorbidade2 comorbidade3  \\\n",
              "0      41    M  branca       nao      nenhuma      nenhuma       nenhum   \n",
              "1      77    F  branca       sim          HAS      nenhuma       nenhum   \n",
              "2      67    M  branca    previo          HAS           DM       nenhum   \n",
              "3      51    M  branca       nao          HAS     renal-hd       nenhum   \n",
              "4      51    M  branca       nao          HAS     renal-hd       nenhum   \n",
              "5      64    F  branca       nao          HAS      nenhuma       nenhum   \n",
              "6      38    M   preta       nao     renal-hd      nenhuma       nenhum   \n",
              "7      37    M  branca       sim          HIV   oncologico       nenhum   \n",
              "8      82    F  branca       nao          HAS   oncologico       nenhum   \n",
              "9      45    M  branca       nao      nenhuma      nenhuma       nenhum   \n",
              "10     63    M  branca    previo          HAS           DM   oncologica   \n",
              "11     79    M   preta       nao          HAS      nenhuma       nenhum   \n",
              "12     79    M  branca       nao          HAS      nenhuma       nenhum   \n",
              "13     52    F   preta       nao           DM      nenhuma       nenhum   \n",
              "14     30    M   preta       sim          HIV      nenhuma       nenhum   \n",
              "\n",
              "   comorbidade4 trombo_na_internacao  desfecho  \\\n",
              "0        nenhum               nenhum         0   \n",
              "1        nenhum               nenhum         0   \n",
              "2        nenhum               nenhum         0   \n",
              "3        nenhum               nenhum         0   \n",
              "4        nenhum               nenhum         0   \n",
              "5        nenhum               nenhum         0   \n",
              "6        nenhum               nenhum         0   \n",
              "7        nenhum                  TVP         0   \n",
              "8        nenhum               nenhum         1   \n",
              "9        nenhum                ambos         0   \n",
              "10       nenhum               nenhum         0   \n",
              "11       nenhum               nenhum         0   \n",
              "12       nenhum               nenhum         1   \n",
              "13       nenhum                  TEP         0   \n",
              "14       nenhum               nenhum         0   \n",
              "\n",
              "                anti-inflamatorio1    anti-inflamatorio2 anti-inflamatorio3  \\\n",
              "0                           nenhum                nenhum             nenhum   \n",
              "1             hidrocortisona 100mg       prednisona 20mg             nenhum   \n",
              "2                           nenhum                nenhum             nenhum   \n",
              "3                  prednisona 20mg                nenhum             nenhum   \n",
              "4   denenhumametasona 4mg/mL 2,5mL  hidrocortisona 100mg    prednisona 20mg   \n",
              "5                           nenhum                nenhum             nenhum   \n",
              "6             hidrocortisona 100mg       prednisona 20mg             nenhum   \n",
              "7                    tiamina 300mg  piridonenhumina 40mg             nenhum   \n",
              "8                           nenhum                nenhum             nenhum   \n",
              "9                           nenhum                nenhum             nenhum   \n",
              "10                 prednisona 20mg                nenhum             nenhum   \n",
              "11                          nenhum                nenhum             nenhum   \n",
              "12  denenhumametasona 4mg/mL 2,5mL                nenhum             nenhum   \n",
              "13                          nenhum                nenhum             nenhum   \n",
              "14            piridonenhumina 40mg                nenhum             nenhum   \n",
              "\n",
              "   anti-inflamatorio_previo        profilaxia_de_trombo1  \\\n",
              "0                       Nao       heparina 5000UI/0,25mL   \n",
              "1                       Nao  enonenhumaparina 40mg/0,4mL   \n",
              "2                       Nao       heparina 5000UI/0,25mL   \n",
              "3                       Sim                       nenhum   \n",
              "4                       Nao                       nenhum   \n",
              "5                       Nao       heparina 5000UI/0,25mL   \n",
              "6                       Sim       heparina 5000UI/0,25mL   \n",
              "7                       Nao  enonenhumaparina 40mg/0,4mL   \n",
              "8                       Nao  enonenhumaparina 40mg/0,4mL   \n",
              "9                       Nao  enonenhumaparina 40mg/0,4mL   \n",
              "10                      Sim       heparina 5000UI/0,25mL   \n",
              "11                      Nao       heparina 5000UI/0,25mL   \n",
              "12                      Nao       heparina 5000UI/0,25mL   \n",
              "13                      Nao       heparina 5000UI/0,25mL   \n",
              "14                      Sim                       nenhum   \n",
              "\n",
              "          profilaxia_de_trombo2 anticoagulante_previo antibiotico1  \\\n",
              "0                        nenhum                   Sim          NaN   \n",
              "1                        nenhum                   Sim          NaN   \n",
              "2                        nenhum                   Sim          NaN   \n",
              "3                        nenhum                   Nao          NaN   \n",
              "4                        nenhum                   Nao          NaN   \n",
              "5                        nenhum                   Sim          NaN   \n",
              "6                        nenhum                   Nao          NaN   \n",
              "7                        nenhum                   Sim          NaN   \n",
              "8                        nenhum                   Sim          NaN   \n",
              "9   enonenhumaparina 60mg/0,6mL                   Sim          NaN   \n",
              "10                       nenhum                   Sim          NaN   \n",
              "11                       nenhum                   Sim          NaN   \n",
              "12                       nenhum                   Nao          NaN   \n",
              "13                       nenhum                   Sim          NaN   \n",
              "14                       nenhum                   Nao          NaN   \n",
              "\n",
              "   antibiotico2  proteina c (mg/dl)  ferritina (ng/ml)  leucócitos ( /ul)  \\\n",
              "0           NaN                 8.0                  0               4830   \n",
              "1           NaN                14.7                  0               5280   \n",
              "2           NaN                 0.0                  0               8650   \n",
              "3           NaN                 6.2                  0               9590   \n",
              "4           NaN                32.0                  0               4230   \n",
              "5           NaN                 4.1               1530               6430   \n",
              "6           NaN                19.3               2380               1260   \n",
              "7           NaN                 4.8                  0               4410   \n",
              "8           NaN                 0.0                  0                  0   \n",
              "9           NaN                17.2                366               2790   \n",
              "10          NaN                 8.8                  0               4480   \n",
              "11          NaN                 0.0                  0              11150   \n",
              "12          NaN                21.1                  0              10260   \n",
              "13          NaN                 2.1                  0               4510   \n",
              "14          NaN                 5.1                  0               2560   \n",
              "\n",
              "    creatinina (mg/dl)  ureia(mg/dl)  d-dimeros (ng/ml) reinfeccao  sintomas  \n",
              "0                 0.76          36.0                  0        nao      leve  \n",
              "1                 0.82          31.0                  0        nao  assintom  \n",
              "2                 0.72           0.0                  0        nao      leve  \n",
              "3                 0.00         142.0                  0        nao      leve  \n",
              "4                15.40         158.0               1535        sim  assintom  \n",
              "5                 1.00          52.0                  0        nao      leve  \n",
              "6                 7.35         191.0               1021        nao      leve  \n",
              "7                 0.68          31.0                437        nao      leve  \n",
              "8                 0.00           0.0                  0        nao  assintom  \n",
              "9                 1.08          22.0                  0        nao      leve  \n",
              "10                1.33          61.0               3760        nao     grave  \n",
              "11                0.89          53.0                  0        nao  assintom  \n",
              "12                1.09          62.0               1657        sim  moderado  \n",
              "13                1.12          22.0               2466        nao      leve  \n",
              "14                1.09          22.0                  0        sim      leve  "
            ],
            "text/html": [
              "\n",
              "  <div id=\"df-473c61a9-ff53-4ff5-a7ec-97ff265214f7\">\n",
              "    <div class=\"colab-df-container\">\n",
              "      <div>\n",
              "<style scoped>\n",
              "    .dataframe tbody tr th:only-of-type {\n",
              "        vertical-align: middle;\n",
              "    }\n",
              "\n",
              "    .dataframe tbody tr th {\n",
              "        vertical-align: top;\n",
              "    }\n",
              "\n",
              "    .dataframe thead th {\n",
              "        text-align: right;\n",
              "    }\n",
              "</style>\n",
              "<table border=\"1\" class=\"dataframe\">\n",
              "  <thead>\n",
              "    <tr style=\"text-align: right;\">\n",
              "      <th></th>\n",
              "      <th>idade</th>\n",
              "      <th>sexo</th>\n",
              "      <th>raca</th>\n",
              "      <th>tagabismo</th>\n",
              "      <th>comorbidade1</th>\n",
              "      <th>comorbidade2</th>\n",
              "      <th>comorbidade3</th>\n",
              "      <th>comorbidade4</th>\n",
              "      <th>trombo_na_internacao</th>\n",
              "      <th>desfecho</th>\n",
              "      <th>anti-inflamatorio1</th>\n",
              "      <th>anti-inflamatorio2</th>\n",
              "      <th>anti-inflamatorio3</th>\n",
              "      <th>anti-inflamatorio_previo</th>\n",
              "      <th>profilaxia_de_trombo1</th>\n",
              "      <th>profilaxia_de_trombo2</th>\n",
              "      <th>anticoagulante_previo</th>\n",
              "      <th>antibiotico1</th>\n",
              "      <th>antibiotico2</th>\n",
              "      <th>proteina c (mg/dl)</th>\n",
              "      <th>ferritina (ng/ml)</th>\n",
              "      <th>leucócitos ( /ul)</th>\n",
              "      <th>creatinina (mg/dl)</th>\n",
              "      <th>ureia(mg/dl)</th>\n",
              "      <th>d-dimeros (ng/ml)</th>\n",
              "      <th>reinfeccao</th>\n",
              "      <th>sintomas</th>\n",
              "    </tr>\n",
              "  </thead>\n",
              "  <tbody>\n",
              "    <tr>\n",
              "      <th>0</th>\n",
              "      <td>41</td>\n",
              "      <td>M</td>\n",
              "      <td>branca</td>\n",
              "      <td>nao</td>\n",
              "      <td>nenhuma</td>\n",
              "      <td>nenhuma</td>\n",
              "      <td>nenhum</td>\n",
              "      <td>nenhum</td>\n",
              "      <td>nenhum</td>\n",
              "      <td>0</td>\n",
              "      <td>nenhum</td>\n",
              "      <td>nenhum</td>\n",
              "      <td>nenhum</td>\n",
              "      <td>Nao</td>\n",
              "      <td>heparina 5000UI/0,25mL</td>\n",
              "      <td>nenhum</td>\n",
              "      <td>Sim</td>\n",
              "      <td>NaN</td>\n",
              "      <td>NaN</td>\n",
              "      <td>8.0</td>\n",
              "      <td>0</td>\n",
              "      <td>4830</td>\n",
              "      <td>0.76</td>\n",
              "      <td>36.0</td>\n",
              "      <td>0</td>\n",
              "      <td>nao</td>\n",
              "      <td>leve</td>\n",
              "    </tr>\n",
              "    <tr>\n",
              "      <th>1</th>\n",
              "      <td>77</td>\n",
              "      <td>F</td>\n",
              "      <td>branca</td>\n",
              "      <td>sim</td>\n",
              "      <td>HAS</td>\n",
              "      <td>nenhuma</td>\n",
              "      <td>nenhum</td>\n",
              "      <td>nenhum</td>\n",
              "      <td>nenhum</td>\n",
              "      <td>0</td>\n",
              "      <td>hidrocortisona 100mg</td>\n",
              "      <td>prednisona 20mg</td>\n",
              "      <td>nenhum</td>\n",
              "      <td>Nao</td>\n",
              "      <td>enonenhumaparina 40mg/0,4mL</td>\n",
              "      <td>nenhum</td>\n",
              "      <td>Sim</td>\n",
              "      <td>NaN</td>\n",
              "      <td>NaN</td>\n",
              "      <td>14.7</td>\n",
              "      <td>0</td>\n",
              "      <td>5280</td>\n",
              "      <td>0.82</td>\n",
              "      <td>31.0</td>\n",
              "      <td>0</td>\n",
              "      <td>nao</td>\n",
              "      <td>assintom</td>\n",
              "    </tr>\n",
              "    <tr>\n",
              "      <th>2</th>\n",
              "      <td>67</td>\n",
              "      <td>M</td>\n",
              "      <td>branca</td>\n",
              "      <td>previo</td>\n",
              "      <td>HAS</td>\n",
              "      <td>DM</td>\n",
              "      <td>nenhum</td>\n",
              "      <td>nenhum</td>\n",
              "      <td>nenhum</td>\n",
              "      <td>0</td>\n",
              "      <td>nenhum</td>\n",
              "      <td>nenhum</td>\n",
              "      <td>nenhum</td>\n",
              "      <td>Nao</td>\n",
              "      <td>heparina 5000UI/0,25mL</td>\n",
              "      <td>nenhum</td>\n",
              "      <td>Sim</td>\n",
              "      <td>NaN</td>\n",
              "      <td>NaN</td>\n",
              "      <td>0.0</td>\n",
              "      <td>0</td>\n",
              "      <td>8650</td>\n",
              "      <td>0.72</td>\n",
              "      <td>0.0</td>\n",
              "      <td>0</td>\n",
              "      <td>nao</td>\n",
              "      <td>leve</td>\n",
              "    </tr>\n",
              "    <tr>\n",
              "      <th>3</th>\n",
              "      <td>51</td>\n",
              "      <td>M</td>\n",
              "      <td>branca</td>\n",
              "      <td>nao</td>\n",
              "      <td>HAS</td>\n",
              "      <td>renal-hd</td>\n",
              "      <td>nenhum</td>\n",
              "      <td>nenhum</td>\n",
              "      <td>nenhum</td>\n",
              "      <td>0</td>\n",
              "      <td>prednisona 20mg</td>\n",
              "      <td>nenhum</td>\n",
              "      <td>nenhum</td>\n",
              "      <td>Sim</td>\n",
              "      <td>nenhum</td>\n",
              "      <td>nenhum</td>\n",
              "      <td>Nao</td>\n",
              "      <td>NaN</td>\n",
              "      <td>NaN</td>\n",
              "      <td>6.2</td>\n",
              "      <td>0</td>\n",
              "      <td>9590</td>\n",
              "      <td>0.00</td>\n",
              "      <td>142.0</td>\n",
              "      <td>0</td>\n",
              "      <td>nao</td>\n",
              "      <td>leve</td>\n",
              "    </tr>\n",
              "    <tr>\n",
              "      <th>4</th>\n",
              "      <td>51</td>\n",
              "      <td>M</td>\n",
              "      <td>branca</td>\n",
              "      <td>nao</td>\n",
              "      <td>HAS</td>\n",
              "      <td>renal-hd</td>\n",
              "      <td>nenhum</td>\n",
              "      <td>nenhum</td>\n",
              "      <td>nenhum</td>\n",
              "      <td>0</td>\n",
              "      <td>denenhumametasona 4mg/mL 2,5mL</td>\n",
              "      <td>hidrocortisona 100mg</td>\n",
              "      <td>prednisona 20mg</td>\n",
              "      <td>Nao</td>\n",
              "      <td>nenhum</td>\n",
              "      <td>nenhum</td>\n",
              "      <td>Nao</td>\n",
              "      <td>NaN</td>\n",
              "      <td>NaN</td>\n",
              "      <td>32.0</td>\n",
              "      <td>0</td>\n",
              "      <td>4230</td>\n",
              "      <td>15.40</td>\n",
              "      <td>158.0</td>\n",
              "      <td>1535</td>\n",
              "      <td>sim</td>\n",
              "      <td>assintom</td>\n",
              "    </tr>\n",
              "    <tr>\n",
              "      <th>5</th>\n",
              "      <td>64</td>\n",
              "      <td>F</td>\n",
              "      <td>branca</td>\n",
              "      <td>nao</td>\n",
              "      <td>HAS</td>\n",
              "      <td>nenhuma</td>\n",
              "      <td>nenhum</td>\n",
              "      <td>nenhum</td>\n",
              "      <td>nenhum</td>\n",
              "      <td>0</td>\n",
              "      <td>nenhum</td>\n",
              "      <td>nenhum</td>\n",
              "      <td>nenhum</td>\n",
              "      <td>Nao</td>\n",
              "      <td>heparina 5000UI/0,25mL</td>\n",
              "      <td>nenhum</td>\n",
              "      <td>Sim</td>\n",
              "      <td>NaN</td>\n",
              "      <td>NaN</td>\n",
              "      <td>4.1</td>\n",
              "      <td>1530</td>\n",
              "      <td>6430</td>\n",
              "      <td>1.00</td>\n",
              "      <td>52.0</td>\n",
              "      <td>0</td>\n",
              "      <td>nao</td>\n",
              "      <td>leve</td>\n",
              "    </tr>\n",
              "    <tr>\n",
              "      <th>6</th>\n",
              "      <td>38</td>\n",
              "      <td>M</td>\n",
              "      <td>preta</td>\n",
              "      <td>nao</td>\n",
              "      <td>renal-hd</td>\n",
              "      <td>nenhuma</td>\n",
              "      <td>nenhum</td>\n",
              "      <td>nenhum</td>\n",
              "      <td>nenhum</td>\n",
              "      <td>0</td>\n",
              "      <td>hidrocortisona 100mg</td>\n",
              "      <td>prednisona 20mg</td>\n",
              "      <td>nenhum</td>\n",
              "      <td>Sim</td>\n",
              "      <td>heparina 5000UI/0,25mL</td>\n",
              "      <td>nenhum</td>\n",
              "      <td>Nao</td>\n",
              "      <td>NaN</td>\n",
              "      <td>NaN</td>\n",
              "      <td>19.3</td>\n",
              "      <td>2380</td>\n",
              "      <td>1260</td>\n",
              "      <td>7.35</td>\n",
              "      <td>191.0</td>\n",
              "      <td>1021</td>\n",
              "      <td>nao</td>\n",
              "      <td>leve</td>\n",
              "    </tr>\n",
              "    <tr>\n",
              "      <th>7</th>\n",
              "      <td>37</td>\n",
              "      <td>M</td>\n",
              "      <td>branca</td>\n",
              "      <td>sim</td>\n",
              "      <td>HIV</td>\n",
              "      <td>oncologico</td>\n",
              "      <td>nenhum</td>\n",
              "      <td>nenhum</td>\n",
              "      <td>TVP</td>\n",
              "      <td>0</td>\n",
              "      <td>tiamina 300mg</td>\n",
              "      <td>piridonenhumina 40mg</td>\n",
              "      <td>nenhum</td>\n",
              "      <td>Nao</td>\n",
              "      <td>enonenhumaparina 40mg/0,4mL</td>\n",
              "      <td>nenhum</td>\n",
              "      <td>Sim</td>\n",
              "      <td>NaN</td>\n",
              "      <td>NaN</td>\n",
              "      <td>4.8</td>\n",
              "      <td>0</td>\n",
              "      <td>4410</td>\n",
              "      <td>0.68</td>\n",
              "      <td>31.0</td>\n",
              "      <td>437</td>\n",
              "      <td>nao</td>\n",
              "      <td>leve</td>\n",
              "    </tr>\n",
              "    <tr>\n",
              "      <th>8</th>\n",
              "      <td>82</td>\n",
              "      <td>F</td>\n",
              "      <td>branca</td>\n",
              "      <td>nao</td>\n",
              "      <td>HAS</td>\n",
              "      <td>oncologico</td>\n",
              "      <td>nenhum</td>\n",
              "      <td>nenhum</td>\n",
              "      <td>nenhum</td>\n",
              "      <td>1</td>\n",
              "      <td>nenhum</td>\n",
              "      <td>nenhum</td>\n",
              "      <td>nenhum</td>\n",
              "      <td>Nao</td>\n",
              "      <td>enonenhumaparina 40mg/0,4mL</td>\n",
              "      <td>nenhum</td>\n",
              "      <td>Sim</td>\n",
              "      <td>NaN</td>\n",
              "      <td>NaN</td>\n",
              "      <td>0.0</td>\n",
              "      <td>0</td>\n",
              "      <td>0</td>\n",
              "      <td>0.00</td>\n",
              "      <td>0.0</td>\n",
              "      <td>0</td>\n",
              "      <td>nao</td>\n",
              "      <td>assintom</td>\n",
              "    </tr>\n",
              "    <tr>\n",
              "      <th>9</th>\n",
              "      <td>45</td>\n",
              "      <td>M</td>\n",
              "      <td>branca</td>\n",
              "      <td>nao</td>\n",
              "      <td>nenhuma</td>\n",
              "      <td>nenhuma</td>\n",
              "      <td>nenhum</td>\n",
              "      <td>nenhum</td>\n",
              "      <td>ambos</td>\n",
              "      <td>0</td>\n",
              "      <td>nenhum</td>\n",
              "      <td>nenhum</td>\n",
              "      <td>nenhum</td>\n",
              "      <td>Nao</td>\n",
              "      <td>enonenhumaparina 40mg/0,4mL</td>\n",
              "      <td>enonenhumaparina 60mg/0,6mL</td>\n",
              "      <td>Sim</td>\n",
              "      <td>NaN</td>\n",
              "      <td>NaN</td>\n",
              "      <td>17.2</td>\n",
              "      <td>366</td>\n",
              "      <td>2790</td>\n",
              "      <td>1.08</td>\n",
              "      <td>22.0</td>\n",
              "      <td>0</td>\n",
              "      <td>nao</td>\n",
              "      <td>leve</td>\n",
              "    </tr>\n",
              "    <tr>\n",
              "      <th>10</th>\n",
              "      <td>63</td>\n",
              "      <td>M</td>\n",
              "      <td>branca</td>\n",
              "      <td>previo</td>\n",
              "      <td>HAS</td>\n",
              "      <td>DM</td>\n",
              "      <td>oncologica</td>\n",
              "      <td>nenhum</td>\n",
              "      <td>nenhum</td>\n",
              "      <td>0</td>\n",
              "      <td>prednisona 20mg</td>\n",
              "      <td>nenhum</td>\n",
              "      <td>nenhum</td>\n",
              "      <td>Sim</td>\n",
              "      <td>heparina 5000UI/0,25mL</td>\n",
              "      <td>nenhum</td>\n",
              "      <td>Sim</td>\n",
              "      <td>NaN</td>\n",
              "      <td>NaN</td>\n",
              "      <td>8.8</td>\n",
              "      <td>0</td>\n",
              "      <td>4480</td>\n",
              "      <td>1.33</td>\n",
              "      <td>61.0</td>\n",
              "      <td>3760</td>\n",
              "      <td>nao</td>\n",
              "      <td>grave</td>\n",
              "    </tr>\n",
              "    <tr>\n",
              "      <th>11</th>\n",
              "      <td>79</td>\n",
              "      <td>M</td>\n",
              "      <td>preta</td>\n",
              "      <td>nao</td>\n",
              "      <td>HAS</td>\n",
              "      <td>nenhuma</td>\n",
              "      <td>nenhum</td>\n",
              "      <td>nenhum</td>\n",
              "      <td>nenhum</td>\n",
              "      <td>0</td>\n",
              "      <td>nenhum</td>\n",
              "      <td>nenhum</td>\n",
              "      <td>nenhum</td>\n",
              "      <td>Nao</td>\n",
              "      <td>heparina 5000UI/0,25mL</td>\n",
              "      <td>nenhum</td>\n",
              "      <td>Sim</td>\n",
              "      <td>NaN</td>\n",
              "      <td>NaN</td>\n",
              "      <td>0.0</td>\n",
              "      <td>0</td>\n",
              "      <td>11150</td>\n",
              "      <td>0.89</td>\n",
              "      <td>53.0</td>\n",
              "      <td>0</td>\n",
              "      <td>nao</td>\n",
              "      <td>assintom</td>\n",
              "    </tr>\n",
              "    <tr>\n",
              "      <th>12</th>\n",
              "      <td>79</td>\n",
              "      <td>M</td>\n",
              "      <td>branca</td>\n",
              "      <td>nao</td>\n",
              "      <td>HAS</td>\n",
              "      <td>nenhuma</td>\n",
              "      <td>nenhum</td>\n",
              "      <td>nenhum</td>\n",
              "      <td>nenhum</td>\n",
              "      <td>1</td>\n",
              "      <td>denenhumametasona 4mg/mL 2,5mL</td>\n",
              "      <td>nenhum</td>\n",
              "      <td>nenhum</td>\n",
              "      <td>Nao</td>\n",
              "      <td>heparina 5000UI/0,25mL</td>\n",
              "      <td>nenhum</td>\n",
              "      <td>Nao</td>\n",
              "      <td>NaN</td>\n",
              "      <td>NaN</td>\n",
              "      <td>21.1</td>\n",
              "      <td>0</td>\n",
              "      <td>10260</td>\n",
              "      <td>1.09</td>\n",
              "      <td>62.0</td>\n",
              "      <td>1657</td>\n",
              "      <td>sim</td>\n",
              "      <td>moderado</td>\n",
              "    </tr>\n",
              "    <tr>\n",
              "      <th>13</th>\n",
              "      <td>52</td>\n",
              "      <td>F</td>\n",
              "      <td>preta</td>\n",
              "      <td>nao</td>\n",
              "      <td>DM</td>\n",
              "      <td>nenhuma</td>\n",
              "      <td>nenhum</td>\n",
              "      <td>nenhum</td>\n",
              "      <td>TEP</td>\n",
              "      <td>0</td>\n",
              "      <td>nenhum</td>\n",
              "      <td>nenhum</td>\n",
              "      <td>nenhum</td>\n",
              "      <td>Nao</td>\n",
              "      <td>heparina 5000UI/0,25mL</td>\n",
              "      <td>nenhum</td>\n",
              "      <td>Sim</td>\n",
              "      <td>NaN</td>\n",
              "      <td>NaN</td>\n",
              "      <td>2.1</td>\n",
              "      <td>0</td>\n",
              "      <td>4510</td>\n",
              "      <td>1.12</td>\n",
              "      <td>22.0</td>\n",
              "      <td>2466</td>\n",
              "      <td>nao</td>\n",
              "      <td>leve</td>\n",
              "    </tr>\n",
              "    <tr>\n",
              "      <th>14</th>\n",
              "      <td>30</td>\n",
              "      <td>M</td>\n",
              "      <td>preta</td>\n",
              "      <td>sim</td>\n",
              "      <td>HIV</td>\n",
              "      <td>nenhuma</td>\n",
              "      <td>nenhum</td>\n",
              "      <td>nenhum</td>\n",
              "      <td>nenhum</td>\n",
              "      <td>0</td>\n",
              "      <td>piridonenhumina 40mg</td>\n",
              "      <td>nenhum</td>\n",
              "      <td>nenhum</td>\n",
              "      <td>Sim</td>\n",
              "      <td>nenhum</td>\n",
              "      <td>nenhum</td>\n",
              "      <td>Nao</td>\n",
              "      <td>NaN</td>\n",
              "      <td>NaN</td>\n",
              "      <td>5.1</td>\n",
              "      <td>0</td>\n",
              "      <td>2560</td>\n",
              "      <td>1.09</td>\n",
              "      <td>22.0</td>\n",
              "      <td>0</td>\n",
              "      <td>sim</td>\n",
              "      <td>leve</td>\n",
              "    </tr>\n",
              "  </tbody>\n",
              "</table>\n",
              "</div>\n",
              "      <button class=\"colab-df-convert\" onclick=\"convertToInteractive('df-473c61a9-ff53-4ff5-a7ec-97ff265214f7')\"\n",
              "              title=\"Convert this dataframe to an interactive table.\"\n",
              "              style=\"display:none;\">\n",
              "        \n",
              "  <svg xmlns=\"http://www.w3.org/2000/svg\" height=\"24px\"viewBox=\"0 0 24 24\"\n",
              "       width=\"24px\">\n",
              "    <path d=\"M0 0h24v24H0V0z\" fill=\"none\"/>\n",
              "    <path d=\"M18.56 5.44l.94 2.06.94-2.06 2.06-.94-2.06-.94-.94-2.06-.94 2.06-2.06.94zm-11 1L8.5 8.5l.94-2.06 2.06-.94-2.06-.94L8.5 2.5l-.94 2.06-2.06.94zm10 10l.94 2.06.94-2.06 2.06-.94-2.06-.94-.94-2.06-.94 2.06-2.06.94z\"/><path d=\"M17.41 7.96l-1.37-1.37c-.4-.4-.92-.59-1.43-.59-.52 0-1.04.2-1.43.59L10.3 9.45l-7.72 7.72c-.78.78-.78 2.05 0 2.83L4 21.41c.39.39.9.59 1.41.59.51 0 1.02-.2 1.41-.59l7.78-7.78 2.81-2.81c.8-.78.8-2.07 0-2.86zM5.41 20L4 18.59l7.72-7.72 1.47 1.35L5.41 20z\"/>\n",
              "  </svg>\n",
              "      </button>\n",
              "      \n",
              "  <style>\n",
              "    .colab-df-container {\n",
              "      display:flex;\n",
              "      flex-wrap:wrap;\n",
              "      gap: 12px;\n",
              "    }\n",
              "\n",
              "    .colab-df-convert {\n",
              "      background-color: #E8F0FE;\n",
              "      border: none;\n",
              "      border-radius: 50%;\n",
              "      cursor: pointer;\n",
              "      display: none;\n",
              "      fill: #1967D2;\n",
              "      height: 32px;\n",
              "      padding: 0 0 0 0;\n",
              "      width: 32px;\n",
              "    }\n",
              "\n",
              "    .colab-df-convert:hover {\n",
              "      background-color: #E2EBFA;\n",
              "      box-shadow: 0px 1px 2px rgba(60, 64, 67, 0.3), 0px 1px 3px 1px rgba(60, 64, 67, 0.15);\n",
              "      fill: #174EA6;\n",
              "    }\n",
              "\n",
              "    [theme=dark] .colab-df-convert {\n",
              "      background-color: #3B4455;\n",
              "      fill: #D2E3FC;\n",
              "    }\n",
              "\n",
              "    [theme=dark] .colab-df-convert:hover {\n",
              "      background-color: #434B5C;\n",
              "      box-shadow: 0px 1px 3px 1px rgba(0, 0, 0, 0.15);\n",
              "      filter: drop-shadow(0px 1px 2px rgba(0, 0, 0, 0.3));\n",
              "      fill: #FFFFFF;\n",
              "    }\n",
              "  </style>\n",
              "\n",
              "      <script>\n",
              "        const buttonEl =\n",
              "          document.querySelector('#df-473c61a9-ff53-4ff5-a7ec-97ff265214f7 button.colab-df-convert');\n",
              "        buttonEl.style.display =\n",
              "          google.colab.kernel.accessAllowed ? 'block' : 'none';\n",
              "\n",
              "        async function convertToInteractive(key) {\n",
              "          const element = document.querySelector('#df-473c61a9-ff53-4ff5-a7ec-97ff265214f7');\n",
              "          const dataTable =\n",
              "            await google.colab.kernel.invokeFunction('convertToInteractive',\n",
              "                                                     [key], {});\n",
              "          if (!dataTable) return;\n",
              "\n",
              "          const docLinkHtml = 'Like what you see? Visit the ' +\n",
              "            '<a target=\"_blank\" href=https://colab.research.google.com/notebooks/data_table.ipynb>data table notebook</a>'\n",
              "            + ' to learn more about interactive tables.';\n",
              "          element.innerHTML = '';\n",
              "          dataTable['output_type'] = 'display_data';\n",
              "          await google.colab.output.renderOutput(dataTable, element);\n",
              "          const docLink = document.createElement('div');\n",
              "          docLink.innerHTML = docLinkHtml;\n",
              "          element.appendChild(docLink);\n",
              "        }\n",
              "      </script>\n",
              "    </div>\n",
              "  </div>\n",
              "  "
            ]
          },
          "metadata": {},
          "execution_count": 331
        }
      ],
      "source": [
        "df.head(15)"
      ]
    },
    {
      "cell_type": "markdown",
      "id": "c0a4f8a3",
      "metadata": {
        "id": "c0a4f8a3"
      },
      "source": [
        "Valores Vazios\n",
        "- Deletar linhas/colunas vazias\n",
        "- Deletar linhas que possuem valores vazios\n",
        "- Preencher valores vazios (último valor)"
      ]
    },
    {
      "cell_type": "code",
      "execution_count": 332,
      "id": "90b1d202",
      "metadata": {
        "id": "90b1d202"
      },
      "outputs": [],
      "source": [
        "# deletar linhas e colunas completamente vazias\n",
        "# df = df.dropna(how='all', axis=1)\n",
        "\n",
        "# deletar linhas que possuem pelo menos 1 valor vazio\n",
        "# df = df.dropna()"
      ]
    },
    {
      "cell_type": "code",
      "execution_count": 333,
      "id": "11fdb482",
      "metadata": {
        "id": "11fdb482"
      },
      "outputs": [],
      "source": [
        "# preencher com o último valor\n",
        "df = df.ffill()"
      ]
    },
    {
      "cell_type": "code",
      "execution_count": 334,
      "id": "0dd4f36c",
      "metadata": {
        "id": "0dd4f36c"
      },
      "outputs": [],
      "source": [
        "# deletar colunas incompletas\n",
        "df = df.drop(columns='antibiotico1')\n",
        "df = df.drop(columns='antibiotico2')\n"
      ]
    },
    {
      "cell_type": "code",
      "execution_count": 335,
      "id": "2e6df69e",
      "metadata": {
        "colab": {
          "base_uri": "https://localhost:8080/"
        },
        "id": "2e6df69e",
        "outputId": "7efe9c1e-e3be-47d2-91c2-e66e37e557f1"
      },
      "outputs": [
        {
          "output_type": "stream",
          "name": "stdout",
          "text": [
            "<class 'pandas.core.frame.DataFrame'>\n",
            "RangeIndex: 429 entries, 0 to 428\n",
            "Data columns (total 25 columns):\n",
            " #   Column                    Non-Null Count  Dtype  \n",
            "---  ------                    --------------  -----  \n",
            " 0   idade                     429 non-null    int64  \n",
            " 1   sexo                      429 non-null    object \n",
            " 2   raca                      429 non-null    object \n",
            " 3   tagabismo                 429 non-null    object \n",
            " 4   comorbidade1              429 non-null    object \n",
            " 5   comorbidade2              429 non-null    object \n",
            " 6   comorbidade3              429 non-null    object \n",
            " 7   comorbidade4              429 non-null    object \n",
            " 8   trombo_na_internacao      429 non-null    object \n",
            " 9   desfecho                  429 non-null    int64  \n",
            " 10  anti-inflamatorio1        429 non-null    object \n",
            " 11  anti-inflamatorio2        429 non-null    object \n",
            " 12  anti-inflamatorio3        429 non-null    object \n",
            " 13  anti-inflamatorio_previo  429 non-null    object \n",
            " 14  profilaxia_de_trombo1     429 non-null    object \n",
            " 15  profilaxia_de_trombo2     429 non-null    object \n",
            " 16  anticoagulante_previo     429 non-null    object \n",
            " 17  proteina c (mg/dl)        429 non-null    float64\n",
            " 18  ferritina (ng/ml)         429 non-null    int64  \n",
            " 19  leucócitos ( /ul)         429 non-null    int64  \n",
            " 20  creatinina (mg/dl)        429 non-null    float64\n",
            " 21  ureia(mg/dl)              429 non-null    float64\n",
            " 22  d-dimeros (ng/ml)         429 non-null    int64  \n",
            " 23  reinfeccao                429 non-null    object \n",
            " 24  sintomas                  429 non-null    object \n",
            "dtypes: float64(3), int64(5), object(17)\n",
            "memory usage: 83.9+ KB\n"
          ]
        }
      ],
      "source": [
        "df.info()"
      ]
    },
    {
      "cell_type": "code",
      "execution_count": 336,
      "id": "f48b1e87",
      "metadata": {
        "colab": {
          "base_uri": "https://localhost:8080/",
          "height": 424
        },
        "id": "f48b1e87",
        "outputId": "bf9a00c5-4a45-4b25-d581-35d35df4f490"
      },
      "outputs": [
        {
          "output_type": "display_data",
          "data": {
            "text/plain": [
              "    comorbidade1 comorbidade2 comorbidade3 comorbidade4  desfecho\n",
              "0        nenhuma      nenhuma       nenhum       nenhum         0\n",
              "1            HAS      nenhuma       nenhum       nenhum         0\n",
              "2            HAS           DM       nenhum       nenhum         0\n",
              "3            HAS     renal-hd       nenhum       nenhum         0\n",
              "4            HAS     renal-hd       nenhum       nenhum         0\n",
              "..           ...          ...          ...          ...       ...\n",
              "424          HAS      nenhuma       nenhum       nenhum         0\n",
              "425      nenhuma      nenhuma       nenhum       nenhum         0\n",
              "426           DM          HAS       nenhum       nenhum         0\n",
              "427          HAS          ICC       nenhum       nenhum         0\n",
              "428           DM          HAS       nenhum       nenhum         0\n",
              "\n",
              "[429 rows x 5 columns]"
            ],
            "text/html": [
              "\n",
              "  <div id=\"df-b42484d5-ee09-41ab-bcfb-886dd1d0d774\">\n",
              "    <div class=\"colab-df-container\">\n",
              "      <div>\n",
              "<style scoped>\n",
              "    .dataframe tbody tr th:only-of-type {\n",
              "        vertical-align: middle;\n",
              "    }\n",
              "\n",
              "    .dataframe tbody tr th {\n",
              "        vertical-align: top;\n",
              "    }\n",
              "\n",
              "    .dataframe thead th {\n",
              "        text-align: right;\n",
              "    }\n",
              "</style>\n",
              "<table border=\"1\" class=\"dataframe\">\n",
              "  <thead>\n",
              "    <tr style=\"text-align: right;\">\n",
              "      <th></th>\n",
              "      <th>comorbidade1</th>\n",
              "      <th>comorbidade2</th>\n",
              "      <th>comorbidade3</th>\n",
              "      <th>comorbidade4</th>\n",
              "      <th>desfecho</th>\n",
              "    </tr>\n",
              "  </thead>\n",
              "  <tbody>\n",
              "    <tr>\n",
              "      <th>0</th>\n",
              "      <td>nenhuma</td>\n",
              "      <td>nenhuma</td>\n",
              "      <td>nenhum</td>\n",
              "      <td>nenhum</td>\n",
              "      <td>0</td>\n",
              "    </tr>\n",
              "    <tr>\n",
              "      <th>1</th>\n",
              "      <td>HAS</td>\n",
              "      <td>nenhuma</td>\n",
              "      <td>nenhum</td>\n",
              "      <td>nenhum</td>\n",
              "      <td>0</td>\n",
              "    </tr>\n",
              "    <tr>\n",
              "      <th>2</th>\n",
              "      <td>HAS</td>\n",
              "      <td>DM</td>\n",
              "      <td>nenhum</td>\n",
              "      <td>nenhum</td>\n",
              "      <td>0</td>\n",
              "    </tr>\n",
              "    <tr>\n",
              "      <th>3</th>\n",
              "      <td>HAS</td>\n",
              "      <td>renal-hd</td>\n",
              "      <td>nenhum</td>\n",
              "      <td>nenhum</td>\n",
              "      <td>0</td>\n",
              "    </tr>\n",
              "    <tr>\n",
              "      <th>4</th>\n",
              "      <td>HAS</td>\n",
              "      <td>renal-hd</td>\n",
              "      <td>nenhum</td>\n",
              "      <td>nenhum</td>\n",
              "      <td>0</td>\n",
              "    </tr>\n",
              "    <tr>\n",
              "      <th>...</th>\n",
              "      <td>...</td>\n",
              "      <td>...</td>\n",
              "      <td>...</td>\n",
              "      <td>...</td>\n",
              "      <td>...</td>\n",
              "    </tr>\n",
              "    <tr>\n",
              "      <th>424</th>\n",
              "      <td>HAS</td>\n",
              "      <td>nenhuma</td>\n",
              "      <td>nenhum</td>\n",
              "      <td>nenhum</td>\n",
              "      <td>0</td>\n",
              "    </tr>\n",
              "    <tr>\n",
              "      <th>425</th>\n",
              "      <td>nenhuma</td>\n",
              "      <td>nenhuma</td>\n",
              "      <td>nenhum</td>\n",
              "      <td>nenhum</td>\n",
              "      <td>0</td>\n",
              "    </tr>\n",
              "    <tr>\n",
              "      <th>426</th>\n",
              "      <td>DM</td>\n",
              "      <td>HAS</td>\n",
              "      <td>nenhum</td>\n",
              "      <td>nenhum</td>\n",
              "      <td>0</td>\n",
              "    </tr>\n",
              "    <tr>\n",
              "      <th>427</th>\n",
              "      <td>HAS</td>\n",
              "      <td>ICC</td>\n",
              "      <td>nenhum</td>\n",
              "      <td>nenhum</td>\n",
              "      <td>0</td>\n",
              "    </tr>\n",
              "    <tr>\n",
              "      <th>428</th>\n",
              "      <td>DM</td>\n",
              "      <td>HAS</td>\n",
              "      <td>nenhum</td>\n",
              "      <td>nenhum</td>\n",
              "      <td>0</td>\n",
              "    </tr>\n",
              "  </tbody>\n",
              "</table>\n",
              "<p>429 rows × 5 columns</p>\n",
              "</div>\n",
              "      <button class=\"colab-df-convert\" onclick=\"convertToInteractive('df-b42484d5-ee09-41ab-bcfb-886dd1d0d774')\"\n",
              "              title=\"Convert this dataframe to an interactive table.\"\n",
              "              style=\"display:none;\">\n",
              "        \n",
              "  <svg xmlns=\"http://www.w3.org/2000/svg\" height=\"24px\"viewBox=\"0 0 24 24\"\n",
              "       width=\"24px\">\n",
              "    <path d=\"M0 0h24v24H0V0z\" fill=\"none\"/>\n",
              "    <path d=\"M18.56 5.44l.94 2.06.94-2.06 2.06-.94-2.06-.94-.94-2.06-.94 2.06-2.06.94zm-11 1L8.5 8.5l.94-2.06 2.06-.94-2.06-.94L8.5 2.5l-.94 2.06-2.06.94zm10 10l.94 2.06.94-2.06 2.06-.94-2.06-.94-.94-2.06-.94 2.06-2.06.94z\"/><path d=\"M17.41 7.96l-1.37-1.37c-.4-.4-.92-.59-1.43-.59-.52 0-1.04.2-1.43.59L10.3 9.45l-7.72 7.72c-.78.78-.78 2.05 0 2.83L4 21.41c.39.39.9.59 1.41.59.51 0 1.02-.2 1.41-.59l7.78-7.78 2.81-2.81c.8-.78.8-2.07 0-2.86zM5.41 20L4 18.59l7.72-7.72 1.47 1.35L5.41 20z\"/>\n",
              "  </svg>\n",
              "      </button>\n",
              "      \n",
              "  <style>\n",
              "    .colab-df-container {\n",
              "      display:flex;\n",
              "      flex-wrap:wrap;\n",
              "      gap: 12px;\n",
              "    }\n",
              "\n",
              "    .colab-df-convert {\n",
              "      background-color: #E8F0FE;\n",
              "      border: none;\n",
              "      border-radius: 50%;\n",
              "      cursor: pointer;\n",
              "      display: none;\n",
              "      fill: #1967D2;\n",
              "      height: 32px;\n",
              "      padding: 0 0 0 0;\n",
              "      width: 32px;\n",
              "    }\n",
              "\n",
              "    .colab-df-convert:hover {\n",
              "      background-color: #E2EBFA;\n",
              "      box-shadow: 0px 1px 2px rgba(60, 64, 67, 0.3), 0px 1px 3px 1px rgba(60, 64, 67, 0.15);\n",
              "      fill: #174EA6;\n",
              "    }\n",
              "\n",
              "    [theme=dark] .colab-df-convert {\n",
              "      background-color: #3B4455;\n",
              "      fill: #D2E3FC;\n",
              "    }\n",
              "\n",
              "    [theme=dark] .colab-df-convert:hover {\n",
              "      background-color: #434B5C;\n",
              "      box-shadow: 0px 1px 3px 1px rgba(0, 0, 0, 0.15);\n",
              "      filter: drop-shadow(0px 1px 2px rgba(0, 0, 0, 0.3));\n",
              "      fill: #FFFFFF;\n",
              "    }\n",
              "  </style>\n",
              "\n",
              "      <script>\n",
              "        const buttonEl =\n",
              "          document.querySelector('#df-b42484d5-ee09-41ab-bcfb-886dd1d0d774 button.colab-df-convert');\n",
              "        buttonEl.style.display =\n",
              "          google.colab.kernel.accessAllowed ? 'block' : 'none';\n",
              "\n",
              "        async function convertToInteractive(key) {\n",
              "          const element = document.querySelector('#df-b42484d5-ee09-41ab-bcfb-886dd1d0d774');\n",
              "          const dataTable =\n",
              "            await google.colab.kernel.invokeFunction('convertToInteractive',\n",
              "                                                     [key], {});\n",
              "          if (!dataTable) return;\n",
              "\n",
              "          const docLinkHtml = 'Like what you see? Visit the ' +\n",
              "            '<a target=\"_blank\" href=https://colab.research.google.com/notebooks/data_table.ipynb>data table notebook</a>'\n",
              "            + ' to learn more about interactive tables.';\n",
              "          element.innerHTML = '';\n",
              "          dataTable['output_type'] = 'display_data';\n",
              "          await google.colab.output.renderOutput(dataTable, element);\n",
              "          const docLink = document.createElement('div');\n",
              "          docLink.innerHTML = docLinkHtml;\n",
              "          element.appendChild(docLink);\n",
              "        }\n",
              "      </script>\n",
              "    </div>\n",
              "  </div>\n",
              "  "
            ]
          },
          "metadata": {}
        }
      ],
      "source": [
        "view_comorbidade_desfecho = df[['comorbidade1','comorbidade2','comorbidade3','comorbidade4', 'desfecho']]\n",
        "display(view_comorbidade_desfecho)"
      ]
    },
    {
      "cell_type": "code",
      "execution_count": 337,
      "id": "f93d9b8a",
      "metadata": {
        "id": "f93d9b8a"
      },
      "outputs": [],
      "source": [
        "# DESFECHO (1-alta/ 2-UTI/ 3-óbito/4-fim isolamento/5-transf.)"
      ]
    },
    {
      "cell_type": "markdown",
      "id": "09c756e8",
      "metadata": {
        "id": "09c756e8"
      },
      "source": [
        "#### Atributos escolhidos: "
      ]
    },
    {
      "cell_type": "code",
      "execution_count": 338,
      "id": "a6aad5ab",
      "metadata": {
        "id": "a6aad5ab"
      },
      "outputs": [],
      "source": [
        "nomes_atributos_numericos = ['idade','proteina c (mg/dl)','ferritina (ng/ml)','leucócitos ( /ul)','creatinina (mg/dl)','ureia(mg/dl)','d-dimeros (ng/ml)']"
      ]
    },
    {
      "cell_type": "code",
      "execution_count": 339,
      "id": "116cd9c9",
      "metadata": {
        "colab": {
          "base_uri": "https://localhost:8080/"
        },
        "id": "116cd9c9",
        "outputId": "1b3dee01-94f1-4d23-b2bd-47ab00dd82bf"
      },
      "outputs": [
        {
          "output_type": "execute_result",
          "data": {
            "text/plain": [
              "['idade',\n",
              " 'proteina c (mg/dl)',\n",
              " 'ferritina (ng/ml)',\n",
              " 'leucócitos ( /ul)',\n",
              " 'creatinina (mg/dl)',\n",
              " 'ureia(mg/dl)',\n",
              " 'd-dimeros (ng/ml)']"
            ]
          },
          "metadata": {},
          "execution_count": 339
        }
      ],
      "source": [
        "nomes_atributos_numericos"
      ]
    },
    {
      "cell_type": "code",
      "execution_count": 340,
      "id": "5a1cefb6",
      "metadata": {
        "id": "5a1cefb6"
      },
      "outputs": [],
      "source": [
        "nomes_atributos_categoricos = ['sexo','sintomas','raca','tagabismo','comorbidade1','comorbidade2','comorbidade3','comorbidade4','trombo_na_internacao','sintomas','anti-inflamatorio_previo','anticoagulante_previo','reinfeccao']"
      ]
    },
    {
      "cell_type": "code",
      "execution_count": 341,
      "id": "755cf5f9",
      "metadata": {
        "colab": {
          "base_uri": "https://localhost:8080/"
        },
        "id": "755cf5f9",
        "outputId": "b3a621b4-553f-4fd1-cdb1-24ea6dc95407"
      },
      "outputs": [
        {
          "output_type": "execute_result",
          "data": {
            "text/plain": [
              "['sexo',\n",
              " 'sintomas',\n",
              " 'raca',\n",
              " 'tagabismo',\n",
              " 'comorbidade1',\n",
              " 'comorbidade2',\n",
              " 'comorbidade3',\n",
              " 'comorbidade4',\n",
              " 'trombo_na_internacao',\n",
              " 'sintomas',\n",
              " 'anti-inflamatorio_previo',\n",
              " 'anticoagulante_previo',\n",
              " 'reinfeccao']"
            ]
          },
          "metadata": {},
          "execution_count": 341
        }
      ],
      "source": [
        "nomes_atributos_categoricos"
      ]
    },
    {
      "cell_type": "code",
      "execution_count": 342,
      "id": "6f8fe8d6",
      "metadata": {
        "colab": {
          "base_uri": "https://localhost:8080/"
        },
        "id": "6f8fe8d6",
        "outputId": "8c58532c-e3d0-40b0-e9c9-2bd3276d4eea"
      },
      "outputs": [
        {
          "output_type": "execute_result",
          "data": {
            "text/plain": [
              "0    382\n",
              "1     47\n",
              "Name: desfecho, dtype: int64"
            ]
          },
          "metadata": {},
          "execution_count": 342
        }
      ],
      "source": [
        "df['desfecho'].value_counts()"
      ]
    },
    {
      "cell_type": "markdown",
      "id": "63ffe010",
      "metadata": {
        "id": "63ffe010"
      },
      "source": [
        "#### Pré-Processamento"
      ]
    },
    {
      "cell_type": "markdown",
      "id": "7fc9e204",
      "metadata": {
        "id": "7fc9e204"
      },
      "source": [
        "#### Separando os conjuntos de treino e teste"
      ]
    },
    {
      "cell_type": "code",
      "execution_count": 343,
      "id": "9abfa34e",
      "metadata": {
        "id": "9abfa34e"
      },
      "outputs": [],
      "source": [
        "from sklearn.model_selection import train_test_split\n",
        "\n",
        "# separando os conjuntos de dados de treino e teste\n",
        "df_treino, df_teste = train_test_split(df, test_size=0.2, random_state=42)\n",
        "\n",
        "# separando a coluna alvo do conjunto de treino\n",
        "df_treino_labels = df_treino['desfecho'].copy()\n",
        "df_treino        = df_treino.drop(columns='desfecho')\n",
        "\n",
        "# separando a coluna alvo do conjunto de teste\n",
        "df_teste_labels = df_teste['desfecho'].copy()\n",
        "df_teste        = df_teste.drop(columns='desfecho')"
      ]
    },
    {
      "cell_type": "code",
      "execution_count": 344,
      "id": "a5500015",
      "metadata": {
        "id": "a5500015"
      },
      "outputs": [],
      "source": [
        "from sklearn.impute import SimpleImputer\n",
        "from sklearn.preprocessing import StandardScaler\n",
        "from sklearn.preprocessing import OneHotEncoder\n",
        "\n",
        "from sklearn.pipeline import Pipeline\n",
        "from sklearn.compose import ColumnTransformer\n",
        "\n",
        "pipeline_atr_numericos = Pipeline([\n",
        "    ('imputer',SimpleImputer(strategy='mean')),\n",
        "    ('scaler', StandardScaler()),\n",
        "])\n",
        "\n",
        "preproc_completo = ColumnTransformer([\n",
        "    ('numericos',   pipeline_atr_numericos, nomes_atributos_numericos),\n",
        "    ('categoricos', OneHotEncoder(),        nomes_atributos_categoricos),\n",
        "    ], \n",
        "    sparse_threshold=0)\n",
        "\n",
        "# pre-processamento do conjunto de treino\n",
        "X_treino = preproc_completo.fit_transform(df_treino)\n",
        "\n",
        "# pre-processamento do conjunto de teste\n",
        "X_teste = preproc_completo.transform(df_teste)\n",
        "\n",
        "# pre-processamento da coluna alvo para treino\n",
        "y_treino = df_treino_labels.values == 1\n",
        "\n",
        "# pre-processamento da coluna alvo para teste\n",
        "y_teste = df_teste_labels.values == 1"
      ]
    },
    {
      "cell_type": "code",
      "source": [
        "# configurar o estilo dos gráficos com o Seaborn\n",
        "sns.set_style('dark')"
      ],
      "metadata": {
        "id": "xb8KkmirAdpn"
      },
      "id": "xb8KkmirAdpn",
      "execution_count": 345,
      "outputs": []
    },
    {
      "cell_type": "code",
      "source": [
        "# usar técnica under-sampling\n",
        "# Under-sampling: reduz o desbalanceamento do dataset focando na classe majoritária. Ou seja, elimina aleatoriamente entradas da classe com maior número de ocorrências\n",
        "# rus = RandomUnderSampler()\n",
        "# X_treino, y_treino = rus.fit_resample(X_treino, y_treino)\n"
      ],
      "metadata": {
        "id": "V19aOYyu_isQ"
      },
      "id": "V19aOYyu_isQ",
      "execution_count": 346,
      "outputs": []
    },
    {
      "cell_type": "code",
      "source": [
        "from imblearn.over_sampling import RandomOverSampler\n",
        "# Over-sampling: cria novas observações da classe minoritária a partir das informações contidas nos dados originais. "
      ],
      "metadata": {
        "id": "4CF-78qPGCY3"
      },
      "id": "4CF-78qPGCY3",
      "execution_count": 347,
      "outputs": []
    },
    {
      "cell_type": "code",
      "source": [
        "oversample = RandomOverSampler(sampling_strategy='minority')"
      ],
      "metadata": {
        "id": "yCkHpyxgGnJX"
      },
      "id": "yCkHpyxgGnJX",
      "execution_count": 348,
      "outputs": []
    },
    {
      "cell_type": "code",
      "source": [
        "# fit and apply the transform\n",
        "X_treino, y_treino = oversample.fit_resample(X_treino, y_treino)"
      ],
      "metadata": {
        "id": "HLxp-psOGhcP"
      },
      "id": "HLxp-psOGhcP",
      "execution_count": 349,
      "outputs": []
    },
    {
      "cell_type": "code",
      "source": [
        "# ver o balanceamento das classes\n",
        "print(pd.Series(y_treino).value_counts())\n"
      ],
      "metadata": {
        "colab": {
          "base_uri": "https://localhost:8080/"
        },
        "id": "Ffz0qPCh_jJ3",
        "outputId": "40e67460-c0b7-45ed-b67d-7c1e8e3fd599"
      },
      "id": "Ffz0qPCh_jJ3",
      "execution_count": 350,
      "outputs": [
        {
          "output_type": "stream",
          "name": "stdout",
          "text": [
            "False    304\n",
            "True     304\n",
            "dtype: int64\n"
          ]
        }
      ]
    },
    {
      "cell_type": "code",
      "source": [
        "# plotar a nova distribuição de classes\n",
        "sns.countplot(y_treino);"
      ],
      "metadata": {
        "colab": {
          "base_uri": "https://localhost:8080/",
          "height": 320
        },
        "id": "GmOw9hezAJ_Q",
        "outputId": "7454c1ff-482d-49cb-ff51-5b9e6ddf7247"
      },
      "id": "GmOw9hezAJ_Q",
      "execution_count": 351,
      "outputs": [
        {
          "output_type": "stream",
          "name": "stderr",
          "text": [
            "/usr/local/lib/python3.7/dist-packages/seaborn/_decorators.py:43: FutureWarning: Pass the following variable as a keyword arg: x. From version 0.12, the only valid positional argument will be `data`, and passing other arguments without an explicit keyword will result in an error or misinterpretation.\n",
            "  FutureWarning\n"
          ]
        },
        {
          "output_type": "display_data",
          "data": {
            "text/plain": [
              "<Figure size 432x288 with 1 Axes>"
            ],
            "image/png": "[encoded data removed]"
          },
          "metadata": {}
        }
      ]
    },
    {
      "cell_type": "code",
      "execution_count": 352,
      "id": "37ed527c",
      "metadata": {
        "id": "37ed527c"
      },
      "outputs": [],
      "source": [
        "import tensorflow as tf\n",
        "from tensorflow import keras"
      ]
    },
    {
      "cell_type": "code",
      "execution_count": 353,
      "id": "6bd51fc6",
      "metadata": {
        "colab": {
          "base_uri": "https://localhost:8080/"
        },
        "id": "6bd51fc6",
        "outputId": "93f500f5-d73e-4836-c04c-9d04a2984990"
      },
      "outputs": [
        {
          "output_type": "execute_result",
          "data": {
            "text/plain": [
              "array([[ 0.55880269,  0.66566491, -0.27504492, ...,  1.        ,\n",
              "         1.        ,  0.        ],\n",
              "       [-1.31686041, -0.96869008, -0.27504492, ...,  0.        ,\n",
              "         1.        ,  0.        ],\n",
              "       [ 0.26573033,  1.70320488, -0.27504492, ...,  0.        ,\n",
              "         1.        ,  0.        ],\n",
              "       ...,\n",
              "       [ 1.67247766, -0.96869008, -0.27504492, ...,  0.        ,\n",
              "         1.        ,  0.        ],\n",
              "       [ 1.96555002,  1.13393516,  4.56455206, ...,  1.        ,\n",
              "         1.        ,  0.        ],\n",
              "       [ 1.3794053 ,  2.83256254, -0.27504492, ...,  0.        ,\n",
              "         1.        ,  0.        ]])"
            ]
          },
          "metadata": {},
          "execution_count": 353
        }
      ],
      "source": [
        "X_treino"
      ]
    },
    {
      "cell_type": "code",
      "execution_count": 354,
      "id": "1d48e54e",
      "metadata": {
        "colab": {
          "base_uri": "https://localhost:8080/"
        },
        "id": "1d48e54e",
        "outputId": "7214601e-2c25-449e-e200-b65e1043c68b"
      },
      "outputs": [
        {
          "output_type": "execute_result",
          "data": {
            "text/plain": [
              "(608, 60)"
            ]
          },
          "metadata": {},
          "execution_count": 354
        }
      ],
      "source": [
        "X_treino.shape"
      ]
    },
    {
      "cell_type": "code",
      "execution_count": 355,
      "id": "0f3e0842",
      "metadata": {
        "colab": {
          "base_uri": "https://localhost:8080/"
        },
        "id": "0f3e0842",
        "outputId": "f5c1a222-aa8b-4091-9c86-7d91051eeabe"
      },
      "outputs": [
        {
          "output_type": "execute_result",
          "data": {
            "text/plain": [
              "(608,)"
            ]
          },
          "metadata": {},
          "execution_count": 355
        }
      ],
      "source": [
        "y_treino.shape"
      ]
    },
    {
      "cell_type": "code",
      "execution_count": 356,
      "id": "54bbf379",
      "metadata": {
        "colab": {
          "base_uri": "https://localhost:8080/"
        },
        "id": "54bbf379",
        "outputId": "e88c832f-aed4-41bd-a0a1-59e967965aff"
      },
      "outputs": [
        {
          "output_type": "execute_result",
          "data": {
            "text/plain": [
              "(86, 60)"
            ]
          },
          "metadata": {},
          "execution_count": 356
        }
      ],
      "source": [
        "X_teste.shape"
      ]
    },
    {
      "cell_type": "code",
      "execution_count": 357,
      "id": "37c0294b",
      "metadata": {
        "colab": {
          "base_uri": "https://localhost:8080/"
        },
        "id": "37c0294b",
        "outputId": "4f429b67-0eea-4b80-c973-0698211824d5"
      },
      "outputs": [
        {
          "output_type": "execute_result",
          "data": {
            "text/plain": [
              "(86,)"
            ]
          },
          "metadata": {},
          "execution_count": 357
        }
      ],
      "source": [
        "y_teste.shape"
      ]
    },
    {
      "cell_type": "markdown",
      "id": "2bc8300e",
      "metadata": {
        "id": "2bc8300e"
      },
      "source": [
        "- RNA TensorFlow + Keras"
      ]
    },
    {
      "cell_type": "code",
      "execution_count": 358,
      "id": "56eb7a3e",
      "metadata": {
        "id": "56eb7a3e"
      },
      "outputs": [],
      "source": [
        "import tensorflow as tf\n",
        "from tensorflow import keras"
      ]
    },
    {
      "cell_type": "code",
      "execution_count": 359,
      "id": "2af9641b",
      "metadata": {
        "colab": {
          "base_uri": "https://localhost:8080/"
        },
        "id": "2af9641b",
        "outputId": "0db64fdf-eba6-4b6a-c925-90f1abce6327"
      },
      "outputs": [
        {
          "output_type": "execute_result",
          "data": {
            "text/plain": [
              "(60,)"
            ]
          },
          "metadata": {},
          "execution_count": 359
        }
      ],
      "source": [
        "# Qual o tamanho da entrada?\n",
        "X_treino.shape[1:]"
      ]
    },
    {
      "cell_type": "code",
      "execution_count": 360,
      "id": "f6d90f7c",
      "metadata": {
        "id": "f6d90f7c"
      },
      "outputs": [],
      "source": [
        "model = keras.models.Sequential()\n",
        "model.add(keras.layers.Dense(32, activation=\"relu\",input_shape=X_treino.shape[1:]))\n",
        "model.add(keras.layers.Dense(16, activation=\"relu\"))\n",
        "model.add(keras.layers.Dense(2, activation=\"softmax\"))"
      ]
    },
    {
      "cell_type": "code",
      "execution_count": 361,
      "id": "121c9d6b",
      "metadata": {
        "colab": {
          "base_uri": "https://localhost:8080/"
        },
        "id": "121c9d6b",
        "outputId": "48bf5679-fbf6-4d40-dc9c-1c3f0516a9d7"
      },
      "outputs": [
        {
          "output_type": "stream",
          "name": "stdout",
          "text": [
            "Model: \"sequential_7\"\n",
            "_________________________________________________________________\n",
            " Layer (type)                Output Shape              Param #   \n",
            "=================================================================\n",
            " dense_21 (Dense)            (None, 32)                1952      \n",
            "                                                                 \n",
            " dense_22 (Dense)            (None, 16)                528       \n",
            "                                                                 \n",
            " dense_23 (Dense)            (None, 2)                 34        \n",
            "                                                                 \n",
            "=================================================================\n",
            "Total params: 2,514\n",
            "Trainable params: 2,514\n",
            "Non-trainable params: 0\n",
            "_________________________________________________________________\n"
          ]
        }
      ],
      "source": [
        "model.summary()"
      ]
    },
    {
      "cell_type": "code",
      "execution_count": 362,
      "id": "09d7b90a",
      "metadata": {
        "id": "09d7b90a"
      },
      "outputs": [],
      "source": [
        "# Para modelos de classificação com saída esparsa:    # para classificação com saída densa  # para classificação binária:     \n",
        "model.compile(loss=\"sparse_categorical_crossentropy\", # usar categorical_crossentropy       # usar binary_crossentropy e mudar\n",
        "              optimizer=\"sgd\",                        #                                     # a ativação da camada de saída\n",
        "              metrics=[\"accuracy\"])                   #                                     # para sigmoid\n"
      ]
    },
    {
      "cell_type": "code",
      "source": [
        "# Early Stopping (optimization technique used to reduce overfitting)\n",
        "early_stopping_cb = keras.callbacks.EarlyStopping(patience=5,restore_best_weights=True)"
      ],
      "metadata": {
        "id": "cOsErwTtiuNQ"
      },
      "id": "cOsErwTtiuNQ",
      "execution_count": 363,
      "outputs": []
    },
    {
      "cell_type": "markdown",
      "id": "80d7f281",
      "metadata": {
        "id": "80d7f281"
      },
      "source": [
        "#### Treinamento do modelo"
      ]
    },
    {
      "cell_type": "code",
      "execution_count": 364,
      "id": "91b89601",
      "metadata": {
        "colab": {
          "base_uri": "https://localhost:8080/"
        },
        "id": "91b89601",
        "outputId": "b2306169-913b-4bf7-953c-16ca886e7b93"
      },
      "outputs": [
        {
          "output_type": "stream",
          "name": "stdout",
          "text": [
            "Epoch 1/150\n",
            "16/16 [==============================] - 1s 14ms/step - loss: 0.8955 - accuracy: 0.4033 - val_loss: 0.3964 - val_accuracy: 0.9590\n",
            "Epoch 2/150\n",
            "16/16 [==============================] - 0s 3ms/step - loss: 0.7343 - accuracy: 0.4835 - val_loss: 0.5164 - val_accuracy: 0.8279\n",
            "Epoch 3/150\n",
            "16/16 [==============================] - 0s 4ms/step - loss: 0.6764 - accuracy: 0.5802 - val_loss: 0.6109 - val_accuracy: 0.5820\n",
            "Epoch 4/150\n",
            "16/16 [==============================] - 0s 4ms/step - loss: 0.6442 - accuracy: 0.6440 - val_loss: 0.6592 - val_accuracy: 0.5164\n",
            "Epoch 5/150\n",
            "16/16 [==============================] - 0s 4ms/step - loss: 0.6258 - accuracy: 0.6481 - val_loss: 0.6928 - val_accuracy: 0.4426\n",
            "Epoch 6/150\n",
            "16/16 [==============================] - 0s 5ms/step - loss: 0.6117 - accuracy: 0.6728 - val_loss: 0.7149 - val_accuracy: 0.4262\n"
          ]
        }
      ],
      "source": [
        "history = model.fit(X_treino, y_treino, epochs=150, validation_split=0.2, callbacks=[early_stopping_cb])"
      ]
    },
    {
      "cell_type": "markdown",
      "id": "9efbb3db",
      "metadata": {
        "id": "9efbb3db"
      },
      "source": [
        "#### Avaliação da evolução do treinamento"
      ]
    },
    {
      "cell_type": "code",
      "execution_count": 365,
      "id": "1369c7b4",
      "metadata": {
        "colab": {
          "base_uri": "https://localhost:8080/",
          "height": 378
        },
        "id": "1369c7b4",
        "outputId": "b852eada-c605-41c1-933d-40aaf5c09277"
      },
      "outputs": [
        {
          "output_type": "display_data",
          "data": {
            "text/plain": [
              "<Figure size 720x432 with 1 Axes>"
            ],
            "image/png": "[encoded data removed]"
          },
          "metadata": {}
        }
      ],
      "source": [
        "pd.DataFrame(history.history).plot(figsize=(10,6))\n",
        "plt.grid(True)\n",
        "plt.gca().set_ylim(0,1)\n",
        "plt.show()"
      ]
    },
    {
      "cell_type": "markdown",
      "id": "7b88d149",
      "metadata": {
        "id": "7b88d149"
      },
      "source": [
        "#### Avaliação do desempenho do modelo treinado"
      ]
    },
    {
      "cell_type": "code",
      "execution_count": 366,
      "id": "ed960dfb",
      "metadata": {
        "id": "ed960dfb"
      },
      "outputs": [],
      "source": [
        "y_previsto_rna_proba = model.predict(X_teste)"
      ]
    },
    {
      "cell_type": "code",
      "execution_count": 367,
      "id": "050417d0",
      "metadata": {
        "colab": {
          "base_uri": "https://localhost:8080/"
        },
        "id": "050417d0",
        "outputId": "1f9b74e6-a708-47ee-ab2b-92df38970768"
      },
      "outputs": [
        {
          "output_type": "execute_result",
          "data": {
            "text/plain": [
              "array([[0.31, 0.69],\n",
              "       [0.45, 0.55],\n",
              "       [0.34, 0.66],\n",
              "       [0.33, 0.67],\n",
              "       [0.24, 0.76],\n",
              "       [0.33, 0.67],\n",
              "       [0.42, 0.58],\n",
              "       [0.24, 0.76],\n",
              "       [0.28, 0.72],\n",
              "       [0.38, 0.62],\n",
              "       [0.32, 0.68],\n",
              "       [0.38, 0.62],\n",
              "       [0.28, 0.72],\n",
              "       [0.29, 0.71],\n",
              "       [0.45, 0.55],\n",
              "       [0.42, 0.58],\n",
              "       [0.32, 0.68],\n",
              "       [0.37, 0.63],\n",
              "       [0.32, 0.68],\n",
              "       [0.53, 0.47],\n",
              "       [0.33, 0.67],\n",
              "       [0.4 , 0.6 ],\n",
              "       [0.58, 0.42],\n",
              "       [0.51, 0.49],\n",
              "       [0.35, 0.65],\n",
              "       [0.51, 0.49],\n",
              "       [0.38, 0.62],\n",
              "       [0.51, 0.49],\n",
              "       [0.31, 0.69],\n",
              "       [0.16, 0.84],\n",
              "       [0.49, 0.51],\n",
              "       [0.43, 0.57],\n",
              "       [0.22, 0.78],\n",
              "       [0.25, 0.75],\n",
              "       [0.35, 0.65],\n",
              "       [0.43, 0.57],\n",
              "       [0.43, 0.57],\n",
              "       [0.45, 0.55],\n",
              "       [0.47, 0.53],\n",
              "       [0.37, 0.63],\n",
              "       [0.37, 0.63],\n",
              "       [0.14, 0.86],\n",
              "       [0.38, 0.62],\n",
              "       [0.46, 0.54],\n",
              "       [0.36, 0.64],\n",
              "       [0.47, 0.53],\n",
              "       [0.35, 0.65],\n",
              "       [0.45, 0.55],\n",
              "       [0.32, 0.68],\n",
              "       [0.44, 0.56],\n",
              "       [0.46, 0.54],\n",
              "       [0.39, 0.61],\n",
              "       [0.25, 0.75],\n",
              "       [0.31, 0.69],\n",
              "       [0.29, 0.71],\n",
              "       [0.36, 0.64],\n",
              "       [0.45, 0.55],\n",
              "       [0.3 , 0.7 ],\n",
              "       [0.45, 0.55],\n",
              "       [0.38, 0.62],\n",
              "       [0.37, 0.63],\n",
              "       [0.32, 0.68],\n",
              "       [0.42, 0.58],\n",
              "       [0.42, 0.58],\n",
              "       [0.32, 0.68],\n",
              "       [0.37, 0.63],\n",
              "       [0.39, 0.61],\n",
              "       [0.36, 0.64],\n",
              "       [0.13, 0.87],\n",
              "       [0.09, 0.91],\n",
              "       [0.42, 0.58],\n",
              "       [0.38, 0.62],\n",
              "       [0.54, 0.46],\n",
              "       [0.41, 0.59],\n",
              "       [0.29, 0.71],\n",
              "       [0.37, 0.63],\n",
              "       [0.32, 0.68],\n",
              "       [0.31, 0.69],\n",
              "       [0.15, 0.85],\n",
              "       [0.43, 0.57],\n",
              "       [0.23, 0.77],\n",
              "       [0.4 , 0.6 ],\n",
              "       [0.47, 0.53],\n",
              "       [0.43, 0.57],\n",
              "       [0.1 , 0.9 ],\n",
              "       [0.36, 0.64]], dtype=float32)"
            ]
          },
          "metadata": {},
          "execution_count": 367
        }
      ],
      "source": [
        "np.round(y_previsto_rna_proba,decimals=2)"
      ]
    },
    {
      "cell_type": "code",
      "source": [
        "# Treinamento de uma árvore de decisão com sua indução restrita a dois níveis\n",
        "\n",
        "from sklearn.tree import DecisionTreeClassifier\n",
        "from sklearn.metrics import accuracy_score, precision_score, recall_score, f1_score\n",
        "\n",
        "tree_clf = DecisionTreeClassifier(max_depth=2)\n",
        "tree_clf.fit(X_treino, y_treino)\n",
        "\n",
        "y_pred = tree_clf.predict(X_teste)\n",
        "\n",
        "print(\"Acurácia: \", accuracy_score(y_teste,y_pred))\n",
        "print(\"Precisão: \", precision_score(y_teste,y_pred))\n",
        "print(\"Recall:   \", recall_score(y_teste,y_pred))\n",
        "print(\"F1 Score: \", f1_score(y_teste,y_pred))"
      ],
      "metadata": {
        "id": "mozICcYboLCj",
        "outputId": "fa545fa2-4b5a-45f8-90a5-65fec9e198d4",
        "colab": {
          "base_uri": "https://localhost:8080/"
        }
      },
      "id": "mozICcYboLCj",
      "execution_count": 368,
      "outputs": [
        {
          "output_type": "stream",
          "name": "stdout",
          "text": [
            "Acurácia:  0.6976744186046512\n",
            "Precisão:  0.17857142857142858\n",
            "Recall:    0.625\n",
            "F1 Score:  0.2777777777777778\n"
          ]
        }
      ]
    }
  ],
  "metadata": {
    "kernelspec": {
      "display_name": "Python 3 (ipykernel)",
      "language": "python",
      "name": "python3"
    },
    "language_info": {
      "codemirror_mode": {
        "name": "ipython",
        "version": 3
      },
      "file_extension": ".py",
      "mimetype": "text/x-python",
      "name": "python",
      "nbconvert_exporter": "python",
      "pygments_lexer": "ipython3",
      "version": "3.9.12"
    },
    "colab": {
      "provenance": [],
      "collapsed_sections": [
        "63ffe010"
      ],
      "include_colab_link": true
    }
  },
  "nbformat": 4,
  "nbformat_minor": 5
}